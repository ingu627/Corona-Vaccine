{
 "cells": [
  {
   "cell_type": "code",
   "execution_count": 1,
   "metadata": {},
   "outputs": [],
   "source": [
    "from selenium import webdriver\n",
    "from bs4 import BeautifulSoup\n",
    "from collections import Counter\n",
    "import numpy as np\n",
    "import pandas as pd\n",
    "import matplotlib.pyplot as plt\n",
    "import seaborn as sns\n",
    "import time\n",
    "import re\n",
    "\n",
    "\n",
    "# 한글 깨짐 방지 코드\n",
    "import matplotlib\n",
    "from matplotlib import font_manager, rc\n",
    "import platform\n",
    "if platform.system()==\"Windows\":\n",
    "    font_name=font_manager.FontProperties(fname=\"c:/Windows/Fonts/malgun.ttf\").get_name()\n",
    "    rc('font', family=font_name)\n",
    "matplotlib.rcParams['axes.unicode_minus']=False\n",
    "\n",
    "import warnings\n",
    "warnings.filterwarnings(\"ignore\")"
   ]
  },
  {
   "cell_type": "code",
   "execution_count": null,
   "metadata": {},
   "outputs": [],
   "source": [
    "# https://blog.naver.com/36_univ/222522879334"
   ]
  },
  {
   "cell_type": "code",
   "execution_count": 2,
   "metadata": {},
   "outputs": [],
   "source": [
    "driver = webdriver.Chrome('f:\\chromedriver')"
   ]
  },
  {
   "cell_type": "code",
   "execution_count": 7,
   "metadata": {},
   "outputs": [],
   "source": [
    "driver.get('https://blog.naver.com/cinemadrea/222530310283')\n",
    "time.sleep(2)"
   ]
  },
  {
   "cell_type": "code",
   "execution_count": null,
   "metadata": {},
   "outputs": [],
   "source": [
    "# <p class=\"se-text-paragraph se-text-paragraph-align-\" style=\"\" id=\"SE-15d6a67b-5726-41f6-820a-5568d3bbb29b\"><span style=\"\" class=\"se-fs-fs32 se-ff-nanumgothic\" id=\"SE-1c12f33a-6223-4119-b968-5ce791e64fd8\"><!-- -->대학생 코로나19 백신 접종 후기 (feat. 백신공결제를 알아보자)<!-- --></span></p>"
   ]
  },
  {
   "cell_type": "code",
   "execution_count": 11,
   "metadata": {},
   "outputs": [],
   "source": [
    "html = driver.page_source\n",
    "soup = BeautifulSoup(html, 'html.parser')\n",
    "\n",
    "# title = soup.select('p > class.se-text-paragraph se-text-paragraph-align-')"
   ]
  },
  {
   "cell_type": "code",
   "execution_count": 19,
   "metadata": {},
   "outputs": [
    {
     "name": "stdout",
     "output_type": "stream",
     "text": [
      "<html lang=\"ko\"><head>\n",
      "<meta content=\"no-cache\" http-equiv=\"Pragma\"/>\n",
      "<meta content=\"-1\" http-equiv=\"Expires\"/>\n",
      "<meta content=\"noindex,follow\" name=\"robots\"/>\n",
      "<meta content=\"always\" name=\"referrer\"/>\n",
      "<meta content=\"text/html;charset=utf-8\" http-equiv=\"content-type\"/>\n",
      "<meta content=\"IE=edge,chrome=1\" http-equiv=\"X-UA-Compatible\"/>\n",
      "<link href=\"/favicon.ico?3\" rel=\"shortcut icon\" type=\"image/x-icon\"/>\n",
      "<link href=\"https://rss.blog.naver.com/cinemadrea.xml\" rel=\"alternate\" title=\"RSS feed for cinemadrea Blog\" type=\"application/rss+xml\"/>\n",
      "<link href=\"https://blog.naver.com/NBlogWlwLayout.naver?blogId=cinemadrea\" rel=\"wlwmanifest\" type=\"application/wlwmanifest+xml\"/>\n",
      "<title>위드코로나 뜻 : 백신패스 , 백신여권 : 네이버 블로그</title>\n",
      "<script charset=\"UTF-8\" src=\"https://ssl.pstatic.net/t.static.blog/mylog/versioning/Frameset-584146299_https.js\" type=\"text/javascript\"></script><script charset=\"UTF-8\" type=\"text/javascript\">\n",
      "var photoContent=\"\";\n",
      "var postContent=\"\";\n",
      "\n",
      "var videoId \t  = \"\";\n",
      "var thumbnail \t  = \"\";\n",
      "var inKey \t\t  = \"\";\n",
      "var movieFileSize = \"\";\n",
      "var playTime \t  = \"\";\n",
      "var screenSize \t  = \"\";\n",
      "\n",
      "var blogId = 'cinemadrea';\n",
      "var blogURL = 'https://blog.naver.com';\n",
      "var eventCnt = '';\n",
      "\n",
      "var g_ShareObject = {};\n",
      "g_ShareObject.referer = \"\";\n",
      "\n",
      "\n",
      "jsMVC.setController(\"framesetTitleController\", FramesetTitleController);\n",
      "jsMVC.setController(\"framesetUrlController\", FramesetUrlController);\n",
      "jsMVC.setController(\"framesetMusicController\", FramesetMusicController);\n",
      "var oFramesetTitleController = jsMVC.getController(\"framesetTitleController\");\n",
      "var oFramesetUrlController = jsMVC.getController(\"framesetUrlController\");\n",
      "var oFramesetMusicController = jsMVC.getController(\"framesetMusicController\");\n",
      "var sTitle = document.title;\n",
      "\n",
      "var topFrameAlert = function(message){\n",
      "\talert(message);\n",
      "};\n",
      "\n",
      "var topFrameConfirm = function(message){\n",
      "\tif(confirm(message)){\n",
      "\t\treturn true;\n",
      "\t} else {\n",
      "\t\treturn false;\n",
      "\t}\n",
      "};\n",
      "</script><style type=\"text/css\">\n",
      "    html{width:100%;height:100%;}\n",
      "    body{width:100%;height:100%;margin:0;padding:0;font-size:0;}\n",
      "    #mainFrame{width:100%;height:100%;margin:0;padding:0;border:0;}\n",
      "    #hiddenFrame{width:0;height:0;margin:0;padding:0;border:0;}\n",
      "</style></head>\n",
      "<body>\n",
      "<iframe allowfullscreen=\"true\" id=\"mainFrame\" name=\"mainFrame\" onload=\"oFramesetTitleController.start(self.frames['mainFrame'], self, sTitle);oFramesetTitleController.onLoadFrame();oFramesetUrlController.start(self.frames['mainFrame']);oFramesetUrlController.onLoadFrame()\" scrolling=\"auto\" src=\"/PostView.naver?blogId=cinemadrea&amp;logNo=222530310283&amp;redirect=Dlog&amp;widgetTypeCall=true&amp;directAccess=false\"></iframe>\n",
      "</body></html>\n"
     ]
    }
   ],
   "source": [
    "print(soup)"
   ]
  },
  {
   "cell_type": "code",
   "execution_count": 25,
   "metadata": {},
   "outputs": [
    {
     "name": "stdout",
     "output_type": "stream",
     "text": [
      "<title>위드코로나 뜻 : 백신패스 , 백신여권 : 네이버 블로그</title>\n"
     ]
    }
   ],
   "source": [
    "title = soup.title\n",
    "print(title)"
   ]
  },
  {
   "cell_type": "code",
   "execution_count": null,
   "metadata": {},
   "outputs": [],
   "source": []
  },
  {
   "cell_type": "code",
   "execution_count": 24,
   "metadata": {},
   "outputs": [
    {
     "name": "stdout",
     "output_type": "stream",
     "text": [
      "[]\n"
     ]
    }
   ],
   "source": [
    "title = soup.select('div')\n",
    "print(title)"
   ]
  },
  {
   "cell_type": "code",
   "execution_count": 7,
   "metadata": {},
   "outputs": [
    {
     "ename": "SyntaxError",
     "evalue": "invalid syntax (<ipython-input-7-312bc43d71b2>, line 1)",
     "output_type": "error",
     "traceback": [
      "\u001b[1;36m  File \u001b[1;32m\"<ipython-input-7-312bc43d71b2>\"\u001b[1;36m, line \u001b[1;32m1\u001b[0m\n\u001b[1;33m    <p class=\"se-text-paragraph se-text-paragraph-align-center\" style=\"\" id=\"SE-65F8E4CB-4ECC-4685-9664-3045EF8BF182\"><span style=\"\" class=\"se-fs- se-ff-\" id=\"SE-57AEBC20-BED9-4FA6-8BA7-610C106E5B3E\"><!-- -->코로나백신, 모더나 백신 1차, 2차 찐후기<!-- --></span></p>\u001b[0m\n\u001b[1;37m    ^\u001b[0m\n\u001b[1;31mSyntaxError\u001b[0m\u001b[1;31m:\u001b[0m invalid syntax\n"
     ]
    }
   ],
   "source": [
    "<p class=\"se-text-paragraph se-text-paragraph-align-center\" style=\"\" id=\"SE-65F8E4CB-4ECC-4685-9664-3045EF8BF182\"><span style=\"\" class=\"se-fs- se-ff-\" id=\"SE-57AEBC20-BED9-4FA6-8BA7-610C106E5B3E\"><!-- -->코로나백신, 모더나 백신 1차, 2차 찐후기<!-- --></span></p>"
   ]
  },
  {
   "cell_type": "code",
   "execution_count": null,
   "metadata": {},
   "outputs": [],
   "source": [
    "<p class=\"se-text-paragraph se-text-paragraph-align-\" style=\"\" id=\"SE-977767db-2f79-43c7-917f-dff59eca5ba8\"><span style=\"\" class=\"se-fs- se-ff-\" id=\"SE-9091da25-fba2-4e7d-a923-f6dde28288e9\"><!-- -->코로나백신 모더나 2차 접종 후 부작용 오한!!!<!-- --></span></p>"
   ]
  },
  {
   "cell_type": "code",
   "execution_count": null,
   "metadata": {},
   "outputs": [],
   "source": [
    "<span style=\"\" class=\"se-fs- se-ff-\" id=\"SE-9091da25-fba2-4e7d-a923-f6dde28288e9\"><!-- -->코로나백신 모더나 2차 접종 후 부작용 오한!!!<!-- --></span>"
   ]
  },
  {
   "cell_type": "code",
   "execution_count": null,
   "metadata": {},
   "outputs": [],
   "source": [
    "<p class=\"se-text-paragraph se-text-paragraph-align-\" style=\"\" id=\"SE-977767db-2f79-43c7-917f-dff59eca5ba8\"><span style=\"\" class=\"se-fs- se-ff-\" id=\"SE-9091da25-fba2-4e7d-a923-f6dde28288e9\"><!-- -->코로나백신 모더나 2차 접종 후 부작용 오한!!!<!-- --></span></p>"
   ]
  },
  {
   "cell_type": "code",
   "execution_count": 8,
   "metadata": {},
   "outputs": [
    {
     "ename": "AttributeError",
     "evalue": "'NoneType' object has no attribute 'get_text'",
     "output_type": "error",
     "traceback": [
      "\u001b[1;31m---------------------------------------------------------------------------\u001b[0m",
      "\u001b[1;31mAttributeError\u001b[0m                            Traceback (most recent call last)",
      "\u001b[1;32m<ipython-input-8-1a4f13698f08>\u001b[0m in \u001b[0;36m<module>\u001b[1;34m\u001b[0m\n\u001b[1;32m----> 1\u001b[1;33m \u001b[0mitem\u001b[0m \u001b[1;33m=\u001b[0m \u001b[0msoup\u001b[0m\u001b[1;33m.\u001b[0m\u001b[0mfind\u001b[0m\u001b[1;33m(\u001b[0m\u001b[1;34m'span style'\u001b[0m\u001b[1;33m,\u001b[0m \u001b[0mclass_\u001b[0m\u001b[1;33m=\u001b[0m\u001b[1;34m\"se-fs- se-ff-\"\u001b[0m\u001b[1;33m)\u001b[0m\u001b[1;33m.\u001b[0m\u001b[0mget_text\u001b[0m\u001b[1;33m(\u001b[0m\u001b[1;33m)\u001b[0m\u001b[1;33m\u001b[0m\u001b[1;33m\u001b[0m\u001b[0m\n\u001b[0m\u001b[0;32m      2\u001b[0m \u001b[1;31m# title = item.find('span style', class_=\"se-fs- se-ff-\")\u001b[0m\u001b[1;33m\u001b[0m\u001b[1;33m\u001b[0m\u001b[1;33m\u001b[0m\u001b[0m\n",
      "\u001b[1;31mAttributeError\u001b[0m: 'NoneType' object has no attribute 'get_text'"
     ]
    }
   ],
   "source": [
    "item = soup.find('span style', class_=\"se-fs- se-ff-\").get_text()\n",
    "# title = item.find('span style', class_=\"se-fs- se-ff-\")"
   ]
  },
  {
   "cell_type": "code",
   "execution_count": 20,
   "metadata": {},
   "outputs": [
    {
     "ename": "AttributeError",
     "evalue": "'NoneType' object has no attribute 'find'",
     "output_type": "error",
     "traceback": [
      "\u001b[1;31m---------------------------------------------------------------------------\u001b[0m",
      "\u001b[1;31mAttributeError\u001b[0m                            Traceback (most recent call last)",
      "\u001b[1;32m<ipython-input-20-5025b7f6d5b8>\u001b[0m in \u001b[0;36m<module>\u001b[1;34m\u001b[0m\n\u001b[0;32m      1\u001b[0m \u001b[0mitem\u001b[0m \u001b[1;33m=\u001b[0m \u001b[0msoup\u001b[0m\u001b[1;33m.\u001b[0m\u001b[0mfind\u001b[0m\u001b[1;33m(\u001b[0m\u001b[1;34m'div'\u001b[0m\u001b[1;33m,\u001b[0m \u001b[0mclass_\u001b[0m\u001b[1;33m=\u001b[0m\u001b[1;34m\"pcol1\"\u001b[0m\u001b[1;33m)\u001b[0m\u001b[1;33m\u001b[0m\u001b[1;33m\u001b[0m\u001b[0m\n\u001b[1;32m----> 2\u001b[1;33m \u001b[0mitem\u001b[0m \u001b[1;33m=\u001b[0m \u001b[0mitem\u001b[0m\u001b[1;33m.\u001b[0m\u001b[0mfind\u001b[0m\u001b[1;33m(\u001b[0m\u001b[1;34m'div'\u001b[0m\u001b[1;33m,\u001b[0m \u001b[0mclass_\u001b[0m\u001b[1;33m=\u001b[0m\u001b[1;34m\"se-module se-module-text se-title-text\"\u001b[0m\u001b[1;33m)\u001b[0m\u001b[1;33m\u001b[0m\u001b[1;33m\u001b[0m\u001b[0m\n\u001b[0m\u001b[0;32m      3\u001b[0m \u001b[0mitem\u001b[0m \u001b[1;33m=\u001b[0m \u001b[0mitem\u001b[0m\u001b[1;33m.\u001b[0m\u001b[0mfind\u001b[0m\u001b[1;33m(\u001b[0m\u001b[1;34m'p'\u001b[0m\u001b[1;33m,\u001b[0m \u001b[0mclass_\u001b[0m\u001b[1;33m=\u001b[0m\u001b[1;34m'se-text-paragraph se-text-paragraph-align-'\u001b[0m\u001b[1;33m)\u001b[0m\u001b[1;33m\u001b[0m\u001b[1;33m\u001b[0m\u001b[0m\n\u001b[0;32m      4\u001b[0m \u001b[0mtitle\u001b[0m \u001b[1;33m=\u001b[0m \u001b[0mitem\u001b[0m\u001b[1;33m.\u001b[0m\u001b[0mfind\u001b[0m\u001b[1;33m(\u001b[0m\u001b[1;34m'span'\u001b[0m\u001b[1;33m,\u001b[0m \u001b[0mclass_\u001b[0m\u001b[1;33m=\u001b[0m\u001b[1;34m'se-fs- se-ff-'\u001b[0m\u001b[1;33m)\u001b[0m\u001b[1;33m.\u001b[0m\u001b[0mget_text\u001b[0m\u001b[1;33m(\u001b[0m\u001b[1;33m)\u001b[0m\u001b[1;33m\u001b[0m\u001b[1;33m\u001b[0m\u001b[0m\n",
      "\u001b[1;31mAttributeError\u001b[0m: 'NoneType' object has no attribute 'find'"
     ]
    }
   ],
   "source": [
    "item = soup.find('div', class_=\"pcol1\")\n",
    "item = item.find('div', class_=\"se-module se-module-text se-title-text\")\n",
    "item = item.find('p', class_='se-text-paragraph se-text-paragraph-align-')\n",
    "title = item.find('span', class_='se-fs- se-ff-').get_text()"
   ]
  },
  {
   "cell_type": "code",
   "execution_count": null,
   "metadata": {},
   "outputs": [],
   "source": [
    "item = soup.find('div', class_=\"article_info\")\n",
    "title = item.find('h3', class_=\"tts_head\").get_text()"
   ]
  },
  {
   "cell_type": "code",
   "execution_count": 9,
   "metadata": {},
   "outputs": [
    {
     "name": "stdout",
     "output_type": "stream",
     "text": [
      "None\n"
     ]
    }
   ],
   "source": [
    "print(soup.p)"
   ]
  },
  {
   "cell_type": "code",
   "execution_count": 7,
   "metadata": {},
   "outputs": [
    {
     "data": {
      "text/plain": [
       "[]"
      ]
     },
     "execution_count": 7,
     "metadata": {},
     "output_type": "execute_result"
    }
   ],
   "source": [
    "title"
   ]
  },
  {
   "cell_type": "markdown",
   "metadata": {},
   "source": [
    "---"
   ]
  }
 ],
 "metadata": {
  "interpreter": {
   "hash": "c270e6328e3db603edbbf92178afe07abc75c12ec50d7594e3b3ea046e4043cd"
  },
  "kernelspec": {
   "display_name": "Python 3.6.13 64-bit ('NLP': conda)",
   "name": "python3"
  },
  "language_info": {
   "codemirror_mode": {
    "name": "ipython",
    "version": 3
   },
   "file_extension": ".py",
   "mimetype": "text/x-python",
   "name": "python",
   "nbconvert_exporter": "python",
   "pygments_lexer": "ipython3",
   "version": "3.6.13"
  },
  "orig_nbformat": 4
 },
 "nbformat": 4,
 "nbformat_minor": 2
}
