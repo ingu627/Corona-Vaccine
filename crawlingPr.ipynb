{
 "cells": [
  {
   "cell_type": "code",
   "execution_count": 4,
   "metadata": {},
   "outputs": [],
   "source": [
    "from selenium import webdriver\n",
    "from bs4 import BeautifulSoup\n",
    "from collections import Counter\n",
    "import numpy as np\n",
    "import pandas as pd\n",
    "import matplotlib.pyplot as plt\n",
    "import seaborn as sns\n",
    "import time\n",
    "import re\n",
    "\n",
    "\n",
    "# 한글 깨짐 방지 코드\n",
    "import matplotlib\n",
    "from matplotlib import font_manager, rc\n",
    "import platform\n",
    "if platform.system()==\"Windows\":\n",
    "    font_name=font_manager.FontProperties(fname=\"c:/Windows/Fonts/malgun.ttf\").get_name()\n",
    "    rc('font', family=font_name)\n",
    "matplotlib.rcParams['axes.unicode_minus']=False\n",
    "\n",
    "import warnings\n",
    "warnings.filterwarnings(\"ignore\")"
   ]
  },
  {
   "cell_type": "code",
   "execution_count": null,
   "metadata": {},
   "outputs": [],
   "source": [
    "# https://blog.naver.com/36_univ/222522879334"
   ]
  },
  {
   "cell_type": "code",
   "execution_count": 5,
   "metadata": {},
   "outputs": [],
   "source": [
    "driver = webdriver.Chrome('f:\\chromedriver')"
   ]
  },
  {
   "cell_type": "code",
   "execution_count": 6,
   "metadata": {},
   "outputs": [],
   "source": [
    "driver.get('https://blog.naver.com/cinemadrea/222530310283')\n",
    "time.sleep(2)"
   ]
  },
  {
   "cell_type": "code",
   "execution_count": null,
   "metadata": {},
   "outputs": [],
   "source": [
    "# <p class=\"se-text-paragraph se-text-paragraph-align-\" style=\"\" id=\"SE-15d6a67b-5726-41f6-820a-5568d3bbb29b\"><span style=\"\" class=\"se-fs-fs32 se-ff-nanumgothic\" id=\"SE-1c12f33a-6223-4119-b968-5ce791e64fd8\"><!-- -->대학생 코로나19 백신 접종 후기 (feat. 백신공결제를 알아보자)<!-- --></span></p>"
   ]
  },
  {
   "cell_type": "code",
   "execution_count": 7,
   "metadata": {},
   "outputs": [],
   "source": [
    "html = driver.page_source\n",
    "soup = BeautifulSoup(html, 'html.parser')\n",
    "\n",
    "# title = soup.select('p > class.se-text-paragraph se-text-paragraph-align-')"
   ]
  },
  {
   "cell_type": "code",
   "execution_count": 8,
   "metadata": {},
   "outputs": [
    {
     "name": "stdout",
     "output_type": "stream",
     "text": [
      "<html lang=\"ko\"><head>\n",
      "<meta content=\"no-cache\" http-equiv=\"Pragma\"/>\n",
      "<meta content=\"-1\" http-equiv=\"Expires\"/>\n",
      "<meta content=\"noindex,follow\" name=\"robots\"/>\n",
      "<meta content=\"always\" name=\"referrer\"/>\n",
      "<meta content=\"text/html;charset=utf-8\" http-equiv=\"content-type\"/>\n",
      "<meta content=\"IE=edge,chrome=1\" http-equiv=\"X-UA-Compatible\"/>\n",
      "<link href=\"/favicon.ico?3\" rel=\"shortcut icon\" type=\"image/x-icon\"/>\n",
      "<link href=\"https://rss.blog.naver.com/cinemadrea.xml\" rel=\"alternate\" title=\"RSS feed for cinemadrea Blog\" type=\"application/rss+xml\"/>\n",
      "<link href=\"https://blog.naver.com/NBlogWlwLayout.naver?blogId=cinemadrea\" rel=\"wlwmanifest\" type=\"application/wlwmanifest+xml\"/>\n",
      "<title>위드코로나 뜻 : 백신패스 , 백신여권 : 네이버 블로그</title>\n",
      "<script charset=\"UTF-8\" src=\"https://ssl.pstatic.net/t.static.blog/mylog/versioning/Frameset-584146299_https.js\" type=\"text/javascript\"></script><script charset=\"UTF-8\" type=\"text/javascript\">\n",
      "var photoContent=\"\";\n",
      "var postContent=\"\";\n",
      "\n",
      "var videoId \t  = \"\";\n",
      "var thumbnail \t  = \"\";\n",
      "var inKey \t\t  = \"\";\n",
      "var movieFileSize = \"\";\n",
      "var playTime \t  = \"\";\n",
      "var screenSize \t  = \"\";\n",
      "\n",
      "var blogId = 'cinemadrea';\n",
      "var blogURL = 'https://blog.naver.com';\n",
      "var eventCnt = '';\n",
      "\n",
      "var g_ShareObject = {};\n",
      "g_ShareObject.referer = \"\";\n",
      "\n",
      "\n",
      "jsMVC.setController(\"framesetTitleController\", FramesetTitleController);\n",
      "jsMVC.setController(\"framesetUrlController\", FramesetUrlController);\n",
      "jsMVC.setController(\"framesetMusicController\", FramesetMusicController);\n",
      "var oFramesetTitleController = jsMVC.getController(\"framesetTitleController\");\n",
      "var oFramesetUrlController = jsMVC.getController(\"framesetUrlController\");\n",
      "var oFramesetMusicController = jsMVC.getController(\"framesetMusicController\");\n",
      "var sTitle = document.title;\n",
      "\n",
      "var topFrameAlert = function(message){\n",
      "\talert(message);\n",
      "};\n",
      "\n",
      "var topFrameConfirm = function(message){\n",
      "\tif(confirm(message)){\n",
      "\t\treturn true;\n",
      "\t} else {\n",
      "\t\treturn false;\n",
      "\t}\n",
      "};\n",
      "</script><style type=\"text/css\">\n",
      "    html{width:100%;height:100%;}\n",
      "    body{width:100%;height:100%;margin:0;padding:0;font-size:0;}\n",
      "    #mainFrame{width:100%;height:100%;margin:0;padding:0;border:0;}\n",
      "    #hiddenFrame{width:0;height:0;margin:0;padding:0;border:0;}\n",
      "</style></head>\n",
      "<body>\n",
      "<iframe allowfullscreen=\"true\" id=\"mainFrame\" name=\"mainFrame\" onload=\"oFramesetTitleController.start(self.frames['mainFrame'], self, sTitle);oFramesetTitleController.onLoadFrame();oFramesetUrlController.start(self.frames['mainFrame']);oFramesetUrlController.onLoadFrame()\" scrolling=\"auto\" src=\"/PostView.naver?blogId=cinemadrea&amp;logNo=222530310283&amp;redirect=Dlog&amp;widgetTypeCall=true&amp;directAccess=false\"></iframe>\n",
      "</body></html>\n"
     ]
    }
   ],
   "source": [
    "print(soup)"
   ]
  },
  {
   "cell_type": "code",
   "execution_count": 14,
   "metadata": {},
   "outputs": [
    {
     "name": "stdout",
     "output_type": "stream",
     "text": [
      "위드코로나 뜻 : 백신패스 , 백신여권 : 네이버 블로그\n"
     ]
    }
   ],
   "source": [
    "title = soup.find('title')\n",
    "print(title.string)"
   ]
  },
  {
   "cell_type": "code",
   "execution_count": null,
   "metadata": {},
   "outputs": [],
   "source": []
  },
  {
   "cell_type": "code",
   "execution_count": 18,
   "metadata": {},
   "outputs": [
    {
     "name": "stdout",
     "output_type": "stream",
     "text": [
      "[]\n"
     ]
    }
   ],
   "source": [
    "title = soup.select('div')\n",
    "print(title)"
   ]
  },
  {
   "cell_type": "code",
   "execution_count": 7,
   "metadata": {},
   "outputs": [
    {
     "ename": "SyntaxError",
     "evalue": "invalid syntax (<ipython-input-7-312bc43d71b2>, line 1)",
     "output_type": "error",
     "traceback": [
      "\u001b[1;36m  File \u001b[1;32m\"<ipython-input-7-312bc43d71b2>\"\u001b[1;36m, line \u001b[1;32m1\u001b[0m\n\u001b[1;33m    <p class=\"se-text-paragraph se-text-paragraph-align-center\" style=\"\" id=\"SE-65F8E4CB-4ECC-4685-9664-3045EF8BF182\"><span style=\"\" class=\"se-fs- se-ff-\" id=\"SE-57AEBC20-BED9-4FA6-8BA7-610C106E5B3E\"><!-- -->코로나백신, 모더나 백신 1차, 2차 찐후기<!-- --></span></p>\u001b[0m\n\u001b[1;37m    ^\u001b[0m\n\u001b[1;31mSyntaxError\u001b[0m\u001b[1;31m:\u001b[0m invalid syntax\n"
     ]
    }
   ],
   "source": [
    "<p class=\"se-text-paragraph se-text-paragraph-align-center\" style=\"\" id=\"SE-65F8E4CB-4ECC-4685-9664-3045EF8BF182\"><span style=\"\" class=\"se-fs- se-ff-\" id=\"SE-57AEBC20-BED9-4FA6-8BA7-610C106E5B3E\"><!-- -->코로나백신, 모더나 백신 1차, 2차 찐후기<!-- --></span></p>"
   ]
  },
  {
   "cell_type": "code",
   "execution_count": null,
   "metadata": {},
   "outputs": [],
   "source": [
    "<p class=\"se-text-paragraph se-text-paragraph-align-\" style=\"\" id=\"SE-977767db-2f79-43c7-917f-dff59eca5ba8\"><span style=\"\" class=\"se-fs- se-ff-\" id=\"SE-9091da25-fba2-4e7d-a923-f6dde28288e9\"><!-- -->코로나백신 모더나 2차 접종 후 부작용 오한!!!<!-- --></span></p>"
   ]
  },
  {
   "cell_type": "code",
   "execution_count": null,
   "metadata": {},
   "outputs": [],
   "source": [
    "<span style=\"\" class=\"se-fs- se-ff-\" id=\"SE-9091da25-fba2-4e7d-a923-f6dde28288e9\"><!-- -->코로나백신 모더나 2차 접종 후 부작용 오한!!!<!-- --></span>"
   ]
  },
  {
   "cell_type": "code",
   "execution_count": null,
   "metadata": {},
   "outputs": [],
   "source": [
    "<p class=\"se-text-paragraph se-text-paragraph-align-\" style=\"\" id=\"SE-977767db-2f79-43c7-917f-dff59eca5ba8\"><span style=\"\" class=\"se-fs- se-ff-\" id=\"SE-9091da25-fba2-4e7d-a923-f6dde28288e9\"><!-- -->코로나백신 모더나 2차 접종 후 부작용 오한!!!<!-- --></span></p>"
   ]
  },
  {
   "cell_type": "code",
   "execution_count": 8,
   "metadata": {},
   "outputs": [
    {
     "ename": "AttributeError",
     "evalue": "'NoneType' object has no attribute 'get_text'",
     "output_type": "error",
     "traceback": [
      "\u001b[1;31m---------------------------------------------------------------------------\u001b[0m",
      "\u001b[1;31mAttributeError\u001b[0m                            Traceback (most recent call last)",
      "\u001b[1;32m<ipython-input-8-1a4f13698f08>\u001b[0m in \u001b[0;36m<module>\u001b[1;34m\u001b[0m\n\u001b[1;32m----> 1\u001b[1;33m \u001b[0mitem\u001b[0m \u001b[1;33m=\u001b[0m \u001b[0msoup\u001b[0m\u001b[1;33m.\u001b[0m\u001b[0mfind\u001b[0m\u001b[1;33m(\u001b[0m\u001b[1;34m'span style'\u001b[0m\u001b[1;33m,\u001b[0m \u001b[0mclass_\u001b[0m\u001b[1;33m=\u001b[0m\u001b[1;34m\"se-fs- se-ff-\"\u001b[0m\u001b[1;33m)\u001b[0m\u001b[1;33m.\u001b[0m\u001b[0mget_text\u001b[0m\u001b[1;33m(\u001b[0m\u001b[1;33m)\u001b[0m\u001b[1;33m\u001b[0m\u001b[1;33m\u001b[0m\u001b[0m\n\u001b[0m\u001b[0;32m      2\u001b[0m \u001b[1;31m# title = item.find('span style', class_=\"se-fs- se-ff-\")\u001b[0m\u001b[1;33m\u001b[0m\u001b[1;33m\u001b[0m\u001b[1;33m\u001b[0m\u001b[0m\n",
      "\u001b[1;31mAttributeError\u001b[0m: 'NoneType' object has no attribute 'get_text'"
     ]
    }
   ],
   "source": [
    "item = soup.find('span style', class_=\"se-fs- se-ff-\").get_text()\n",
    "# title = item.find('span style', class_=\"se-fs- se-ff-\")"
   ]
  },
  {
   "cell_type": "code",
   "execution_count": 20,
   "metadata": {},
   "outputs": [
    {
     "ename": "AttributeError",
     "evalue": "'NoneType' object has no attribute 'find'",
     "output_type": "error",
     "traceback": [
      "\u001b[1;31m---------------------------------------------------------------------------\u001b[0m",
      "\u001b[1;31mAttributeError\u001b[0m                            Traceback (most recent call last)",
      "\u001b[1;32m<ipython-input-20-5025b7f6d5b8>\u001b[0m in \u001b[0;36m<module>\u001b[1;34m\u001b[0m\n\u001b[0;32m      1\u001b[0m \u001b[0mitem\u001b[0m \u001b[1;33m=\u001b[0m \u001b[0msoup\u001b[0m\u001b[1;33m.\u001b[0m\u001b[0mfind\u001b[0m\u001b[1;33m(\u001b[0m\u001b[1;34m'div'\u001b[0m\u001b[1;33m,\u001b[0m \u001b[0mclass_\u001b[0m\u001b[1;33m=\u001b[0m\u001b[1;34m\"pcol1\"\u001b[0m\u001b[1;33m)\u001b[0m\u001b[1;33m\u001b[0m\u001b[1;33m\u001b[0m\u001b[0m\n\u001b[1;32m----> 2\u001b[1;33m \u001b[0mitem\u001b[0m \u001b[1;33m=\u001b[0m \u001b[0mitem\u001b[0m\u001b[1;33m.\u001b[0m\u001b[0mfind\u001b[0m\u001b[1;33m(\u001b[0m\u001b[1;34m'div'\u001b[0m\u001b[1;33m,\u001b[0m \u001b[0mclass_\u001b[0m\u001b[1;33m=\u001b[0m\u001b[1;34m\"se-module se-module-text se-title-text\"\u001b[0m\u001b[1;33m)\u001b[0m\u001b[1;33m\u001b[0m\u001b[1;33m\u001b[0m\u001b[0m\n\u001b[0m\u001b[0;32m      3\u001b[0m \u001b[0mitem\u001b[0m \u001b[1;33m=\u001b[0m \u001b[0mitem\u001b[0m\u001b[1;33m.\u001b[0m\u001b[0mfind\u001b[0m\u001b[1;33m(\u001b[0m\u001b[1;34m'p'\u001b[0m\u001b[1;33m,\u001b[0m \u001b[0mclass_\u001b[0m\u001b[1;33m=\u001b[0m\u001b[1;34m'se-text-paragraph se-text-paragraph-align-'\u001b[0m\u001b[1;33m)\u001b[0m\u001b[1;33m\u001b[0m\u001b[1;33m\u001b[0m\u001b[0m\n\u001b[0;32m      4\u001b[0m \u001b[0mtitle\u001b[0m \u001b[1;33m=\u001b[0m \u001b[0mitem\u001b[0m\u001b[1;33m.\u001b[0m\u001b[0mfind\u001b[0m\u001b[1;33m(\u001b[0m\u001b[1;34m'span'\u001b[0m\u001b[1;33m,\u001b[0m \u001b[0mclass_\u001b[0m\u001b[1;33m=\u001b[0m\u001b[1;34m'se-fs- se-ff-'\u001b[0m\u001b[1;33m)\u001b[0m\u001b[1;33m.\u001b[0m\u001b[0mget_text\u001b[0m\u001b[1;33m(\u001b[0m\u001b[1;33m)\u001b[0m\u001b[1;33m\u001b[0m\u001b[1;33m\u001b[0m\u001b[0m\n",
      "\u001b[1;31mAttributeError\u001b[0m: 'NoneType' object has no attribute 'find'"
     ]
    }
   ],
   "source": [
    "item = soup.find('div', class_=\"pcol1\")\n",
    "item = item.find('div', class_=\"se-module se-module-text se-title-text\")\n",
    "item = item.find('p', class_='se-text-paragraph se-text-paragraph-align-')\n",
    "title = item.find('span', class_='se-fs- se-ff-').get_text()"
   ]
  },
  {
   "cell_type": "code",
   "execution_count": null,
   "metadata": {},
   "outputs": [],
   "source": [
    "item = soup.find('div', class_=\"article_info\")\n",
    "title = item.find('h3', class_=\"tts_head\").get_text()"
   ]
  },
  {
   "cell_type": "code",
   "execution_count": 9,
   "metadata": {},
   "outputs": [
    {
     "name": "stdout",
     "output_type": "stream",
     "text": [
      "None\n"
     ]
    }
   ],
   "source": [
    "print(soup.p)"
   ]
  },
  {
   "cell_type": "code",
   "execution_count": 7,
   "metadata": {},
   "outputs": [
    {
     "data": {
      "text/plain": [
       "[]"
      ]
     },
     "execution_count": 7,
     "metadata": {},
     "output_type": "execute_result"
    }
   ],
   "source": [
    "title"
   ]
  },
  {
   "cell_type": "markdown",
   "metadata": {},
   "source": [
    "---"
   ]
  },
  {
   "cell_type": "code",
   "execution_count": 19,
   "metadata": {},
   "outputs": [],
   "source": [
    "from selenium import webdriver\n",
    "import time"
   ]
  },
  {
   "cell_type": "code",
   "execution_count": 20,
   "metadata": {},
   "outputs": [
    {
     "name": "stdout",
     "output_type": "stream",
     "text": [
      "url 수집 끝, 해당 url 데이터 크롤링\n"
     ]
    }
   ],
   "source": [
    "# 크롬 웹브라우저 실행\n",
    "path = \"f:/chromedriver.exe\"\n",
    " \n",
    "driver = webdriver.Chrome(path)\n",
    "url_list = []\n",
    "content_list = \"\"\n",
    "text = \"코로나 백신\"\n",
    "\n",
    "for i in range(1, 3):  # 1~2페이지까지의 블로그 내용을 읽어옴\n",
    "    url = 'https://section.blog.naver.com/Search/Post.nhn?pageNo='+ str(i) + '&rangeType=ALL&orderBy=sim&keyword=' + text\n",
    "    driver.get(url)\n",
    "    time.sleep(0.5)\n",
    " \n",
    "    for j in range(1, 3): # 각 블로그 주소 저장\n",
    "        titles = driver.find_element_by_xpath('/html/body/ui-view/div/main/div/div/section/div[2]/div['+str(j)+']/div/div[1]/div[1]/a[1]')\n",
    "        title = titles.get_attribute('href')\n",
    "        url_list.append(title)\n",
    "\n",
    "print(\"url 수집 끝, 해당 url 데이터 크롤링\")\n",
    " \n",
    "for url in url_list: # 수집한 url 만큼 반복\n",
    "    driver.get(url) # 해당 url로 이동\n",
    " \n",
    "    driver.switch_to.frame('mainFrame')\n",
    "    overlays = \".se-component.se-text.se-l-default\" # 내용 크롤링\n",
    "    contents = driver.find_elements_by_css_selector(overlays)\n",
    " \n",
    "    for content in contents:\n",
    "        content_list = content_list + content.text # content_list 라는 값에 + 하면서 점점 누적"
   ]
  },
  {
   "cell_type": "code",
   "execution_count": 22,
   "metadata": {},
   "outputs": [
    {
     "name": "stdout",
     "output_type": "stream",
     "text": [
      "안녕하세요:-)\n",
      "미국 간호사 미아챙 입니다! 오랜만에 포스팅 하네욤 ㅎㅎ\n",
      "한국🇰🇷도 이제 다들 코로나 백신 접종을 하신것 같은데요! \n",
      "미국🇺🇸은 이제 코로나 백신 3차 추가 접종 / 부스터 샷을 맞기 시작했어요! \n",
      "현재는 의료 종사자, 65세 이상, 고위험군 먼저 맞고 있고요, 곧 모든 연령대로 커질 것 같아요~\n",
      "전 1차를 화이자로 맞아서 2,3차 모두 화이자로  맞았습니다! \n",
      "화이자 1차 : 2020년 12월 19일\n",
      "화이자 2차: 2021년 1월 9일\n",
      "화이자 3차 부스터샷: 2021년 10월 14일\n",
      "화이자 3차 부스터샷은 2차 접종 하고 최소 6개월 이후에 맞을 수 있어요!\n",
      "(한국에서는 화이자 부스터샷 접종 간격이 6개월이상이 아니고 더 짧은것 같아요😅)\n",
      "전 1,2차를 화이자 백신 처음 나왔을때 맞아서 무려 2차 접종 후 9개월 뒤에 접종 하였습니다 :)\n",
      "저희 병원은 10/1부터 부스터 샷을 맞을 수 있었는데요, 미루고 미루다 ㅎㅎ \n",
      "드디어 3나이트 후 6오프 첫날 맞았습니다! \n",
      "화이자 1차, 2차 맞고 부작용?! 증상으로 심한 몸살이 왔어서 3차 맞고 아프면 어떡하나 걱정 한가득 했어요 ㅠㅠ\n",
      "6일 오프를 아프며 보내기 너무 싫어요 ㅠㅠ\n",
      "그리고 백신 맞기 일주일전에 몸살 걸려서 몸져누워 있었어서 어떻게 반응할지 두근두근 했어요 💓 \n",
      "1차 2차 후기는 요기 클릭해 주세요!\n",
      "https://m.blog.naver.com/jjmmee4805/222204945332\n",
      "⬆️ 화이자 백신 2차 접종 후기 \n",
      "https://m.blog.naver.com/jjmmee4805/222182035727\n",
      "⬆️ 화이자 백신 1차 접종 후기화이자 백신 3차 부스터샷 후기 스타트10/11-13 삼일간의 나이트 근무를 마치고, 10/14 오전 8시에 코로나 백신 부스터샷 예약을 했어요!\n",
      "1,2차는 병원에 안쓰는 병동에서 받았는데요,\n",
      "3차는 병원 야외 주차장에서 맞았어요 😥 쓰리 나이트 마지막날 . Jpg아침 7시 30분에 칼퇴! 하자마자 백신 맞으러 총총 \n",
      "요새 아침에 너무 추워요…코로나 백신 맞으러 가는 길이렇게 병원 주차장에 간이 텐트를 쳐놓고 코로나 백신을 맞아요.\n",
      "전에는 여기에서 직원들 코로나 검사를 했었어욤 ㅎㅎ체크인을 하려고 하는데, \n",
      "백신 동의서 & 문진표 작성을 안했다고 하는거에여;\n",
      "엥 안했어요?? 😅😅\n",
      "전에는 종이로 된 동의서에 싸인 했어야 했는데 이젠 온라인으로 바껴서 후다닥 작성하기!\n",
      "묻는건 똑같아요,\n",
      "백신 부작용이 있는가 등등동의서가 확인 되면 백신 카드를 보여주고 2차 맞고 최소 6개월이 지났나 확인을 합니다! \n",
      "그리고 본인 확인 하고 주사 맞기 💉 🎉 짠\n",
      "3차 코로나 백신으로 화이자 부스터 샷을 맞았어요! 그리고 15분동안 앉아서 혹시 모를 이상 증상을 관찰하고, 집에 갑니당 총총총왼손잡이라서 역시 이번에도 오른쪽에 맞았어요 \n",
      "주사 맞고 피가 쪼르륵 났지만 항상 그렇기에 🙃🙃\n",
      "주사는 하나도 안아팠어요! \n",
      "1,2차때처럼 차가운 느낌도 뜨거운 느낌도 안났어요\n",
      "그리고 15분동안 앉아서 기다렸는데, 기다릴때 다리를 꼬고 앉아있었어요.\n",
      "15분 후 집에 가려고 한 5분정도 차까지 걸어가는데 갑자기 양쪽 다리가 발가락부터 무릎까지 저리기 시작!\n",
      "뭐…머지….?!\n",
      "쥐났을때 느낌이 아니라 쏴하게 조금씩 저리면서 다리가 무거워 지고 힘이 빠지는 거에요….!!!!!\n",
      "Tingling & decrease sensation \n",
      "뭐야 ?! 이상태로 응급실로 가야하나 수만가지 생각다리를 꼬고 있어서 그런가 ..?! 싶다가도 한쪽이 아니라 양쪽 다리가 다 그래서 뭔가 싶기도 하고\n",
      "아무튼 어찌저찌 차까지 무사히 걸어 갔어요.\n",
      "그리고 차안에서 다리 감각이 돌아 올때까지 기다리다가 괜찮은거 같아서 집에 갔어요 •_•그리고 전 한 한시간 잠깐 눈 붙이고 치과도 가고, \n",
      "놀러도 가고 하는 강행군을 이어갔습니다! \n",
      "그리고 혹시 몰라서 그날밤이랑 둘째날 저녁에 타이레놀이 들어 있는 감기약을 먹고 잤어요!\n",
      "타이레놀을 먹어서 그런가, 1&2차 때처럼 열도 안나고 몸살기도 없었어요! \n",
      "다만,\n",
      "백신 맞은 팔 근육통 & 겨드랑이 림프가 몇일동안 부었어요… 🥲🥲🥲\n",
      "2차때 아팠어서 걱정했는데 3차는 넘나 멀쩡해서 다행화이자 3차 부스터 백신 부작용 없음! 사담으로 전 아직도 가끔 코로나 병동에서 일을 해요-\n",
      "여름에 코로나 환자수가 급등 했었는데, 이제 조금 줄었어요. \n",
      "그래도 평균적으로 10명정도 환자가 입원해 있어요-\n",
      "겨울에 한참 피크일땐 100명을 웃돌았는데 다행이에요\n",
      "😮‍💨 😮‍💨 😮‍💨 \n",
      "저희 병원도 그렇고, 친구네 병원도 그렇고 요새 코로나 환자들 중에 백신을 안맞은 사람이 90%에요. \n",
      "백신 맞있는데 확진 나온 사람들은 무증상이나 아주 경미한 증상인데,\n",
      "백신 미접종자는 산소도 많이 필요하고 심각해요….\n",
      "백신 맞으세요 제발 😭\n",
      "백신 거부하고 코로나 걸린 환자들이 하나같이 하는 말이 백신 맞을껄 이에요 ㅠㅠ\n",
      "심각한 알러지나 부작용이 없으신 분들은 맞는걸 추천 드려요…!\n",
      "그리고 독감 주사도 맞으세요~\n",
      "P.s. 코로나 때문에 마스크 쓰고 다녀서 그런지 지난 겨울 독감이나 코로나 제외한 호흡기 환자가 진짜 없었어요!!! 😷 신기방기\n",
      "그럼 모두들 건강하세요 !\n",
      "Stay healthy,미아챙,RN \n",
      "Insta @ miachang_rn안녕하세요. 윰미 입니다.\n",
      "제가 드디어 코로나백신 화이자 2차 접종까지 완료를 했습니다 !!!!!!!!!!!!!!!!!!\n",
      "아휴~ 이게 뭐라고 엄청 마음고생 했네요 (?)\n",
      "오늘은 코로나백신 화이자 2차 접종 및 부작용 후기에 대해 포스팅을 하고자 합니다.\n",
      "저는 다행히 엄청 열이 오르거나 그러지 않았지만,\n",
      "주위에 아는 언니는 열이  40도까지 찍고 그랬다고 하더라고요 ?!\n",
      "진짜 사람마다 증상이 다른 코로나백신 화이자 2차 ㅠ_ㅠ 정말 무서웠습니다.\n",
      "이 글을 보는 모든 분들 다 코로나백신 화이자 2차 부작용 없이 지나가기를 바라겠습니다 :)먼저 쿠브어플을 설치하시면 요렇게 접수날짜가 뜹니다.\n",
      "저는 10월7일이 2차접종이였고, 요렇게 확인을 하고 해당 병원에 방문을 했습니다.\n",
      "회사에서 백신을 맞는 당일엔 반차, 다음날 연차 하루가 유급이라서 넘 좋았어요 (?)\n",
      "전 맞벌이라 ~~~~~~~ 제가 좀 늦게 출근할 수 있거나\n",
      " 유급연차를 주시면 아기 등원을 천천히 해도 되니까\n",
      "너무 좋더라고요....엄마가 되니 요런 사소한 행복이^^!~!!!!!병원에 방문해서 먼저 코로나19 예방접종 예진표를 작성 합니다.\n",
      "저는 어플로도 작성을 했는데...\n",
      "병원 와서도 또 해야한다고 하더라고요.\n",
      "그럴거면 왜 어플로 하라고 했지? 이생각이 들더라고요.\n",
      "굳이 어플로 안하셔도 될 것 같아요 !! ㅋㅋㅋㅋㅋㅋ\n",
      "도착하자마자 온도체크부터 하고 ~ \n",
      "요렇게 작성을 하고 기다린답니당 ! ^^대기를 하고 순서가 다가오면 기다렸다가 접종을 하면 끝\n",
      "접종할땐 좀 아파요..2차가 1차보다 더 아픈것같아요 ㅠ_ㅠ\n",
      "느낌뿐일까요 ???ㅋㅋㅋㅋㅋㅋㅋ\n",
      "똑같은 주사라는데 더 아픈것 같은 ㅠ^ㅠ\n",
      "그리고 요렇게 밴드를 붙여주시고, 15분 기다렸다가 경과를 보고 집으로 가면 끄읕 ! ! \n",
      "요 기다리는게 참 중요하다고 해요 !!!!!!!!!!!!!!!!\n",
      "아는분은 주사 맞고 바로 쓰러지셨다고 하더라고용..??ㅠㅠ\n",
      "정말 무서워요 ~~~\n",
      "코로나백신 2차 화이자 부작용 ㄷㄷㄷㄷ짜잔 저도 1차 2차 모두 접종 완료\n",
      "이제 코로나백신 접종 완료 한 사람이 되었습니다~~~~~~~~~~~~\n",
      "아직 아이들은 맞지 못하니 정말 아쉬워요.\n",
      "사실..\n",
      "이번에 아들 어린이집 선생님이 코로나 백신을 맞으셨는데도\n",
      " 코로나 양성이 나와서 지금 자가격리중이거든요~\n",
      "그래서 코로나 백신을 맞는다고 코로나가 안걸린다는게 아닌게 참 아쉽습니당 ㅠ_ㅠ\n",
      "그래도 우선 예방할 수 있는건 예방하는게 맞죠 !?\n",
      "코로나백신 화이자 1차 2차 접종 완료하고나니 속이 후련하네요 ^^!!코로나백신 화이자 2차 부작용이 생기신분들은 요렇게 쿠브어플에서 \n",
      "건강상태를 확인하고 보고를 할 수 있어요.\n",
      "너무 심각하신분들은 참고해주세요.\n",
      "코로나백신 화이자2차 부작용은 전 딱히 없었어요.\n",
      "운이 좋았죠.. 1차때는 설사를 해서 무서웠는데, 2차는 설사도 없었고,\n",
      "팔이 좀 뻐근한 정도 ????\n",
      "팔 뻐근한것도 다음날엔 괜찮아서 운동도 다녀왔답니다 !!!!!\n",
      "하지만 코로나백신 화이자2차 부작용으로는 \n",
      "고열,온몸 오환 등 다양한 부작용이 있기에\n",
      "무조건 휴식! 아시죠 ?????\n",
      "부작용 없이 지나가기를 바라면서\n",
      "포스팅은 요기까지 하겠습니다 !!!\n",
      "오늘도 코로나 조심하시는 하루 보내세요 :)어제 2021년 10월 13일, 코로나 화이자 백신을 2차로 접종했습니다.\n",
      "1차 접종은 2021년 9월 6일에 접종했으니까 37일만의 재접종입니다.\n",
      "약 5주 이상이 지났네요.\n",
      "원래 지정해준 접종일은 10월 7일이었는데, 금강자전거길 종주가 예정되어 있어서 예약을 변경하여 접종을 하였네요.\n",
      "이 포스팅은 전적으로 저 개인한테만 해당되는 사항이므로, 백신 접종반응은 개개인이 모두 다를수 있습니다.\n",
      "1차 접종때는 전기스쿠터를 타고 갔었지요.\n",
      "그런데 며칠전에 다이소 다녀오던길에 갑자기 소나기를 만나서 어쩔수 없이 우중주행을 잠시 했더니, 그새 고장이 났습니다.\n",
      "배터리쪽에 약간의 물이 들어간듯한데, 뜯어서 고쳐야지요.\n",
      "그러니 오늘은 걸어서 코로나 화이자 백신 2차 접종을 받으러 갑니다.마스크 쓰고 뚜벅뚜벅...예약한 병원으로 가는길에 오랜만에 로또 한장 샀습니다.\n",
      "어차피 꽝일테니 1천원만... ^^;병원들이 몰려있는 건물의 2층 병원에서 코로나 화이자 백신 2차접종을 예약했습니다.\n",
      "오후 2시 예약입니다.예정시간보다 약간 빠르게 1시 50분경에 도착했더니 불이 꺼져있네요.\n",
      "1차접종때에는 같은 시각에 도착했지만 사람들이 바글바글 거렸는데, 2차접종은 그때보다 사람수도 적어서 병원도 점심시간이라고 불을 꺼놨습니다.대기자가 한명도 없네요.\n",
      "내가 병원에 들어가니까 불을 켜줍니다.\n",
      "1차접종때 맞은 사람들은 다 어디갔길래 2차접종때는 이리 한산하지...역시나 신분증을 지참하고 코로나19 예방접종 예진표를 작성하고 아주 잠시 기다렸습니다.바로 진료실로 들어가서 코로나 화이자 백신 2차 접종을 받았네요.\n",
      "이번에는 스티커는 제대로 붙여주는군요. ^^\n",
      "코로나 화이자 백신 2차접종을 마친다음, 1차접종때처럼 이상반응을 보기 위해서 로비에서 기다려야 하냐고 물어보니까, 2차 접종은 그럴필요 없다고 바로 집에 가도 된다고 하네요.\n",
      "오늘 목욕하지 말고 무리하지 말라고 합니다.\n",
      "집으로 걸어오는 길에 역시나 1차접종때와 마찬가지로 아주 약간의 현기증이 느껴집니다.역시나 1차 접종때와 마찬가지로 2차 접종을 마치고 나니까 질병관리청에서 문자가 왔습니다.\n",
      "2차 접종 완료증명이네요.\n",
      "접종 후 최소 3시간은 안정을 취하고, 내일까지는 무리하지 말라고 합니다.\n",
      "최소 3일간은 특별한 증상이 있는지 관찰하라고 하네요.\n",
      "3일 후에 다시 한번 경과 포스팅을 써야지요.\n",
      "39도 이상의 고열이 발생하거나 두드러기, 알레르기 반응이 나타나면 병원가랍니다.\n",
      "그리고 심근염/심낭염은 신경써서 관찰해야하구요.집에 와서 그냥 안정을 취하고 있었습니다.\n",
      "약한 현기증은 곧 사라진듯 하지만, 두통이 조금 찾아오네요.\n",
      "그리 심하지는 않습니다.안정을 취하라고 하니까 그냥 컴퓨터나 좀 보고, 너프건이나 쏘고, 침대에 누워있고 등등 힘쓰는 일 없이 시간을 보냈습니다.밤에 잘때가 되어도 체온은 정상입니다.\n",
      "접종부위는 처음에는 전혀 아프지 않았지만 잘때쯤 되니까 근육통이 찾아오기 시작했네요.\n",
      "그 역시1차접종때와 동일합니다.\n",
      "보통 mRNA 백신은 1차접종때보다 2차접종때 많이 아프다고 하는데, 제 경우는 접종 첫날은 약간의 두통과 접종부위의 근육통 이외에 특별한 고통도 없고, 활동에 지장도 없는 상태입니다.\n",
      "3일간 경과를 살펴보고 다시 한번 포스팅을 하겠습니다.#화이자백신 #2차접종 #코로나백신\n"
     ]
    }
   ],
   "source": [
    "print(content_list)"
   ]
  }
 ],
 "metadata": {
  "interpreter": {
   "hash": "c270e6328e3db603edbbf92178afe07abc75c12ec50d7594e3b3ea046e4043cd"
  },
  "kernelspec": {
   "display_name": "Python 3.6.13 64-bit ('NLP': conda)",
   "name": "python3"
  },
  "language_info": {
   "codemirror_mode": {
    "name": "ipython",
    "version": 3
   },
   "file_extension": ".py",
   "mimetype": "text/x-python",
   "name": "python",
   "nbconvert_exporter": "python",
   "pygments_lexer": "ipython3",
   "version": "3.6.13"
  },
  "orig_nbformat": 4
 },
 "nbformat": 4,
 "nbformat_minor": 2
}
