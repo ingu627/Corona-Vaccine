{
 "cells": [
  {
   "cell_type": "code",
   "execution_count": 1,
   "metadata": {},
   "outputs": [],
   "source": [
    "import os\n",
    "import sys\n",
    "import urllib.request\n",
    "import requests\n",
    "\n",
    "news_data = []\n",
    "page_count = 100\n",
    "\n",
    "client_id = \"69o6i0JqwgpLM5a5v4NN\"\n",
    "client_secret = \"dFeCQMyNQd\"\n",
    "encText = urllib.parse.quote(\"코로나 백신\")\n",
    "\n",
    "for idx in range(page_count):\n",
    "    # json 결과\n",
    "    url = \"https://openapi.naver.com/v1/search/blog?query=\" + encText + \"&start=\" + str(idx * 10 + 1)\n",
    "    # url = \"https://openapi.naver.com/v1/search/blog.xml?query=\" + encText # xml 결과\n",
    "    request = urllib.request.Request(url)\n",
    "    request.add_header(\"X-Naver-Client-Id\",client_id)\n",
    "    request.add_header(\"X-Naver-Client-Secret\",client_secret)\n",
    "    response = urllib.request.urlopen(request)\n",
    "    rescode = response.getcode()\n",
    "\n",
    "    if(rescode==200):\n",
    "    #    response_body = response.read()\n",
    "        result = requests.get(response.geturl(),\n",
    "                              headers={\"X-Naver-Client-Id\":client_id,\n",
    "                                       \"X-Naver-Client-Secret\":client_secret}\n",
    "                             )\n",
    "        news_data.append(result.json())\n",
    "    #    print(response_body.decode('utf-8'))\n",
    "    else:\n",
    "        print(\"Error Code:\" + rescode)"
   ]
  },
  {
   "cell_type": "code",
   "execution_count": 2,
   "metadata": {},
   "outputs": [
    {
     "name": "stdout",
     "output_type": "stream",
     "text": [
      "100\n"
     ]
    }
   ],
   "source": [
    "#print(news_data)\n",
    "print(len(news_data))\n",
    "#print(news_data[0])\n",
    "#print(news_data[0]['items'])\n",
    "#print(len(news_data[0]['items']))\n",
    "#print(news_data[0]['items'][2])\n",
    "#print(news_data[0]['items'][7]['link'])"
   ]
  },
  {
   "cell_type": "code",
   "execution_count": 3,
   "metadata": {},
   "outputs": [
    {
     "name": "stdout",
     "output_type": "stream",
     "text": [
      "https://blog.naver.com/jjmmee4805?Redirect=Log&logNo=222544031649\n",
      "https://blog.naver.com/yunmisense?Redirect=Log&logNo=222543665910\n",
      "https://blog.naver.com/lucidbreeze7?Redirect=Log&logNo=222550187213\n",
      "https://blog.naver.com/80milk?Redirect=Log&logNo=222542974091\n",
      "https://blog.naver.com/fayefaye79?Redirect=Log&logNo=222519980401\n",
      "https://blog.naver.com/lee700415?Redirect=Log&logNo=222545119456\n",
      "https://blog.naver.com/tsu_star?Redirect=Log&logNo=222500134412\n",
      "https://blog.naver.com/juneyoup1?Redirect=Log&logNo=222536264617\n",
      "https://blog.naver.com/wltjsk12?Redirect=Log&logNo=222549773706\n",
      "https://blog.naver.com/cinemadrea?Redirect=Log&logNo=222530310283\n",
      "https://blog.naver.com/hwgi01?Redirect=Log&logNo=222520817861\n",
      "https://blog.naver.com/digicco?Redirect=Log&logNo=222545955620\n",
      "https://blog.naver.com/army7x?Redirect=Log&logNo=222550622223\n",
      "https://blog.naver.com/haree42?Redirect=Log&logNo=222543367605\n",
      "https://blog.naver.com/1day1study?Redirect=Log&logNo=222550734803\n",
      "https://blog.naver.com/pjj0624?Redirect=Log&logNo=222546584355\n",
      "https://blog.naver.com/vhglglgl?Redirect=Log&logNo=222547724576\n",
      "https://blog.naver.com/goodozone?Redirect=Log&logNo=222548973074\n",
      "https://blog.naver.com/swmjlove012?Redirect=Log&logNo=222550596774\n",
      "https://blog.naver.com/karisma9013?Redirect=Log&logNo=222545333164\n",
      "https://blog.naver.com/lifeitself?Redirect=Log&logNo=222543243690\n",
      "https://blog.naver.com/myungkko?Redirect=Log&logNo=222546616961\n",
      "https://blog.naver.com/jenny_on?Redirect=Log&logNo=222542837669\n",
      "https://blog.naver.com/khn619?Redirect=Log&logNo=222463444045\n",
      "https://blog.naver.com/msent2287?Redirect=Log&logNo=222549327781\n",
      "https://blog.naver.com/enzp0310?Redirect=Log&logNo=222548802488\n",
      "https://blog.naver.com/kueeun?Redirect=Log&logNo=222548039160\n",
      "https://blog.naver.com/cescomembers?Redirect=Log&logNo=222548645049\n",
      "https://blog.naver.com/busan_suyeong?Redirect=Log&logNo=222545779723\n",
      "https://blog.naver.com/crushplayer?Redirect=Log&logNo=222547649055\n",
      "https://blog.naver.com/hwgi01?Redirect=Log&logNo=222496985290\n",
      "https://blog.naver.com/goodozone?Redirect=Log&logNo=222549322096\n",
      "https://blog.naver.com/kangzzz80?Redirect=Log&logNo=222544809403\n",
      "https://blog.naver.com/apple0006175?Redirect=Log&logNo=222539953850\n",
      "https://blog.naver.com/psto1002?Redirect=Log&logNo=222549296064\n",
      "https://blog.naver.com/green557?Redirect=Log&logNo=222519474348\n",
      "https://blog.naver.com/nihaoyoga?Redirect=Log&logNo=222543118692\n",
      "https://blog.naver.com/jenny_on?Redirect=Log&logNo=222547700652\n",
      "https://blog.naver.com/alsrudch?Redirect=Log&logNo=222550546132\n",
      "https://blog.naver.com/kahp_blog?Redirect=Log&logNo=222527055904\n",
      "https://blog.naver.com/ok_hira?Redirect=Log&logNo=222540567359\n",
      "https://blog.naver.com/jijjang77?Redirect=Log&logNo=222488090856\n",
      "https://blog.naver.com/vberryv?Redirect=Log&logNo=222543008657\n",
      "https://blog.naver.com/hwgi01?Redirect=Log&logNo=222535784001\n",
      "https://blog.naver.com/bbekimha?Redirect=Log&logNo=222548694474\n",
      "https://blog.naver.com/joaran_?Redirect=Log&logNo=222544754410\n",
      "https://blog.naver.com/msent2287?Redirect=Log&logNo=222524478441\n",
      "https://blog.naver.com/rihagaqaz?Redirect=Log&logNo=222548097443\n",
      "https://blog.naver.com/1day1study?Redirect=Log&logNo=222530696448\n",
      "https://blog.naver.com/skysora21?Redirect=Log&logNo=222543857159\n",
      "https://blog.naver.com/youn0107?Redirect=Log&logNo=222541435011\n",
      "https://blog.naver.com/mconking?Redirect=Log&logNo=222548958175\n",
      "https://blog.naver.com/plustong?Redirect=Log&logNo=222535711886\n",
      "https://blog.naver.com/dodks?Redirect=Log&logNo=222545896040\n",
      "https://blog.naver.com/tnalhong?Redirect=Log&logNo=222551098675\n",
      "https://blog.naver.com/goodozone?Redirect=Log&logNo=222542955455\n",
      "https://blog.naver.com/hs1004m?Redirect=Log&logNo=222536251639\n",
      "https://blog.naver.com/pul_saem?Redirect=Log&logNo=222529452913\n",
      "https://blog.naver.com/rosemary1009?Redirect=Log&logNo=222550956177\n",
      "https://blog.naver.com/gamjaya09?Redirect=Log&logNo=222551052587\n",
      "https://blog.naver.com/1day1study?Redirect=Log&logNo=222520320508\n",
      "https://blog.naver.com/xianly?Redirect=Log&logNo=222541797710\n",
      "https://blog.naver.com/wingspress?Redirect=Log&logNo=222547664618\n",
      "https://blog.naver.com/zippozip?Redirect=Log&logNo=222534620240\n",
      "https://blog.naver.com/jinguy1981?Redirect=Log&logNo=222542939366\n",
      "https://blog.naver.com/bestladakh?Redirect=Log&logNo=222485056716\n",
      "https://blog.naver.com/nodun?Redirect=Log&logNo=222549246146\n",
      "https://blog.naver.com/splendidly?Redirect=Log&logNo=222535261858\n",
      "https://blog.naver.com/stopthe1?Redirect=Log&logNo=222545040375\n",
      "https://blog.naver.com/sagang17?Redirect=Log&logNo=222546196581\n",
      "https://blog.naver.com/benoben?Redirect=Log&logNo=222546912435\n",
      "https://blog.naver.com/yup0820?Redirect=Log&logNo=222537588900\n",
      "https://blog.naver.com/janepark0921?Redirect=Log&logNo=222542666919\n",
      "https://blog.naver.com/ieeemy0526?Redirect=Log&logNo=222550852696\n",
      "https://blog.naver.com/kahp_blog?Redirect=Log&logNo=222518654413\n",
      "https://blog.naver.com/goodozone?Redirect=Log&logNo=222550302789\n",
      "https://blog.naver.com/realmaman?Redirect=Log&logNo=222547757104\n",
      "https://blog.naver.com/che137?Redirect=Log&logNo=222529631290\n",
      "https://blog.naver.com/dbwl542?Redirect=Log&logNo=222547151874\n",
      "https://blog.naver.com/pcc_751?Redirect=Log&logNo=222533533433\n",
      "https://blog.naver.com/divadance?Redirect=Log&logNo=222537722261\n",
      "https://blog.naver.com/81sukhome?Redirect=Log&logNo=222543721218\n",
      "https://blog.naver.com/winghundred?Redirect=Log&logNo=222547321605\n",
      "https://blog.naver.com/aryun8970?Redirect=Log&logNo=222545176658\n",
      "https://blog.naver.com/tlswnscjf1?Redirect=Log&logNo=222547095647\n",
      "https://blog.naver.com/ky130720?Redirect=Log&logNo=222546441044\n",
      "https://blog.naver.com/1day1study?Redirect=Log&logNo=222485801256\n",
      "https://blog.naver.com/el512?Redirect=Log&logNo=222544111860\n",
      "https://blog.naver.com/goodozone?Redirect=Log&logNo=222533007632\n",
      "https://blog.naver.com/yohandb?Redirect=Log&logNo=222550195441\n",
      "https://blog.naver.com/iamsuki06?Redirect=Log&logNo=222547117464\n",
      "https://blog.naver.com/00bbmo00?Redirect=Log&logNo=222546069631\n",
      "https://blog.naver.com/shinbish?Redirect=Log&logNo=222538816251\n",
      "https://blog.naver.com/goodozone?Redirect=Log&logNo=222546201449\n",
      "https://blog.naver.com/minjae0413?Redirect=Log&logNo=222545293312\n",
      "https://blog.naver.com/sj0602k?Redirect=Log&logNo=222540877275\n",
      "https://blog.naver.com/younacake?Redirect=Log&logNo=222551139035\n",
      "https://blog.naver.com/goodozone?Redirect=Log&logNo=222551132155\n",
      "https://blog.naver.com/calb30095?Redirect=Log&logNo=222551140645\n",
      "https://blog.naver.com/hj_alice?Redirect=Log&logNo=222537110249\n",
      "https://blog.naver.com/conch2232?Redirect=Log&logNo=222526314474\n",
      "https://blog.naver.com/yimji44?Redirect=Log&logNo=222539000222\n",
      "https://blog.naver.com/lee700415?Redirect=Log&logNo=222546541406\n",
      "https://blog.naver.com/ssongae?Redirect=Log&logNo=222544870014\n",
      "https://blog.naver.com/min_ji73?Redirect=Log&logNo=222535067854\n",
      "https://blog.naver.com/ironmask0728?Redirect=Log&logNo=222547526583\n",
      "https://blog.naver.com/iamfrontiet?Redirect=Log&logNo=222503345984\n",
      "https://blog.naver.com/leemoc1008?Redirect=Log&logNo=222548054830\n",
      "https://blog.naver.com/minyun0711?Redirect=Log&logNo=222543702556\n",
      "https://blog.naver.com/everything91?Redirect=Log&logNo=222543333699\n",
      "https://blog.naver.com/jjy_0020?Redirect=Log&logNo=222527881216\n",
      "https://blog.naver.com/songc1247?Redirect=Log&logNo=222446967347\n",
      "https://blog.naver.com/oasisl?Redirect=Log&logNo=222541752846\n",
      "https://blog.naver.com/mlovehot140?Redirect=Log&logNo=222534912061\n",
      "https://blog.naver.com/miaka123?Redirect=Log&logNo=222540785567\n",
      "https://blog.naver.com/teaser1?Redirect=Log&logNo=222544273340\n",
      "https://blog.naver.com/sjloveu2?Redirect=Log&logNo=222486061674\n",
      "https://blog.naver.com/icdie00?Redirect=Log&logNo=222532102037\n",
      "https://blog.naver.com/friedlip?Redirect=Log&logNo=222546836061\n",
      "https://blog.naver.com/goodozone?Redirect=Log&logNo=222542216194\n",
      "https://blog.naver.com/pandora002?Redirect=Log&logNo=222545927314\n",
      "https://blog.naver.com/jini33e?Redirect=Log&logNo=222545271826\n",
      "https://blog.naver.com/h4723671?Redirect=Log&logNo=222536481987\n",
      "https://blog.naver.com/h1205?Redirect=Log&logNo=222539821081\n",
      "https://blog.naver.com/cubjs?Redirect=Log&logNo=222547715627\n",
      "https://blog.naver.com/cocoro323?Redirect=Log&logNo=222539067119\n",
      "https://blog.naver.com/ccyoon72?Redirect=Log&logNo=222540493316\n",
      "https://blog.naver.com/aldus_06?Redirect=Log&logNo=222502496356\n",
      "https://blog.naver.com/bbekimha?Redirect=Log&logNo=222466117138\n",
      "https://blog.naver.com/boring_29?Redirect=Log&logNo=222543708022\n",
      "https://blog.naver.com/ch90486?Redirect=Log&logNo=222517851212\n",
      "https://blog.naver.com/dj_hospital?Redirect=Log&logNo=222537216808\n",
      "https://blog.naver.com/lmhji?Redirect=Log&logNo=222538763967\n",
      "https://blog.naver.com/zmfnwm333?Redirect=Log&logNo=222529197342\n",
      "https://blog.naver.com/truepsh3?Redirect=Log&logNo=222545054177\n",
      "https://blog.naver.com/jajonsim34?Redirect=Log&logNo=222545713641\n",
      "https://blog.naver.com/grandheamur?Redirect=Log&logNo=222454103362\n",
      "https://blog.naver.com/let81?Redirect=Log&logNo=222538222357\n",
      "https://blog.naver.com/chasunghan?Redirect=Log&logNo=222533995158\n",
      "https://blog.naver.com/peace_2000?Redirect=Log&logNo=222528159921\n",
      "https://blog.naver.com/uchinup?Redirect=Log&logNo=222500203842\n",
      "https://blog.naver.com/rainyzoo76?Redirect=Log&logNo=222533057234\n",
      "https://blog.naver.com/jirrya?Redirect=Log&logNo=222539168401\n",
      "https://blog.naver.com/jugangyopo?Redirect=Log&logNo=222508402442\n",
      "https://blog.naver.com/ruluri?Redirect=Log&logNo=222538592499\n",
      "https://blog.naver.com/kiskis9663?Redirect=Log&logNo=222535388359\n",
      "https://blog.naver.com/hamds2qwe?Redirect=Log&logNo=222540855529\n",
      "https://blog.naver.com/1004goods?Redirect=Log&logNo=222417384866\n",
      "https://blog.naver.com/dongi0508?Redirect=Log&logNo=222501163371\n",
      "https://blog.naver.com/415minah?Redirect=Log&logNo=222548713680\n",
      "https://blog.naver.com/gazette7739?Redirect=Log&logNo=222542539551\n",
      "https://blog.naver.com/jmajsm?Redirect=Log&logNo=222495593117\n",
      "https://blog.naver.com/goodozone?Redirect=Log&logNo=222539751017\n",
      "https://blog.naver.com/apple0006175?Redirect=Log&logNo=222540872613\n",
      "https://blog.naver.com/wndnlek?Redirect=Log&logNo=222546469646\n",
      "https://blog.naver.com/dmswude?Redirect=Log&logNo=222505560913\n",
      "https://blog.naver.com/sy900523?Redirect=Log&logNo=222540466288\n",
      "https://blog.naver.com/pcc_751?Redirect=Log&logNo=222535723245\n",
      "https://blog.naver.com/mulin23?Redirect=Log&logNo=222536632146\n",
      "https://blog.naver.com/mind-re?Redirect=Log&logNo=222535644531\n",
      "https://blog.naver.com/goodozone?Redirect=Log&logNo=222544010715\n",
      "https://blog.naver.com/xhahrgirl?Redirect=Log&logNo=222540373304\n",
      "https://blog.naver.com/ohappy3970?Redirect=Log&logNo=222539339955\n",
      "https://blog.naver.com/leesohyun82?Redirect=Log&logNo=222535411484\n",
      "https://blog.naver.com/goodozone?Redirect=Log&logNo=222541540637\n",
      "https://blog.naver.com/peace_2000?Redirect=Log&logNo=222500124051\n",
      "https://blog.naver.com/hjy9981?Redirect=Log&logNo=222540535992\n",
      "https://blog.naver.com/dosol21c?Redirect=Log&logNo=222537363598\n",
      "https://blog.naver.com/bhchang61?Redirect=Log&logNo=222533614501\n",
      "https://blog.naver.com/coffeensalad?Redirect=Log&logNo=222550393644\n",
      "https://blog.naver.com/annmokdong?Redirect=Log&logNo=222545816869\n",
      "https://blog.naver.com/kuku74?Redirect=Log&logNo=222538540249\n",
      "https://blog.naver.com/blass46?Redirect=Log&logNo=222531249189\n",
      "https://blog.naver.com/che137?Redirect=Log&logNo=222476117939\n",
      "https://blog.naver.com/youn0107?Redirect=Log&logNo=222518014108\n",
      "https://blog.naver.com/lih7912?Redirect=Log&logNo=222535440528\n",
      "https://blog.naver.com/mintkiwi24?Redirect=Log&logNo=222532244528\n",
      "https://blog.naver.com/bestladakh?Redirect=Log&logNo=222441639525\n",
      "https://blog.naver.com/jamjma98?Redirect=Log&logNo=222542707446\n",
      "https://blog.naver.com/mord?Redirect=Log&logNo=222537022968\n",
      "https://blog.naver.com/dntjd291?Redirect=Log&logNo=222463447904\n",
      "https://blog.naver.com/nexuss0226?Redirect=Log&logNo=222527732026\n",
      "https://blog.naver.com/ch90486?Redirect=Log&logNo=222517103435\n",
      "https://blog.naver.com/xxxxhotxxxx?Redirect=Log&logNo=222536285856\n",
      "https://blog.naver.com/hurkle97?Redirect=Log&logNo=222514073973\n",
      "https://blog.naver.com/jmajsm?Redirect=Log&logNo=222532454493\n",
      "https://blog.naver.com/alswl09100?Redirect=Log&logNo=222451174186\n",
      "https://blog.naver.com/cherrypuddin?Redirect=Log&logNo=222502192928\n",
      "https://blog.naver.com/hoppangcat?Redirect=Log&logNo=222536152770\n",
      "https://blog.naver.com/jylhee0704?Redirect=Log&logNo=222524088324\n",
      "https://blog.naver.com/hyouncho2?Redirect=Log&logNo=222486552399\n",
      "https://blog.naver.com/8olive?Redirect=Log&logNo=222551036855\n",
      "https://blog.naver.com/jakojako?Redirect=Log&logNo=222492635560\n",
      "https://blog.naver.com/sbc1309?Redirect=Log&logNo=222536020525\n",
      "https://blog.naver.com/goodozone?Redirect=Log&logNo=222539592100\n",
      "https://blog.naver.com/genie112?Redirect=Log&logNo=222524233971\n",
      "https://blog.naver.com/flower158?Redirect=Log&logNo=222523124715\n",
      "https://blog.naver.com/younalove2?Redirect=Log&logNo=222471484063\n",
      "https://blog.naver.com/ping0077?Redirect=Log&logNo=222527068255\n",
      "https://blog.naver.com/jungwon5173?Redirect=Log&logNo=222536054677\n",
      "https://blog.naver.com/ayr0609?Redirect=Log&logNo=222530549668\n",
      "https://blog.naver.com/sincelover01?Redirect=Log&logNo=222528400284\n",
      "https://blog.naver.com/dajo815?Redirect=Log&logNo=222537319188\n",
      "https://blog.naver.com/sawnea?Redirect=Log&logNo=222539496932\n",
      "https://blog.naver.com/jangmi5474?Redirect=Log&logNo=222533873935\n",
      "https://blog.naver.com/bbogle0518?Redirect=Log&logNo=222530148787\n",
      "https://blog.naver.com/hanjhee?Redirect=Log&logNo=222527052939\n",
      "https://blog.naver.com/wldus318?Redirect=Log&logNo=222521033873\n",
      "https://blog.naver.com/goodozone?Redirect=Log&logNo=222537083948\n",
      "https://blog.naver.com/sunmyk1?Redirect=Log&logNo=222540352847\n",
      "https://blog.naver.com/weepingcloud?Redirect=Log&logNo=222534717945\n",
      "https://blog.naver.com/conch2232?Redirect=Log&logNo=222489335322\n",
      "https://blog.naver.com/cuijs168?Redirect=Log&logNo=222532973422\n",
      "https://blog.naver.com/heyloveyou19?Redirect=Log&logNo=222523322002\n",
      "https://blog.naver.com/pcc_751?Redirect=Log&logNo=222533505134\n",
      "https://blog.naver.com/g9bonyam?Redirect=Log&logNo=222521881844\n",
      "https://blog.naver.com/notsilly?Redirect=Log&logNo=222538919014\n",
      "https://blog.naver.com/goodozone?Redirect=Log&logNo=222537485262\n",
      "https://blog.naver.com/hs1004m?Redirect=Log&logNo=222504419246\n",
      "https://blog.naver.com/gimpo2010?Redirect=Log&logNo=222522452522\n",
      "https://blog.naver.com/sjban0126?Redirect=Log&logNo=222540949395\n",
      "https://blog.naver.com/stu1985?Redirect=Log&logNo=222517754458\n",
      "https://blog.naver.com/hackiss?Redirect=Log&logNo=222498283877\n",
      "https://blog.naver.com/seo8587?Redirect=Log&logNo=222541735012\n",
      "https://blog.naver.com/jhair0922?Redirect=Log&logNo=222501358091\n",
      "https://blog.naver.com/l_vsoft?Redirect=Log&logNo=222524267905\n",
      "https://blog.naver.com/cinemadrea?Redirect=Log&logNo=222523296228\n",
      "https://blog.naver.com/yimin3181?Redirect=Log&logNo=222363474471\n",
      "https://blog.naver.com/younacake?Redirect=Log&logNo=222524220189\n",
      "https://blog.naver.com/kbsavingsbk?Redirect=Log&logNo=222541407517\n",
      "https://blog.naver.com/byunhj213?Redirect=Log&logNo=222515214706\n",
      "https://blog.naver.com/choine7?Redirect=Log&logNo=222516289653\n",
      "https://blog.naver.com/thd7023?Redirect=Log&logNo=222484953609\n",
      "https://blog.naver.com/allision77?Redirect=Log&logNo=222541483521\n",
      "https://blog.naver.com/tjwdrud2573?Redirect=Log&logNo=222536529476\n",
      "https://blog.naver.com/ls5858?Redirect=Log&logNo=222542100531\n",
      "https://blog.naver.com/dreamsjj?Redirect=Log&logNo=222509165026\n",
      "https://blog.naver.com/vicky327?Redirect=Log&logNo=222529916204\n",
      "https://blog.naver.com/dancemap?Redirect=Log&logNo=222469865312\n",
      "https://blog.naver.com/rirurang?Redirect=Log&logNo=222518447943\n",
      "https://blog.naver.com/milky016?Redirect=Log&logNo=222528552579\n",
      "https://blog.naver.com/yunmi999?Redirect=Log&logNo=222541334550\n",
      "https://blog.naver.com/ariel0421?Redirect=Log&logNo=222543131491\n",
      "https://blog.naver.com/jamjma98?Redirect=Log&logNo=222538725358\n",
      "https://blog.naver.com/kimmw90?Redirect=Log&logNo=222498285749\n",
      "https://blog.naver.com/nhicblog?Redirect=Log&logNo=222459392582\n",
      "https://blog.naver.com/sweetservant?Redirect=Log&logNo=222519913256\n",
      "https://blog.naver.com/jinick77?Redirect=Log&logNo=222534816605\n",
      "https://blog.naver.com/ttmam2?Redirect=Log&logNo=222529583746\n",
      "https://blog.naver.com/51jm?Redirect=Log&logNo=222516265477\n",
      "https://blog.naver.com/dhl_korea?Redirect=Log&logNo=222533337256\n",
      "https://blog.naver.com/yj5543?Redirect=Log&logNo=222530177195\n",
      "https://blog.naver.com/soslove4?Redirect=Log&logNo=222544037629\n",
      "https://blog.naver.com/soojinkim043?Redirect=Log&logNo=222545629696\n",
      "https://blog.naver.com/tlswnscjf1?Redirect=Log&logNo=222535984381\n",
      "https://blog.naver.com/es00681221?Redirect=Log&logNo=222513398727\n",
      "https://blog.naver.com/hyne81?Redirect=Log&logNo=222539418310\n",
      "https://blog.naver.com/yoonjaezzz?Redirect=Log&logNo=222534855401\n",
      "https://blog.naver.com/8full?Redirect=Log&logNo=222524646500\n",
      "https://blog.naver.com/thro4321?Redirect=Log&logNo=222536430313\n",
      "https://blog.naver.com/sea__memory?Redirect=Log&logNo=222531885243\n",
      "https://blog.naver.com/green557?Redirect=Log&logNo=222416502640\n",
      "https://blog.naver.com/ss_30?Redirect=Log&logNo=222464271158\n",
      "https://blog.naver.com/dysnomia?Redirect=Log&logNo=222540567418\n",
      "https://blog.naver.com/deusos?Redirect=Log&logNo=222521999069\n",
      "https://blog.naver.com/peace_2000?Redirect=Log&logNo=222525724249\n",
      "https://blog.naver.com/112611heart?Redirect=Log&logNo=222523957806\n",
      "https://blog.naver.com/uock?Redirect=Log&logNo=222523401409\n",
      "https://blog.naver.com/kbsavingsbk?Redirect=Log&logNo=222534424852\n",
      "https://blog.naver.com/godbelove?Redirect=Log&logNo=222546991570\n",
      "https://blog.naver.com/yeji4152?Redirect=Log&logNo=222515402536\n",
      "https://blog.naver.com/ssleesslee7?Redirect=Log&logNo=222538626295\n",
      "https://blog.naver.com/jenny_on?Redirect=Log&logNo=222540778218\n",
      "https://blog.naver.com/yeongaeng2?Redirect=Log&logNo=222526393825\n",
      "https://blog.naver.com/goodozone?Redirect=Log&logNo=222535998520\n",
      "https://blog.naver.com/8full?Redirect=Log&logNo=222520003259\n",
      "https://blog.naver.com/leehaksoon?Redirect=Log&logNo=222522862626\n",
      "https://blog.naver.com/ssaemee91?Redirect=Log&logNo=222516816937\n",
      "https://blog.naver.com/chn0514?Redirect=Log&logNo=222524953870\n",
      "https://blog.naver.com/reenaday?Redirect=Log&logNo=222510208722\n",
      "https://blog.naver.com/choikr82?Redirect=Log&logNo=222544992001\n",
      "https://blog.naver.com/dgyoon1004?Redirect=Log&logNo=222530815377\n",
      "https://blog.naver.com/kornicglory12?Redirect=Log&logNo=222499395934\n",
      "https://blog.naver.com/1day1study?Redirect=Log&logNo=222479835059\n",
      "https://blog.naver.com/120seoulcall?Redirect=Log&logNo=222534403477\n",
      "https://blog.naver.com/kida02?Redirect=Log&logNo=222525071447\n",
      "https://blog.naver.com/cjy1444?Redirect=Log&logNo=222515800508\n",
      "https://blog.naver.com/es00681221?Redirect=Log&logNo=222535911051\n",
      "https://blog.naver.com/paulandme?Redirect=Log&logNo=222541194968\n",
      "https://blog.naver.com/maengjazim?Redirect=Log&logNo=222533002359\n",
      "https://blog.naver.com/sorehead?Redirect=Log&logNo=222541223282\n",
      "https://blog.naver.com/namaste236?Redirect=Log&logNo=222537875581\n",
      "https://blog.naver.com/ssung8998?Redirect=Log&logNo=222515498428\n",
      "https://blog.naver.com/es00681221?Redirect=Log&logNo=222459525892\n",
      "https://blog.naver.com/finemj2?Redirect=Log&logNo=222536155250\n",
      "https://blog.naver.com/dr_heart?Redirect=Log&logNo=222510944700\n",
      "https://blog.naver.com/canonkoreabs?Redirect=Log&logNo=222504396539\n",
      "https://blog.naver.com/agahyaa1004?Redirect=Log&logNo=222539466260\n",
      "https://blog.naver.com/atssa60?Redirect=Log&logNo=222456333429\n",
      "https://blog.naver.com/wolf9717?Redirect=Log&logNo=222471582497\n",
      "https://blog.naver.com/mammamiano1?Redirect=Log&logNo=222529779614\n",
      "https://blog.naver.com/junioryj?Redirect=Log&logNo=222508888175\n",
      "https://blog.naver.com/hansdaisy?Redirect=Log&logNo=222497248930\n",
      "https://blog.naver.com/dbrud124?Redirect=Log&logNo=222542494338\n",
      "https://blog.naver.com/lovetjsgnl?Redirect=Log&logNo=222442487518\n",
      "https://blog.naver.com/tina7780?Redirect=Log&logNo=222509961789\n",
      "https://blog.naver.com/ponciano?Redirect=Log&logNo=222550086697\n",
      "https://blog.naver.com/sjmcdib1?Redirect=Log&logNo=222533017063\n",
      "https://blog.naver.com/tmddkg?Redirect=Log&logNo=222512168492\n",
      "https://blog.naver.com/wolf9717?Redirect=Log&logNo=222549820141\n",
      "https://blog.naver.com/ironmask0728?Redirect=Log&logNo=222540393304\n",
      "https://blog.naver.com/shin3202?Redirect=Log&logNo=222531847182\n",
      "https://blog.naver.com/divadance?Redirect=Log&logNo=222385755319\n",
      "https://blog.naver.com/omg0521?Redirect=Log&logNo=222475908354\n",
      "https://blog.naver.com/thehyebong?Redirect=Log&logNo=222492574751\n",
      "https://blog.naver.com/leffebrown?Redirect=Log&logNo=222529653841\n",
      "https://blog.naver.com/wolf9717?Redirect=Log&logNo=222536737452\n",
      "https://blog.naver.com/worlbe?Redirect=Log&logNo=222514068372\n",
      "https://blog.naver.com/andy_yu?Redirect=Log&logNo=222537378319\n",
      "https://blog.naver.com/nerve2016?Redirect=Log&logNo=222518967712\n",
      "https://blog.naver.com/goodozone?Redirect=Log&logNo=222543744687\n",
      "https://blog.naver.com/getout11?Redirect=Log&logNo=222522427527\n",
      "https://blog.naver.com/jd5653?Redirect=Log&logNo=222526142583\n",
      "https://blog.naver.com/cescomembers?Redirect=Log&logNo=222535573107\n",
      "https://blog.naver.com/pinkaki84?Redirect=Log&logNo=222485950625\n",
      "https://blog.naver.com/peace_2000?Redirect=Log&logNo=222477458276\n",
      "https://blog.naver.com/anfakdch210?Redirect=Log&logNo=222464708550\n",
      "https://blog.naver.com/roomy81?Redirect=Log&logNo=222530080651\n",
      "https://blog.naver.com/confites?Redirect=Log&logNo=222531847430\n",
      "https://blog.naver.com/bubblegumpoo?Redirect=Log&logNo=222492559746\n",
      "https://blog.naver.com/leemoc1008?Redirect=Log&logNo=222521351999\n",
      "https://blog.naver.com/gonman2k?Redirect=Log&logNo=222532802274\n",
      "https://blog.naver.com/jowonpil8812?Redirect=Log&logNo=222515906996\n",
      "https://blog.naver.com/vitafullife?Redirect=Log&logNo=222520374218\n",
      "https://blog.naver.com/jkr1231?Redirect=Log&logNo=222529876163\n",
      "https://blog.naver.com/leehaksoon?Redirect=Log&logNo=222527155807\n",
      "https://blog.naver.com/bora912?Redirect=Log&logNo=222529421670\n",
      "https://blog.naver.com/barbisuhe?Redirect=Log&logNo=222525098001\n",
      "https://blog.naver.com/lovely1720?Redirect=Log&logNo=222472691915\n",
      "https://blog.naver.com/aaofur?Redirect=Log&logNo=222528783652\n",
      "https://blog.naver.com/ijtchoe?Redirect=Log&logNo=222542789342\n",
      "https://blog.naver.com/kihoon51?Redirect=Log&logNo=222532974494\n",
      "https://blog.naver.com/ping0077?Redirect=Log&logNo=222523440467\n",
      "https://blog.naver.com/bbuingbaby?Redirect=Log&logNo=222533413214\n",
      "https://blog.naver.com/wngml2943?Redirect=Log&logNo=222530717123\n",
      "https://blog.naver.com/meaning87?Redirect=Log&logNo=222489434935\n",
      "https://blog.naver.com/saewooggang5?Redirect=Log&logNo=222544703034\n",
      "https://blog.naver.com/geum8080?Redirect=Log&logNo=222515885363\n",
      "https://blog.naver.com/anys0428?Redirect=Log&logNo=222535605978\n",
      "https://blog.naver.com/jenny_on?Redirect=Log&logNo=222534563515\n",
      "https://blog.naver.com/realkc?Redirect=Log&logNo=222521313119\n",
      "https://blog.naver.com/hwgi01?Redirect=Log&logNo=222456797389\n",
      "https://blog.naver.com/yuya_12?Redirect=Log&logNo=222533144092\n",
      "https://blog.naver.com/peace_2000?Redirect=Log&logNo=222476129266\n",
      "https://blog.naver.com/claire214?Redirect=Log&logNo=222545976234\n",
      "https://blog.naver.com/goodozone?Redirect=Log&logNo=222532762936\n",
      "https://blog.naver.com/dpsystem?Redirect=Log&logNo=222478936963\n",
      "https://blog.naver.com/fever0324?Redirect=Log&logNo=222534954785\n",
      "https://blog.naver.com/frankia?Redirect=Log&logNo=222520338121\n",
      "https://blog.naver.com/zenyoga01?Redirect=Log&logNo=222523154875\n",
      "https://blog.naver.com/ambidext?Redirect=Log&logNo=222508592148\n",
      "https://blog.naver.com/dai1123?Redirect=Log&logNo=222534093100\n",
      "https://blog.naver.com/rosasa?Redirect=Log&logNo=222525080679\n",
      "https://blog.naver.com/ok4rang?Redirect=Log&logNo=222481948569\n",
      "https://blog.naver.com/matilda0222?Redirect=Log&logNo=222522021349\n",
      "https://blog.naver.com/cutemink?Redirect=Log&logNo=222520533955\n",
      "https://blog.naver.com/sea_captain?Redirect=Log&logNo=222506733113\n",
      "https://blog.naver.com/jamdoong?Redirect=Log&logNo=222456576298\n",
      "https://blog.naver.com/j2ymoon?Redirect=Log&logNo=222528387703\n",
      "https://blog.naver.com/bobbob1999?Redirect=Log&logNo=222533079898\n",
      "https://blog.naver.com/photo_ij?Redirect=Log&logNo=222523297106\n",
      "https://blog.naver.com/jungma51?Redirect=Log&logNo=222534022821\n",
      "https://blog.naver.com/trickofblood?Redirect=Log&logNo=222545674893\n",
      "https://blog.naver.com/blanche15?Redirect=Log&logNo=222508810324\n",
      "https://blog.naver.com/pinkyayaya?Redirect=Log&logNo=222532917773\n",
      "https://blog.naver.com/mitao685?Redirect=Log&logNo=222468139291\n",
      "https://blog.naver.com/mihwaaa?Redirect=Log&logNo=222531174725\n",
      "https://blog.naver.com/goodozone?Redirect=Log&logNo=222542578775\n",
      "https://blog.naver.com/8olive?Redirect=Log&logNo=222551000518\n",
      "https://blog.naver.com/eotaiji?Redirect=Log&logNo=222536938175\n",
      "https://blog.naver.com/poiuy1024?Redirect=Log&logNo=222527435360\n",
      "https://blog.naver.com/tokyomari?Redirect=Log&logNo=222532736229\n",
      "https://blog.naver.com/sj90980413?Redirect=Log&logNo=222519954418\n",
      "https://blog.naver.com/holyspirit11?Redirect=Log&logNo=222519961110\n",
      "https://blog.naver.com/goodozone?Redirect=Log&logNo=222532168181\n",
      "https://blog.naver.com/sinhyhj?Redirect=Log&logNo=222536721316\n",
      "https://blog.naver.com/baby100100?Redirect=Log&logNo=222510135623\n",
      "https://blog.naver.com/shbae3521?Redirect=Log&logNo=222506808397\n",
      "https://blog.naver.com/rokiandjin?Redirect=Log&logNo=222515135250\n",
      "https://blog.naver.com/mrs_english?Redirect=Log&logNo=222523645782\n",
      "https://blog.naver.com/dudbtodghkf?Redirect=Log&logNo=222513991329\n",
      "https://blog.naver.com/chagroup?Redirect=Log&logNo=222455277045\n",
      "https://blog.naver.com/sung_nae?Redirect=Log&logNo=222518160847\n",
      "https://blog.naver.com/t_t2014?Redirect=Log&logNo=222507820217\n",
      "https://blog.naver.com/starkys?Redirect=Log&logNo=222523363483\n",
      "https://blog.naver.com/unilove012?Redirect=Log&logNo=222503503262\n",
      "https://blog.naver.com/minji8635?Redirect=Log&logNo=222509350946\n",
      "https://blog.naver.com/digmon2001?Redirect=Log&logNo=222516790139\n",
      "https://blog.naver.com/xhsltjsdud?Redirect=Log&logNo=222506972432\n",
      "https://blog.naver.com/cebuhopping?Redirect=Log&logNo=222526564736\n",
      "https://blog.naver.com/beads0719?Redirect=Log&logNo=222523507121\n",
      "https://blog.naver.com/noeniss?Redirect=Log&logNo=222463939219\n",
      "https://blog.naver.com/goodozone?Redirect=Log&logNo=222527708272\n",
      "https://blog.naver.com/goodozone?Redirect=Log&logNo=222539395818\n",
      "https://blog.naver.com/my_roses89?Redirect=Log&logNo=222510286347\n",
      "https://blog.naver.com/saraminapp?Redirect=Log&logNo=222504368282\n",
      "https://blog.naver.com/skipkkang?Redirect=Log&logNo=222518767280\n",
      "https://blog.naver.com/kahp_blog?Redirect=Log&logNo=222453956524\n",
      "https://blog.naver.com/ing1177?Redirect=Log&logNo=222539687846\n",
      "https://blog.naver.com/tnwl1445?Redirect=Log&logNo=222535645005\n",
      "https://blog.naver.com/dearsgackt?Redirect=Log&logNo=222516236521\n",
      "https://blog.naver.com/es00681221?Redirect=Log&logNo=222496854034\n",
      "https://blog.naver.com/kujaka?Redirect=Log&logNo=222529860588\n",
      "https://blog.naver.com/cumbarm?Redirect=Log&logNo=222532662655\n",
      "https://blog.naver.com/ddduuu12?Redirect=Log&logNo=222506591364\n",
      "https://blog.naver.com/vfuvslovev?Redirect=Log&logNo=222521647091\n",
      "https://blog.naver.com/jaemyunglee?Redirect=Log&logNo=222546472478\n",
      "https://blog.naver.com/bestladakh?Redirect=Log&logNo=222495981005\n",
      "https://blog.naver.com/rhdnsqlc12?Redirect=Log&logNo=222539582264\n",
      "https://blog.naver.com/hyghhu?Redirect=Log&logNo=222492699502\n",
      "https://blog.naver.com/jinguy1981?Redirect=Log&logNo=222533725614\n",
      "https://blog.naver.com/lunarei?Redirect=Log&logNo=222537173025\n",
      "https://blog.naver.com/pamicusq?Redirect=Log&logNo=222537955071\n",
      "https://blog.naver.com/jungsuni03?Redirect=Log&logNo=222530407505\n",
      "https://blog.naver.com/a_soul214?Redirect=Log&logNo=222546888157\n",
      "https://blog.naver.com/vietnamjang1?Redirect=Log&logNo=222502599402\n",
      "https://blog.naver.com/ej01124?Redirect=Log&logNo=222510230674\n",
      "https://blog.naver.com/theuhakus?Redirect=Log&logNo=222528873441\n",
      "https://blog.naver.com/my3596?Redirect=Log&logNo=222527149204\n",
      "https://blog.naver.com/cosreader?Redirect=Log&logNo=222523520369\n",
      "https://blog.naver.com/letsgoyang?Redirect=Log&logNo=222546988577\n",
      "https://blog.naver.com/gusojoa?Redirect=Log&logNo=222542298399\n",
      "https://blog.naver.com/gudgh301?Redirect=Log&logNo=222518109825\n",
      "https://blog.naver.com/bubsakhan?Redirect=Log&logNo=222488594179\n",
      "https://blog.naver.com/alth2214?Redirect=Log&logNo=222436868609\n",
      "https://blog.naver.com/mystarway?Redirect=Log&logNo=222526754650\n",
      "https://blog.naver.com/rain1052?Redirect=Log&logNo=222523706165\n",
      "https://blog.naver.com/hkyoung68?Redirect=Log&logNo=222517721107\n",
      "https://blog.naver.com/ojepower_a?Redirect=Log&logNo=222527451200\n",
      "https://blog.naver.com/yyssw_?Redirect=Log&logNo=222518247350\n",
      "https://blog.naver.com/zzingi70_1?Redirect=Log&logNo=222514739456\n",
      "https://blog.naver.com/samadi69?Redirect=Log&logNo=222532245499\n",
      "https://blog.naver.com/kida02?Redirect=Log&logNo=222518123096\n",
      "https://blog.naver.com/zzingi70_1?Redirect=Log&logNo=222533508895\n",
      "https://blog.naver.com/oliviaaiden?Redirect=Log&logNo=222522366211\n",
      "https://blog.naver.com/36_univ?Redirect=Log&logNo=222522879334\n",
      "https://blog.naver.com/mrchosh03?Redirect=Log&logNo=222505849521\n",
      "https://blog.naver.com/invuwillis?Redirect=Log&logNo=222525990863\n",
      "https://blog.naver.com/judylady?Redirect=Log&logNo=222546554294\n",
      "https://blog.naver.com/lee700415?Redirect=Log&logNo=222472743407\n",
      "https://blog.naver.com/elen_80?Redirect=Log&logNo=222521970369\n",
      "https://blog.naver.com/lee700415?Redirect=Log&logNo=222519935802\n",
      "https://blog.naver.com/5862862?Redirect=Log&logNo=222516537656\n",
      "https://blog.naver.com/esolution24?Redirect=Log&logNo=222518688850\n",
      "https://blog.naver.com/divadance?Redirect=Log&logNo=222472272891\n",
      "https://blog.naver.com/alphabono?Redirect=Log&logNo=222519879633\n",
      "https://blog.naver.com/istanbulnisa?Redirect=Log&logNo=222519540811\n",
      "https://blog.naver.com/shinegirl05?Redirect=Log&logNo=222490512146\n",
      "https://blog.naver.com/placidsun?Redirect=Log&logNo=222520783622\n",
      "https://blog.naver.com/dkswnsdbd?Redirect=Log&logNo=222513778540\n",
      "https://blog.naver.com/pica8205?Redirect=Log&logNo=222532772614\n",
      "https://blog.naver.com/nababohaha?Redirect=Log&logNo=222545310160\n",
      "https://blog.naver.com/mdkmd?Redirect=Log&logNo=222536198795\n",
      "https://blog.naver.com/shh0122?Redirect=Log&logNo=222499181058\n",
      "https://blog.naver.com/peace_2000?Redirect=Log&logNo=222504632119\n",
      "https://blog.naver.com/1978mm?Redirect=Log&logNo=222400567531\n",
      "https://blog.naver.com/mel1778?Redirect=Log&logNo=222542977082\n",
      "https://blog.naver.com/phn1253?Redirect=Log&logNo=222532091662\n",
      "https://blog.naver.com/bestladakh?Redirect=Log&logNo=222410923308\n",
      "https://blog.naver.com/ykikiband?Redirect=Log&logNo=222528309622\n",
      "https://blog.naver.com/5wallharu?Redirect=Log&logNo=222532145867\n",
      "https://blog.naver.com/gonman2k?Redirect=Log&logNo=222517736046\n",
      "https://blog.naver.com/akmirror?Redirect=Log&logNo=222540422847\n",
      "https://blog.naver.com/babuqkqn?Redirect=Log&logNo=222465431427\n",
      "https://blog.naver.com/jjodajdy?Redirect=Log&logNo=222509360609\n",
      "https://blog.naver.com/jamjma98?Redirect=Log&logNo=222527352102\n",
      "https://blog.naver.com/euack1?Redirect=Log&logNo=222517286705\n",
      "https://blog.naver.com/jalsh0527?Redirect=Log&logNo=222529117598\n",
      "https://blog.naver.com/goodozone?Redirect=Log&logNo=222533051389\n",
      "https://blog.naver.com/dnjfaudwhrud?Redirect=Log&logNo=222529388435\n",
      "https://blog.naver.com/englishwork?Redirect=Log&logNo=222517962546\n",
      "https://blog.naver.com/sonyloves?Redirect=Log&logNo=222541061992\n",
      "https://blog.naver.com/photoshj76?Redirect=Log&logNo=222512737311\n",
      "https://blog.naver.com/kkm5879?Redirect=Log&logNo=222523003924\n",
      "https://blog.naver.com/namyaeeun?Redirect=Log&logNo=222516511920\n",
      "https://blog.naver.com/aamy78?Redirect=Log&logNo=222547845111\n",
      "https://blog.naver.com/nahtrang?Redirect=Log&logNo=222527990985\n",
      "https://blog.naver.com/siherdet?Redirect=Log&logNo=222522435087\n",
      "https://blog.naver.com/wjswogh61?Redirect=Log&logNo=222550882607\n",
      "https://blog.naver.com/peace_2000?Redirect=Log&logNo=222539718213\n",
      "https://blog.naver.com/sweetbaby89?Redirect=Log&logNo=222532102606\n",
      "https://blog.naver.com/aggyu?Redirect=Log&logNo=222534795292\n",
      "https://blog.naver.com/7daffodils_?Redirect=Log&logNo=222324315114\n",
      "https://blog.naver.com/love040735?Redirect=Log&logNo=222524890984\n",
      "https://blog.naver.com/rosemary1009?Redirect=Log&logNo=222549240801\n",
      "https://blog.naver.com/goodozone?Redirect=Log&logNo=222527623927\n",
      "https://blog.naver.com/hyh8061?Redirect=Log&logNo=222517469739\n",
      "https://blog.naver.com/jamdoong?Redirect=Log&logNo=222473125641\n",
      "https://blog.naver.com/uriguslelove?Redirect=Log&logNo=222549913689\n",
      "https://blog.naver.com/cebuhopping?Redirect=Log&logNo=222528533054\n",
      "https://blog.naver.com/koip?Redirect=Log&logNo=222491126785\n",
      "https://blog.naver.com/minawoman?Redirect=Log&logNo=222544760775\n",
      "https://blog.naver.com/goodozone?Redirect=Log&logNo=222510461694\n",
      "https://blog.naver.com/ljg7704?Redirect=Log&logNo=222529916984\n",
      "https://blog.naver.com/sdyeon89?Redirect=Log&logNo=222513151642\n",
      "https://blog.naver.com/theonebook?Redirect=Log&logNo=222518873411\n",
      "https://blog.naver.com/goodozone?Redirect=Log&logNo=222524620671\n",
      "https://blog.naver.com/kyh070181?Redirect=Log&logNo=222542855983\n",
      "https://blog.naver.com/mygguli?Redirect=Log&logNo=222540009604\n",
      "https://blog.naver.com/jswseungwoo?Redirect=Log&logNo=222524153531\n",
      "https://blog.naver.com/djdonggu?Redirect=Log&logNo=222536681349\n",
      "https://blog.naver.com/hyorin0ju?Redirect=Log&logNo=222523183949\n",
      "https://blog.naver.com/pvcwpc?Redirect=Log&logNo=222524351503\n",
      "https://blog.naver.com/yukine0131?Redirect=Log&logNo=222516431115\n",
      "https://blog.naver.com/madykya?Redirect=Log&logNo=222468660052\n",
      "https://blog.naver.com/1818eh?Redirect=Log&logNo=222518342376\n",
      "https://blog.naver.com/rec1820?Redirect=Log&logNo=222477955522\n",
      "https://blog.naver.com/suk1248?Redirect=Log&logNo=222516629872\n",
      "https://blog.naver.com/gmltjs0315?Redirect=Log&logNo=222507059497\n",
      "https://blog.naver.com/yanis03?Redirect=Log&logNo=222529763976\n",
      "https://blog.naver.com/sokkomiu?Redirect=Log&logNo=222502419130\n",
      "https://blog.naver.com/daji1?Redirect=Log&logNo=222522887942\n",
      "https://blog.naver.com/icdie00?Redirect=Log&logNo=222503640975\n",
      "https://blog.naver.com/minawoman?Redirect=Log&logNo=222538733185\n",
      "https://blog.naver.com/ghj8811?Redirect=Log&logNo=222511202336\n",
      "https://blog.naver.com/qtwonny?Redirect=Log&logNo=222509116381\n",
      "https://blog.naver.com/sweetpurin?Redirect=Log&logNo=222501964168\n",
      "https://blog.naver.com/cosby501?Redirect=Log&logNo=222466714654\n",
      "https://blog.naver.com/minhoha?Redirect=Log&logNo=222520045967\n",
      "https://blog.naver.com/lsbking7?Redirect=Log&logNo=222515055814\n",
      "https://blog.naver.com/mikison96?Redirect=Log&logNo=222507078539\n",
      "https://blog.naver.com/monthlynavi?Redirect=Log&logNo=222530773378\n",
      "https://blog.naver.com/jini33e?Redirect=Log&logNo=222509359173\n",
      "https://blog.naver.com/joojoo5623?Redirect=Log&logNo=222527117197\n",
      "https://blog.naver.com/kehkhk?Redirect=Log&logNo=222521898764\n",
      "https://blog.naver.com/evan_t?Redirect=Log&logNo=222520781558\n",
      "https://blog.naver.com/lehymc?Redirect=Log&logNo=222527905196\n",
      "https://blog.naver.com/sinchoi82?Redirect=Log&logNo=222521833604\n",
      "https://blog.naver.com/suk1248?Redirect=Log&logNo=222517297346\n",
      "https://blog.naver.com/conch2232?Redirect=Log&logNo=222531165639\n",
      "https://blog.naver.com/binnaden?Redirect=Log&logNo=222487105955\n",
      "https://blog.naver.com/bbyan?Redirect=Log&logNo=222521923802\n",
      "https://blog.naver.com/jh_u9210?Redirect=Log&logNo=222474164773\n",
      "https://blog.naver.com/fsh1329?Redirect=Log&logNo=222529144201\n",
      "https://blog.naver.com/shinuk?Redirect=Log&logNo=222501595482\n",
      "https://blog.naver.com/okbest123?Redirect=Log&logNo=222501375199\n",
      "https://blog.naver.com/joraraaa?Redirect=Log&logNo=222429568405\n",
      "https://blog.naver.com/nabsoap?Redirect=Log&logNo=222524184841\n",
      "https://blog.naver.com/ms_sweetgirl?Redirect=Log&logNo=222518228838\n",
      "https://blog.naver.com/anaisna?Redirect=Log&logNo=222419727312\n",
      "https://blog.naver.com/perry518?Redirect=Log&logNo=222521034898\n",
      "https://blog.naver.com/effy0424?Redirect=Log&logNo=222514302699\n",
      "https://blog.naver.com/peony_blossom?Redirect=Log&logNo=222504331714\n",
      "https://blog.naver.com/jinah3820?Redirect=Log&logNo=222520228650\n",
      "https://blog.naver.com/waitme84?Redirect=Log&logNo=222531238149\n",
      "https://blog.naver.com/matilda0222?Redirect=Log&logNo=222492340498\n",
      "https://blog.naver.com/fitnessmsm03?Redirect=Log&logNo=222523867583\n",
      "https://blog.naver.com/chos1793?Redirect=Log&logNo=222549856045\n",
      "https://blog.naver.com/jgs51004?Redirect=Log&logNo=222517635022\n",
      "https://blog.naver.com/chungha66?Redirect=Log&logNo=222523727203\n",
      "https://blog.naver.com/phjhyyj?Redirect=Log&logNo=222439954017\n",
      "https://blog.naver.com/melbourne070?Redirect=Log&logNo=222541715732\n",
      "https://blog.naver.com/guitarjeus?Redirect=Log&logNo=222523704792\n",
      "https://blog.naver.com/eb_o_?Redirect=Log&logNo=222526150550\n",
      "https://blog.naver.com/stopthe1?Redirect=Log&logNo=222506759670\n",
      "https://blog.naver.com/gwdoraeyo?Redirect=Log&logNo=222530786887\n",
      "https://blog.naver.com/dkdkpad?Redirect=Log&logNo=222450753683\n",
      "https://blog.naver.com/coolgustnr?Redirect=Log&logNo=222538258126\n",
      "https://blog.naver.com/camizo?Redirect=Log&logNo=222496801860\n",
      "https://blog.naver.com/samadi69?Redirect=Log&logNo=222517376743\n",
      "https://blog.naver.com/musemuse70?Redirect=Log&logNo=222526416824\n",
      "https://blog.naver.com/koeunaha?Redirect=Log&logNo=222521827017\n",
      "https://blog.naver.com/1030ysk?Redirect=Log&logNo=222518499457\n",
      "https://blog.naver.com/101sy?Redirect=Log&logNo=222530048450\n",
      "https://blog.naver.com/snowpink1004?Redirect=Log&logNo=222516399488\n",
      "https://blog.naver.com/fever0324?Redirect=Log&logNo=222497186815\n",
      "https://blog.naver.com/goodozone?Redirect=Log&logNo=222531698227\n",
      "https://blog.naver.com/goodozone?Redirect=Log&logNo=222525296225\n",
      "https://blog.naver.com/jamdoong?Redirect=Log&logNo=222534485395\n",
      "https://blog.naver.com/seohyun_9088?Redirect=Log&logNo=222513180892\n",
      "https://blog.naver.com/korn03?Redirect=Log&logNo=222522245764\n",
      "https://blog.naver.com/barosunh?Redirect=Log&logNo=222513901227\n",
      "https://blog.naver.com/megkis?Redirect=Log&logNo=222486117491\n",
      "https://blog.naver.com/2010color?Redirect=Log&logNo=222485895711\n",
      "https://blog.naver.com/osan_si?Redirect=Log&logNo=222463126552\n",
      "https://blog.naver.com/incheontogi?Redirect=Log&logNo=222499275846\n",
      "https://blog.naver.com/kjszzang10?Redirect=Log&logNo=222515491080\n",
      "https://blog.naver.com/setufre?Redirect=Log&logNo=222517311210\n",
      "https://blog.naver.com/inzzang9807?Redirect=Log&logNo=222529375389\n",
      "https://blog.naver.com/mommystitch?Redirect=Log&logNo=222515037662\n",
      "https://blog.naver.com/canonkoreabs?Redirect=Log&logNo=222461836844\n",
      "https://blog.naver.com/tiny0124?Redirect=Log&logNo=222484297245\n",
      "https://blog.naver.com/mojjustice?Redirect=Log&logNo=222491570079\n",
      "https://blog.naver.com/minssing1998?Redirect=Log&logNo=222523470764\n",
      "https://blog.naver.com/baboezshin?Redirect=Log&logNo=222504962606\n",
      "https://blog.naver.com/nacf5915?Redirect=Log&logNo=222512409611\n",
      "https://blog.naver.com/mongzungin79?Redirect=Log&logNo=222465911521\n",
      "https://blog.naver.com/audwk5895?Redirect=Log&logNo=222525535194\n",
      "https://blog.naver.com/jinohng?Redirect=Log&logNo=222519816815\n",
      "https://blog.naver.com/injaeinwoo?Redirect=Log&logNo=222504318192\n",
      "https://blog.naver.com/johnlee08?Redirect=Log&logNo=222490382478\n",
      "https://blog.naver.com/clothes1213?Redirect=Log&logNo=222451607282\n",
      "https://blog.naver.com/dalseonggun?Redirect=Log&logNo=222518526635\n",
      "https://blog.naver.com/miwako1212?Redirect=Log&logNo=222507591362\n",
      "https://blog.naver.com/gusrlid?Redirect=Log&logNo=222452720887\n",
      "https://blog.naver.com/ksg2028?Redirect=Log&logNo=222537101176\n",
      "https://blog.naver.com/suk8172?Redirect=Log&logNo=222526308317\n",
      "https://blog.naver.com/rec1820?Redirect=Log&logNo=222500465278\n",
      "https://blog.naver.com/sul_hwa?Redirect=Log&logNo=222523553456\n",
      "https://blog.naver.com/goloomy?Redirect=Log&logNo=222520515958\n",
      "https://blog.naver.com/meaning87?Redirect=Log&logNo=222462647243\n",
      "https://blog.naver.com/zizibemodel?Redirect=Log&logNo=222522499279\n",
      "https://blog.naver.com/4oundme?Redirect=Log&logNo=222510087367\n",
      "https://blog.naver.com/hogamyi?Redirect=Log&logNo=222529837693\n",
      "https://blog.naver.com/splendidly?Redirect=Log&logNo=222506505481\n",
      "https://blog.naver.com/minawoman?Redirect=Log&logNo=222540803142\n",
      "https://blog.naver.com/seoulharu?Redirect=Log&logNo=222512651921\n",
      "https://blog.naver.com/shorangvv?Redirect=Log&logNo=222524144322\n",
      "https://blog.naver.com/wkduswldms?Redirect=Log&logNo=222524653397\n",
      "https://blog.naver.com/chn0514?Redirect=Log&logNo=222484428428\n",
      "https://blog.naver.com/kimek5373?Redirect=Log&logNo=222523238423\n",
      "https://blog.naver.com/neige07?Redirect=Log&logNo=222514663165\n",
      "https://blog.naver.com/bbbsunn?Redirect=Log&logNo=222428483398\n",
      "https://blog.naver.com/indicreep?Redirect=Log&logNo=222512238289\n",
      "https://blog.naver.com/leganza07?Redirect=Log&logNo=222496108228\n",
      "https://blog.naver.com/thro4321?Redirect=Log&logNo=222397278619\n",
      "https://blog.naver.com/omini82?Redirect=Log&logNo=222454586522\n",
      "https://blog.naver.com/rain1052?Redirect=Log&logNo=222520119138\n",
      "https://blog.naver.com/withbupyeong?Redirect=Log&logNo=222482045465\n",
      "https://blog.naver.com/ykt996?Redirect=Log&logNo=222505834856\n",
      "https://blog.naver.com/jylhee0704?Redirect=Log&logNo=222520907913\n",
      "https://blog.naver.com/ham0625?Redirect=Log&logNo=222533685663\n",
      "https://blog.naver.com/doctorbae75?Redirect=Log&logNo=222410781748\n",
      "https://blog.naver.com/yun1202?Redirect=Log&logNo=222530583319\n",
      "https://blog.naver.com/kbj7653?Redirect=Log&logNo=222536201291\n",
      "https://blog.naver.com/be2141st?Redirect=Log&logNo=222501496209\n",
      "https://blog.naver.com/pinkneko84?Redirect=Log&logNo=222510539344\n",
      "https://blog.naver.com/goodozone?Redirect=Log&logNo=222526681404\n",
      "https://blog.naver.com/conch2232?Redirect=Log&logNo=222495950041\n",
      "https://blog.naver.com/horang14?Redirect=Log&logNo=222509448066\n",
      "https://blog.naver.com/montemilano?Redirect=Log&logNo=222524218190\n",
      "https://blog.naver.com/red10kjs?Redirect=Log&logNo=222510443550\n",
      "https://blog.naver.com/minhoha?Redirect=Log&logNo=222533934948\n",
      "https://blog.naver.com/exit2030?Redirect=Log&logNo=222484750696\n",
      "https://blog.naver.com/dreamiedu13?Redirect=Log&logNo=222504216380\n",
      "https://blog.naver.com/bl85219?Redirect=Log&logNo=222502581096\n",
      "https://blog.naver.com/annapple?Redirect=Log&logNo=222542231876\n",
      "https://blog.naver.com/grandjun82?Redirect=Log&logNo=222466757071\n",
      "https://blog.naver.com/yeejuw?Redirect=Log&logNo=222498290881\n",
      "https://blog.naver.com/resumet?Redirect=Log&logNo=222417277756\n",
      "https://blog.naver.com/psalm1971?Redirect=Log&logNo=222542564074\n",
      "https://blog.naver.com/1day1study?Redirect=Log&logNo=222539093956\n",
      "https://blog.naver.com/gnnleesh2?Redirect=Log&logNo=222522036273\n",
      "https://blog.naver.com/cshart?Redirect=Log&logNo=222526678018\n",
      "https://blog.naver.com/oocc333?Redirect=Log&logNo=222506981369\n",
      "https://blog.naver.com/whitedevel?Redirect=Log&logNo=222514549077\n",
      "https://blog.naver.com/sy1218i?Redirect=Log&logNo=222508945618\n",
      "https://blog.naver.com/rasuk5678?Redirect=Log&logNo=222508074011\n",
      "https://blog.naver.com/hanbyul78?Redirect=Log&logNo=222499582900\n",
      "https://blog.naver.com/phn1253?Redirect=Log&logNo=222529831383\n",
      "https://blog.naver.com/oroicci31?Redirect=Log&logNo=222531988553\n",
      "https://blog.naver.com/hkyoung68?Redirect=Log&logNo=222510216570\n",
      "https://blog.naver.com/baby9800?Redirect=Log&logNo=222545199930\n",
      "https://blog.naver.com/gslee2688?Redirect=Log&logNo=222519779567\n",
      "https://blog.naver.com/aldus_06?Redirect=Log&logNo=222498482151\n",
      "https://blog.naver.com/ciqueen?Redirect=Log&logNo=222499387684\n",
      "https://blog.naver.com/peace_2000?Redirect=Log&logNo=222460544741\n",
      "https://blog.naver.com/1day1study?Redirect=Log&logNo=222425862584\n",
      "https://blog.naver.com/yuagnes?Redirect=Log&logNo=222506791297\n",
      "https://blog.naver.com/frislucht?Redirect=Log&logNo=222440943658\n",
      "https://blog.naver.com/logix200?Redirect=Log&logNo=222505465167\n",
      "https://blog.naver.com/uhakhub_dj?Redirect=Log&logNo=222483475512\n",
      "https://blog.naver.com/mamai80?Redirect=Log&logNo=222493995160\n",
      "https://blog.naver.com/kinogirl100?Redirect=Log&logNo=222543224476\n",
      "https://blog.naver.com/nohappy0?Redirect=Log&logNo=222510417760\n",
      "https://blog.naver.com/chokyungik?Redirect=Log&logNo=222515526192\n",
      "https://blog.naver.com/hyunjin2ee?Redirect=Log&logNo=222495066918\n",
      "https://blog.naver.com/brisga?Redirect=Log&logNo=222530043122\n",
      "https://blog.naver.com/mealacus?Redirect=Log&logNo=222498467191\n",
      "https://blog.naver.com/dodookomgod?Redirect=Log&logNo=222511478902\n",
      "https://blog.naver.com/tnwl1445?Redirect=Log&logNo=222535168143\n",
      "https://blog.naver.com/peace_2000?Redirect=Log&logNo=222477353966\n",
      "https://blog.naver.com/ihr12?Redirect=Log&logNo=222506420216\n",
      "https://blog.naver.com/waterlily333?Redirect=Log&logNo=222523486198\n",
      "https://blog.naver.com/atompsm?Redirect=Log&logNo=222438297804\n",
      "https://blog.naver.com/1day1study?Redirect=Log&logNo=222423863066\n",
      "https://blog.naver.com/kyj1004g?Redirect=Log&logNo=222525411881\n",
      "https://blog.naver.com/junstar1010?Redirect=Log&logNo=222543258815\n",
      "https://blog.naver.com/tong7988?Redirect=Log&logNo=222535958967\n",
      "https://blog.naver.com/eiffel?Redirect=Log&logNo=222416060982\n",
      "https://blog.naver.com/ariel0421?Redirect=Log&logNo=222504659479\n",
      "https://blog.naver.com/darapanda84?Redirect=Log&logNo=222484523223\n",
      "https://blog.naver.com/wolf9717?Redirect=Log&logNo=222528964973\n",
      "https://blog.naver.com/wjddk306?Redirect=Log&logNo=222535833601\n",
      "https://blog.naver.com/icecream0514?Redirect=Log&logNo=222534842106\n",
      "https://blog.naver.com/missw?Redirect=Log&logNo=222541682308\n",
      "https://blog.naver.com/goodozone?Redirect=Log&logNo=222530145393\n",
      "https://blog.naver.com/windy14?Redirect=Log&logNo=222505307026\n",
      "https://blog.naver.com/teaser1?Redirect=Log&logNo=222505695736\n",
      "https://blog.naver.com/gtdaniel?Redirect=Log&logNo=222507419029\n",
      "https://blog.naver.com/jjubu0691?Redirect=Log&logNo=222429708746\n",
      "https://blog.naver.com/dreamiedu13?Redirect=Log&logNo=222518371965\n",
      "https://blog.naver.com/smile_202?Redirect=Log&logNo=222510457413\n",
      "https://blog.naver.com/happinomics?Redirect=Log&logNo=222493912638\n",
      "https://blog.naver.com/growingup707?Redirect=Log&logNo=222497680653\n",
      "https://blog.naver.com/wowjey00?Redirect=Log&logNo=222465707517\n",
      "https://blog.naver.com/aldus_06?Redirect=Log&logNo=222502649936\n",
      "https://blog.naver.com/blackimp122?Redirect=Log&logNo=222500892989\n",
      "https://blog.naver.com/drawing_me?Redirect=Log&logNo=222520895431\n",
      "https://blog.naver.com/7monaco?Redirect=Log&logNo=222518494341\n",
      "https://blog.naver.com/artt2923?Redirect=Log&logNo=222519699638\n",
      "https://blog.naver.com/fkflarn?Redirect=Log&logNo=222523199337\n",
      "https://blog.naver.com/mulan815?Redirect=Log&logNo=222509326908\n",
      "https://blog.naver.com/yigel?Redirect=Log&logNo=222522243803\n",
      "https://blog.naver.com/yipsmile?Redirect=Log&logNo=222520061689\n",
      "https://blog.naver.com/saruhu?Redirect=Log&logNo=222463526000\n",
      "https://blog.naver.com/eikoyuki?Redirect=Log&logNo=222518374305\n",
      "https://blog.naver.com/bestladakh?Redirect=Log&logNo=222431851093\n",
      "https://blog.naver.com/wolf9717?Redirect=Log&logNo=222492814508\n",
      "https://blog.naver.com/anys0428?Redirect=Log&logNo=222407238149\n",
      "https://blog.naver.com/sunghyun3152?Redirect=Log&logNo=222536860947\n",
      "https://blog.naver.com/ddooru?Redirect=Log&logNo=222521862967\n",
      "https://blog.naver.com/goodozone?Redirect=Log&logNo=222517209625\n",
      "https://blog.naver.com/idmb26?Redirect=Log&logNo=222508921887\n",
      "https://blog.naver.com/dpfls080?Redirect=Log&logNo=222507050474\n",
      "https://blog.naver.com/sjumo12?Redirect=Log&logNo=222530954879\n",
      "https://blog.naver.com/honesty2006?Redirect=Log&logNo=222473866808\n",
      "https://blog.naver.com/sodam3826?Redirect=Log&logNo=222520104829\n",
      "https://blog.naver.com/go8112?Redirect=Log&logNo=222522096411\n",
      "https://blog.naver.com/yourisol?Redirect=Log&logNo=222466668009\n",
      "https://blog.naver.com/wolf9717?Redirect=Log&logNo=222517592276\n",
      "https://blog.naver.com/river0703?Redirect=Log&logNo=222419320189\n",
      "https://blog.naver.com/grandheamur?Redirect=Log&logNo=222389108832\n",
      "https://blog.naver.com/tmddlf?Redirect=Log&logNo=222519207547\n",
      "https://blog.naver.com/ayr0609?Redirect=Log&logNo=222476510256\n",
      "https://blog.naver.com/bn881028?Redirect=Log&logNo=222522677756\n",
      "https://blog.naver.com/revwhalkim?Redirect=Log&logNo=222390643392\n",
      "https://blog.naver.com/xodn1118?Redirect=Log&logNo=222548221252\n",
      "https://blog.naver.com/londoner20?Redirect=Log&logNo=222500960659\n",
      "https://blog.naver.com/angelmia?Redirect=Log&logNo=222530659261\n",
      "https://blog.naver.com/jjeuneu?Redirect=Log&logNo=222505092077\n",
      "https://blog.naver.com/peace_2000?Redirect=Log&logNo=222499957158\n",
      "https://blog.naver.com/cgss1975?Redirect=Log&logNo=222436967740\n",
      "https://blog.naver.com/wls0474?Redirect=Log&logNo=222467112064\n",
      "https://blog.naver.com/summerpd?Redirect=Log&logNo=222494188385\n",
      "https://blog.naver.com/sekiho007?Redirect=Log&logNo=222540678155\n",
      "https://blog.naver.com/everloveme?Redirect=Log&logNo=222490574989\n",
      "https://blog.naver.com/berry926926?Redirect=Log&logNo=222493898494\n",
      "https://blog.naver.com/hikais?Redirect=Log&logNo=222519517955\n",
      "https://blog.naver.com/ironmank?Redirect=Log&logNo=222521407186\n",
      "https://blog.naver.com/cebuhopping?Redirect=Log&logNo=222520172472\n",
      "https://blog.naver.com/suh5150?Redirect=Log&logNo=222520871217\n",
      "https://blog.naver.com/tsu_star?Redirect=Log&logNo=222522852357\n",
      "https://blog.naver.com/keesunge?Redirect=Log&logNo=222501786362\n",
      "https://blog.naver.com/bugsiri?Redirect=Log&logNo=222499367035\n",
      "https://blog.naver.com/shimso83?Redirect=Log&logNo=222455248868\n",
      "https://blog.naver.com/yoon10321?Redirect=Log&logNo=222509813149\n",
      "https://blog.naver.com/de5igner?Redirect=Log&logNo=222511428274\n",
      "https://blog.naver.com/jung1332?Redirect=Log&logNo=222490759985\n",
      "https://blog.naver.com/molan1107?Redirect=Log&logNo=222503377528\n",
      "https://blog.naver.com/msent2287?Redirect=Log&logNo=222499270221\n",
      "https://blog.naver.com/vpdlf1004?Redirect=Log&logNo=222528462067\n",
      "https://blog.naver.com/goodozone?Redirect=Log&logNo=222537053565\n",
      "https://blog.naver.com/gjskrj?Redirect=Log&logNo=222491273394\n",
      "https://blog.naver.com/minhoha?Redirect=Log&logNo=222484375445\n",
      "https://blog.naver.com/jieunmikami?Redirect=Log&logNo=222505062914\n",
      "https://blog.naver.com/myjsp?Redirect=Log&logNo=222523057502\n",
      "https://blog.naver.com/jsy1461?Redirect=Log&logNo=222484574000\n",
      "https://blog.naver.com/dkgoggog21?Redirect=Log&logNo=222462348292\n",
      "https://blog.naver.com/tipshs?Redirect=Log&logNo=222396279043\n",
      "https://blog.naver.com/sowooko?Redirect=Log&logNo=222507253276\n",
      "https://blog.naver.com/gayamt?Redirect=Log&logNo=222545650984\n",
      "https://blog.naver.com/sj0602k?Redirect=Log&logNo=222504368925\n",
      "https://blog.naver.com/orbyun?Redirect=Log&logNo=222473459839\n",
      "https://blog.naver.com/rkfkfl1?Redirect=Log&logNo=222510155139\n",
      "https://blog.naver.com/wjswogh61?Redirect=Log&logNo=222542670595\n",
      "https://blog.naver.com/friendbs1?Redirect=Log&logNo=222506336396\n",
      "https://blog.naver.com/dlgywjddlaz?Redirect=Log&logNo=222527050444\n",
      "https://blog.naver.com/lmyjmwl?Redirect=Log&logNo=222510525623\n",
      "https://blog.naver.com/bbuni96?Redirect=Log&logNo=222467028270\n",
      "https://blog.naver.com/rextoys2?Redirect=Log&logNo=222400093780\n",
      "https://blog.naver.com/wolf9717?Redirect=Log&logNo=222469015941\n",
      "https://blog.naver.com/huhospital?Redirect=Log&logNo=222355686998\n",
      "https://blog.naver.com/halifaxlou?Redirect=Log&logNo=222538391718\n",
      "https://blog.naver.com/shalacho?Redirect=Log&logNo=222431215126\n",
      "https://blog.naver.com/g9bonyam?Redirect=Log&logNo=222504310127\n",
      "https://blog.naver.com/first_seogu?Redirect=Log&logNo=222493086860\n",
      "https://blog.naver.com/orientalju?Redirect=Log&logNo=222533776171\n",
      "https://blog.naver.com/l0l7l3l5l?Redirect=Log&logNo=222477563333\n",
      "https://blog.naver.com/happypme?Redirect=Log&logNo=222496572377\n",
      "https://blog.naver.com/kayhchoi?Redirect=Log&logNo=222527372937\n",
      "https://blog.naver.com/j2yjh?Redirect=Log&logNo=222494580347\n",
      "https://blog.naver.com/webtourlove?Redirect=Log&logNo=222484403587\n",
      "https://blog.naver.com/idiothj?Redirect=Log&logNo=222493558340\n",
      "https://blog.naver.com/maum8445?Redirect=Log&logNo=222505610483\n",
      "https://blog.naver.com/dysnomia?Redirect=Log&logNo=222509014282\n",
      "https://blog.naver.com/sportsjhl?Redirect=Log&logNo=222501663582\n",
      "https://blog.naver.com/seokryuya?Redirect=Log&logNo=222505294155\n",
      "https://blog.naver.com/goodozone?Redirect=Log&logNo=222523995074\n",
      "https://blog.naver.com/tmakdlfcjs?Redirect=Log&logNo=222533441661\n",
      "https://blog.naver.com/busanpublic?Redirect=Log&logNo=222498323764\n",
      "https://blog.naver.com/jung1332?Redirect=Log&logNo=222509374127\n",
      "https://blog.naver.com/geum8080?Redirect=Log&logNo=222420648555\n",
      "https://blog.naver.com/jellatobie?Redirect=Log&logNo=222494097227\n",
      "https://blog.naver.com/greatlady6947?Redirect=Log&logNo=222512445105\n",
      "https://blog.naver.com/rakkisudy?Redirect=Log&logNo=222468766199\n",
      "https://blog.naver.com/prettyjin3?Redirect=Log&logNo=222499334480\n",
      "https://blog.naver.com/pupuni75?Redirect=Log&logNo=222514605442\n",
      "https://blog.naver.com/feelluvei?Redirect=Log&logNo=222493377469\n",
      "https://blog.naver.com/masaru09?Redirect=Log&logNo=222412831381\n",
      "https://blog.naver.com/bule0823?Redirect=Log&logNo=222520720063\n",
      "https://blog.naver.com/catseye781?Redirect=Log&logNo=222492655525\n",
      "https://blog.naver.com/dhtkzk1127?Redirect=Log&logNo=222496469963\n",
      "https://blog.naver.com/iamfrontiet?Redirect=Log&logNo=222499733989\n",
      "https://blog.naver.com/ghlrnlqhssmd?Redirect=Log&logNo=222519401171\n",
      "https://blog.naver.com/sht01140?Redirect=Log&logNo=222476868134\n",
      "https://blog.naver.com/kmjieun?Redirect=Log&logNo=222510193453\n",
      "https://blog.naver.com/johnlee08?Redirect=Log&logNo=222419416544\n",
      "https://blog.naver.com/nexuss0226?Redirect=Log&logNo=222482480057\n",
      "https://blog.naver.com/ghlrnlqhssmd?Redirect=Log&logNo=222535809791\n",
      "https://blog.naver.com/swmjlove012?Redirect=Log&logNo=222509209137\n",
      "https://blog.naver.com/syoung330?Redirect=Log&logNo=222501322349\n",
      "https://blog.naver.com/knumc2114?Redirect=Log&logNo=222520711461\n",
      "https://blog.naver.com/rlathfus1995?Redirect=Log&logNo=222506366617\n",
      "https://blog.naver.com/goodozone?Redirect=Log&logNo=222507566851\n",
      "https://blog.naver.com/hne1100?Redirect=Log&logNo=222501410923\n",
      "https://blog.naver.com/wolf9717?Redirect=Log&logNo=222550953274\n",
      "https://blog.naver.com/pt_story?Redirect=Log&logNo=222534730745\n",
      "https://blog.naver.com/taiji15?Redirect=Log&logNo=222521189592\n",
      "https://blog.naver.com/roqur21?Redirect=Log&logNo=222523225985\n",
      "https://blog.naver.com/skai0914?Redirect=Log&logNo=222502727963\n",
      "https://blog.naver.com/dobargi?Redirect=Log&logNo=222496471330\n",
      "https://blog.naver.com/sunplus2?Redirect=Log&logNo=222545678752\n",
      "https://blog.naver.com/kyh070181?Redirect=Log&logNo=222506687295\n",
      "https://blog.naver.com/juneyoup1?Redirect=Log&logNo=222497180500\n",
      "https://blog.naver.com/iam_chew?Redirect=Log&logNo=222501745566\n",
      "https://blog.naver.com/incheontogi?Redirect=Log&logNo=222483441084\n",
      "https://blog.naver.com/shsh0418?Redirect=Log&logNo=222518253751\n",
      "https://blog.naver.com/98dock98?Redirect=Log&logNo=222501542678\n",
      "https://blog.naver.com/realbloom?Redirect=Log&logNo=222511354417\n",
      "https://blog.naver.com/yuzuyu?Redirect=Log&logNo=222509082304\n",
      "https://blog.naver.com/coffeensalad?Redirect=Log&logNo=222528000905\n",
      "https://blog.naver.com/jjh_pey?Redirect=Log&logNo=222510897739\n",
      "https://blog.naver.com/8olive?Redirect=Log&logNo=222545789454\n",
      "https://blog.naver.com/miseskim5043?Redirect=Log&logNo=222483491397\n",
      "https://blog.naver.com/airbag1?Redirect=Log&logNo=222498632866\n",
      "https://blog.naver.com/sulhwabr?Redirect=Log&logNo=222504997929\n",
      "https://blog.naver.com/jinah3820?Redirect=Log&logNo=222526827482\n",
      "https://blog.naver.com/hne1100?Redirect=Log&logNo=222519945714\n",
      "https://blog.naver.com/mouse80?Redirect=Log&logNo=222502412407\n",
      "https://blog.naver.com/powersoul?Redirect=Log&logNo=222508132737\n",
      "https://blog.naver.com/hot3520?Redirect=Log&logNo=222484555124\n",
      "https://blog.naver.com/rose714?Redirect=Log&logNo=222544365863\n",
      "https://blog.naver.com/dkdkpad?Redirect=Log&logNo=222369959982\n",
      "https://blog.naver.com/armada3?Redirect=Log&logNo=222506642346\n",
      "https://blog.naver.com/kongsam?Redirect=Log&logNo=222507534364\n",
      "https://blog.naver.com/peace_2000?Redirect=Log&logNo=222485053563\n",
      "https://blog.naver.com/pokara61?Redirect=Log&logNo=222312097747\n",
      "https://blog.naver.com/ssangga2004?Redirect=Log&logNo=222492424704\n",
      "https://blog.naver.com/kecoprumy?Redirect=Log&logNo=222542828803\n",
      "https://blog.naver.com/goldwit?Redirect=Log&logNo=222501670133\n",
      "https://blog.naver.com/qweotuh?Redirect=Log&logNo=222497407724\n",
      "https://blog.naver.com/hellomilja?Redirect=Log&logNo=222503790413\n",
      "https://blog.naver.com/okbest123?Redirect=Log&logNo=222484225448\n",
      "https://blog.naver.com/coffeensalad?Redirect=Log&logNo=222527933505\n",
      "https://blog.naver.com/cih1966?Redirect=Log&logNo=222529945156\n",
      "https://blog.naver.com/goodozone?Redirect=Log&logNo=222536453458\n",
      "https://blog.naver.com/yjhihi486?Redirect=Log&logNo=222486677384\n",
      "https://blog.naver.com/rains1230?Redirect=Log&logNo=222518721034\n",
      "https://blog.naver.com/jyogei?Redirect=Log&logNo=222515482301\n",
      "https://blog.naver.com/jin_sa?Redirect=Log&logNo=222517407875\n",
      "https://blog.naver.com/tmxhflqpfl?Redirect=Log&logNo=222369004329\n",
      "https://blog.naver.com/softmint3?Redirect=Log&logNo=222434909492\n",
      "https://blog.naver.com/hirakim2?Redirect=Log&logNo=222489588815\n",
      "https://blog.naver.com/resumet?Redirect=Log&logNo=222444393025\n",
      "https://blog.naver.com/icdie00?Redirect=Log&logNo=222479619444\n",
      "https://blog.naver.com/mobile8889?Redirect=Log&logNo=222531721472\n",
      "https://blog.naver.com/amelalla?Redirect=Log&logNo=222528196694\n",
      "https://blog.naver.com/drods?Redirect=Log&logNo=222522455335\n",
      "https://blog.naver.com/realcarnival?Redirect=Log&logNo=222516388026\n",
      "https://blog.naver.com/mc906kde?Redirect=Log&logNo=222508588868\n",
      "https://blog.naver.com/odoba?Redirect=Log&logNo=222525176851\n",
      "https://blog.naver.com/mongssing?Redirect=Log&logNo=222523096445\n",
      "https://blog.naver.com/sincia11?Redirect=Log&logNo=222518360528\n",
      "https://blog.naver.com/cwopenspace?Redirect=Log&logNo=222463065300\n",
      "https://blog.naver.com/vipro?Redirect=Log&logNo=222444735609\n",
      "https://blog.naver.com/sawoori77?Redirect=Log&logNo=222492621892\n",
      "https://blog.naver.com/injaeinwoo?Redirect=Log&logNo=222505901916\n",
      "https://blog.naver.com/peace_2000?Redirect=Log&logNo=222487477349\n",
      "https://blog.naver.com/siroiyuhki?Redirect=Log&logNo=222500521148\n",
      "https://blog.naver.com/sunna434?Redirect=Log&logNo=222498331729\n",
      "https://blog.naver.com/seo0819?Redirect=Log&logNo=222478036783\n",
      "https://blog.naver.com/bom25bom?Redirect=Log&logNo=222503153373\n",
      "https://blog.naver.com/kssil1004?Redirect=Log&logNo=222476059825\n",
      "https://blog.naver.com/tkfkddk20?Redirect=Log&logNo=222468862126\n",
      "https://blog.naver.com/jiyoon0322?Redirect=Log&logNo=222510803544\n",
      "https://blog.naver.com/rainy1405?Redirect=Log&logNo=222505449032\n",
      "https://blog.naver.com/waitme84?Redirect=Log&logNo=222523484494\n",
      "https://blog.naver.com/ehddkswlgp?Redirect=Log&logNo=222510665863\n",
      "https://blog.naver.com/turbokyh?Redirect=Log&logNo=222551189936\n",
      "https://blog.naver.com/etre3?Redirect=Log&logNo=222487706816\n",
      "https://blog.naver.com/oblradi?Redirect=Log&logNo=222505781147\n",
      "https://blog.naver.com/kyungm2001?Redirect=Log&logNo=222519905396\n",
      "https://blog.naver.com/jh3370?Redirect=Log&logNo=222528200692\n",
      "https://blog.naver.com/dong6660?Redirect=Log&logNo=222516716296\n",
      "https://blog.naver.com/wave0120?Redirect=Log&logNo=222543741904\n",
      "https://blog.naver.com/peace_2000?Redirect=Log&logNo=222408327033\n",
      "https://blog.naver.com/zoro7712?Redirect=Log&logNo=222528373520\n",
      "https://blog.naver.com/dbwls0315?Redirect=Log&logNo=222536770123\n",
      "https://blog.naver.com/kkdbwls?Redirect=Log&logNo=222491157754\n",
      "https://blog.naver.com/dash0901?Redirect=Log&logNo=222500845349\n",
      "https://blog.naver.com/karisma9013?Redirect=Log&logNo=222501016539\n",
      "https://blog.naver.com/yeongju_city?Redirect=Log&logNo=222427005292\n",
      "https://blog.naver.com/deux300?Redirect=Log&logNo=222507504056\n",
      "https://blog.naver.com/goodozone?Redirect=Log&logNo=222532701390\n",
      "https://blog.naver.com/jseonah?Redirect=Log&logNo=222519272003\n",
      "https://blog.naver.com/yourokcheon?Redirect=Log&logNo=222547829864\n",
      "https://blog.naver.com/kicnsu49?Redirect=Log&logNo=222448509238\n",
      "https://blog.naver.com/hhome1?Redirect=Log&logNo=222498928498\n",
      "https://blog.naver.com/fallchoo?Redirect=Log&logNo=222498672425\n",
      "https://blog.naver.com/ocsisi?Redirect=Log&logNo=222488921752\n",
      "https://blog.naver.com/som_a621?Redirect=Log&logNo=222522900612\n",
      "https://blog.naver.com/ftc_news?Redirect=Log&logNo=222483561032\n",
      "https://blog.naver.com/thebomeye?Redirect=Log&logNo=222492855145\n",
      "https://blog.naver.com/27nabi?Redirect=Log&logNo=222509939892\n",
      "https://blog.naver.com/raiksong?Redirect=Log&logNo=222518871006\n",
      "https://blog.naver.com/ing1177?Redirect=Log&logNo=222503039682\n",
      "https://blog.naver.com/wangheng66?Redirect=Log&logNo=222512687208\n",
      "https://blog.naver.com/eggtta?Redirect=Log&logNo=222339425236\n",
      "https://blog.naver.com/comalone?Redirect=Log&logNo=222487030670\n",
      "https://blog.naver.com/jsn920?Redirect=Log&logNo=222478476492\n",
      "https://blog.naver.com/rosasa?Redirect=Log&logNo=222525946095\n",
      "https://blog.naver.com/jeju8?Redirect=Log&logNo=222465762540\n",
      "https://blog.naver.com/dream44?Redirect=Log&logNo=222527124602\n",
      "https://blog.naver.com/skdurl?Redirect=Log&logNo=222505304811\n",
      "https://blog.naver.com/goodozone?Redirect=Log&logNo=222527064361\n",
      "https://blog.naver.com/andy_yu?Redirect=Log&logNo=222499582161\n",
      "https://blog.naver.com/conch2232?Redirect=Log&logNo=222482593048\n",
      "https://blog.naver.com/prmapo77?Redirect=Log&logNo=222524110534\n",
      "https://blog.naver.com/caryy2200?Redirect=Log&logNo=222523225734\n",
      "https://blog.naver.com/dabipou?Redirect=Log&logNo=222514452143\n",
      "https://blog.naver.com/sop0918?Redirect=Log&logNo=222525374166\n",
      "https://blog.naver.com/andrewgo?Redirect=Log&logNo=222461298141\n",
      "https://blog.naver.com/goodozone?Redirect=Log&logNo=222547317049\n",
      "https://blog.naver.com/leeeejoooo?Redirect=Log&logNo=222500942718\n",
      "https://blog.naver.com/cinemadrea?Redirect=Log&logNo=222550590821\n",
      "https://blog.naver.com/goodozone?Redirect=Log&logNo=222517782421\n",
      "https://blog.naver.com/choi170333?Redirect=Log&logNo=222526735948\n",
      "https://blog.naver.com/clsrngkdms?Redirect=Log&logNo=222472817666\n",
      "https://blog.naver.com/tr5?Redirect=Log&logNo=222473268075\n",
      "https://blog.naver.com/81sukhome?Redirect=Log&logNo=222499050776\n",
      "https://blog.naver.com/medimer?Redirect=Log&logNo=222475032630\n",
      "https://blog.naver.com/lkl7383?Redirect=Log&logNo=222486005491\n",
      "https://blog.naver.com/taurusz?Redirect=Log&logNo=222509092961\n",
      "https://blog.naver.com/lovelyse80?Redirect=Log&logNo=222434064637\n",
      "https://blog.naver.com/tlsaudfbs21?Redirect=Log&logNo=222464462039\n",
      "https://blog.naver.com/hdsj1017?Redirect=Log&logNo=222484345598\n",
      "https://blog.naver.com/ariel0912?Redirect=Log&logNo=222504268737\n",
      "https://blog.naver.com/artt2923?Redirect=Log&logNo=222523301768\n",
      "https://blog.naver.com/gksk777?Redirect=Log&logNo=222357787784\n",
      "https://blog.naver.com/kongsam?Redirect=Log&logNo=222507516718\n",
      "https://blog.naver.com/bestladakh?Redirect=Log&logNo=222427621414\n",
      "https://blog.naver.com/lehymc?Redirect=Log&logNo=222522441779\n",
      "https://blog.naver.com/goppaba?Redirect=Log&logNo=222525695103\n",
      "https://blog.naver.com/o__chan?Redirect=Log&logNo=222503793600\n",
      "https://blog.naver.com/sinsk92?Redirect=Log&logNo=222531816986\n",
      "https://blog.naver.com/dongi0508?Redirect=Log&logNo=222391257777\n",
      "https://blog.naver.com/qqqiw?Redirect=Log&logNo=222505210818\n",
      "https://blog.naver.com/skyangel66?Redirect=Log&logNo=222467783921\n",
      "https://blog.naver.com/ijtchoe?Redirect=Log&logNo=222540500258\n",
      "https://blog.naver.com/hwsw1014?Redirect=Log&logNo=222497713854\n",
      "https://blog.naver.com/joo1609?Redirect=Log&logNo=222481199128\n",
      "https://blog.naver.com/ky130720?Redirect=Log&logNo=222506597124\n",
      "https://blog.naver.com/uhak1one?Redirect=Log&logNo=222476867687\n",
      "https://blog.naver.com/talove0831?Redirect=Log&logNo=222444685420\n",
      "https://blog.naver.com/geno61?Redirect=Log&logNo=222498231106\n"
     ]
    }
   ],
   "source": [
    "naver_news_link = []\n",
    "\n",
    "for page in news_data:\n",
    "    #print(page)\n",
    "    page_news_link = []\n",
    "    \n",
    "    for item in page['items']:\n",
    "        #print(item)\n",
    "        temp_link = item['link']\n",
    "        #print(temp_link)\n",
    "        if \"naver\" in temp_link:\n",
    "            page_news_link.append(temp_link)\n",
    "    \n",
    "    naver_news_link.append(page_news_link)\n",
    "        \n",
    "\n",
    "# 사이트 확인하기에 편한 코드 구조.\n",
    "for page in naver_news_link:\n",
    "    for link in page:\n",
    "        print(link)"
   ]
  },
  {
   "cell_type": "code",
   "execution_count": 4,
   "metadata": {},
   "outputs": [],
   "source": [
    "import pandas as pd\n",
    "import numpy as np\n",
    "from selenium import webdriver\n",
    "from tqdm import tqdm_notebook\n",
    "import requests\n",
    "import pickle\n",
    "import re\n",
    "import ast\n",
    "\n",
    "from bs4 import BeautifulSoup \n",
    "from urllib.request import urlopen\n",
    "import urllib\n",
    "import time"
   ]
  },
  {
   "cell_type": "code",
   "execution_count": 5,
   "metadata": {},
   "outputs": [],
   "source": [
    "# 가상 크롬드라이버를 불러옴.\n",
    "# 윈도우 10의 경우 chromedriver.exe\n",
    "driver = webdriver.Chrome('f:/chromedriver.exe')"
   ]
  },
  {
   "cell_type": "code",
   "execution_count": null,
   "metadata": {},
   "outputs": [],
   "source": [
    "#SE-1c12f33a-6223-4119-b968-5ce791e64fd8"
   ]
  },
  {
   "cell_type": "code",
   "execution_count": 6,
   "metadata": {},
   "outputs": [
    {
     "name": "stderr",
     "output_type": "stream",
     "text": [
      "C:\\Users\\poeun\\anaconda3\\envs\\NLP\\lib\\site-packages\\ipykernel_launcher.py:5: TqdmDeprecationWarning: This function will be removed in tqdm==5.0.0\n",
      "Please use `tqdm.notebook.tqdm` instead of `tqdm.tqdm_notebook`\n",
      "  \"\"\"\n"
     ]
    },
    {
     "data": {
      "application/vnd.jupyter.widget-view+json": {
       "model_id": "6ec713b638e64cc7a86251d8a68ca408",
       "version_major": 2,
       "version_minor": 0
      },
      "text/plain": [
       "  0%|          | 0/100 [00:00<?, ?it/s]"
      ]
     },
     "metadata": {},
     "output_type": "display_data"
    },
    {
     "name": "stderr",
     "output_type": "stream",
     "text": [
      "C:\\Users\\poeun\\anaconda3\\envs\\NLP\\lib\\site-packages\\ipykernel_launcher.py:10: TqdmDeprecationWarning: This function will be removed in tqdm==5.0.0\n",
      "Please use `tqdm.notebook.tqdm` instead of `tqdm.tqdm_notebook`\n",
      "  # Remove the CWD from sys.path while we load stuff.\n"
     ]
    },
    {
     "data": {
      "application/vnd.jupyter.widget-view+json": {
       "model_id": "da03d59639904ee5838b6b9c15f6f94d",
       "version_major": 2,
       "version_minor": 0
      },
      "text/plain": [
       "  0%|          | 0/10 [00:00<?, ?it/s]"
      ]
     },
     "metadata": {},
     "output_type": "display_data"
    },
    {
     "name": "stdout",
     "output_type": "stream",
     "text": [
      "https://blog.naver.com/jjmmee4805?Redirect=Log&logNo=222544031649\n",
      "https://blog.naver.com/yunmisense?Redirect=Log&logNo=222543665910\n",
      "https://blog.naver.com/lucidbreeze7?Redirect=Log&logNo=222550187213\n",
      "https://blog.naver.com/80milk?Redirect=Log&logNo=222542974091\n",
      "https://blog.naver.com/fayefaye79?Redirect=Log&logNo=222519980401\n",
      "https://blog.naver.com/lee700415?Redirect=Log&logNo=222545119456\n",
      "https://blog.naver.com/tsu_star?Redirect=Log&logNo=222500134412\n",
      "https://blog.naver.com/juneyoup1?Redirect=Log&logNo=222536264617\n",
      "https://blog.naver.com/wltjsk12?Redirect=Log&logNo=222549773706\n",
      "https://blog.naver.com/cinemadrea?Redirect=Log&logNo=222530310283\n"
     ]
    },
    {
     "data": {
      "application/vnd.jupyter.widget-view+json": {
       "model_id": "2c2f1102a6a443aca6ad90cdbb959b10",
       "version_major": 2,
       "version_minor": 0
      },
      "text/plain": [
       "  0%|          | 0/10 [00:00<?, ?it/s]"
      ]
     },
     "metadata": {},
     "output_type": "display_data"
    },
    {
     "name": "stdout",
     "output_type": "stream",
     "text": [
      "https://blog.naver.com/hwgi01?Redirect=Log&logNo=222520817861\n",
      "https://blog.naver.com/digicco?Redirect=Log&logNo=222545955620\n",
      "https://blog.naver.com/army7x?Redirect=Log&logNo=222550622223\n",
      "https://blog.naver.com/haree42?Redirect=Log&logNo=222543367605\n",
      "https://blog.naver.com/1day1study?Redirect=Log&logNo=222550734803\n",
      "https://blog.naver.com/pjj0624?Redirect=Log&logNo=222546584355\n",
      "https://blog.naver.com/vhglglgl?Redirect=Log&logNo=222547724576\n",
      "https://blog.naver.com/goodozone?Redirect=Log&logNo=222548973074\n",
      "https://blog.naver.com/swmjlove012?Redirect=Log&logNo=222550596774\n",
      "https://blog.naver.com/karisma9013?Redirect=Log&logNo=222545333164\n"
     ]
    },
    {
     "data": {
      "application/vnd.jupyter.widget-view+json": {
       "model_id": "62ae960f88b44525a95c1ca03cfab001",
       "version_major": 2,
       "version_minor": 0
      },
      "text/plain": [
       "  0%|          | 0/10 [00:00<?, ?it/s]"
      ]
     },
     "metadata": {},
     "output_type": "display_data"
    },
    {
     "name": "stdout",
     "output_type": "stream",
     "text": [
      "https://blog.naver.com/lifeitself?Redirect=Log&logNo=222543243690\n",
      "https://blog.naver.com/myungkko?Redirect=Log&logNo=222546616961\n",
      "https://blog.naver.com/jenny_on?Redirect=Log&logNo=222542837669\n",
      "https://blog.naver.com/khn619?Redirect=Log&logNo=222463444045\n",
      "https://blog.naver.com/msent2287?Redirect=Log&logNo=222549327781\n",
      "https://blog.naver.com/enzp0310?Redirect=Log&logNo=222548802488\n",
      "https://blog.naver.com/kueeun?Redirect=Log&logNo=222548039160\n",
      "https://blog.naver.com/cescomembers?Redirect=Log&logNo=222548645049\n",
      "https://blog.naver.com/busan_suyeong?Redirect=Log&logNo=222545779723\n",
      "https://blog.naver.com/crushplayer?Redirect=Log&logNo=222547649055\n"
     ]
    },
    {
     "data": {
      "application/vnd.jupyter.widget-view+json": {
       "model_id": "08ebc7a75cc3439b95b5a2a712e36729",
       "version_major": 2,
       "version_minor": 0
      },
      "text/plain": [
       "  0%|          | 0/10 [00:00<?, ?it/s]"
      ]
     },
     "metadata": {},
     "output_type": "display_data"
    },
    {
     "name": "stdout",
     "output_type": "stream",
     "text": [
      "https://blog.naver.com/hwgi01?Redirect=Log&logNo=222496985290\n",
      "https://blog.naver.com/goodozone?Redirect=Log&logNo=222549322096\n",
      "https://blog.naver.com/kangzzz80?Redirect=Log&logNo=222544809403\n",
      "https://blog.naver.com/apple0006175?Redirect=Log&logNo=222539953850\n",
      "https://blog.naver.com/psto1002?Redirect=Log&logNo=222549296064\n",
      "https://blog.naver.com/green557?Redirect=Log&logNo=222519474348\n",
      "https://blog.naver.com/nihaoyoga?Redirect=Log&logNo=222543118692\n",
      "https://blog.naver.com/jenny_on?Redirect=Log&logNo=222547700652\n",
      "https://blog.naver.com/alsrudch?Redirect=Log&logNo=222550546132\n",
      "https://blog.naver.com/kahp_blog?Redirect=Log&logNo=222527055904\n"
     ]
    },
    {
     "data": {
      "application/vnd.jupyter.widget-view+json": {
       "model_id": "71dbeeb021d24e82ae4c67b6cd87ad42",
       "version_major": 2,
       "version_minor": 0
      },
      "text/plain": [
       "  0%|          | 0/10 [00:00<?, ?it/s]"
      ]
     },
     "metadata": {},
     "output_type": "display_data"
    },
    {
     "name": "stdout",
     "output_type": "stream",
     "text": [
      "https://blog.naver.com/ok_hira?Redirect=Log&logNo=222540567359\n",
      "https://blog.naver.com/jijjang77?Redirect=Log&logNo=222488090856\n",
      "https://blog.naver.com/vberryv?Redirect=Log&logNo=222543008657\n",
      "https://blog.naver.com/hwgi01?Redirect=Log&logNo=222535784001\n",
      "https://blog.naver.com/bbekimha?Redirect=Log&logNo=222548694474\n",
      "https://blog.naver.com/joaran_?Redirect=Log&logNo=222544754410\n",
      "https://blog.naver.com/msent2287?Redirect=Log&logNo=222524478441\n",
      "https://blog.naver.com/rihagaqaz?Redirect=Log&logNo=222548097443\n",
      "https://blog.naver.com/1day1study?Redirect=Log&logNo=222530696448\n",
      "https://blog.naver.com/skysora21?Redirect=Log&logNo=222543857159\n"
     ]
    },
    {
     "data": {
      "application/vnd.jupyter.widget-view+json": {
       "model_id": "8e6c81b9dc534f10aadffc8c2cbe13ac",
       "version_major": 2,
       "version_minor": 0
      },
      "text/plain": [
       "  0%|          | 0/10 [00:00<?, ?it/s]"
      ]
     },
     "metadata": {},
     "output_type": "display_data"
    },
    {
     "name": "stdout",
     "output_type": "stream",
     "text": [
      "https://blog.naver.com/youn0107?Redirect=Log&logNo=222541435011\n",
      "https://blog.naver.com/mconking?Redirect=Log&logNo=222548958175\n",
      "https://blog.naver.com/plustong?Redirect=Log&logNo=222535711886\n",
      "https://blog.naver.com/dodks?Redirect=Log&logNo=222545896040\n",
      "https://blog.naver.com/tnalhong?Redirect=Log&logNo=222551098675\n",
      "https://blog.naver.com/goodozone?Redirect=Log&logNo=222542955455\n",
      "https://blog.naver.com/hs1004m?Redirect=Log&logNo=222536251639\n",
      "https://blog.naver.com/pul_saem?Redirect=Log&logNo=222529452913\n",
      "https://blog.naver.com/rosemary1009?Redirect=Log&logNo=222550956177\n",
      "https://blog.naver.com/gamjaya09?Redirect=Log&logNo=222551052587\n"
     ]
    },
    {
     "data": {
      "application/vnd.jupyter.widget-view+json": {
       "model_id": "9dd095e9d33a4d53990e2ebe97494b16",
       "version_major": 2,
       "version_minor": 0
      },
      "text/plain": [
       "  0%|          | 0/10 [00:00<?, ?it/s]"
      ]
     },
     "metadata": {},
     "output_type": "display_data"
    },
    {
     "name": "stdout",
     "output_type": "stream",
     "text": [
      "https://blog.naver.com/1day1study?Redirect=Log&logNo=222520320508\n",
      "https://blog.naver.com/xianly?Redirect=Log&logNo=222541797710\n",
      "https://blog.naver.com/wingspress?Redirect=Log&logNo=222547664618\n",
      "https://blog.naver.com/zippozip?Redirect=Log&logNo=222534620240\n",
      "https://blog.naver.com/jinguy1981?Redirect=Log&logNo=222542939366\n",
      "https://blog.naver.com/bestladakh?Redirect=Log&logNo=222485056716\n",
      "https://blog.naver.com/nodun?Redirect=Log&logNo=222549246146\n",
      "https://blog.naver.com/splendidly?Redirect=Log&logNo=222535261858\n",
      "https://blog.naver.com/stopthe1?Redirect=Log&logNo=222545040375\n",
      "https://blog.naver.com/sagang17?Redirect=Log&logNo=222546196581\n"
     ]
    },
    {
     "data": {
      "application/vnd.jupyter.widget-view+json": {
       "model_id": "95dba513bcc447339c16b570a63dc987",
       "version_major": 2,
       "version_minor": 0
      },
      "text/plain": [
       "  0%|          | 0/10 [00:00<?, ?it/s]"
      ]
     },
     "metadata": {},
     "output_type": "display_data"
    },
    {
     "name": "stdout",
     "output_type": "stream",
     "text": [
      "https://blog.naver.com/benoben?Redirect=Log&logNo=222546912435\n",
      "https://blog.naver.com/yup0820?Redirect=Log&logNo=222537588900\n",
      "https://blog.naver.com/janepark0921?Redirect=Log&logNo=222542666919\n",
      "https://blog.naver.com/ieeemy0526?Redirect=Log&logNo=222550852696\n",
      "https://blog.naver.com/kahp_blog?Redirect=Log&logNo=222518654413\n",
      "https://blog.naver.com/goodozone?Redirect=Log&logNo=222550302789\n",
      "https://blog.naver.com/realmaman?Redirect=Log&logNo=222547757104\n",
      "https://blog.naver.com/che137?Redirect=Log&logNo=222529631290\n",
      "https://blog.naver.com/dbwl542?Redirect=Log&logNo=222547151874\n",
      "https://blog.naver.com/pcc_751?Redirect=Log&logNo=222533533433\n"
     ]
    },
    {
     "data": {
      "application/vnd.jupyter.widget-view+json": {
       "model_id": "b17dd2d856884a38a4b0275b3dcdc300",
       "version_major": 2,
       "version_minor": 0
      },
      "text/plain": [
       "  0%|          | 0/10 [00:00<?, ?it/s]"
      ]
     },
     "metadata": {},
     "output_type": "display_data"
    },
    {
     "name": "stdout",
     "output_type": "stream",
     "text": [
      "https://blog.naver.com/divadance?Redirect=Log&logNo=222537722261\n",
      "https://blog.naver.com/81sukhome?Redirect=Log&logNo=222543721218\n",
      "https://blog.naver.com/winghundred?Redirect=Log&logNo=222547321605\n",
      "https://blog.naver.com/aryun8970?Redirect=Log&logNo=222545176658\n",
      "https://blog.naver.com/tlswnscjf1?Redirect=Log&logNo=222547095647\n",
      "https://blog.naver.com/ky130720?Redirect=Log&logNo=222546441044\n",
      "https://blog.naver.com/1day1study?Redirect=Log&logNo=222485801256\n",
      "https://blog.naver.com/el512?Redirect=Log&logNo=222544111860\n",
      "https://blog.naver.com/goodozone?Redirect=Log&logNo=222533007632\n",
      "https://blog.naver.com/yohandb?Redirect=Log&logNo=222550195441\n"
     ]
    },
    {
     "data": {
      "application/vnd.jupyter.widget-view+json": {
       "model_id": "87e647f52a134e92bb2055d90168adc8",
       "version_major": 2,
       "version_minor": 0
      },
      "text/plain": [
       "  0%|          | 0/9 [00:00<?, ?it/s]"
      ]
     },
     "metadata": {},
     "output_type": "display_data"
    },
    {
     "name": "stdout",
     "output_type": "stream",
     "text": [
      "https://blog.naver.com/iamsuki06?Redirect=Log&logNo=222547117464\n",
      "https://blog.naver.com/00bbmo00?Redirect=Log&logNo=222546069631\n",
      "https://blog.naver.com/shinbish?Redirect=Log&logNo=222538816251\n",
      "https://blog.naver.com/goodozone?Redirect=Log&logNo=222546201449\n",
      "https://blog.naver.com/minjae0413?Redirect=Log&logNo=222545293312\n",
      "https://blog.naver.com/sj0602k?Redirect=Log&logNo=222540877275\n",
      "https://blog.naver.com/younacake?Redirect=Log&logNo=222551139035\n",
      "https://blog.naver.com/goodozone?Redirect=Log&logNo=222551132155\n",
      "https://blog.naver.com/calb30095?Redirect=Log&logNo=222551140645\n"
     ]
    },
    {
     "data": {
      "application/vnd.jupyter.widget-view+json": {
       "model_id": "20fd12ded9064bdbb1151268dd6d7932",
       "version_major": 2,
       "version_minor": 0
      },
      "text/plain": [
       "  0%|          | 0/9 [00:00<?, ?it/s]"
      ]
     },
     "metadata": {},
     "output_type": "display_data"
    },
    {
     "name": "stdout",
     "output_type": "stream",
     "text": [
      "https://blog.naver.com/hj_alice?Redirect=Log&logNo=222537110249\n",
      "https://blog.naver.com/conch2232?Redirect=Log&logNo=222526314474\n",
      "https://blog.naver.com/yimji44?Redirect=Log&logNo=222539000222\n",
      "https://blog.naver.com/lee700415?Redirect=Log&logNo=222546541406\n",
      "https://blog.naver.com/ssongae?Redirect=Log&logNo=222544870014\n",
      "https://blog.naver.com/min_ji73?Redirect=Log&logNo=222535067854\n",
      "https://blog.naver.com/ironmask0728?Redirect=Log&logNo=222547526583\n",
      "https://blog.naver.com/iamfrontiet?Redirect=Log&logNo=222503345984\n",
      "https://blog.naver.com/leemoc1008?Redirect=Log&logNo=222548054830\n"
     ]
    },
    {
     "data": {
      "application/vnd.jupyter.widget-view+json": {
       "model_id": "57f75529759244e1b280ba1a211ff3dc",
       "version_major": 2,
       "version_minor": 0
      },
      "text/plain": [
       "  0%|          | 0/10 [00:00<?, ?it/s]"
      ]
     },
     "metadata": {},
     "output_type": "display_data"
    },
    {
     "name": "stdout",
     "output_type": "stream",
     "text": [
      "https://blog.naver.com/minyun0711?Redirect=Log&logNo=222543702556\n",
      "https://blog.naver.com/everything91?Redirect=Log&logNo=222543333699\n",
      "https://blog.naver.com/jjy_0020?Redirect=Log&logNo=222527881216\n",
      "https://blog.naver.com/songc1247?Redirect=Log&logNo=222446967347\n",
      "https://blog.naver.com/oasisl?Redirect=Log&logNo=222541752846\n",
      "https://blog.naver.com/mlovehot140?Redirect=Log&logNo=222534912061\n",
      "https://blog.naver.com/miaka123?Redirect=Log&logNo=222540785567\n",
      "https://blog.naver.com/teaser1?Redirect=Log&logNo=222544273340\n",
      "https://blog.naver.com/sjloveu2?Redirect=Log&logNo=222486061674\n",
      "https://blog.naver.com/icdie00?Redirect=Log&logNo=222532102037\n"
     ]
    },
    {
     "data": {
      "application/vnd.jupyter.widget-view+json": {
       "model_id": "b2b9d315dffb464f959be477f8681495",
       "version_major": 2,
       "version_minor": 0
      },
      "text/plain": [
       "  0%|          | 0/9 [00:00<?, ?it/s]"
      ]
     },
     "metadata": {},
     "output_type": "display_data"
    },
    {
     "name": "stdout",
     "output_type": "stream",
     "text": [
      "https://blog.naver.com/friedlip?Redirect=Log&logNo=222546836061\n",
      "https://blog.naver.com/goodozone?Redirect=Log&logNo=222542216194\n",
      "https://blog.naver.com/pandora002?Redirect=Log&logNo=222545927314\n",
      "https://blog.naver.com/jini33e?Redirect=Log&logNo=222545271826\n",
      "https://blog.naver.com/h4723671?Redirect=Log&logNo=222536481987\n",
      "https://blog.naver.com/h1205?Redirect=Log&logNo=222539821081\n",
      "https://blog.naver.com/cubjs?Redirect=Log&logNo=222547715627\n",
      "https://blog.naver.com/cocoro323?Redirect=Log&logNo=222539067119\n",
      "https://blog.naver.com/ccyoon72?Redirect=Log&logNo=222540493316\n"
     ]
    },
    {
     "data": {
      "application/vnd.jupyter.widget-view+json": {
       "model_id": "c5e67b90b055408dbaf30dbabd936908",
       "version_major": 2,
       "version_minor": 0
      },
      "text/plain": [
       "  0%|          | 0/10 [00:00<?, ?it/s]"
      ]
     },
     "metadata": {},
     "output_type": "display_data"
    },
    {
     "name": "stdout",
     "output_type": "stream",
     "text": [
      "https://blog.naver.com/aldus_06?Redirect=Log&logNo=222502496356\n",
      "https://blog.naver.com/bbekimha?Redirect=Log&logNo=222466117138\n",
      "https://blog.naver.com/boring_29?Redirect=Log&logNo=222543708022\n",
      "https://blog.naver.com/ch90486?Redirect=Log&logNo=222517851212\n",
      "https://blog.naver.com/dj_hospital?Redirect=Log&logNo=222537216808\n",
      "https://blog.naver.com/lmhji?Redirect=Log&logNo=222538763967\n",
      "https://blog.naver.com/zmfnwm333?Redirect=Log&logNo=222529197342\n",
      "https://blog.naver.com/truepsh3?Redirect=Log&logNo=222545054177\n",
      "https://blog.naver.com/jajonsim34?Redirect=Log&logNo=222545713641\n",
      "https://blog.naver.com/grandheamur?Redirect=Log&logNo=222454103362\n"
     ]
    },
    {
     "data": {
      "application/vnd.jupyter.widget-view+json": {
       "model_id": "ca89e9603ba84387b1125e38f2c7760e",
       "version_major": 2,
       "version_minor": 0
      },
      "text/plain": [
       "  0%|          | 0/9 [00:00<?, ?it/s]"
      ]
     },
     "metadata": {},
     "output_type": "display_data"
    },
    {
     "name": "stdout",
     "output_type": "stream",
     "text": [
      "https://blog.naver.com/let81?Redirect=Log&logNo=222538222357\n",
      "https://blog.naver.com/chasunghan?Redirect=Log&logNo=222533995158\n",
      "https://blog.naver.com/peace_2000?Redirect=Log&logNo=222528159921\n",
      "https://blog.naver.com/uchinup?Redirect=Log&logNo=222500203842\n",
      "https://blog.naver.com/rainyzoo76?Redirect=Log&logNo=222533057234\n",
      "https://blog.naver.com/jirrya?Redirect=Log&logNo=222539168401\n",
      "https://blog.naver.com/jugangyopo?Redirect=Log&logNo=222508402442\n",
      "https://blog.naver.com/ruluri?Redirect=Log&logNo=222538592499\n",
      "https://blog.naver.com/kiskis9663?Redirect=Log&logNo=222535388359\n"
     ]
    },
    {
     "data": {
      "application/vnd.jupyter.widget-view+json": {
       "model_id": "1e9c614374be48a5b953847a24848bb4",
       "version_major": 2,
       "version_minor": 0
      },
      "text/plain": [
       "  0%|          | 0/10 [00:00<?, ?it/s]"
      ]
     },
     "metadata": {},
     "output_type": "display_data"
    },
    {
     "name": "stdout",
     "output_type": "stream",
     "text": [
      "https://blog.naver.com/hamds2qwe?Redirect=Log&logNo=222540855529\n",
      "https://blog.naver.com/1004goods?Redirect=Log&logNo=222417384866\n",
      "https://blog.naver.com/dongi0508?Redirect=Log&logNo=222501163371\n",
      "https://blog.naver.com/415minah?Redirect=Log&logNo=222548713680\n",
      "https://blog.naver.com/gazette7739?Redirect=Log&logNo=222542539551\n",
      "https://blog.naver.com/jmajsm?Redirect=Log&logNo=222495593117\n",
      "https://blog.naver.com/goodozone?Redirect=Log&logNo=222539751017\n",
      "https://blog.naver.com/apple0006175?Redirect=Log&logNo=222540872613\n",
      "https://blog.naver.com/wndnlek?Redirect=Log&logNo=222546469646\n",
      "https://blog.naver.com/dmswude?Redirect=Log&logNo=222505560913\n"
     ]
    },
    {
     "data": {
      "application/vnd.jupyter.widget-view+json": {
       "model_id": "284ae24f0559460eae2be0fd9a7d86c9",
       "version_major": 2,
       "version_minor": 0
      },
      "text/plain": [
       "  0%|          | 0/10 [00:00<?, ?it/s]"
      ]
     },
     "metadata": {},
     "output_type": "display_data"
    },
    {
     "name": "stdout",
     "output_type": "stream",
     "text": [
      "https://blog.naver.com/sy900523?Redirect=Log&logNo=222540466288\n",
      "https://blog.naver.com/pcc_751?Redirect=Log&logNo=222535723245\n",
      "https://blog.naver.com/mulin23?Redirect=Log&logNo=222536632146\n",
      "https://blog.naver.com/mind-re?Redirect=Log&logNo=222535644531\n",
      "https://blog.naver.com/goodozone?Redirect=Log&logNo=222544010715\n",
      "https://blog.naver.com/xhahrgirl?Redirect=Log&logNo=222540373304\n",
      "https://blog.naver.com/ohappy3970?Redirect=Log&logNo=222539339955\n",
      "https://blog.naver.com/leesohyun82?Redirect=Log&logNo=222535411484\n",
      "https://blog.naver.com/goodozone?Redirect=Log&logNo=222541540637\n",
      "https://blog.naver.com/peace_2000?Redirect=Log&logNo=222500124051\n"
     ]
    },
    {
     "data": {
      "application/vnd.jupyter.widget-view+json": {
       "model_id": "7456929b2278456c8aaa85889202e07a",
       "version_major": 2,
       "version_minor": 0
      },
      "text/plain": [
       "  0%|          | 0/10 [00:00<?, ?it/s]"
      ]
     },
     "metadata": {},
     "output_type": "display_data"
    },
    {
     "name": "stdout",
     "output_type": "stream",
     "text": [
      "https://blog.naver.com/hjy9981?Redirect=Log&logNo=222540535992\n",
      "https://blog.naver.com/dosol21c?Redirect=Log&logNo=222537363598\n",
      "https://blog.naver.com/bhchang61?Redirect=Log&logNo=222533614501\n",
      "https://blog.naver.com/coffeensalad?Redirect=Log&logNo=222550393644\n",
      "https://blog.naver.com/annmokdong?Redirect=Log&logNo=222545816869\n",
      "https://blog.naver.com/kuku74?Redirect=Log&logNo=222538540249\n",
      "https://blog.naver.com/blass46?Redirect=Log&logNo=222531249189\n",
      "https://blog.naver.com/che137?Redirect=Log&logNo=222476117939\n",
      "https://blog.naver.com/youn0107?Redirect=Log&logNo=222518014108\n",
      "https://blog.naver.com/lih7912?Redirect=Log&logNo=222535440528\n"
     ]
    },
    {
     "data": {
      "application/vnd.jupyter.widget-view+json": {
       "model_id": "836a881df55147fb85dcae5d9c5f9210",
       "version_major": 2,
       "version_minor": 0
      },
      "text/plain": [
       "  0%|          | 0/10 [00:00<?, ?it/s]"
      ]
     },
     "metadata": {},
     "output_type": "display_data"
    },
    {
     "name": "stdout",
     "output_type": "stream",
     "text": [
      "https://blog.naver.com/mintkiwi24?Redirect=Log&logNo=222532244528\n",
      "https://blog.naver.com/bestladakh?Redirect=Log&logNo=222441639525\n",
      "https://blog.naver.com/jamjma98?Redirect=Log&logNo=222542707446\n",
      "https://blog.naver.com/mord?Redirect=Log&logNo=222537022968\n",
      "https://blog.naver.com/dntjd291?Redirect=Log&logNo=222463447904\n",
      "https://blog.naver.com/nexuss0226?Redirect=Log&logNo=222527732026\n",
      "https://blog.naver.com/ch90486?Redirect=Log&logNo=222517103435\n",
      "https://blog.naver.com/xxxxhotxxxx?Redirect=Log&logNo=222536285856\n",
      "https://blog.naver.com/hurkle97?Redirect=Log&logNo=222514073973\n",
      "https://blog.naver.com/jmajsm?Redirect=Log&logNo=222532454493\n"
     ]
    },
    {
     "data": {
      "application/vnd.jupyter.widget-view+json": {
       "model_id": "9d2a0d0df7dc4189bcf8c6eb062fb4a1",
       "version_major": 2,
       "version_minor": 0
      },
      "text/plain": [
       "  0%|          | 0/9 [00:00<?, ?it/s]"
      ]
     },
     "metadata": {},
     "output_type": "display_data"
    },
    {
     "name": "stdout",
     "output_type": "stream",
     "text": [
      "https://blog.naver.com/alswl09100?Redirect=Log&logNo=222451174186\n",
      "https://blog.naver.com/cherrypuddin?Redirect=Log&logNo=222502192928\n",
      "https://blog.naver.com/hoppangcat?Redirect=Log&logNo=222536152770\n",
      "https://blog.naver.com/jylhee0704?Redirect=Log&logNo=222524088324\n",
      "https://blog.naver.com/hyouncho2?Redirect=Log&logNo=222486552399\n",
      "https://blog.naver.com/8olive?Redirect=Log&logNo=222551036855\n",
      "https://blog.naver.com/jakojako?Redirect=Log&logNo=222492635560\n",
      "https://blog.naver.com/sbc1309?Redirect=Log&logNo=222536020525\n",
      "https://blog.naver.com/goodozone?Redirect=Log&logNo=222539592100\n"
     ]
    },
    {
     "data": {
      "application/vnd.jupyter.widget-view+json": {
       "model_id": "50532752816f469e99e3694b81d7208a",
       "version_major": 2,
       "version_minor": 0
      },
      "text/plain": [
       "  0%|          | 0/10 [00:00<?, ?it/s]"
      ]
     },
     "metadata": {},
     "output_type": "display_data"
    },
    {
     "name": "stdout",
     "output_type": "stream",
     "text": [
      "https://blog.naver.com/genie112?Redirect=Log&logNo=222524233971\n",
      "https://blog.naver.com/flower158?Redirect=Log&logNo=222523124715\n",
      "https://blog.naver.com/younalove2?Redirect=Log&logNo=222471484063\n",
      "https://blog.naver.com/ping0077?Redirect=Log&logNo=222527068255\n",
      "https://blog.naver.com/jungwon5173?Redirect=Log&logNo=222536054677\n",
      "https://blog.naver.com/ayr0609?Redirect=Log&logNo=222530549668\n",
      "https://blog.naver.com/sincelover01?Redirect=Log&logNo=222528400284\n",
      "https://blog.naver.com/dajo815?Redirect=Log&logNo=222537319188\n",
      "https://blog.naver.com/sawnea?Redirect=Log&logNo=222539496932\n",
      "https://blog.naver.com/jangmi5474?Redirect=Log&logNo=222533873935\n"
     ]
    },
    {
     "data": {
      "application/vnd.jupyter.widget-view+json": {
       "model_id": "dbd4a041270543548c5b7fe1a3c6c683",
       "version_major": 2,
       "version_minor": 0
      },
      "text/plain": [
       "  0%|          | 0/9 [00:00<?, ?it/s]"
      ]
     },
     "metadata": {},
     "output_type": "display_data"
    },
    {
     "name": "stdout",
     "output_type": "stream",
     "text": [
      "https://blog.naver.com/bbogle0518?Redirect=Log&logNo=222530148787\n",
      "https://blog.naver.com/hanjhee?Redirect=Log&logNo=222527052939\n",
      "https://blog.naver.com/wldus318?Redirect=Log&logNo=222521033873\n",
      "https://blog.naver.com/goodozone?Redirect=Log&logNo=222537083948\n",
      "https://blog.naver.com/sunmyk1?Redirect=Log&logNo=222540352847\n",
      "https://blog.naver.com/weepingcloud?Redirect=Log&logNo=222534717945\n",
      "https://blog.naver.com/conch2232?Redirect=Log&logNo=222489335322\n",
      "https://blog.naver.com/cuijs168?Redirect=Log&logNo=222532973422\n",
      "https://blog.naver.com/heyloveyou19?Redirect=Log&logNo=222523322002\n"
     ]
    },
    {
     "data": {
      "application/vnd.jupyter.widget-view+json": {
       "model_id": "cc8831ee30aa406fa105ce556d1045ee",
       "version_major": 2,
       "version_minor": 0
      },
      "text/plain": [
       "  0%|          | 0/9 [00:00<?, ?it/s]"
      ]
     },
     "metadata": {},
     "output_type": "display_data"
    },
    {
     "name": "stdout",
     "output_type": "stream",
     "text": [
      "https://blog.naver.com/pcc_751?Redirect=Log&logNo=222533505134\n",
      "https://blog.naver.com/g9bonyam?Redirect=Log&logNo=222521881844\n",
      "https://blog.naver.com/notsilly?Redirect=Log&logNo=222538919014\n",
      "https://blog.naver.com/goodozone?Redirect=Log&logNo=222537485262\n",
      "https://blog.naver.com/hs1004m?Redirect=Log&logNo=222504419246\n",
      "https://blog.naver.com/gimpo2010?Redirect=Log&logNo=222522452522\n",
      "https://blog.naver.com/sjban0126?Redirect=Log&logNo=222540949395\n",
      "https://blog.naver.com/stu1985?Redirect=Log&logNo=222517754458\n",
      "https://blog.naver.com/hackiss?Redirect=Log&logNo=222498283877\n"
     ]
    },
    {
     "data": {
      "application/vnd.jupyter.widget-view+json": {
       "model_id": "7797bf800f9a4e09bcc402997f60d8c3",
       "version_major": 2,
       "version_minor": 0
      },
      "text/plain": [
       "  0%|          | 0/10 [00:00<?, ?it/s]"
      ]
     },
     "metadata": {},
     "output_type": "display_data"
    },
    {
     "name": "stdout",
     "output_type": "stream",
     "text": [
      "https://blog.naver.com/seo8587?Redirect=Log&logNo=222541735012\n",
      "https://blog.naver.com/jhair0922?Redirect=Log&logNo=222501358091\n",
      "https://blog.naver.com/l_vsoft?Redirect=Log&logNo=222524267905\n",
      "https://blog.naver.com/cinemadrea?Redirect=Log&logNo=222523296228\n",
      "https://blog.naver.com/yimin3181?Redirect=Log&logNo=222363474471\n",
      "https://blog.naver.com/younacake?Redirect=Log&logNo=222524220189\n",
      "https://blog.naver.com/kbsavingsbk?Redirect=Log&logNo=222541407517\n",
      "https://blog.naver.com/byunhj213?Redirect=Log&logNo=222515214706\n",
      "https://blog.naver.com/choine7?Redirect=Log&logNo=222516289653\n",
      "https://blog.naver.com/thd7023?Redirect=Log&logNo=222484953609\n"
     ]
    },
    {
     "data": {
      "application/vnd.jupyter.widget-view+json": {
       "model_id": "cfe2a8628e9d452e83b103a80d72aafe",
       "version_major": 2,
       "version_minor": 0
      },
      "text/plain": [
       "  0%|          | 0/9 [00:00<?, ?it/s]"
      ]
     },
     "metadata": {},
     "output_type": "display_data"
    },
    {
     "name": "stdout",
     "output_type": "stream",
     "text": [
      "https://blog.naver.com/allision77?Redirect=Log&logNo=222541483521\n",
      "https://blog.naver.com/tjwdrud2573?Redirect=Log&logNo=222536529476\n",
      "https://blog.naver.com/ls5858?Redirect=Log&logNo=222542100531\n",
      "https://blog.naver.com/dreamsjj?Redirect=Log&logNo=222509165026\n",
      "https://blog.naver.com/vicky327?Redirect=Log&logNo=222529916204\n",
      "https://blog.naver.com/dancemap?Redirect=Log&logNo=222469865312\n",
      "https://blog.naver.com/rirurang?Redirect=Log&logNo=222518447943\n",
      "https://blog.naver.com/milky016?Redirect=Log&logNo=222528552579\n",
      "https://blog.naver.com/yunmi999?Redirect=Log&logNo=222541334550\n"
     ]
    },
    {
     "data": {
      "application/vnd.jupyter.widget-view+json": {
       "model_id": "1c033b91422b4cabad0dcbf82480d023",
       "version_major": 2,
       "version_minor": 0
      },
      "text/plain": [
       "  0%|          | 0/10 [00:00<?, ?it/s]"
      ]
     },
     "metadata": {},
     "output_type": "display_data"
    },
    {
     "name": "stdout",
     "output_type": "stream",
     "text": [
      "https://blog.naver.com/ariel0421?Redirect=Log&logNo=222543131491\n",
      "https://blog.naver.com/jamjma98?Redirect=Log&logNo=222538725358\n",
      "https://blog.naver.com/kimmw90?Redirect=Log&logNo=222498285749\n",
      "https://blog.naver.com/nhicblog?Redirect=Log&logNo=222459392582\n",
      "https://blog.naver.com/sweetservant?Redirect=Log&logNo=222519913256\n",
      "https://blog.naver.com/jinick77?Redirect=Log&logNo=222534816605\n",
      "https://blog.naver.com/ttmam2?Redirect=Log&logNo=222529583746\n",
      "https://blog.naver.com/51jm?Redirect=Log&logNo=222516265477\n",
      "https://blog.naver.com/dhl_korea?Redirect=Log&logNo=222533337256\n",
      "https://blog.naver.com/yj5543?Redirect=Log&logNo=222530177195\n"
     ]
    },
    {
     "data": {
      "application/vnd.jupyter.widget-view+json": {
       "model_id": "6fbbb8b456f745d4984b2f37972e118a",
       "version_major": 2,
       "version_minor": 0
      },
      "text/plain": [
       "  0%|          | 0/10 [00:00<?, ?it/s]"
      ]
     },
     "metadata": {},
     "output_type": "display_data"
    },
    {
     "name": "stdout",
     "output_type": "stream",
     "text": [
      "https://blog.naver.com/soslove4?Redirect=Log&logNo=222544037629\n",
      "https://blog.naver.com/soojinkim043?Redirect=Log&logNo=222545629696\n",
      "https://blog.naver.com/tlswnscjf1?Redirect=Log&logNo=222535984381\n",
      "https://blog.naver.com/es00681221?Redirect=Log&logNo=222513398727\n",
      "https://blog.naver.com/hyne81?Redirect=Log&logNo=222539418310\n",
      "https://blog.naver.com/yoonjaezzz?Redirect=Log&logNo=222534855401\n",
      "https://blog.naver.com/8full?Redirect=Log&logNo=222524646500\n",
      "https://blog.naver.com/thro4321?Redirect=Log&logNo=222536430313\n",
      "https://blog.naver.com/sea__memory?Redirect=Log&logNo=222531885243\n",
      "https://blog.naver.com/green557?Redirect=Log&logNo=222416502640\n"
     ]
    },
    {
     "data": {
      "application/vnd.jupyter.widget-view+json": {
       "model_id": "b374e6e1fff24348a8a395df96c27a96",
       "version_major": 2,
       "version_minor": 0
      },
      "text/plain": [
       "  0%|          | 0/9 [00:00<?, ?it/s]"
      ]
     },
     "metadata": {},
     "output_type": "display_data"
    },
    {
     "name": "stdout",
     "output_type": "stream",
     "text": [
      "https://blog.naver.com/ss_30?Redirect=Log&logNo=222464271158\n",
      "https://blog.naver.com/dysnomia?Redirect=Log&logNo=222540567418\n",
      "https://blog.naver.com/deusos?Redirect=Log&logNo=222521999069\n",
      "https://blog.naver.com/peace_2000?Redirect=Log&logNo=222525724249\n",
      "https://blog.naver.com/112611heart?Redirect=Log&logNo=222523957806\n",
      "https://blog.naver.com/uock?Redirect=Log&logNo=222523401409\n",
      "https://blog.naver.com/kbsavingsbk?Redirect=Log&logNo=222534424852\n",
      "https://blog.naver.com/godbelove?Redirect=Log&logNo=222546991570\n",
      "https://blog.naver.com/yeji4152?Redirect=Log&logNo=222515402536\n"
     ]
    },
    {
     "data": {
      "application/vnd.jupyter.widget-view+json": {
       "model_id": "112f3c0613fb42fb80a5879dac9277ca",
       "version_major": 2,
       "version_minor": 0
      },
      "text/plain": [
       "  0%|          | 0/8 [00:00<?, ?it/s]"
      ]
     },
     "metadata": {},
     "output_type": "display_data"
    },
    {
     "name": "stdout",
     "output_type": "stream",
     "text": [
      "https://blog.naver.com/ssleesslee7?Redirect=Log&logNo=222538626295\n",
      "https://blog.naver.com/jenny_on?Redirect=Log&logNo=222540778218\n",
      "https://blog.naver.com/yeongaeng2?Redirect=Log&logNo=222526393825\n",
      "https://blog.naver.com/goodozone?Redirect=Log&logNo=222535998520\n",
      "https://blog.naver.com/8full?Redirect=Log&logNo=222520003259\n",
      "https://blog.naver.com/leehaksoon?Redirect=Log&logNo=222522862626\n",
      "https://blog.naver.com/ssaemee91?Redirect=Log&logNo=222516816937\n",
      "https://blog.naver.com/chn0514?Redirect=Log&logNo=222524953870\n"
     ]
    },
    {
     "data": {
      "application/vnd.jupyter.widget-view+json": {
       "model_id": "05521f4979ad4347b5fe6724ac727445",
       "version_major": 2,
       "version_minor": 0
      },
      "text/plain": [
       "  0%|          | 0/10 [00:00<?, ?it/s]"
      ]
     },
     "metadata": {},
     "output_type": "display_data"
    },
    {
     "name": "stdout",
     "output_type": "stream",
     "text": [
      "https://blog.naver.com/reenaday?Redirect=Log&logNo=222510208722\n",
      "https://blog.naver.com/choikr82?Redirect=Log&logNo=222544992001\n",
      "https://blog.naver.com/dgyoon1004?Redirect=Log&logNo=222530815377\n",
      "https://blog.naver.com/kornicglory12?Redirect=Log&logNo=222499395934\n",
      "https://blog.naver.com/1day1study?Redirect=Log&logNo=222479835059\n",
      "https://blog.naver.com/120seoulcall?Redirect=Log&logNo=222534403477\n",
      "https://blog.naver.com/kida02?Redirect=Log&logNo=222525071447\n",
      "https://blog.naver.com/cjy1444?Redirect=Log&logNo=222515800508\n",
      "https://blog.naver.com/es00681221?Redirect=Log&logNo=222535911051\n",
      "https://blog.naver.com/paulandme?Redirect=Log&logNo=222541194968\n"
     ]
    },
    {
     "data": {
      "application/vnd.jupyter.widget-view+json": {
       "model_id": "4151dfe7b1a4481e811ddd52a57af45c",
       "version_major": 2,
       "version_minor": 0
      },
      "text/plain": [
       "  0%|          | 0/10 [00:00<?, ?it/s]"
      ]
     },
     "metadata": {},
     "output_type": "display_data"
    },
    {
     "name": "stdout",
     "output_type": "stream",
     "text": [
      "https://blog.naver.com/maengjazim?Redirect=Log&logNo=222533002359\n",
      "https://blog.naver.com/sorehead?Redirect=Log&logNo=222541223282\n",
      "https://blog.naver.com/namaste236?Redirect=Log&logNo=222537875581\n",
      "https://blog.naver.com/ssung8998?Redirect=Log&logNo=222515498428\n",
      "https://blog.naver.com/es00681221?Redirect=Log&logNo=222459525892\n",
      "https://blog.naver.com/finemj2?Redirect=Log&logNo=222536155250\n",
      "https://blog.naver.com/dr_heart?Redirect=Log&logNo=222510944700\n",
      "https://blog.naver.com/canonkoreabs?Redirect=Log&logNo=222504396539\n",
      "https://blog.naver.com/agahyaa1004?Redirect=Log&logNo=222539466260\n",
      "https://blog.naver.com/atssa60?Redirect=Log&logNo=222456333429\n"
     ]
    },
    {
     "data": {
      "application/vnd.jupyter.widget-view+json": {
       "model_id": "f8a1c3e89acc4ab294e2f3631ce9eb17",
       "version_major": 2,
       "version_minor": 0
      },
      "text/plain": [
       "  0%|          | 0/10 [00:00<?, ?it/s]"
      ]
     },
     "metadata": {},
     "output_type": "display_data"
    },
    {
     "name": "stdout",
     "output_type": "stream",
     "text": [
      "https://blog.naver.com/wolf9717?Redirect=Log&logNo=222471582497\n",
      "https://blog.naver.com/mammamiano1?Redirect=Log&logNo=222529779614\n",
      "https://blog.naver.com/junioryj?Redirect=Log&logNo=222508888175\n",
      "https://blog.naver.com/hansdaisy?Redirect=Log&logNo=222497248930\n",
      "https://blog.naver.com/dbrud124?Redirect=Log&logNo=222542494338\n",
      "https://blog.naver.com/lovetjsgnl?Redirect=Log&logNo=222442487518\n",
      "https://blog.naver.com/tina7780?Redirect=Log&logNo=222509961789\n",
      "https://blog.naver.com/ponciano?Redirect=Log&logNo=222550086697\n",
      "https://blog.naver.com/sjmcdib1?Redirect=Log&logNo=222533017063\n",
      "https://blog.naver.com/tmddkg?Redirect=Log&logNo=222512168492\n"
     ]
    },
    {
     "data": {
      "application/vnd.jupyter.widget-view+json": {
       "model_id": "f1ed1ec78b0a4ae8a3df8c18596cf62b",
       "version_major": 2,
       "version_minor": 0
      },
      "text/plain": [
       "  0%|          | 0/10 [00:00<?, ?it/s]"
      ]
     },
     "metadata": {},
     "output_type": "display_data"
    },
    {
     "name": "stdout",
     "output_type": "stream",
     "text": [
      "https://blog.naver.com/wolf9717?Redirect=Log&logNo=222549820141\n",
      "https://blog.naver.com/ironmask0728?Redirect=Log&logNo=222540393304\n",
      "https://blog.naver.com/shin3202?Redirect=Log&logNo=222531847182\n",
      "https://blog.naver.com/divadance?Redirect=Log&logNo=222385755319\n",
      "https://blog.naver.com/omg0521?Redirect=Log&logNo=222475908354\n",
      "https://blog.naver.com/thehyebong?Redirect=Log&logNo=222492574751\n",
      "https://blog.naver.com/leffebrown?Redirect=Log&logNo=222529653841\n",
      "https://blog.naver.com/wolf9717?Redirect=Log&logNo=222536737452\n",
      "https://blog.naver.com/worlbe?Redirect=Log&logNo=222514068372\n",
      "https://blog.naver.com/andy_yu?Redirect=Log&logNo=222537378319\n"
     ]
    },
    {
     "data": {
      "application/vnd.jupyter.widget-view+json": {
       "model_id": "ffd1bf586f8a4b9c9c80984f8d2e8f60",
       "version_major": 2,
       "version_minor": 0
      },
      "text/plain": [
       "  0%|          | 0/9 [00:00<?, ?it/s]"
      ]
     },
     "metadata": {},
     "output_type": "display_data"
    },
    {
     "name": "stdout",
     "output_type": "stream",
     "text": [
      "https://blog.naver.com/nerve2016?Redirect=Log&logNo=222518967712\n",
      "https://blog.naver.com/goodozone?Redirect=Log&logNo=222543744687\n",
      "https://blog.naver.com/getout11?Redirect=Log&logNo=222522427527\n",
      "https://blog.naver.com/jd5653?Redirect=Log&logNo=222526142583\n",
      "https://blog.naver.com/cescomembers?Redirect=Log&logNo=222535573107\n",
      "https://blog.naver.com/pinkaki84?Redirect=Log&logNo=222485950625\n",
      "https://blog.naver.com/peace_2000?Redirect=Log&logNo=222477458276\n",
      "https://blog.naver.com/anfakdch210?Redirect=Log&logNo=222464708550\n",
      "https://blog.naver.com/roomy81?Redirect=Log&logNo=222530080651\n"
     ]
    },
    {
     "data": {
      "application/vnd.jupyter.widget-view+json": {
       "model_id": "8604c25ecf07417fa624ec93b619a3d6",
       "version_major": 2,
       "version_minor": 0
      },
      "text/plain": [
       "  0%|          | 0/9 [00:00<?, ?it/s]"
      ]
     },
     "metadata": {},
     "output_type": "display_data"
    },
    {
     "name": "stdout",
     "output_type": "stream",
     "text": [
      "https://blog.naver.com/confites?Redirect=Log&logNo=222531847430\n",
      "https://blog.naver.com/bubblegumpoo?Redirect=Log&logNo=222492559746\n",
      "https://blog.naver.com/leemoc1008?Redirect=Log&logNo=222521351999\n",
      "https://blog.naver.com/gonman2k?Redirect=Log&logNo=222532802274\n",
      "https://blog.naver.com/jowonpil8812?Redirect=Log&logNo=222515906996\n",
      "https://blog.naver.com/vitafullife?Redirect=Log&logNo=222520374218\n",
      "https://blog.naver.com/jkr1231?Redirect=Log&logNo=222529876163\n",
      "https://blog.naver.com/leehaksoon?Redirect=Log&logNo=222527155807\n",
      "https://blog.naver.com/bora912?Redirect=Log&logNo=222529421670\n"
     ]
    },
    {
     "data": {
      "application/vnd.jupyter.widget-view+json": {
       "model_id": "8329235a36c2464dbe7bb8f04d4b83ef",
       "version_major": 2,
       "version_minor": 0
      },
      "text/plain": [
       "  0%|          | 0/10 [00:00<?, ?it/s]"
      ]
     },
     "metadata": {},
     "output_type": "display_data"
    },
    {
     "name": "stdout",
     "output_type": "stream",
     "text": [
      "https://blog.naver.com/barbisuhe?Redirect=Log&logNo=222525098001\n",
      "https://blog.naver.com/lovely1720?Redirect=Log&logNo=222472691915\n",
      "https://blog.naver.com/aaofur?Redirect=Log&logNo=222528783652\n",
      "https://blog.naver.com/ijtchoe?Redirect=Log&logNo=222542789342\n",
      "https://blog.naver.com/kihoon51?Redirect=Log&logNo=222532974494\n",
      "https://blog.naver.com/ping0077?Redirect=Log&logNo=222523440467\n",
      "https://blog.naver.com/bbuingbaby?Redirect=Log&logNo=222533413214\n",
      "https://blog.naver.com/wngml2943?Redirect=Log&logNo=222530717123\n",
      "https://blog.naver.com/meaning87?Redirect=Log&logNo=222489434935\n",
      "https://blog.naver.com/saewooggang5?Redirect=Log&logNo=222544703034\n"
     ]
    },
    {
     "data": {
      "application/vnd.jupyter.widget-view+json": {
       "model_id": "496d203fb89c45aaa876b55980164d50",
       "version_major": 2,
       "version_minor": 0
      },
      "text/plain": [
       "  0%|          | 0/10 [00:00<?, ?it/s]"
      ]
     },
     "metadata": {},
     "output_type": "display_data"
    },
    {
     "name": "stdout",
     "output_type": "stream",
     "text": [
      "https://blog.naver.com/geum8080?Redirect=Log&logNo=222515885363\n",
      "https://blog.naver.com/anys0428?Redirect=Log&logNo=222535605978\n",
      "https://blog.naver.com/jenny_on?Redirect=Log&logNo=222534563515\n",
      "https://blog.naver.com/realkc?Redirect=Log&logNo=222521313119\n",
      "https://blog.naver.com/hwgi01?Redirect=Log&logNo=222456797389\n",
      "https://blog.naver.com/yuya_12?Redirect=Log&logNo=222533144092\n",
      "https://blog.naver.com/peace_2000?Redirect=Log&logNo=222476129266\n",
      "https://blog.naver.com/claire214?Redirect=Log&logNo=222545976234\n",
      "https://blog.naver.com/goodozone?Redirect=Log&logNo=222532762936\n",
      "https://blog.naver.com/dpsystem?Redirect=Log&logNo=222478936963\n"
     ]
    },
    {
     "data": {
      "application/vnd.jupyter.widget-view+json": {
       "model_id": "68aa087763c54796bf72c40b8e0590b2",
       "version_major": 2,
       "version_minor": 0
      },
      "text/plain": [
       "  0%|          | 0/10 [00:00<?, ?it/s]"
      ]
     },
     "metadata": {},
     "output_type": "display_data"
    },
    {
     "name": "stdout",
     "output_type": "stream",
     "text": [
      "https://blog.naver.com/fever0324?Redirect=Log&logNo=222534954785\n",
      "https://blog.naver.com/frankia?Redirect=Log&logNo=222520338121\n",
      "https://blog.naver.com/zenyoga01?Redirect=Log&logNo=222523154875\n",
      "https://blog.naver.com/ambidext?Redirect=Log&logNo=222508592148\n",
      "https://blog.naver.com/dai1123?Redirect=Log&logNo=222534093100\n",
      "https://blog.naver.com/rosasa?Redirect=Log&logNo=222525080679\n",
      "https://blog.naver.com/ok4rang?Redirect=Log&logNo=222481948569\n",
      "https://blog.naver.com/matilda0222?Redirect=Log&logNo=222522021349\n",
      "https://blog.naver.com/cutemink?Redirect=Log&logNo=222520533955\n",
      "https://blog.naver.com/sea_captain?Redirect=Log&logNo=222506733113\n"
     ]
    },
    {
     "data": {
      "application/vnd.jupyter.widget-view+json": {
       "model_id": "de71dfdaa2aa49b985801c445c3dd6ac",
       "version_major": 2,
       "version_minor": 0
      },
      "text/plain": [
       "  0%|          | 0/10 [00:00<?, ?it/s]"
      ]
     },
     "metadata": {},
     "output_type": "display_data"
    },
    {
     "name": "stdout",
     "output_type": "stream",
     "text": [
      "https://blog.naver.com/jamdoong?Redirect=Log&logNo=222456576298\n",
      "https://blog.naver.com/j2ymoon?Redirect=Log&logNo=222528387703\n",
      "https://blog.naver.com/bobbob1999?Redirect=Log&logNo=222533079898\n",
      "https://blog.naver.com/photo_ij?Redirect=Log&logNo=222523297106\n",
      "https://blog.naver.com/jungma51?Redirect=Log&logNo=222534022821\n",
      "https://blog.naver.com/trickofblood?Redirect=Log&logNo=222545674893\n",
      "https://blog.naver.com/blanche15?Redirect=Log&logNo=222508810324\n",
      "https://blog.naver.com/pinkyayaya?Redirect=Log&logNo=222532917773\n",
      "https://blog.naver.com/mitao685?Redirect=Log&logNo=222468139291\n",
      "https://blog.naver.com/mihwaaa?Redirect=Log&logNo=222531174725\n"
     ]
    },
    {
     "data": {
      "application/vnd.jupyter.widget-view+json": {
       "model_id": "6fcbb1df01e246c9a202f402b69cfab3",
       "version_major": 2,
       "version_minor": 0
      },
      "text/plain": [
       "  0%|          | 0/9 [00:00<?, ?it/s]"
      ]
     },
     "metadata": {},
     "output_type": "display_data"
    },
    {
     "name": "stdout",
     "output_type": "stream",
     "text": [
      "https://blog.naver.com/goodozone?Redirect=Log&logNo=222542578775\n",
      "https://blog.naver.com/8olive?Redirect=Log&logNo=222551000518\n",
      "https://blog.naver.com/eotaiji?Redirect=Log&logNo=222536938175\n",
      "https://blog.naver.com/poiuy1024?Redirect=Log&logNo=222527435360\n",
      "https://blog.naver.com/tokyomari?Redirect=Log&logNo=222532736229\n",
      "https://blog.naver.com/sj90980413?Redirect=Log&logNo=222519954418\n",
      "https://blog.naver.com/holyspirit11?Redirect=Log&logNo=222519961110\n",
      "https://blog.naver.com/goodozone?Redirect=Log&logNo=222532168181\n",
      "https://blog.naver.com/sinhyhj?Redirect=Log&logNo=222536721316\n"
     ]
    },
    {
     "data": {
      "application/vnd.jupyter.widget-view+json": {
       "model_id": "e538860c51cd452f9ed536fd79fc9124",
       "version_major": 2,
       "version_minor": 0
      },
      "text/plain": [
       "  0%|          | 0/10 [00:00<?, ?it/s]"
      ]
     },
     "metadata": {},
     "output_type": "display_data"
    },
    {
     "name": "stdout",
     "output_type": "stream",
     "text": [
      "https://blog.naver.com/baby100100?Redirect=Log&logNo=222510135623\n",
      "https://blog.naver.com/shbae3521?Redirect=Log&logNo=222506808397\n",
      "https://blog.naver.com/rokiandjin?Redirect=Log&logNo=222515135250\n",
      "https://blog.naver.com/mrs_english?Redirect=Log&logNo=222523645782\n",
      "https://blog.naver.com/dudbtodghkf?Redirect=Log&logNo=222513991329\n",
      "https://blog.naver.com/chagroup?Redirect=Log&logNo=222455277045\n",
      "https://blog.naver.com/sung_nae?Redirect=Log&logNo=222518160847\n",
      "https://blog.naver.com/t_t2014?Redirect=Log&logNo=222507820217\n",
      "https://blog.naver.com/starkys?Redirect=Log&logNo=222523363483\n",
      "https://blog.naver.com/unilove012?Redirect=Log&logNo=222503503262\n"
     ]
    },
    {
     "data": {
      "application/vnd.jupyter.widget-view+json": {
       "model_id": "c7a0e35ed2e743c394cffea8ee7902aa",
       "version_major": 2,
       "version_minor": 0
      },
      "text/plain": [
       "  0%|          | 0/10 [00:00<?, ?it/s]"
      ]
     },
     "metadata": {},
     "output_type": "display_data"
    },
    {
     "name": "stdout",
     "output_type": "stream",
     "text": [
      "https://blog.naver.com/minji8635?Redirect=Log&logNo=222509350946\n",
      "https://blog.naver.com/digmon2001?Redirect=Log&logNo=222516790139\n",
      "https://blog.naver.com/xhsltjsdud?Redirect=Log&logNo=222506972432\n",
      "https://blog.naver.com/cebuhopping?Redirect=Log&logNo=222526564736\n",
      "https://blog.naver.com/beads0719?Redirect=Log&logNo=222523507121\n",
      "https://blog.naver.com/noeniss?Redirect=Log&logNo=222463939219\n",
      "https://blog.naver.com/goodozone?Redirect=Log&logNo=222527708272\n",
      "https://blog.naver.com/goodozone?Redirect=Log&logNo=222539395818\n",
      "https://blog.naver.com/my_roses89?Redirect=Log&logNo=222510286347\n",
      "https://blog.naver.com/saraminapp?Redirect=Log&logNo=222504368282\n"
     ]
    },
    {
     "data": {
      "application/vnd.jupyter.widget-view+json": {
       "model_id": "c42e99047ef4441db633cb4d5c8c4cde",
       "version_major": 2,
       "version_minor": 0
      },
      "text/plain": [
       "  0%|          | 0/10 [00:00<?, ?it/s]"
      ]
     },
     "metadata": {},
     "output_type": "display_data"
    },
    {
     "name": "stdout",
     "output_type": "stream",
     "text": [
      "https://blog.naver.com/skipkkang?Redirect=Log&logNo=222518767280\n",
      "https://blog.naver.com/kahp_blog?Redirect=Log&logNo=222453956524\n",
      "https://blog.naver.com/ing1177?Redirect=Log&logNo=222539687846\n",
      "https://blog.naver.com/tnwl1445?Redirect=Log&logNo=222535645005\n",
      "https://blog.naver.com/dearsgackt?Redirect=Log&logNo=222516236521\n",
      "https://blog.naver.com/es00681221?Redirect=Log&logNo=222496854034\n",
      "https://blog.naver.com/kujaka?Redirect=Log&logNo=222529860588\n",
      "https://blog.naver.com/cumbarm?Redirect=Log&logNo=222532662655\n",
      "https://blog.naver.com/ddduuu12?Redirect=Log&logNo=222506591364\n",
      "https://blog.naver.com/vfuvslovev?Redirect=Log&logNo=222521647091\n"
     ]
    },
    {
     "data": {
      "application/vnd.jupyter.widget-view+json": {
       "model_id": "1b2fba7c4b014412a0c8b67ccd7807bd",
       "version_major": 2,
       "version_minor": 0
      },
      "text/plain": [
       "  0%|          | 0/10 [00:00<?, ?it/s]"
      ]
     },
     "metadata": {},
     "output_type": "display_data"
    },
    {
     "name": "stdout",
     "output_type": "stream",
     "text": [
      "https://blog.naver.com/jaemyunglee?Redirect=Log&logNo=222546472478\n",
      "https://blog.naver.com/bestladakh?Redirect=Log&logNo=222495981005\n",
      "https://blog.naver.com/rhdnsqlc12?Redirect=Log&logNo=222539582264\n",
      "https://blog.naver.com/hyghhu?Redirect=Log&logNo=222492699502\n",
      "https://blog.naver.com/jinguy1981?Redirect=Log&logNo=222533725614\n",
      "https://blog.naver.com/lunarei?Redirect=Log&logNo=222537173025\n",
      "https://blog.naver.com/pamicusq?Redirect=Log&logNo=222537955071\n",
      "https://blog.naver.com/jungsuni03?Redirect=Log&logNo=222530407505\n",
      "https://blog.naver.com/a_soul214?Redirect=Log&logNo=222546888157\n",
      "https://blog.naver.com/vietnamjang1?Redirect=Log&logNo=222502599402\n"
     ]
    },
    {
     "data": {
      "application/vnd.jupyter.widget-view+json": {
       "model_id": "ec586af10edc4fd49a7a2848c2b1d77d",
       "version_major": 2,
       "version_minor": 0
      },
      "text/plain": [
       "  0%|          | 0/10 [00:00<?, ?it/s]"
      ]
     },
     "metadata": {},
     "output_type": "display_data"
    },
    {
     "name": "stdout",
     "output_type": "stream",
     "text": [
      "https://blog.naver.com/ej01124?Redirect=Log&logNo=222510230674\n",
      "https://blog.naver.com/theuhakus?Redirect=Log&logNo=222528873441\n",
      "https://blog.naver.com/my3596?Redirect=Log&logNo=222527149204\n",
      "https://blog.naver.com/cosreader?Redirect=Log&logNo=222523520369\n",
      "https://blog.naver.com/letsgoyang?Redirect=Log&logNo=222546988577\n",
      "https://blog.naver.com/gusojoa?Redirect=Log&logNo=222542298399\n",
      "https://blog.naver.com/gudgh301?Redirect=Log&logNo=222518109825\n",
      "https://blog.naver.com/bubsakhan?Redirect=Log&logNo=222488594179\n",
      "https://blog.naver.com/alth2214?Redirect=Log&logNo=222436868609\n",
      "https://blog.naver.com/mystarway?Redirect=Log&logNo=222526754650\n"
     ]
    },
    {
     "data": {
      "application/vnd.jupyter.widget-view+json": {
       "model_id": "2ebe983e9c424ac0a8bd8a1a43a011fe",
       "version_major": 2,
       "version_minor": 0
      },
      "text/plain": [
       "  0%|          | 0/10 [00:00<?, ?it/s]"
      ]
     },
     "metadata": {},
     "output_type": "display_data"
    },
    {
     "name": "stdout",
     "output_type": "stream",
     "text": [
      "https://blog.naver.com/rain1052?Redirect=Log&logNo=222523706165\n",
      "https://blog.naver.com/hkyoung68?Redirect=Log&logNo=222517721107\n",
      "https://blog.naver.com/ojepower_a?Redirect=Log&logNo=222527451200\n",
      "https://blog.naver.com/yyssw_?Redirect=Log&logNo=222518247350\n",
      "https://blog.naver.com/zzingi70_1?Redirect=Log&logNo=222514739456\n",
      "https://blog.naver.com/samadi69?Redirect=Log&logNo=222532245499\n",
      "https://blog.naver.com/kida02?Redirect=Log&logNo=222518123096\n",
      "https://blog.naver.com/zzingi70_1?Redirect=Log&logNo=222533508895\n",
      "https://blog.naver.com/oliviaaiden?Redirect=Log&logNo=222522366211\n",
      "https://blog.naver.com/36_univ?Redirect=Log&logNo=222522879334\n"
     ]
    },
    {
     "ename": "KeyboardInterrupt",
     "evalue": "",
     "output_type": "error",
     "traceback": [
      "\u001b[1;31m---------------------------------------------------------------------------\u001b[0m",
      "\u001b[1;31mKeyboardInterrupt\u001b[0m                         Traceback (most recent call last)",
      "\u001b[1;32m<ipython-input-6-326f55771db9>\u001b[0m in \u001b[0;36m<module>\u001b[1;34m\u001b[0m\n\u001b[0;32m     69\u001b[0m     \u001b[0mnaver_news_content\u001b[0m\u001b[1;33m.\u001b[0m\u001b[0mappend\u001b[0m\u001b[1;33m(\u001b[0m\u001b[0mnews_page_content\u001b[0m\u001b[1;33m)\u001b[0m\u001b[1;33m\u001b[0m\u001b[1;33m\u001b[0m\u001b[0m\n\u001b[0;32m     70\u001b[0m \u001b[1;33m\u001b[0m\u001b[0m\n\u001b[1;32m---> 71\u001b[1;33m     \u001b[0mtime\u001b[0m\u001b[1;33m.\u001b[0m\u001b[0msleep\u001b[0m\u001b[1;33m(\u001b[0m\u001b[1;36m2\u001b[0m\u001b[1;33m)\u001b[0m\u001b[1;33m\u001b[0m\u001b[1;33m\u001b[0m\u001b[0m\n\u001b[0m\u001b[0;32m     72\u001b[0m \u001b[1;33m\u001b[0m\u001b[0m\n\u001b[0;32m     73\u001b[0m \u001b[1;33m\u001b[0m\u001b[0m\n",
      "\u001b[1;31mKeyboardInterrupt\u001b[0m: "
     ]
    }
   ],
   "source": [
    "naver_news_title = []\n",
    "naver_news_content = []\n",
    "\n",
    "\n",
    "for n in tqdm_notebook(range(len(naver_news_link))):\n",
    "    #print(n)\n",
    "    news_page_title = []\n",
    "    news_page_content = []\n",
    "    \n",
    "    for idx in tqdm_notebook(range(len(naver_news_link[n]))):\n",
    "        \n",
    "        \n",
    "    ########### 긁어온 URL로 접속하기 ############    \n",
    "        try:\n",
    "            driver.get(naver_news_link[n][idx])\n",
    "            print(naver_news_link[n][idx])\n",
    "            \n",
    "        except:\n",
    "            print(\"Timeout!\")\n",
    "            continue\n",
    "        \n",
    "        \n",
    "        try:\n",
    "            response = driver.page_source\n",
    "            \n",
    "        except UnexpectedAlertPresentException:\n",
    "            driver.switch_to_alert().accept()\n",
    "            print(\"게시글이 삭제된 경우입니다.\")\n",
    "            continue\n",
    "        \n",
    "        soup = BeautifulSoup(response, \"html.parser\")\n",
    "        \n",
    "        ###### 뉴스 타이틀 긁어오기 ######\n",
    "        \n",
    "        title = None\n",
    "        \n",
    "        try:\n",
    "            item = soup.find('div', class_=\"article_info\")\n",
    "            title = item.find('h3', class_=\"tts_head\").get_text()\n",
    "            #print(title)\n",
    "\n",
    "        except:\n",
    "            title = \"OUTLINK\"\n",
    "        \n",
    "        #print(title)\n",
    "        news_page_title.append(title)\n",
    "        \n",
    "        \n",
    "        ###### 뉴스 본문 긁어오기 ######\n",
    "        \n",
    "        doc = None\n",
    "        text = \"\"\n",
    "                \n",
    "        data = soup.find_all(\"div\", {\"class\" : \"_article_body_contents\"})\n",
    "        if data:\n",
    "            for item in data:\n",
    "\n",
    "                text = text + str(item.find_all(text=True)).strip()\n",
    "                text = ast.literal_eval(text)\n",
    "                doc = ' '.join(text)\n",
    "   \n",
    "        else:\n",
    "            doc = \"OUTLINK\"\n",
    "            \n",
    "        news_page_content.append(doc.replace('\\n', ' '))\n",
    "\n",
    "                \n",
    "    naver_news_title.append(news_page_title)\n",
    "    naver_news_content.append(news_page_content)\n",
    "\n",
    "    time.sleep(2)\n",
    "    \n",
    "    \n",
    "print(naver_news_title[0])\n",
    "print(\"==================================\")\n",
    "print(naver_news_content[0])"
   ]
  },
  {
   "cell_type": "code",
   "execution_count": 7,
   "metadata": {},
   "outputs": [
    {
     "name": "stdout",
     "output_type": "stream",
     "text": [
      "['OUTLINK', 'OUTLINK', 'OUTLINK', 'OUTLINK', 'OUTLINK', 'OUTLINK', 'OUTLINK', 'OUTLINK', 'OUTLINK', 'OUTLINK']\n"
     ]
    }
   ],
   "source": [
    "print(naver_news_title[0])"
   ]
  },
  {
   "cell_type": "code",
   "execution_count": 8,
   "metadata": {},
   "outputs": [
    {
     "name": "stdout",
     "output_type": "stream",
     "text": [
      "['OUTLINK', 'OUTLINK', 'OUTLINK', 'OUTLINK', 'OUTLINK', 'OUTLINK', 'OUTLINK', 'OUTLINK', 'OUTLINK', 'OUTLINK']\n"
     ]
    }
   ],
   "source": [
    "print(naver_news_content[0])"
   ]
  },
  {
   "cell_type": "code",
   "execution_count": 9,
   "metadata": {},
   "outputs": [
    {
     "name": "stdout",
     "output_type": "stream",
     "text": [
      "10\n",
      "10\n"
     ]
    }
   ],
   "source": [
    "print(len(naver_news_title[0]))\n",
    "print(len(naver_news_content[0]))"
   ]
  },
  {
   "cell_type": "code",
   "execution_count": null,
   "metadata": {},
   "outputs": [],
   "source": [
    "with open(\"naver_blog_title.pk\", \"wb\") as f:\n",
    "    pickle.dump(naver_news_title, f)\n",
    "    \n",
    "with open(\"naver_blog_content.pk\", \"wb\") as f:\n",
    "    pickle.dump(naver_news_content, f)"
   ]
  },
  {
   "cell_type": "code",
   "execution_count": null,
   "metadata": {},
   "outputs": [],
   "source": []
  }
 ],
 "metadata": {
  "interpreter": {
   "hash": "c270e6328e3db603edbbf92178afe07abc75c12ec50d7594e3b3ea046e4043cd"
  },
  "kernelspec": {
   "display_name": "Python 3.6.13 64-bit ('NLP': conda)",
   "name": "python3"
  },
  "language_info": {
   "codemirror_mode": {
    "name": "ipython",
    "version": 3
   },
   "file_extension": ".py",
   "mimetype": "text/x-python",
   "name": "python",
   "nbconvert_exporter": "python",
   "pygments_lexer": "ipython3",
   "version": "3.6.13"
  },
  "orig_nbformat": 4
 },
 "nbformat": 4,
 "nbformat_minor": 2
}
