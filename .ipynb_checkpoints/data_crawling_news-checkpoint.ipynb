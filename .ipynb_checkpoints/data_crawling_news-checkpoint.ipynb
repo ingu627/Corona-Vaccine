{
 "cells": [
  {
   "cell_type": "code",
   "execution_count": 1,
   "metadata": {},
   "outputs": [],
   "source": [
    "import os\n",
    "import sys\n",
    "import urllib.request\n",
    "import requests\n",
    "\n",
    "news_data = []\n",
    "page_count = 100\n",
    "\n",
    "client_id = \"69o6i0JqwgpLM5a5v4NN\"\n",
    "client_secret = \"dFeCQMyNQd\"\n",
    "encText = urllib.parse.quote(\"코로나 백신\")\n",
    "\n",
    "for idx in range(page_count):\n",
    "    # json 결과\n",
    "    url = \"https://openapi.naver.com/v1/search/news?query=\" + encText + \"&start=\" + str(idx * 10 + 1)\n",
    "    # url = \"https://openapi.naver.com/v1/search/blog.xml?query=\" + encText # xml 결과\n",
    "    request = urllib.request.Request(url)\n",
    "    request.add_header(\"X-Naver-Client-Id\",client_id)\n",
    "    request.add_header(\"X-Naver-Client-Secret\",client_secret)\n",
    "    response = urllib.request.urlopen(request)\n",
    "    rescode = response.getcode()\n",
    "\n",
    "    if(rescode==200):\n",
    "    #    response_body = response.read()\n",
    "        result = requests.get(response.geturl(),\n",
    "                              headers={\"X-Naver-Client-Id\":client_id,\n",
    "                                       \"X-Naver-Client-Secret\":client_secret}\n",
    "                             )\n",
    "        news_data.append(result.json())\n",
    "    #    print(response_body.decode('utf-8'))\n",
    "    else:\n",
    "        print(\"Error Code:\" + rescode)"
   ]
  },
  {
   "cell_type": "code",
   "execution_count": 2,
   "metadata": {},
   "outputs": [
    {
     "name": "stdout",
     "output_type": "stream",
     "text": [
      "100\n"
     ]
    }
   ],
   "source": [
    "#print(news_data)\n",
    "print(len(news_data))\n",
    "#print(news_data[0])\n",
    "#print(news_data[0]['items'])\n",
    "#print(len(news_data[0]['items']))\n",
    "#print(news_data[0]['items'][2])\n",
    "#print(news_data[0]['items'][7]['link'])"
   ]
  },
  {
   "cell_type": "code",
   "execution_count": 3,
   "metadata": {},
   "outputs": [
    {
     "name": "stdout",
     "output_type": "stream",
     "text": [
      "https://sports.news.naver.com/news.nhn?oid=469&aid=0000637247\n",
      "https://sports.news.naver.com/news.nhn?oid=119&aid=0002541912\n",
      "https://news.naver.com/main/read.naver?mode=LSD&mid=sec&sid1=100&oid=003&aid=0010793400\n",
      "https://news.naver.com/main/read.naver?mode=LSD&mid=sec&sid1=100&oid=123&aid=0002257899\n",
      "https://news.naver.com/main/read.naver?mode=LSD&mid=sec&sid1=102&oid=003&aid=0010793399\n",
      "https://news.naver.com/main/read.naver?mode=LSD&mid=sec&sid1=104&oid=030&aid=0002977725\n",
      "https://news.naver.com/main/read.naver?mode=LSD&mid=sec&sid1=101&oid=008&aid=0004661815\n",
      "https://sports.news.naver.com/news.nhn?oid=382&aid=0000940711\n",
      "https://news.naver.com/main/read.naver?mode=LSD&mid=sec&sid1=104&oid=025&aid=0003145590\n",
      "https://news.naver.com/main/read.naver?mode=LSD&mid=sec&sid1=102&oid=468&aid=0000796444\n",
      "https://news.naver.com/main/read.naver?mode=LSD&mid=sec&sid1=102&oid=003&aid=0010793385\n",
      "https://news.naver.com/main/read.naver?mode=LSD&mid=sec&sid1=105&oid=023&aid=0003648793\n",
      "https://news.naver.com/main/read.naver?mode=LSD&mid=sec&sid1=102&oid=421&aid=0005682128\n",
      "https://news.naver.com/main/read.naver?mode=LSD&mid=sec&sid1=102&oid=022&aid=0003631919\n",
      "https://news.naver.com/main/read.naver?mode=LSD&mid=sec&sid1=102&oid=001&aid=0012748472\n",
      "https://news.naver.com/main/read.naver?mode=LSD&mid=sec&sid1=105&oid=030&aid=0002977717\n",
      "https://news.naver.com/main/read.naver?mode=LSD&mid=sec&sid1=101&oid=082&aid=0001124734\n",
      "https://news.naver.com/main/read.naver?mode=LSD&mid=sec&sid1=102&oid=421&aid=0005682119\n",
      "https://news.naver.com/main/read.naver?mode=LSD&mid=sec&sid1=104&oid=021&aid=0002490123\n",
      "https://news.naver.com/main/read.naver?mode=LSD&mid=sec&sid1=102&oid=003&aid=0010793378\n",
      "https://news.naver.com/main/read.naver?mode=LSD&mid=sec&sid1=102&oid=119&aid=0002541897\n",
      "https://news.naver.com/main/read.naver?mode=LSD&mid=sec&sid1=104&oid=077&aid=0005365019\n",
      "https://news.naver.com/main/read.naver?mode=LSD&mid=sec&sid1=102&oid=087&aid=0000865602\n",
      "https://news.naver.com/main/read.naver?mode=LSD&mid=sec&sid1=102&oid=087&aid=0000865602\n",
      "https://news.naver.com/main/read.naver?mode=LSD&mid=sec&sid1=100&oid=001&aid=0012748458\n",
      "https://news.naver.com/main/read.naver?mode=LSD&mid=sec&sid1=102&oid=015&aid=0004620751\n",
      "https://news.naver.com/main/read.naver?mode=LSD&mid=sec&sid1=102&oid=001&aid=0012748452\n",
      "https://news.naver.com/main/read.naver?mode=LSD&mid=sec&sid1=101&oid=014&aid=0004729268\n",
      "https://news.naver.com/main/read.naver?mode=LSD&mid=sec&sid1=104&oid=020&aid=0003389647\n",
      "https://news.naver.com/main/read.naver?mode=LSD&mid=sec&sid1=104&oid=421&aid=0005682032\n",
      "https://news.naver.com/main/read.naver?mode=LSD&mid=sec&sid1=101&oid=243&aid=0000017670\n",
      "https://news.naver.com/main/read.naver?mode=LSD&mid=sec&sid1=100&oid=421&aid=0005682019\n",
      "https://news.naver.com/main/read.naver?mode=LSD&mid=sec&sid1=100&oid=052&aid=0001657243\n",
      "https://news.naver.com/main/read.naver?mode=LSD&mid=sec&sid1=102&oid=421&aid=0005681971\n",
      "https://news.naver.com/main/read.naver?mode=LSD&mid=sec&sid1=102&oid=468&aid=0000796433\n",
      "https://news.naver.com/main/read.naver?mode=LSD&mid=sec&sid1=100&oid=421&aid=0005681966\n",
      "https://news.naver.com/main/read.naver?mode=LSD&mid=sec&sid1=104&oid=011&aid=0003977676\n",
      "https://news.naver.com/main/read.naver?mode=LSD&mid=sec&sid1=102&oid=082&aid=0001124729\n",
      "https://news.naver.com/main/read.naver?mode=LSD&mid=sec&sid1=100&oid=277&aid=0004989275\n",
      "https://news.naver.com/main/read.naver?mode=LSD&mid=sec&sid1=102&oid=018&aid=0005070498\n",
      "https://news.naver.com/main/read.naver?mode=LSD&mid=sec&sid1=101&oid=028&aid=0002565313\n",
      "https://sports.news.naver.com/news.nhn?oid=410&aid=0000825978\n",
      "https://news.naver.com/main/read.naver?mode=LSD&mid=sec&sid1=102&oid=088&aid=0000727792\n",
      "https://news.naver.com/main/read.naver?mode=LSD&mid=sec&sid1=102&oid=088&aid=0000727793\n",
      "https://news.naver.com/main/read.naver?mode=LSD&mid=sec&sid1=102&oid=079&aid=0003567331\n",
      "https://news.naver.com/main/read.naver?mode=LSD&mid=sec&sid1=100&oid=014&aid=0004729253\n",
      "https://news.naver.com/main/read.naver?mode=LSD&mid=sec&sid1=104&oid=022&aid=0003631909\n",
      "https://news.naver.com/main/read.naver?mode=LSD&mid=sec&sid1=102&oid=421&aid=0005681928\n",
      "https://news.naver.com/main/read.naver?mode=LSD&mid=sec&sid1=104&oid=023&aid=0003648786\n",
      "https://sports.news.naver.com/news.nhn?oid=436&aid=0000050202\n",
      "https://news.naver.com/main/read.naver?mode=LSD&mid=sec&sid1=101&oid=417&aid=0000747590\n",
      "https://news.naver.com/main/read.naver?mode=LSD&mid=sec&sid1=102&oid=469&aid=0000637242\n",
      "https://news.naver.com/main/read.naver?mode=LSD&mid=sec&sid1=102&oid=018&aid=0005070479\n",
      "https://news.naver.com/main/read.naver?mode=LSD&mid=sec&sid1=102&oid=421&aid=0005681920\n",
      "https://news.naver.com/main/read.naver?mode=LSD&mid=sec&sid1=102&oid=003&aid=0010793284\n",
      "https://news.naver.com/main/read.naver?mode=LSD&mid=sec&sid1=104&oid=032&aid=0003106144\n",
      "https://news.naver.com/main/read.naver?mode=LSD&mid=sec&sid1=101&oid=008&aid=0004661793\n",
      "https://news.naver.com/main/read.naver?mode=LSD&mid=sec&sid1=104&oid=214&aid=0001156067\n",
      "https://news.naver.com/main/read.naver?mode=LSD&mid=sec&sid1=101&oid=025&aid=0003145586\n",
      "https://news.naver.com/main/read.naver?mode=LSD&mid=sec&sid1=103&oid=437&aid=0000279249\n",
      "https://news.naver.com/main/read.naver?mode=LSD&mid=sec&sid1=101&oid=001&aid=0012748327\n",
      "https://news.naver.com/main/read.naver?mode=LSD&mid=sec&sid1=100&oid=018&aid=0005070471\n",
      "https://sports.news.naver.com/news.nhn?oid=421&aid=0005681905\n",
      "https://news.naver.com/main/read.naver?mode=LSD&mid=sec&sid1=101&oid=001&aid=0012748322\n",
      "https://news.naver.com/main/read.naver?mode=LSD&mid=sec&sid1=104&oid=214&aid=0001156065\n",
      "https://sports.news.naver.com/news.nhn?oid=139&aid=0002157924\n",
      "https://news.naver.com/main/read.naver?mode=LSD&mid=sec&sid1=104&oid=079&aid=0003567326\n",
      "https://news.naver.com/main/read.naver?mode=LSD&mid=sec&sid1=101&oid=003&aid=0010793268\n",
      "https://news.naver.com/main/read.naver?mode=LSD&mid=sec&sid1=102&oid=079&aid=0003567325\n",
      "https://news.naver.com/main/read.naver?mode=LSD&mid=sec&sid1=104&oid=366&aid=0000769324\n",
      "https://news.naver.com/main/read.naver?mode=LSD&mid=sec&sid1=101&oid=008&aid=0004661789\n",
      "https://news.naver.com/main/read.naver?mode=LSD&mid=sec&sid1=101&oid=366&aid=0000769323\n",
      "https://news.naver.com/main/read.naver?mode=LSD&mid=sec&sid1=104&oid=008&aid=0004661786\n",
      "https://news.naver.com/main/read.naver?mode=LSD&mid=sec&sid1=104&oid=008&aid=0004661786\n",
      "https://news.naver.com/main/read.naver?mode=LSD&mid=sec&sid1=102&oid=088&aid=0000727782\n",
      "https://news.naver.com/main/read.naver?mode=LSD&mid=sec&sid1=102&oid=011&aid=0003977652\n",
      "https://news.naver.com/main/read.naver?mode=LSD&mid=sec&sid1=102&oid=079&aid=0003567324\n",
      "https://news.naver.com/main/read.naver?mode=LSD&mid=sec&sid1=103&oid=005&aid=0001479662\n",
      "https://news.naver.com/main/read.naver?mode=LSD&mid=sec&sid1=102&oid=001&aid=0012748252\n",
      "https://news.naver.com/main/read.naver?mode=LSD&mid=sec&sid1=102&oid=003&aid=0010793223\n",
      "http://www.segyebiz.com/newsView/20211026512629?OutUrl=naver\n",
      "https://sports.news.naver.com/news.nhn?oid=055&aid=0000929511\n",
      "https://news.naver.com/main/read.naver?mode=LSD&mid=sec&sid1=104&oid=016&aid=0001904239\n",
      "https://news.naver.com/main/read.naver?mode=LSD&mid=sec&sid1=102&oid=277&aid=0004989244\n",
      "https://news.naver.com/main/read.naver?mode=LSD&mid=sec&sid1=102&oid=003&aid=0010793182\n",
      "https://news.naver.com/main/read.naver?mode=LSD&mid=sec&sid1=102&oid=003&aid=0010793180\n",
      "https://news.naver.com/main/read.naver?mode=LSD&mid=sec&sid1=102&oid=277&aid=0004989238\n",
      "https://news.naver.com/main/read.naver?mode=LSD&mid=sec&sid1=104&oid=055&aid=0000929510\n",
      "https://news.naver.com/main/read.naver?mode=LSD&mid=sec&sid1=004&oid=123&aid=0002257894\n",
      "https://news.naver.com/main/read.naver?mode=LSD&mid=sec&sid1=102&oid=015&aid=0004620719\n",
      "https://news.naver.com/main/read.naver?mode=LSD&mid=sec&sid1=101&oid=016&aid=0001904233\n",
      "https://news.naver.com/main/read.naver?mode=LSD&mid=sec&sid1=102&oid=005&aid=0001479656\n",
      "https://news.naver.com/main/read.naver?mode=LSD&mid=sec&sid1=102&oid=421&aid=0005681778\n",
      "https://news.naver.com/main/read.naver?mode=LSD&mid=sec&sid1=104&oid=214&aid=0001156062\n",
      "https://news.naver.com/main/read.naver?mode=LSD&mid=sec&sid1=101&oid=003&aid=0010793154\n",
      "https://news.naver.com/main/read.naver?mode=LSD&mid=sec&sid1=101&oid=032&aid=0003106135\n",
      "https://news.naver.com/main/read.naver?mode=LSD&mid=sec&sid1=102&oid=421&aid=0005681749\n",
      "https://news.naver.com/main/read.naver?mode=LSD&mid=sec&sid1=102&oid=002&aid=0002216073\n",
      "https://news.naver.com/main/read.naver?mode=LSD&mid=sec&sid1=104&oid=001&aid=0012748126\n",
      "https://news.naver.com/main/read.naver?mode=LSD&mid=sec&sid1=102&oid=421&aid=0005681743\n",
      "https://news.naver.com/main/read.naver?mode=LSD&mid=sec&sid1=104&oid=018&aid=0005070414\n",
      "https://news.naver.com/main/read.naver?mode=LSD&mid=sec&sid1=102&oid=003&aid=0010793132\n",
      "https://news.naver.com/main/read.naver?mode=LSD&mid=sec&sid1=102&oid=214&aid=0001156057\n",
      "https://news.naver.com/main/read.naver?mode=LSD&mid=sec&sid1=102&oid=421&aid=0005681733\n",
      "https://news.naver.com/main/read.naver?mode=LSD&mid=sec&sid1=101&oid=417&aid=0000747564\n",
      "https://sports.news.naver.com/news.nhn?oid=413&aid=0000128026\n",
      "https://news.naver.com/main/read.naver?mode=LSD&mid=sec&sid1=102&oid=022&aid=0003631897\n",
      "https://news.naver.com/main/read.naver?mode=LSD&mid=sec&sid1=106&oid=009&aid=0004869840\n",
      "https://news.naver.com/main/read.naver?mode=LSD&mid=sec&sid1=102&oid=028&aid=0002565304\n",
      "https://news.naver.com/main/read.naver?mode=LSD&mid=sec&sid1=102&oid=421&aid=0005681720\n",
      "https://news.naver.com/main/read.naver?mode=LSD&mid=sec&sid1=102&oid=001&aid=0012748090\n",
      "https://news.naver.com/main/read.naver?mode=LSD&mid=sec&sid1=103&oid=025&aid=0003145574\n",
      "https://news.naver.com/main/read.naver?mode=LSD&mid=sec&sid1=103&oid=079&aid=0003567311\n",
      "https://news.naver.com/main/read.naver?mode=LSD&mid=sec&sid1=100&oid=421&aid=0005681705\n",
      "https://news.naver.com/main/read.naver?mode=LSD&mid=sec&sid1=102&oid=002&aid=0002216064\n",
      "https://news.naver.com/main/read.naver?mode=LSD&mid=sec&sid1=104&oid=277&aid=0004989210\n",
      "https://news.naver.com/main/read.naver?mode=LSD&mid=sec&sid1=104&oid=011&aid=0003977618\n",
      "https://news.naver.com/main/read.naver?mode=LSD&mid=sec&sid1=101&oid=030&aid=0002977688\n",
      "https://news.naver.com/main/read.naver?mode=LSD&mid=sec&sid1=105&oid=366&aid=0000769298\n",
      "https://news.naver.com/main/read.naver?mode=LSD&mid=sec&sid1=004&oid=011&aid=0003977615\n",
      "https://news.naver.com/main/read.naver?mode=LSD&mid=sec&sid1=102&oid=421&aid=0005681688\n",
      "https://news.naver.com/main/read.naver?mode=LSD&mid=sec&sid1=102&oid=003&aid=0010793057\n",
      "https://news.naver.com/main/read.naver?mode=LSD&mid=sec&sid1=104&oid=277&aid=0004989207\n",
      "https://news.naver.com/main/read.naver?mode=LSD&mid=sec&sid1=102&oid=014&aid=0004729179\n",
      "https://news.naver.com/main/read.naver?mode=LSD&mid=sec&sid1=102&oid=001&aid=0012748003\n",
      "https://sports.news.naver.com/news.nhn?oid=079&aid=0003567305\n",
      "https://news.naver.com/main/read.naver?mode=LSD&mid=sec&sid1=103&oid=417&aid=0000747554\n",
      "https://news.naver.com/main/read.naver?mode=LSD&mid=sec&sid1=101&oid=029&aid=0002702784\n",
      "https://sports.news.naver.com/news.nhn?oid=001&aid=0012747986\n",
      "https://news.naver.com/main/read.naver?mode=LSD&mid=sec&sid1=102&oid=030&aid=0002977682\n",
      "https://news.naver.com/main/read.naver?mode=LSD&mid=sec&sid1=103&oid=030&aid=0002977681\n",
      "https://news.naver.com/main/read.naver?mode=LSD&mid=sec&sid1=101&oid=277&aid=0004989200\n",
      "https://news.naver.com/main/read.naver?mode=LSD&mid=sec&sid1=102&oid=079&aid=0003567293\n",
      "https://news.naver.com/main/read.naver?mode=LSD&mid=sec&sid1=103&oid=584&aid=0000016483\n",
      "https://news.naver.com/main/read.naver?mode=LSD&mid=sec&sid1=103&oid=021&aid=0002490102\n",
      "https://news.naver.com/main/read.naver?mode=LSD&mid=sec&sid1=104&oid=469&aid=0000637220\n",
      "https://news.naver.com/main/read.naver?mode=LSD&mid=sec&sid1=101&oid=009&aid=0004869818\n",
      "https://news.naver.com/main/read.naver?mode=LSD&mid=sec&sid1=102&oid=421&aid=0005681624\n",
      "https://news.naver.com/main/read.naver?mode=LSD&mid=sec&sid1=103&oid=009&aid=0004869816\n",
      "https://news.naver.com/main/read.naver?mode=LSD&mid=sec&sid1=102&oid=448&aid=0000342375\n",
      "https://news.naver.com/main/read.naver?mode=LSD&mid=sec&sid1=102&oid=421&aid=0005681617\n",
      "https://news.naver.com/main/read.naver?mode=LSD&mid=sec&sid1=102&oid=421&aid=0005681613\n",
      "https://news.naver.com/main/read.naver?mode=LSD&mid=sec&sid1=102&oid=421&aid=0005681614\n",
      "https://news.naver.com/main/read.naver?mode=LSD&mid=sec&sid1=102&oid=421&aid=0005681618\n",
      "https://news.naver.com/main/read.naver?mode=LSD&mid=sec&sid1=102&oid=421&aid=0005681616\n",
      "https://news.naver.com/main/read.naver?mode=LSD&mid=sec&sid1=102&oid=421&aid=0005681615\n",
      "https://news.naver.com/main/read.naver?mode=LSD&mid=sec&sid1=102&oid=421&aid=0005681611\n",
      "https://news.naver.com/main/read.naver?mode=LSD&mid=sec&sid1=102&oid=421&aid=0005681610\n",
      "https://news.naver.com/main/read.naver?mode=LSD&mid=sec&sid1=102&oid=421&aid=0005681612\n",
      "https://news.naver.com/main/read.naver?mode=LSD&mid=sec&sid1=102&oid=421&aid=0005681619\n",
      "https://news.naver.com/main/read.naver?mode=LSD&mid=sec&sid1=104&oid=417&aid=0000747550\n",
      "https://news.naver.com/main/read.naver?mode=LSD&mid=sec&sid1=103&oid=020&aid=0003389625\n",
      "https://news.naver.com/main/read.naver?mode=LSD&mid=sec&sid1=101&oid=008&aid=0004661754\n",
      "https://news.naver.com/main/read.naver?mode=LSD&mid=sec&sid1=101&oid=003&aid=0010792956\n",
      "https://sports.news.naver.com/news.nhn?oid=018&aid=0005070377\n",
      "https://news.naver.com/main/read.naver?mode=LSD&mid=sec&sid1=102&oid=081&aid=0003224971\n",
      "https://news.naver.com/main/read.naver?mode=LSD&mid=sec&sid1=102&oid=586&aid=0000030443\n",
      "https://news.naver.com/main/read.naver?mode=LSD&mid=sec&sid1=104&oid=016&aid=0001904214\n",
      "https://news.naver.com/main/read.naver?mode=LSD&mid=sec&sid1=102&oid=008&aid=0004661747\n",
      "https://news.naver.com/main/read.naver?mode=LSD&mid=sec&sid1=102&oid=018&aid=0005070376\n",
      "https://news.naver.com/main/read.naver?mode=LSD&mid=sec&sid1=102&oid=008&aid=0004661745\n",
      "https://sports.news.naver.com/news.nhn?oid=445&aid=0000031135\n",
      "https://news.naver.com/main/read.naver?mode=LSD&mid=sec&sid1=102&oid=008&aid=0004661742\n",
      "https://news.naver.com/main/read.naver?mode=LSD&mid=sec&sid1=102&oid=079&aid=0003567282\n",
      "https://sports.news.naver.com/news.nhn?oid=421&aid=0005681576\n",
      "https://news.naver.com/main/read.naver?mode=LSD&mid=sec&sid1=102&oid=214&aid=0001156060\n",
      "https://news.naver.com/main/read.naver?mode=LSD&mid=sec&sid1=101&oid=008&aid=0004661735\n",
      "https://news.naver.com/main/read.naver?mode=LSD&mid=sec&sid1=104&oid=088&aid=0000727768\n",
      "https://news.naver.com/main/read.naver?mode=LSD&mid=sec&sid1=101&oid=001&aid=0012747828\n",
      "https://news.naver.com/main/read.naver?mode=LSD&mid=sec&sid1=102&oid=056&aid=0011144441\n",
      "https://news.naver.com/main/read.naver?mode=LSD&mid=sec&sid1=102&oid=056&aid=0011144440\n",
      "https://news.naver.com/main/read.naver?mode=LSD&mid=sec&sid1=101&oid=016&aid=0001904207\n",
      "https://news.naver.com/main/read.naver?mode=LSD&mid=sec&sid1=101&oid=629&aid=0000112613\n",
      "https://news.naver.com/main/read.naver?mode=LSD&mid=sec&sid1=101&oid=008&aid=0004661731\n",
      "https://news.naver.com/main/read.naver?mode=LSD&mid=sec&sid1=102&oid=003&aid=0010792877\n",
      "https://news.naver.com/main/read.naver?mode=LSD&mid=sec&sid1=102&oid=003&aid=0010792877\n",
      "https://news.naver.com/main/read.naver?mode=LSD&mid=sec&sid1=104&oid=001&aid=0012747822\n",
      "https://news.naver.com/main/read.naver?mode=LSD&mid=sec&sid1=101&oid=014&aid=0004729152\n",
      "https://sports.news.naver.com/news.nhn?oid=117&aid=0003548923\n",
      "https://sports.news.naver.com/news.nhn?oid=109&aid=0004498396\n",
      "https://news.naver.com/main/read.naver?mode=LSD&mid=sec&sid1=102&oid=005&aid=0001479635\n",
      "https://news.naver.com/main/read.naver?mode=LSD&mid=sec&sid1=103&oid=029&aid=0002702773\n",
      "https://sports.news.naver.com/news.nhn?oid=001&aid=0012747795\n",
      "https://news.naver.com/main/read.naver?mode=LSD&mid=sec&sid1=101&oid=008&aid=0004661725\n",
      "https://news.naver.com/main/read.naver?mode=LSD&mid=sec&sid1=101&oid=025&aid=0003145565\n",
      "https://news.naver.com/main/read.naver?mode=LSD&mid=sec&sid1=103&oid=018&aid=0005070362\n",
      "https://sports.news.naver.com/news.nhn?oid=003&aid=0010792870\n",
      "https://news.naver.com/main/read.naver?mode=LSD&mid=sec&sid1=102&oid=421&aid=0005681507\n",
      "https://sports.news.naver.com/news.nhn?oid=477&aid=0000325467\n",
      "https://news.naver.com/main/read.naver?mode=LSD&mid=sec&sid1=104&oid=011&aid=0003977584\n",
      "https://news.naver.com/main/read.naver?mode=LSD&mid=sec&sid1=101&oid=018&aid=0005070356\n",
      "https://news.naver.com/main/read.naver?mode=LSD&mid=sec&sid1=102&oid=448&aid=0000342372\n",
      "https://news.naver.com/main/read.naver?mode=LSD&mid=sec&sid1=104&oid=016&aid=0001904191\n",
      "https://news.naver.com/main/read.naver?mode=LSD&mid=sec&sid1=102&oid=421&aid=0005681465\n",
      "https://news.naver.com/main/read.naver?mode=LSD&mid=sec&sid1=101&oid=031&aid=0000630958\n",
      "https://news.naver.com/main/read.naver?mode=LSD&mid=sec&sid1=102&oid=421&aid=0005681462\n",
      "https://news.naver.com/main/read.naver?mode=LSD&mid=sec&sid1=102&oid=001&aid=0012747737\n",
      "https://news.naver.com/main/read.naver?mode=LSD&mid=sec&sid1=104&oid=055&aid=0000929498\n",
      "https://news.naver.com/main/read.naver?mode=LSD&mid=sec&sid1=101&oid=119&aid=0002541849\n",
      "https://news.naver.com/main/read.naver?mode=LSD&mid=sec&sid1=101&oid=016&aid=0001904184\n",
      "https://news.naver.com/main/read.naver?mode=LSD&mid=sec&sid1=102&oid=087&aid=0000865595\n",
      "https://news.naver.com/main/read.naver?mode=LSD&mid=sec&sid1=102&oid=003&aid=0010792810\n",
      "https://news.naver.com/main/read.naver?mode=LSD&mid=sec&sid1=101&oid=030&aid=0002977648\n",
      "https://news.naver.com/main/read.naver?mode=LSD&mid=sec&sid1=102&oid=079&aid=0003567265\n",
      "https://news.naver.com/main/read.naver?mode=LSD&mid=sec&sid1=102&oid=005&aid=0001479624\n",
      "https://news.naver.com/main/read.naver?mode=LSD&mid=sec&sid1=102&oid=586&aid=0000030440\n",
      "https://news.naver.com/main/read.naver?mode=LSD&mid=sec&sid1=101&oid=374&aid=0000262141\n",
      "https://news.naver.com/main/read.naver?mode=LSD&mid=sec&sid1=102&oid=052&aid=0001657166\n",
      "https://news.naver.com/main/read.naver?mode=LSD&mid=sec&sid1=102&oid=421&aid=0005681373\n",
      "https://news.naver.com/main/read.naver?mode=LSD&mid=sec&sid1=102&oid=015&aid=0004620665\n",
      "https://news.naver.com/main/read.naver?mode=LSD&mid=sec&sid1=102&oid=003&aid=0010792732\n",
      "https://news.naver.com/main/read.naver?mode=LSD&mid=sec&sid1=101&oid=018&aid=0005070324\n",
      "https://news.naver.com/main/read.naver?mode=LSD&mid=sec&sid1=102&oid=366&aid=0000769258\n",
      "https://news.naver.com/main/read.naver?mode=LSD&mid=sec&sid1=102&oid=586&aid=0000030438\n",
      "https://news.naver.com/main/read.naver?mode=LSD&mid=sec&sid1=102&oid=421&aid=0005681341\n",
      "https://news.naver.com/main/read.naver?mode=LSD&mid=sec&sid1=102&oid=003&aid=0010792703\n",
      "https://news.naver.com/main/read.naver?mode=LSD&mid=sec&sid1=102&oid=003&aid=0010792704\n",
      "https://news.naver.com/main/read.naver?mode=LSD&mid=sec&sid1=102&oid=003&aid=0010792702\n",
      "https://news.naver.com/main/read.naver?mode=LSD&mid=sec&sid1=102&oid=003&aid=0010792706\n",
      "https://news.naver.com/main/read.naver?mode=LSD&mid=sec&sid1=102&oid=003&aid=0010792705\n",
      "https://news.naver.com/main/read.naver?mode=LSD&mid=sec&sid1=102&oid=421&aid=0005681352\n",
      "https://news.naver.com/main/read.naver?mode=LSD&mid=sec&sid1=102&oid=003&aid=0010792705\n",
      "https://news.naver.com/main/read.naver?mode=LSD&mid=sec&sid1=102&oid=421&aid=0005681352\n",
      "https://news.naver.com/main/read.naver?mode=LSD&mid=sec&sid1=102&oid=001&aid=0012747633\n",
      "https://news.naver.com/main/read.naver?mode=LSD&mid=sec&sid1=102&oid=003&aid=0010792694\n",
      "https://news.naver.com/main/read.naver?mode=LSD&mid=sec&sid1=102&oid=030&aid=0002977642\n",
      "https://news.naver.com/main/read.naver?mode=LSD&mid=sec&sid1=102&oid=421&aid=0005681334\n",
      "https://news.naver.com/main/read.naver?mode=LSD&mid=sec&sid1=102&oid=015&aid=0004620660\n",
      "https://news.naver.com/main/read.naver?mode=LSD&mid=sec&sid1=102&oid=022&aid=0003631865\n",
      "https://news.naver.com/main/read.naver?mode=LSD&mid=sec&sid1=102&oid=079&aid=0003567255\n",
      "https://news.naver.com/main/read.naver?mode=LSD&mid=sec&sid1=102&oid=214&aid=0001156035\n",
      "https://news.naver.com/main/read.naver?mode=LSD&mid=sec&sid1=101&oid=243&aid=0000017662\n",
      "https://news.naver.com/main/read.naver?mode=LSD&mid=sec&sid1=104&oid=001&aid=0012747604\n",
      "https://news.naver.com/main/read.naver?mode=LSD&mid=sec&sid1=104&oid=417&aid=0000747508\n",
      "https://news.naver.com/main/read.naver?mode=LSD&mid=sec&sid1=102&oid=421&aid=0005681316\n",
      "https://news.naver.com/main/read.naver?mode=LSD&mid=sec&sid1=104&oid=015&aid=0004620657\n",
      "https://news.naver.com/main/read.naver?mode=LSD&mid=sec&sid1=102&oid=082&aid=0001124686\n",
      "https://news.naver.com/main/read.naver?mode=LSD&mid=sec&sid1=102&oid=001&aid=0012747576\n",
      "https://news.naver.com/main/read.naver?mode=LSD&mid=sec&sid1=101&oid=417&aid=0000747501\n",
      "https://news.naver.com/main/read.naver?mode=LSD&mid=sec&sid1=106&oid=009&aid=0004869764\n",
      "https://news.naver.com/main/read.naver?mode=LSD&mid=sec&sid1=103&oid=009&aid=0004869763\n",
      "https://news.naver.com/main/read.naver?mode=LSD&mid=sec&sid1=101&oid=018&aid=0005070309\n",
      "https://news.naver.com/main/read.naver?mode=LSD&mid=sec&sid1=101&oid=422&aid=0000510933\n",
      "https://news.naver.com/main/read.naver?mode=LSD&mid=sec&sid1=103&oid=584&aid=0000016479\n",
      "https://sports.news.naver.com/news.nhn?oid=001&aid=0012747562\n",
      "https://sports.news.naver.com/news.nhn?oid=001&aid=0012747563\n",
      "https://sports.news.naver.com/news.nhn?oid=001&aid=0012747559\n",
      "https://sports.news.naver.com/news.nhn?oid=001&aid=0012747560\n",
      "https://sports.news.naver.com/news.nhn?oid=001&aid=0012747561\n",
      "https://sports.news.naver.com/news.nhn?oid=001&aid=0012747558\n",
      "https://news.naver.com/main/read.naver?mode=LSD&mid=sec&sid1=102&oid=015&aid=0004620654\n",
      "https://sports.news.naver.com/news.nhn?oid=022&aid=0003631858\n",
      "https://news.naver.com/main/read.naver?mode=LSD&mid=sec&sid1=102&oid=052&aid=0001657149\n",
      "https://news.naver.com/main/read.naver?mode=LSD&mid=sec&sid1=106&oid=312&aid=0000507570\n",
      "https://news.naver.com/main/read.naver?mode=LSD&mid=sec&sid1=104&oid=022&aid=0003631854\n",
      "https://news.naver.com/main/read.naver?mode=LSD&mid=sec&sid1=102&oid=421&aid=0005681238\n",
      "https://news.naver.com/main/read.naver?mode=LSD&mid=sec&sid1=102&oid=421&aid=0005681238\n",
      "https://news.naver.com/main/read.naver?mode=LSD&mid=sec&sid1=102&oid=421&aid=0005681217\n",
      "https://news.naver.com/main/read.naver?mode=LSD&mid=sec&sid1=102&oid=421&aid=0005681225\n",
      "https://news.naver.com/main/read.naver?mode=LSD&mid=sec&sid1=102&oid=421&aid=0005681218\n",
      "https://news.naver.com/main/read.naver?mode=LSD&mid=sec&sid1=102&oid=421&aid=0005681220\n",
      "https://news.naver.com/main/read.naver?mode=LSD&mid=sec&sid1=102&oid=421&aid=0005681224\n",
      "https://news.naver.com/main/read.naver?mode=LSD&mid=sec&sid1=102&oid=421&aid=0005681228\n",
      "https://news.naver.com/main/read.naver?mode=LSD&mid=sec&sid1=102&oid=052&aid=0001657142\n",
      "https://news.naver.com/main/read.naver?mode=LSD&mid=sec&sid1=102&oid=047&aid=0002330629\n",
      "https://news.naver.com/main/read.naver?mode=LSD&mid=sec&sid1=106&oid=052&aid=0001657139\n",
      "https://news.naver.com/main/read.naver?mode=LSD&mid=sec&sid1=105&oid=009&aid=0004869757\n",
      "https://news.naver.com/main/read.naver?mode=LSD&mid=sec&sid1=102&oid=629&aid=0000112573\n",
      "https://news.naver.com/main/read.naver?mode=LSD&mid=sec&sid1=102&oid=469&aid=0000637194\n",
      "https://news.naver.com/main/read.naver?mode=LSD&mid=sec&sid1=102&oid=366&aid=0000769238\n",
      "https://news.naver.com/main/read.naver?mode=LSD&mid=sec&sid1=102&oid=001&aid=0012747510\n",
      "https://news.naver.com/main/read.naver?mode=LSD&mid=sec&sid1=103&oid=011&aid=0003977554\n",
      "https://news.naver.com/main/read.naver?mode=LSD&mid=sec&sid1=102&oid=079&aid=0003567242\n",
      "https://news.naver.com/main/read.naver?mode=LSD&mid=sec&sid1=102&oid=082&aid=0001124683\n",
      "https://news.naver.com/main/read.naver?mode=LSD&mid=sec&sid1=106&oid=410&aid=0000825922\n",
      "https://news.naver.com/main/read.naver?mode=LSD&mid=sec&sid1=102&oid=001&aid=0012747507\n",
      "https://news.naver.com/main/read.naver?mode=LSD&mid=sec&sid1=101&oid=417&aid=0000747490\n",
      "https://news.naver.com/main/read.naver?mode=LSD&mid=sec&sid1=102&oid=417&aid=0000747491\n",
      "https://news.naver.com/main/read.naver?mode=LSD&mid=sec&sid1=101&oid=052&aid=0001657132\n",
      "https://news.naver.com/main/read.naver?mode=LSD&mid=sec&sid1=103&oid=032&aid=0003106107\n",
      "https://www.bbc.com/korean/58977294?xtor=AL-73-%5Bpartner%5D-%5Bnaver%5D-%5Bheadline%5D-%5Bkorean%5D-%5Bbizdev%5D-%5Bisapi%5D\n",
      "https://news.naver.com/main/read.naver?mode=LSD&mid=sec&sid1=101&oid=031&aid=0000630937\n",
      "https://news.naver.com/main/read.naver?mode=LSD&mid=sec&sid1=104&oid=056&aid=0011144402\n",
      "https://news.naver.com/main/read.naver?mode=LSD&mid=sec&sid1=103&oid=016&aid=0001904154\n",
      "https://news.naver.com/main/read.naver?mode=LSD&mid=sec&sid1=102&oid=001&aid=0012747477\n",
      "https://news.naver.com/main/read.naver?mode=LSD&mid=sec&sid1=102&oid=277&aid=0004989079\n",
      "https://news.naver.com/main/read.naver?mode=LSD&mid=sec&sid1=102&oid=003&aid=0010792538\n",
      "https://news.naver.com/main/read.naver?mode=LSD&mid=sec&sid1=101&oid=056&aid=0011144396\n",
      "https://news.naver.com/main/read.naver?mode=LSD&mid=sec&sid1=102&oid=003&aid=0010792536\n",
      "https://news.naver.com/main/read.naver?mode=LSD&mid=sec&sid1=102&oid=056&aid=0011144393\n",
      "https://news.naver.com/main/read.naver?mode=LSD&mid=sec&sid1=101&oid=029&aid=0002702759\n",
      "https://news.naver.com/main/read.naver?mode=LSD&mid=sec&sid1=102&oid=056&aid=0011144394\n",
      "https://news.naver.com/main/read.naver?mode=LSD&mid=sec&sid1=102&oid=277&aid=0004989077\n",
      "https://news.naver.com/main/read.naver?mode=LSD&mid=sec&sid1=102&oid=215&aid=0000992684\n",
      "https://news.naver.com/main/read.naver?mode=LSD&mid=sec&sid1=102&oid=021&aid=0002490087\n",
      "https://news.naver.com/main/read.naver?mode=LSD&mid=sec&sid1=102&oid=021&aid=0002490088\n",
      "https://news.naver.com/main/read.naver?mode=LSD&mid=sec&sid1=102&oid=003&aid=0010792532\n",
      "https://news.naver.com/main/read.naver?mode=LSD&mid=sec&sid1=102&oid=055&aid=0000929475\n",
      "https://news.naver.com/main/read.naver?mode=LSD&mid=sec&sid1=104&oid=025&aid=0003145536\n",
      "https://news.naver.com/main/read.naver?mode=LSD&mid=sec&sid1=101&oid=422&aid=0000510913\n",
      "https://news.naver.com/main/read.naver?mode=LSD&mid=sec&sid1=104&oid=005&aid=0001479613\n",
      "https://news.naver.com/main/read.naver?mode=LSD&mid=sec&sid1=101&oid=008&aid=0004661655\n",
      "https://news.naver.com/main/read.naver?mode=LSD&mid=sec&sid1=102&oid=214&aid=0001156026\n",
      "https://news.naver.com/main/read.naver?mode=LSD&mid=sec&sid1=101&oid=001&aid=0012747453\n",
      "https://sports.news.naver.com/news.nhn?oid=003&aid=0010792522\n",
      "https://news.naver.com/main/read.naver?mode=LSD&mid=sec&sid1=102&oid=021&aid=0002490062\n",
      "https://news.naver.com/main/read.naver?mode=LSD&mid=sec&sid1=102&oid=421&aid=0005681093\n",
      "https://news.naver.com/main/read.naver?mode=LSD&mid=sec&sid1=102&oid=003&aid=0010792516\n",
      "https://news.naver.com/main/read.naver?mode=LSD&mid=sec&sid1=101&oid=018&aid=0005070272\n",
      "https://news.naver.com/main/read.naver?mode=LSD&mid=sec&sid1=102&oid=079&aid=0003567232\n",
      "https://news.naver.com/main/read.naver?mode=LSD&mid=sec&sid1=101&oid=014&aid=0004729078\n",
      "https://news.naver.com/main/read.naver?mode=LSD&mid=sec&sid1=103&oid=011&aid=0003977548\n",
      "https://news.naver.com/main/read.naver?mode=LSD&mid=sec&sid1=004&oid=001&aid=0012747404\n",
      "https://news.naver.com/main/read.naver?mode=LSD&mid=sec&sid1=101&oid=008&aid=0004661645\n",
      "https://news.naver.com/main/read.naver?mode=LSD&mid=sec&sid1=102&oid=003&aid=0010792485\n",
      "https://news.naver.com/main/read.naver?mode=LSD&mid=sec&sid1=103&oid=296&aid=0000052411\n",
      "https://news.naver.com/main/read.naver?mode=LSD&mid=sec&sid1=102&oid=056&aid=0011144379\n",
      "https://news.naver.com/main/read.naver?mode=LSD&mid=sec&sid1=102&oid=002&aid=0002216023\n",
      "https://news.naver.com/main/read.naver?mode=LSD&mid=sec&sid1=101&oid=374&aid=0000262133\n",
      "https://news.naver.com/main/read.naver?mode=LSD&mid=sec&sid1=101&oid=029&aid=0002702751\n",
      "https://news.naver.com/main/read.naver?mode=LSD&mid=sec&sid1=100&oid=123&aid=0002257856\n",
      "https://news.naver.com/main/read.naver?mode=LSD&mid=sec&sid1=105&oid=029&aid=0002702750\n",
      "https://news.naver.com/main/read.naver?mode=LSD&mid=sec&sid1=106&oid=609&aid=0000503878\n",
      "https://news.naver.com/main/read.naver?mode=LSD&mid=sec&sid1=104&oid=023&aid=0003648751\n",
      "https://news.naver.com/main/read.naver?mode=LSD&mid=sec&sid1=104&oid=449&aid=0000216859\n",
      "https://news.naver.com/main/read.naver?mode=LSD&mid=sec&sid1=104&oid=001&aid=0012747389\n",
      "https://news.naver.com/main/read.naver?mode=LSD&mid=sec&sid1=102&oid=421&aid=0005681031\n",
      "https://news.naver.com/main/read.naver?mode=LSD&mid=sec&sid1=106&oid=108&aid=0002999623\n",
      "https://news.naver.com/main/read.naver?mode=LSD&mid=sec&sid1=102&oid=018&aid=0005070259\n",
      "https://news.naver.com/main/read.naver?mode=LSD&mid=sec&sid1=102&oid=001&aid=0012747386\n",
      "https://news.naver.com/main/read.naver?mode=LSD&mid=sec&sid1=110&oid=021&aid=0002490039\n",
      "https://news.naver.com/main/read.naver?mode=LSD&mid=sec&sid1=102&oid=421&aid=0005680988\n",
      "https://news.naver.com/main/read.naver?mode=LSD&mid=sec&sid1=105&oid=092&aid=0002237209\n",
      "https://news.naver.com/main/read.naver?mode=LSD&mid=sec&sid1=102&oid=022&aid=0003631836\n",
      "https://news.naver.com/main/read.naver?mode=LSD&mid=sec&sid1=102&oid=003&aid=0010792376\n",
      "https://news.naver.com/main/read.naver?mode=LSD&mid=sec&sid1=102&oid=056&aid=0011144375\n",
      "https://news.naver.com/main/read.naver?mode=LSD&mid=sec&sid1=101&oid=123&aid=0002257855\n",
      "https://news.naver.com/main/read.naver?mode=LSD&mid=sec&sid1=106&oid=003&aid=0010792375\n",
      "https://news.naver.com/main/read.naver?mode=LSD&mid=sec&sid1=102&oid=629&aid=0000112542\n",
      "https://news.naver.com/main/read.naver?mode=LSD&mid=sec&sid1=102&oid=003&aid=0010792373\n",
      "https://news.naver.com/main/read.naver?mode=LSD&mid=sec&sid1=101&oid=374&aid=0000262126\n",
      "https://sports.news.naver.com/news.nhn?oid=076&aid=0003793781\n",
      "https://news.naver.com/main/read.naver?mode=LSD&mid=sec&sid1=101&oid=277&aid=0004989040\n",
      "https://news.naver.com/main/read.naver?mode=LSD&mid=sec&sid1=104&oid=079&aid=0003567211\n",
      "https://news.naver.com/main/read.naver?mode=LSD&mid=sec&sid1=106&oid=311&aid=0001364521\n",
      "https://news.naver.com/main/read.naver?mode=LSD&mid=sec&sid1=102&oid=014&aid=0004729066\n",
      "https://news.naver.com/main/read.naver?mode=LSD&mid=sec&sid1=101&oid=310&aid=0000091455\n",
      "https://news.naver.com/main/read.naver?mode=LSD&mid=sec&sid1=110&oid=016&aid=0001904108\n",
      "https://news.naver.com/main/read.naver?mode=LSD&mid=sec&sid1=106&oid=144&aid=0000769716\n",
      "https://news.naver.com/main/read.naver?mode=LSD&mid=sec&sid1=102&oid=421&aid=0005680912\n",
      "https://news.naver.com/main/read.naver?mode=LSD&mid=sec&sid1=104&oid=214&aid=0001156018\n",
      "https://news.naver.com/main/read.naver?mode=LSD&mid=sec&sid1=105&oid=138&aid=0002112298\n",
      "https://news.naver.com/main/read.naver?mode=LSD&mid=sec&sid1=104&oid=421&aid=0005680901\n",
      "https://news.naver.com/main/read.naver?mode=LSD&mid=sec&sid1=105&oid=009&aid=0004869712\n",
      "https://news.naver.com/main/read.naver?mode=LSD&mid=sec&sid1=102&oid=277&aid=0004989032\n",
      "https://news.naver.com/main/read.naver?mode=LSD&mid=sec&sid1=106&oid=109&aid=0004498322\n",
      "https://news.naver.com/main/read.naver?mode=LSD&mid=sec&sid1=104&oid=057&aid=0001616792\n",
      "https://news.naver.com/main/read.naver?mode=LSD&mid=sec&sid1=102&oid=277&aid=0004989030\n",
      "https://news.naver.com/main/read.naver?mode=LSD&mid=sec&sid1=102&oid=018&aid=0005070232\n",
      "https://news.naver.com/main/read.naver?mode=LSD&mid=sec&sid1=102&oid=001&aid=0012747272\n",
      "https://news.naver.com/main/read.naver?mode=LSD&mid=sec&sid1=101&oid=001&aid=0012747269\n",
      "https://news.naver.com/main/read.naver?mode=LSD&mid=sec&sid1=102&oid=421&aid=0005680897\n",
      "https://news.naver.com/main/read.naver?mode=LSD&mid=sec&sid1=102&oid=421&aid=0005680895\n",
      "https://news.naver.com/main/read.naver?mode=LSD&mid=sec&sid1=102&oid=079&aid=0003567205\n",
      "https://news.naver.com/main/read.naver?mode=LSD&mid=sec&sid1=101&oid=374&aid=0000262119\n",
      "https://news.naver.com/main/read.naver?mode=LSD&mid=sec&sid1=106&oid=117&aid=0003548894\n",
      "https://news.naver.com/main/read.naver?mode=LSD&mid=sec&sid1=102&oid=310&aid=0000091453\n",
      "https://news.naver.com/main/read.naver?mode=LSD&mid=sec&sid1=100&oid=025&aid=0003145514\n",
      "https://news.naver.com/main/read.naver?mode=LSD&mid=sec&sid1=004&oid=079&aid=0003567201\n",
      "https://news.naver.com/main/read.naver?mode=LSD&mid=sec&sid1=101&oid=016&aid=0001904061\n",
      "https://news.naver.com/main/read.naver?mode=LSD&mid=sec&sid1=102&oid=421&aid=0005680855\n",
      "https://news.naver.com/main/read.naver?mode=LSD&mid=sec&sid1=101&oid=001&aid=0012747224\n",
      "https://news.naver.com/main/read.naver?mode=LSD&mid=sec&sid1=102&oid=586&aid=0000030426\n",
      "https://news.naver.com/main/read.naver?mode=LSD&mid=sec&sid1=106&oid=609&aid=0000503870\n",
      "https://news.naver.com/main/read.naver?mode=LSD&mid=sec&sid1=101&oid=123&aid=0002257848\n",
      "https://news.naver.com/main/read.naver?mode=LSD&mid=sec&sid1=104&oid=005&aid=0001479600\n",
      "https://news.naver.com/main/read.naver?mode=LSD&mid=sec&sid1=102&oid=081&aid=0003224927\n",
      "https://news.naver.com/main/read.naver?mode=LSD&mid=sec&sid1=101&oid=016&aid=0001904049\n",
      "https://news.naver.com/main/read.naver?mode=LSD&mid=sec&sid1=101&oid=016&aid=0001904048\n",
      "https://news.naver.com/main/read.naver?mode=LSD&mid=sec&sid1=101&oid=422&aid=0000510908\n",
      "https://news.naver.com/main/read.naver?mode=LSD&mid=sec&sid1=101&oid=015&aid=0004620618\n",
      "https://news.naver.com/main/read.naver?mode=LSD&mid=sec&sid1=101&oid=468&aid=0000796380\n",
      "https://news.naver.com/main/read.naver?mode=LSD&mid=sec&sid1=102&oid=001&aid=0012747199\n",
      "https://news.naver.com/main/read.naver?mode=LSD&mid=sec&sid1=102&oid=002&aid=0002216001\n",
      "https://news.naver.com/main/read.naver?mode=LSD&mid=sec&sid1=104&oid=421&aid=0005680814\n",
      "https://news.naver.com/main/read.naver?mode=LSD&mid=sec&sid1=004&oid=346&aid=0000045370\n",
      "https://news.naver.com/main/read.naver?mode=LSD&mid=sec&sid1=104&oid=421&aid=0005680815\n",
      "https://news.naver.com/main/read.naver?mode=LSD&mid=sec&sid1=104&oid=421&aid=0005680812\n",
      "https://news.naver.com/main/read.naver?mode=LSD&mid=sec&sid1=101&oid=008&aid=0004661618\n",
      "https://news.naver.com/main/read.naver?mode=LSD&mid=sec&sid1=104&oid=421&aid=0005680807\n",
      "https://news.naver.com/main/read.naver?mode=LSD&mid=sec&sid1=102&oid=421&aid=0005680811\n",
      "https://news.naver.com/main/read.naver?mode=LSD&mid=sec&sid1=102&oid=586&aid=0000030422\n",
      "https://news.naver.com/main/read.naver?mode=LSD&mid=sec&sid1=104&oid=421&aid=0005680799\n",
      "https://news.naver.com/main/read.naver?mode=LSD&mid=sec&sid1=104&oid=022&aid=0003631828\n",
      "https://news.naver.com/main/read.naver?mode=LSD&mid=sec&sid1=102&oid=421&aid=0005680802\n",
      "https://news.naver.com/main/read.naver?mode=LSD&mid=sec&sid1=104&oid=421&aid=0005680804\n",
      "https://news.naver.com/main/read.naver?mode=LSD&mid=sec&sid1=102&oid=003&aid=0010792234\n",
      "https://news.naver.com/main/read.naver?mode=LSD&mid=sec&sid1=104&oid=421&aid=0005680795\n",
      "https://news.naver.com/main/read.naver?mode=LSD&mid=sec&sid1=104&oid=421&aid=0005680789\n",
      "https://news.naver.com/main/read.naver?mode=LSD&mid=sec&sid1=104&oid=421&aid=0005680788\n",
      "https://news.naver.com/main/read.naver?mode=LSD&mid=sec&sid1=102&oid=001&aid=0012747168\n",
      "https://sports.news.naver.com/news.nhn?oid=468&aid=0000796376\n",
      "https://news.naver.com/main/read.naver?mode=LSD&mid=sec&sid1=102&oid=032&aid=0003106081\n",
      "https://news.naver.com/main/read.naver?mode=LSD&mid=sec&sid1=104&oid=421&aid=0005680787\n",
      "https://news.naver.com/main/read.naver?mode=LSD&mid=sec&sid1=102&oid=003&aid=0010792222\n",
      "https://news.naver.com/main/read.naver?mode=LSD&mid=sec&sid1=101&oid=417&aid=0000747462\n",
      "https://news.naver.com/main/read.naver?mode=LSD&mid=sec&sid1=102&oid=001&aid=0012747163\n",
      "https://news.naver.com/main/read.naver?mode=LSD&mid=sec&sid1=102&oid=003&aid=0010792209\n",
      "https://news.naver.com/main/read.naver?mode=LSD&mid=sec&sid1=104&oid=055&aid=0000929455\n",
      "https://news.naver.com/main/read.naver?mode=LSD&mid=sec&sid1=102&oid=079&aid=0003567186\n",
      "https://news.naver.com/main/read.naver?mode=LSD&mid=sec&sid1=102&oid=014&aid=0004729039\n",
      "https://news.naver.com/main/read.naver?mode=LSD&mid=sec&sid1=104&oid=421&aid=0005680772\n",
      "https://news.naver.com/main/read.naver?mode=LSD&mid=sec&sid1=102&oid=014&aid=0004729039\n",
      "https://news.naver.com/main/read.naver?mode=LSD&mid=sec&sid1=104&oid=056&aid=0011144342\n",
      "https://news.naver.com/main/read.naver?mode=LSD&mid=sec&sid1=101&oid=421&aid=0005680771\n",
      "https://news.naver.com/main/read.naver?mode=LSD&mid=sec&sid1=102&oid=001&aid=0012747132\n",
      "https://news.naver.com/main/read.naver?mode=LSD&mid=sec&sid1=103&oid=056&aid=0011144339\n",
      "https://news.naver.com/main/read.naver?mode=LSD&mid=sec&sid1=106&oid=629&aid=0000112520\n",
      "https://news.naver.com/main/read.naver?mode=LSD&mid=sec&sid1=101&oid=022&aid=0003631823\n",
      "https://news.naver.com/main/read.naver?mode=LSD&mid=sec&sid1=101&oid=016&aid=0001904011\n",
      "https://news.naver.com/main/read.naver?mode=LSD&mid=sec&sid1=102&oid=421&aid=0005680767\n",
      "https://news.naver.com/main/read.naver?mode=LSD&mid=sec&sid1=106&oid=112&aid=0003490969\n",
      "https://news.naver.com/main/read.naver?mode=LSD&mid=sec&sid1=102&oid=052&aid=0001657094\n",
      "https://news.naver.com/main/read.naver?mode=LSD&mid=sec&sid1=101&oid=277&aid=0004988990\n",
      "https://news.naver.com/main/read.naver?mode=LSD&mid=sec&sid1=102&oid=421&aid=0005680752\n",
      "https://news.naver.com/main/read.naver?mode=LSD&mid=sec&sid1=101&oid=277&aid=0004988989\n",
      "https://news.naver.com/main/read.naver?mode=LSD&mid=sec&sid1=100&oid=448&aid=0000342362\n",
      "https://news.naver.com/main/read.naver?mode=LSD&mid=sec&sid1=101&oid=008&aid=0004661593\n",
      "https://news.naver.com/main/read.naver?mode=LSD&mid=sec&sid1=103&oid=296&aid=0000052408\n",
      "https://news.naver.com/main/read.naver?mode=LSD&mid=sec&sid1=102&oid=055&aid=0000929451\n",
      "https://news.naver.com/main/read.naver?mode=LSD&mid=sec&sid1=101&oid=008&aid=0004661591\n",
      "https://news.naver.com/main/read.naver?mode=LSD&mid=sec&sid1=102&oid=052&aid=0001657089\n",
      "https://news.naver.com/main/read.naver?mode=LSD&mid=sec&sid1=102&oid=032&aid=0003106077\n",
      "https://news.naver.com/main/read.naver?mode=LSD&mid=sec&sid1=102&oid=003&aid=0010792130\n",
      "https://news.naver.com/main/read.naver?mode=LSD&mid=sec&sid1=102&oid=014&aid=0004729023\n",
      "https://news.naver.com/main/read.naver?mode=LSD&mid=sec&sid1=102&oid=056&aid=0011144330\n",
      "https://news.naver.com/main/read.naver?mode=LSD&mid=sec&sid1=101&oid=417&aid=0000747439\n",
      "https://news.naver.com/main/read.naver?mode=LSD&mid=sec&sid1=102&oid=022&aid=0003631821\n",
      "https://news.naver.com/main/read.naver?mode=LSD&mid=sec&sid1=102&oid=469&aid=0000637176\n",
      "https://news.naver.com/main/read.naver?mode=LSD&mid=sec&sid1=102&oid=003&aid=0010792103\n",
      "https://news.naver.com/main/read.naver?mode=LSD&mid=sec&sid1=102&oid=366&aid=0000769202\n",
      "https://news.naver.com/main/read.naver?mode=LSD&mid=sec&sid1=104&oid=016&aid=0001903996\n",
      "https://news.naver.com/main/read.naver?mode=LSD&mid=sec&sid1=100&oid=052&aid=0001657102\n",
      "https://news.naver.com/main/read.naver?mode=LSD&mid=sec&sid1=102&oid=018&aid=0005070165\n",
      "https://news.naver.com/main/read.naver?mode=LSD&mid=sec&sid1=102&oid=014&aid=0004729021\n",
      "https://news.naver.com/main/read.naver?mode=LSD&mid=sec&sid1=101&oid=008&aid=0004661588\n",
      "https://news.naver.com/main/read.naver?mode=LSD&mid=sec&sid1=101&oid=003&aid=0010792107\n",
      "https://news.naver.com/main/read.naver?mode=LSD&mid=sec&sid1=101&oid=374&aid=0000262111\n",
      "https://news.naver.com/main/read.naver?mode=LSD&mid=sec&sid1=102&oid=028&aid=0002565259\n",
      "https://sports.news.naver.com/news.nhn?oid=436&aid=0000050200\n",
      "https://news.naver.com/main/read.naver?mode=LSD&mid=sec&sid1=102&oid=025&aid=0003145500\n",
      "https://news.naver.com/main/read.naver?mode=LSD&mid=sec&sid1=101&oid=008&aid=0004661587\n",
      "https://news.naver.com/main/read.naver?mode=LSD&mid=sec&sid1=101&oid=422&aid=0000510906\n",
      "https://news.naver.com/main/read.naver?mode=LSD&mid=sec&sid1=101&oid=422&aid=0000510906\n",
      "https://news.naver.com/main/read.naver?mode=LSD&mid=sec&sid1=101&oid=003&aid=0010792102\n",
      "https://news.naver.com/main/read.naver?mode=LSD&mid=sec&sid1=101&oid=008&aid=0004661587\n",
      "https://news.naver.com/main/read.naver?mode=LSD&mid=sec&sid1=102&oid=025&aid=0003145500\n",
      "https://news.naver.com/main/read.naver?mode=LSD&mid=sec&sid1=102&oid=421&aid=0005680703\n",
      "https://news.naver.com/main/read.naver?mode=LSD&mid=sec&sid1=104&oid=448&aid=0000342361\n",
      "https://news.naver.com/main/read.naver?mode=LSD&mid=sec&sid1=104&oid=421&aid=0005680687\n",
      "https://news.naver.com/main/read.naver?mode=LSD&mid=sec&sid1=101&oid=032&aid=0003106075\n",
      "https://news.naver.com/main/read.naver?mode=LSD&mid=sec&sid1=104&oid=448&aid=0000342359\n",
      "https://news.naver.com/main/read.naver?mode=LSD&mid=sec&sid1=102&oid=009&aid=0004869679\n",
      "https://news.naver.com/main/read.naver?mode=LSD&mid=sec&sid1=101&oid=421&aid=0005680683\n",
      "https://news.naver.com/main/read.naver?mode=LSD&mid=sec&sid1=104&oid=008&aid=0004661579\n",
      "https://news.naver.com/main/read.naver?mode=LSD&mid=sec&sid1=102&oid=081&aid=0003224912\n",
      "https://news.naver.com/main/read.naver?mode=LSD&mid=sec&sid1=103&oid=011&aid=0003977515\n",
      "https://news.naver.com/main/read.naver?mode=LSD&mid=sec&sid1=102&oid=417&aid=0000747429\n",
      "https://news.naver.com/main/read.naver?mode=LSD&mid=sec&sid1=101&oid=030&aid=0002977585\n",
      "https://news.naver.com/main/read.naver?mode=LSD&mid=sec&sid1=104&oid=448&aid=0000342357\n",
      "https://news.naver.com/main/read.naver?mode=LSD&mid=sec&sid1=103&oid=005&aid=0001479591\n",
      "https://news.naver.com/main/read.naver?mode=LSD&mid=sec&sid1=104&oid=001&aid=0012747030\n",
      "https://news.naver.com/main/read.naver?mode=LSD&mid=sec&sid1=102&oid=421&aid=0005680640\n",
      "https://news.naver.com/main/read.naver?mode=LSD&mid=sec&sid1=102&oid=003&aid=0010792042\n",
      "https://news.naver.com/main/read.naver?mode=LSD&mid=sec&sid1=104&oid=028&aid=0002565255\n",
      "https://news.naver.com/main/read.naver?mode=LSD&mid=sec&sid1=104&oid=056&aid=0011144312\n",
      "https://news.naver.com/main/read.naver?mode=LSD&mid=sec&sid1=102&oid=629&aid=0000112506\n",
      "https://news.naver.com/main/read.naver?mode=LSD&mid=sec&sid1=102&oid=629&aid=0000112506\n",
      "https://news.naver.com/main/read.naver?mode=LSD&mid=sec&sid1=104&oid=025&aid=0003145492\n",
      "https://news.naver.com/main/read.naver?mode=LSD&mid=sec&sid1=102&oid=087&aid=0000865584\n",
      "https://news.naver.com/main/read.naver?mode=LSD&mid=sec&sid1=101&oid=003&aid=0010792004\n",
      "https://news.naver.com/main/read.naver?mode=LSD&mid=sec&sid1=102&oid=023&aid=0003648727\n",
      "https://news.naver.com/main/read.naver?mode=LSD&mid=sec&sid1=101&oid=119&aid=0002541737\n",
      "https://news.naver.com/main/read.naver?mode=LSD&mid=sec&sid1=104&oid=001&aid=0012746973\n",
      "https://news.naver.com/main/read.naver?mode=LSD&mid=sec&sid1=104&oid=003&aid=0010791978\n",
      "https://news.naver.com/main/read.naver?mode=LSD&mid=sec&sid1=104&oid=003&aid=0010791982\n",
      "https://news.naver.com/main/read.naver?mode=LSD&mid=sec&sid1=104&oid=003&aid=0010791980\n",
      "https://news.naver.com/main/read.naver?mode=LSD&mid=sec&sid1=101&oid=018&aid=0005070144\n",
      "https://news.naver.com/main/read.naver?mode=LSD&mid=sec&sid1=102&oid=417&aid=0000747408\n",
      "https://news.naver.com/main/read.naver?mode=LSD&mid=sec&sid1=102&oid=016&aid=0001903967\n",
      "https://news.naver.com/main/read.naver?mode=LSD&mid=sec&sid1=104&oid=366&aid=0000769191\n",
      "https://news.naver.com/main/read.naver?mode=LSD&mid=sec&sid1=100&oid=001&aid=0012746957\n",
      "https://news.naver.com/main/read.naver?mode=LSD&mid=sec&sid1=104&oid=003&aid=0010791948\n",
      "https://news.naver.com/main/read.naver?mode=LSD&mid=sec&sid1=104&oid=022&aid=0003631809\n",
      "https://news.naver.com/main/read.naver?mode=LSD&mid=sec&sid1=101&oid=016&aid=0001903965\n",
      "https://news.naver.com/main/read.naver?mode=LSD&mid=sec&sid1=102&oid=032&aid=0003106071\n",
      "https://news.naver.com/main/read.naver?mode=LSD&mid=sec&sid1=102&oid=079&aid=0003567129\n",
      "https://news.naver.com/main/read.naver?mode=LSD&mid=sec&sid1=100&oid=003&aid=0010791894\n",
      "https://news.naver.com/main/read.naver?mode=LSD&mid=sec&sid1=101&oid=001&aid=0012746897\n",
      "https://news.naver.com/main/read.naver?mode=LSD&mid=sec&sid1=104&oid=025&aid=0003145488\n",
      "https://news.naver.com/main/read.naver?mode=LSD&mid=sec&sid1=101&oid=047&aid=0002330606\n",
      "https://news.naver.com/main/read.naver?mode=LSD&mid=sec&sid1=102&oid=001&aid=0012746879\n",
      "https://news.naver.com/main/read.naver?mode=LSD&mid=sec&sid1=102&oid=001&aid=0012746885\n",
      "https://news.naver.com/main/read.naver?mode=LSD&mid=sec&sid1=102&oid=001&aid=0012746878\n",
      "https://news.naver.com/main/read.naver?mode=LSD&mid=sec&sid1=102&oid=001&aid=0012746877\n",
      "https://news.naver.com/main/read.naver?mode=LSD&mid=sec&sid1=101&oid=011&aid=0003977491\n",
      "https://news.naver.com/main/read.naver?mode=LSD&mid=sec&sid1=102&oid=001&aid=0012746873\n",
      "https://news.naver.com/main/read.naver?mode=LSD&mid=sec&sid1=102&oid=001&aid=0012746886\n",
      "https://news.naver.com/main/read.naver?mode=LSD&mid=sec&sid1=102&oid=001&aid=0012746880\n",
      "https://news.naver.com/main/read.naver?mode=LSD&mid=sec&sid1=102&oid=025&aid=0003145487\n",
      "https://news.naver.com/main/read.naver?mode=LSD&mid=sec&sid1=102&oid=001&aid=0012746883\n",
      "https://news.naver.com/main/read.naver?mode=LSD&mid=sec&sid1=102&oid=001&aid=0012746874\n",
      "https://news.naver.com/main/read.naver?mode=LSD&mid=sec&sid1=102&oid=001&aid=0012746884\n",
      "https://news.naver.com/main/read.naver?mode=LSD&mid=sec&sid1=102&oid=002&aid=0002215973\n",
      "https://news.naver.com/main/read.naver?mode=LSD&mid=sec&sid1=103&oid=584&aid=0000016477\n",
      "https://news.naver.com/main/read.naver?mode=LSD&mid=sec&sid1=106&oid=001&aid=0012746866\n",
      "https://news.naver.com/main/read.naver?mode=LSD&mid=sec&sid1=106&oid=011&aid=0003977487\n",
      "https://news.naver.com/main/read.naver?mode=LSD&mid=sec&sid1=104&oid=277&aid=0004988931\n",
      "https://news.naver.com/main/read.naver?mode=LSD&mid=sec&sid1=100&oid=123&aid=0002257831\n",
      "https://news.naver.com/main/read.naver?mode=LSD&mid=sec&sid1=106&oid=477&aid=0000325436\n",
      "https://news.naver.com/main/read.naver?mode=LSD&mid=sec&sid1=101&oid=014&aid=0004728971\n",
      "https://news.naver.com/main/read.naver?mode=LSD&mid=sec&sid1=106&oid=057&aid=0001616760\n"
     ]
    }
   ],
   "source": [
    "naver_news_link = []\n",
    "\n",
    "for page in news_data:\n",
    "    #print(page)\n",
    "    page_news_link = []\n",
    "    \n",
    "    for item in page['items']:\n",
    "        #print(item)\n",
    "        temp_link = item['link']\n",
    "        #print(temp_link)\n",
    "        if \"naver\" in temp_link:\n",
    "            page_news_link.append(temp_link)\n",
    "    \n",
    "    naver_news_link.append(page_news_link)\n",
    "        \n",
    "\n",
    "# 사이트 확인하기에 편한 코드 구조.\n",
    "for page in naver_news_link:\n",
    "    for link in page:\n",
    "        print(link)"
   ]
  },
  {
   "cell_type": "code",
   "execution_count": 4,
   "metadata": {},
   "outputs": [],
   "source": [
    "import pandas as pd\n",
    "import numpy as np\n",
    "from selenium import webdriver\n",
    "from tqdm import tqdm_notebook\n",
    "import requests\n",
    "import pickle\n",
    "import re\n",
    "import ast\n",
    "\n",
    "from bs4 import BeautifulSoup \n",
    "from urllib.request import urlopen\n",
    "import urllib\n",
    "import time"
   ]
  },
  {
   "cell_type": "code",
   "execution_count": 5,
   "metadata": {},
   "outputs": [],
   "source": [
    "# 가상 크롬드라이버를 불러옴.\n",
    "# 윈도우 10의 경우 chromedriver.exe\n",
    "driver = webdriver.Chrome('f:/chromedriver.exe')"
   ]
  },
  {
   "cell_type": "code",
   "execution_count": 6,
   "metadata": {},
   "outputs": [
    {
     "name": "stderr",
     "output_type": "stream",
     "text": [
      "C:\\Users\\poeun\\anaconda3\\envs\\NLP\\lib\\site-packages\\ipykernel_launcher.py:5: TqdmDeprecationWarning: This function will be removed in tqdm==5.0.0\n",
      "Please use `tqdm.notebook.tqdm` instead of `tqdm.tqdm_notebook`\n",
      "  \"\"\"\n"
     ]
    },
    {
     "data": {
      "application/vnd.jupyter.widget-view+json": {
       "model_id": "658d106442be405a9e2c659efe68e935",
       "version_major": 2,
       "version_minor": 0
      },
      "text/plain": [
       "  0%|          | 0/100 [00:00<?, ?it/s]"
      ]
     },
     "metadata": {},
     "output_type": "display_data"
    },
    {
     "name": "stderr",
     "output_type": "stream",
     "text": [
      "C:\\Users\\poeun\\anaconda3\\envs\\NLP\\lib\\site-packages\\ipykernel_launcher.py:10: TqdmDeprecationWarning: This function will be removed in tqdm==5.0.0\n",
      "Please use `tqdm.notebook.tqdm` instead of `tqdm.tqdm_notebook`\n",
      "  # Remove the CWD from sys.path while we load stuff.\n"
     ]
    },
    {
     "data": {
      "application/vnd.jupyter.widget-view+json": {
       "model_id": "318f4aca8f674915829cf09a991ddead",
       "version_major": 2,
       "version_minor": 0
      },
      "text/plain": [
       "  0%|          | 0/6 [00:00<?, ?it/s]"
      ]
     },
     "metadata": {},
     "output_type": "display_data"
    },
    {
     "name": "stdout",
     "output_type": "stream",
     "text": [
      "https://sports.news.naver.com/news.nhn?oid=469&aid=0000637247\n",
      "https://sports.news.naver.com/news.nhn?oid=119&aid=0002541912\n",
      "https://news.naver.com/main/read.naver?mode=LSD&mid=sec&sid1=100&oid=003&aid=0010793400\n",
      "https://news.naver.com/main/read.naver?mode=LSD&mid=sec&sid1=100&oid=123&aid=0002257899\n",
      "https://news.naver.com/main/read.naver?mode=LSD&mid=sec&sid1=102&oid=003&aid=0010793399\n",
      "https://news.naver.com/main/read.naver?mode=LSD&mid=sec&sid1=104&oid=030&aid=0002977725\n"
     ]
    },
    {
     "data": {
      "application/vnd.jupyter.widget-view+json": {
       "model_id": "1ee0813cf5c74fc8897e211b3a09fa7d",
       "version_major": 2,
       "version_minor": 0
      },
      "text/plain": [
       "  0%|          | 0/6 [00:00<?, ?it/s]"
      ]
     },
     "metadata": {},
     "output_type": "display_data"
    },
    {
     "name": "stdout",
     "output_type": "stream",
     "text": [
      "https://news.naver.com/main/read.naver?mode=LSD&mid=sec&sid1=101&oid=008&aid=0004661815\n",
      "https://sports.news.naver.com/news.nhn?oid=382&aid=0000940711\n",
      "https://news.naver.com/main/read.naver?mode=LSD&mid=sec&sid1=104&oid=025&aid=0003145590\n",
      "https://news.naver.com/main/read.naver?mode=LSD&mid=sec&sid1=102&oid=468&aid=0000796444\n",
      "https://news.naver.com/main/read.naver?mode=LSD&mid=sec&sid1=102&oid=003&aid=0010793385\n",
      "https://news.naver.com/main/read.naver?mode=LSD&mid=sec&sid1=105&oid=023&aid=0003648793\n"
     ]
    },
    {
     "data": {
      "application/vnd.jupyter.widget-view+json": {
       "model_id": "47ad43d45d124b74aec2588b5026f4bd",
       "version_major": 2,
       "version_minor": 0
      },
      "text/plain": [
       "  0%|          | 0/6 [00:00<?, ?it/s]"
      ]
     },
     "metadata": {},
     "output_type": "display_data"
    },
    {
     "name": "stdout",
     "output_type": "stream",
     "text": [
      "https://news.naver.com/main/read.naver?mode=LSD&mid=sec&sid1=102&oid=421&aid=0005682128\n",
      "https://news.naver.com/main/read.naver?mode=LSD&mid=sec&sid1=102&oid=022&aid=0003631919\n",
      "https://news.naver.com/main/read.naver?mode=LSD&mid=sec&sid1=102&oid=001&aid=0012748472\n",
      "https://news.naver.com/main/read.naver?mode=LSD&mid=sec&sid1=105&oid=030&aid=0002977717\n",
      "https://news.naver.com/main/read.naver?mode=LSD&mid=sec&sid1=101&oid=082&aid=0001124734\n",
      "https://news.naver.com/main/read.naver?mode=LSD&mid=sec&sid1=102&oid=421&aid=0005682119\n"
     ]
    },
    {
     "data": {
      "application/vnd.jupyter.widget-view+json": {
       "model_id": "cf34967f5deb4ec0910811002360c985",
       "version_major": 2,
       "version_minor": 0
      },
      "text/plain": [
       "  0%|          | 0/5 [00:00<?, ?it/s]"
      ]
     },
     "metadata": {},
     "output_type": "display_data"
    },
    {
     "name": "stdout",
     "output_type": "stream",
     "text": [
      "https://news.naver.com/main/read.naver?mode=LSD&mid=sec&sid1=104&oid=021&aid=0002490123\n",
      "https://news.naver.com/main/read.naver?mode=LSD&mid=sec&sid1=102&oid=003&aid=0010793378\n",
      "https://news.naver.com/main/read.naver?mode=LSD&mid=sec&sid1=102&oid=119&aid=0002541897\n",
      "https://news.naver.com/main/read.naver?mode=LSD&mid=sec&sid1=104&oid=077&aid=0005365019\n",
      "https://news.naver.com/main/read.naver?mode=LSD&mid=sec&sid1=102&oid=087&aid=0000865602\n"
     ]
    },
    {
     "data": {
      "application/vnd.jupyter.widget-view+json": {
       "model_id": "11a97f1a0b0f4694b83ff016ecb8e4b1",
       "version_major": 2,
       "version_minor": 0
      },
      "text/plain": [
       "  0%|          | 0/5 [00:00<?, ?it/s]"
      ]
     },
     "metadata": {},
     "output_type": "display_data"
    },
    {
     "name": "stdout",
     "output_type": "stream",
     "text": [
      "https://news.naver.com/main/read.naver?mode=LSD&mid=sec&sid1=102&oid=087&aid=0000865602\n",
      "https://news.naver.com/main/read.naver?mode=LSD&mid=sec&sid1=100&oid=001&aid=0012748458\n",
      "https://news.naver.com/main/read.naver?mode=LSD&mid=sec&sid1=102&oid=015&aid=0004620751\n",
      "https://news.naver.com/main/read.naver?mode=LSD&mid=sec&sid1=102&oid=001&aid=0012748452\n",
      "https://news.naver.com/main/read.naver?mode=LSD&mid=sec&sid1=101&oid=014&aid=0004729268\n"
     ]
    },
    {
     "data": {
      "application/vnd.jupyter.widget-view+json": {
       "model_id": "2168ad7a56f1480ea0179014adb57e32",
       "version_major": 2,
       "version_minor": 0
      },
      "text/plain": [
       "  0%|          | 0/3 [00:00<?, ?it/s]"
      ]
     },
     "metadata": {},
     "output_type": "display_data"
    },
    {
     "name": "stdout",
     "output_type": "stream",
     "text": [
      "https://news.naver.com/main/read.naver?mode=LSD&mid=sec&sid1=104&oid=020&aid=0003389647\n",
      "https://news.naver.com/main/read.naver?mode=LSD&mid=sec&sid1=104&oid=421&aid=0005682032\n",
      "https://news.naver.com/main/read.naver?mode=LSD&mid=sec&sid1=101&oid=243&aid=0000017670\n"
     ]
    },
    {
     "data": {
      "application/vnd.jupyter.widget-view+json": {
       "model_id": "1eb89aa8cf494cdb9960d26e35688bcf",
       "version_major": 2,
       "version_minor": 0
      },
      "text/plain": [
       "  0%|          | 0/6 [00:00<?, ?it/s]"
      ]
     },
     "metadata": {},
     "output_type": "display_data"
    },
    {
     "name": "stdout",
     "output_type": "stream",
     "text": [
      "https://news.naver.com/main/read.naver?mode=LSD&mid=sec&sid1=100&oid=421&aid=0005682019\n",
      "https://news.naver.com/main/read.naver?mode=LSD&mid=sec&sid1=100&oid=052&aid=0001657243\n",
      "https://news.naver.com/main/read.naver?mode=LSD&mid=sec&sid1=102&oid=421&aid=0005681971\n",
      "https://news.naver.com/main/read.naver?mode=LSD&mid=sec&sid1=102&oid=468&aid=0000796433\n",
      "https://news.naver.com/main/read.naver?mode=LSD&mid=sec&sid1=100&oid=421&aid=0005681966\n",
      "https://news.naver.com/main/read.naver?mode=LSD&mid=sec&sid1=104&oid=011&aid=0003977676\n"
     ]
    },
    {
     "data": {
      "application/vnd.jupyter.widget-view+json": {
       "model_id": "98123c9c005c4255b587feb0177bfc16",
       "version_major": 2,
       "version_minor": 0
      },
      "text/plain": [
       "  0%|          | 0/4 [00:00<?, ?it/s]"
      ]
     },
     "metadata": {},
     "output_type": "display_data"
    },
    {
     "name": "stdout",
     "output_type": "stream",
     "text": [
      "https://news.naver.com/main/read.naver?mode=LSD&mid=sec&sid1=102&oid=082&aid=0001124729\n",
      "https://news.naver.com/main/read.naver?mode=LSD&mid=sec&sid1=100&oid=277&aid=0004989275\n",
      "https://news.naver.com/main/read.naver?mode=LSD&mid=sec&sid1=102&oid=018&aid=0005070498\n",
      "https://news.naver.com/main/read.naver?mode=LSD&mid=sec&sid1=101&oid=028&aid=0002565313\n"
     ]
    },
    {
     "data": {
      "application/vnd.jupyter.widget-view+json": {
       "model_id": "45325e4a044c4dd8ad80b8c4f3d071b3",
       "version_major": 2,
       "version_minor": 0
      },
      "text/plain": [
       "  0%|          | 0/8 [00:00<?, ?it/s]"
      ]
     },
     "metadata": {},
     "output_type": "display_data"
    },
    {
     "name": "stdout",
     "output_type": "stream",
     "text": [
      "https://sports.news.naver.com/news.nhn?oid=410&aid=0000825978\n",
      "https://news.naver.com/main/read.naver?mode=LSD&mid=sec&sid1=102&oid=088&aid=0000727792\n",
      "https://news.naver.com/main/read.naver?mode=LSD&mid=sec&sid1=102&oid=088&aid=0000727793\n",
      "https://news.naver.com/main/read.naver?mode=LSD&mid=sec&sid1=102&oid=079&aid=0003567331\n",
      "https://news.naver.com/main/read.naver?mode=LSD&mid=sec&sid1=100&oid=014&aid=0004729253\n",
      "https://news.naver.com/main/read.naver?mode=LSD&mid=sec&sid1=104&oid=022&aid=0003631909\n",
      "https://news.naver.com/main/read.naver?mode=LSD&mid=sec&sid1=102&oid=421&aid=0005681928\n",
      "https://news.naver.com/main/read.naver?mode=LSD&mid=sec&sid1=104&oid=023&aid=0003648786\n"
     ]
    },
    {
     "data": {
      "application/vnd.jupyter.widget-view+json": {
       "model_id": "6ec159cd7b7349dca5a847bc7390a262",
       "version_major": 2,
       "version_minor": 0
      },
      "text/plain": [
       "  0%|          | 0/7 [00:00<?, ?it/s]"
      ]
     },
     "metadata": {},
     "output_type": "display_data"
    },
    {
     "name": "stdout",
     "output_type": "stream",
     "text": [
      "https://sports.news.naver.com/news.nhn?oid=436&aid=0000050202\n",
      "https://news.naver.com/main/read.naver?mode=LSD&mid=sec&sid1=101&oid=417&aid=0000747590\n",
      "https://news.naver.com/main/read.naver?mode=LSD&mid=sec&sid1=102&oid=469&aid=0000637242\n",
      "https://news.naver.com/main/read.naver?mode=LSD&mid=sec&sid1=102&oid=018&aid=0005070479\n",
      "https://news.naver.com/main/read.naver?mode=LSD&mid=sec&sid1=102&oid=421&aid=0005681920\n",
      "https://news.naver.com/main/read.naver?mode=LSD&mid=sec&sid1=102&oid=003&aid=0010793284\n",
      "https://news.naver.com/main/read.naver?mode=LSD&mid=sec&sid1=104&oid=032&aid=0003106144\n"
     ]
    },
    {
     "data": {
      "application/vnd.jupyter.widget-view+json": {
       "model_id": "65cc33ec259542318a88bc09b26d7e26",
       "version_major": 2,
       "version_minor": 0
      },
      "text/plain": [
       "  0%|          | 0/5 [00:00<?, ?it/s]"
      ]
     },
     "metadata": {},
     "output_type": "display_data"
    },
    {
     "name": "stdout",
     "output_type": "stream",
     "text": [
      "https://news.naver.com/main/read.naver?mode=LSD&mid=sec&sid1=101&oid=008&aid=0004661793\n",
      "https://news.naver.com/main/read.naver?mode=LSD&mid=sec&sid1=104&oid=214&aid=0001156067\n",
      "https://news.naver.com/main/read.naver?mode=LSD&mid=sec&sid1=101&oid=025&aid=0003145586\n",
      "https://news.naver.com/main/read.naver?mode=LSD&mid=sec&sid1=103&oid=437&aid=0000279249\n",
      "https://news.naver.com/main/read.naver?mode=LSD&mid=sec&sid1=101&oid=001&aid=0012748327\n"
     ]
    },
    {
     "data": {
      "application/vnd.jupyter.widget-view+json": {
       "model_id": "4b09a4b0807a45d48ec022adcd92bc6a",
       "version_major": 2,
       "version_minor": 0
      },
      "text/plain": [
       "  0%|          | 0/5 [00:00<?, ?it/s]"
      ]
     },
     "metadata": {},
     "output_type": "display_data"
    },
    {
     "name": "stdout",
     "output_type": "stream",
     "text": [
      "https://news.naver.com/main/read.naver?mode=LSD&mid=sec&sid1=100&oid=018&aid=0005070471\n",
      "https://sports.news.naver.com/news.nhn?oid=421&aid=0005681905\n",
      "https://news.naver.com/main/read.naver?mode=LSD&mid=sec&sid1=101&oid=001&aid=0012748322\n",
      "https://news.naver.com/main/read.naver?mode=LSD&mid=sec&sid1=104&oid=214&aid=0001156065\n",
      "https://sports.news.naver.com/news.nhn?oid=139&aid=0002157924\n"
     ]
    },
    {
     "data": {
      "application/vnd.jupyter.widget-view+json": {
       "model_id": "4ef7120f085b488cb84da78d09abc43d",
       "version_major": 2,
       "version_minor": 0
      },
      "text/plain": [
       "  0%|          | 0/7 [00:00<?, ?it/s]"
      ]
     },
     "metadata": {},
     "output_type": "display_data"
    },
    {
     "name": "stdout",
     "output_type": "stream",
     "text": [
      "https://news.naver.com/main/read.naver?mode=LSD&mid=sec&sid1=104&oid=079&aid=0003567326\n",
      "https://news.naver.com/main/read.naver?mode=LSD&mid=sec&sid1=101&oid=003&aid=0010793268\n",
      "https://news.naver.com/main/read.naver?mode=LSD&mid=sec&sid1=102&oid=079&aid=0003567325\n",
      "https://news.naver.com/main/read.naver?mode=LSD&mid=sec&sid1=104&oid=366&aid=0000769324\n",
      "https://news.naver.com/main/read.naver?mode=LSD&mid=sec&sid1=101&oid=008&aid=0004661789\n",
      "https://news.naver.com/main/read.naver?mode=LSD&mid=sec&sid1=101&oid=366&aid=0000769323\n",
      "https://news.naver.com/main/read.naver?mode=LSD&mid=sec&sid1=104&oid=008&aid=0004661786\n"
     ]
    },
    {
     "data": {
      "application/vnd.jupyter.widget-view+json": {
       "model_id": "1cedae1a002d4ee79cbbf9deb97467b4",
       "version_major": 2,
       "version_minor": 0
      },
      "text/plain": [
       "  0%|          | 0/3 [00:00<?, ?it/s]"
      ]
     },
     "metadata": {},
     "output_type": "display_data"
    },
    {
     "name": "stdout",
     "output_type": "stream",
     "text": [
      "https://news.naver.com/main/read.naver?mode=LSD&mid=sec&sid1=104&oid=008&aid=0004661786\n",
      "https://news.naver.com/main/read.naver?mode=LSD&mid=sec&sid1=102&oid=088&aid=0000727782\n",
      "https://news.naver.com/main/read.naver?mode=LSD&mid=sec&sid1=102&oid=011&aid=0003977652\n"
     ]
    },
    {
     "data": {
      "application/vnd.jupyter.widget-view+json": {
       "model_id": "dc8049caa96144e585eea63f82951b5f",
       "version_major": 2,
       "version_minor": 0
      },
      "text/plain": [
       "  0%|          | 0/6 [00:00<?, ?it/s]"
      ]
     },
     "metadata": {},
     "output_type": "display_data"
    },
    {
     "name": "stdout",
     "output_type": "stream",
     "text": [
      "https://news.naver.com/main/read.naver?mode=LSD&mid=sec&sid1=102&oid=079&aid=0003567324\n",
      "https://news.naver.com/main/read.naver?mode=LSD&mid=sec&sid1=103&oid=005&aid=0001479662\n",
      "https://news.naver.com/main/read.naver?mode=LSD&mid=sec&sid1=102&oid=001&aid=0012748252\n",
      "https://news.naver.com/main/read.naver?mode=LSD&mid=sec&sid1=102&oid=003&aid=0010793223\n",
      "http://www.segyebiz.com/newsView/20211026512629?OutUrl=naver\n",
      "https://sports.news.naver.com/news.nhn?oid=055&aid=0000929511\n"
     ]
    },
    {
     "data": {
      "application/vnd.jupyter.widget-view+json": {
       "model_id": "39329a0a67f64e1892ef992f818d9701",
       "version_major": 2,
       "version_minor": 0
      },
      "text/plain": [
       "  0%|          | 0/3 [00:00<?, ?it/s]"
      ]
     },
     "metadata": {},
     "output_type": "display_data"
    },
    {
     "name": "stdout",
     "output_type": "stream",
     "text": [
      "https://news.naver.com/main/read.naver?mode=LSD&mid=sec&sid1=104&oid=016&aid=0001904239\n",
      "https://news.naver.com/main/read.naver?mode=LSD&mid=sec&sid1=102&oid=277&aid=0004989244\n",
      "https://news.naver.com/main/read.naver?mode=LSD&mid=sec&sid1=102&oid=003&aid=0010793182\n"
     ]
    },
    {
     "data": {
      "application/vnd.jupyter.widget-view+json": {
       "model_id": "60fe82a836e04606817af28ffb42277f",
       "version_major": 2,
       "version_minor": 0
      },
      "text/plain": [
       "  0%|          | 0/5 [00:00<?, ?it/s]"
      ]
     },
     "metadata": {},
     "output_type": "display_data"
    },
    {
     "name": "stdout",
     "output_type": "stream",
     "text": [
      "https://news.naver.com/main/read.naver?mode=LSD&mid=sec&sid1=102&oid=003&aid=0010793180\n",
      "https://news.naver.com/main/read.naver?mode=LSD&mid=sec&sid1=102&oid=277&aid=0004989238\n",
      "https://news.naver.com/main/read.naver?mode=LSD&mid=sec&sid1=104&oid=055&aid=0000929510\n",
      "https://news.naver.com/main/read.naver?mode=LSD&mid=sec&sid1=004&oid=123&aid=0002257894\n",
      "https://news.naver.com/main/read.naver?mode=LSD&mid=sec&sid1=102&oid=015&aid=0004620719\n"
     ]
    },
    {
     "data": {
      "application/vnd.jupyter.widget-view+json": {
       "model_id": "54f9117ac78a4e62b0e515f822e38124",
       "version_major": 2,
       "version_minor": 0
      },
      "text/plain": [
       "  0%|          | 0/4 [00:00<?, ?it/s]"
      ]
     },
     "metadata": {},
     "output_type": "display_data"
    },
    {
     "name": "stdout",
     "output_type": "stream",
     "text": [
      "https://news.naver.com/main/read.naver?mode=LSD&mid=sec&sid1=101&oid=016&aid=0001904233\n",
      "https://news.naver.com/main/read.naver?mode=LSD&mid=sec&sid1=102&oid=005&aid=0001479656\n",
      "https://news.naver.com/main/read.naver?mode=LSD&mid=sec&sid1=102&oid=421&aid=0005681778\n",
      "https://news.naver.com/main/read.naver?mode=LSD&mid=sec&sid1=104&oid=214&aid=0001156062\n"
     ]
    },
    {
     "data": {
      "application/vnd.jupyter.widget-view+json": {
       "model_id": "26dd2fdabd38408f9c266aa44881da88",
       "version_major": 2,
       "version_minor": 0
      },
      "text/plain": [
       "  0%|          | 0/3 [00:00<?, ?it/s]"
      ]
     },
     "metadata": {},
     "output_type": "display_data"
    },
    {
     "name": "stdout",
     "output_type": "stream",
     "text": [
      "https://news.naver.com/main/read.naver?mode=LSD&mid=sec&sid1=101&oid=003&aid=0010793154\n",
      "https://news.naver.com/main/read.naver?mode=LSD&mid=sec&sid1=101&oid=032&aid=0003106135\n",
      "https://news.naver.com/main/read.naver?mode=LSD&mid=sec&sid1=102&oid=421&aid=0005681749\n"
     ]
    },
    {
     "data": {
      "application/vnd.jupyter.widget-view+json": {
       "model_id": "576c2d65eaf54cbeb65fcadd12671bd2",
       "version_major": 2,
       "version_minor": 0
      },
      "text/plain": [
       "  0%|          | 0/5 [00:00<?, ?it/s]"
      ]
     },
     "metadata": {},
     "output_type": "display_data"
    },
    {
     "name": "stdout",
     "output_type": "stream",
     "text": [
      "https://news.naver.com/main/read.naver?mode=LSD&mid=sec&sid1=102&oid=002&aid=0002216073\n",
      "https://news.naver.com/main/read.naver?mode=LSD&mid=sec&sid1=104&oid=001&aid=0012748126\n",
      "https://news.naver.com/main/read.naver?mode=LSD&mid=sec&sid1=102&oid=421&aid=0005681743\n",
      "https://news.naver.com/main/read.naver?mode=LSD&mid=sec&sid1=104&oid=018&aid=0005070414\n",
      "https://news.naver.com/main/read.naver?mode=LSD&mid=sec&sid1=102&oid=003&aid=0010793132\n"
     ]
    },
    {
     "data": {
      "application/vnd.jupyter.widget-view+json": {
       "model_id": "c631a68a3cba43e8817c75c459eaa3e8",
       "version_major": 2,
       "version_minor": 0
      },
      "text/plain": [
       "  0%|          | 0/3 [00:00<?, ?it/s]"
      ]
     },
     "metadata": {},
     "output_type": "display_data"
    },
    {
     "name": "stdout",
     "output_type": "stream",
     "text": [
      "https://news.naver.com/main/read.naver?mode=LSD&mid=sec&sid1=102&oid=214&aid=0001156057\n",
      "https://news.naver.com/main/read.naver?mode=LSD&mid=sec&sid1=102&oid=421&aid=0005681733\n",
      "https://news.naver.com/main/read.naver?mode=LSD&mid=sec&sid1=101&oid=417&aid=0000747564\n"
     ]
    },
    {
     "data": {
      "application/vnd.jupyter.widget-view+json": {
       "model_id": "dbbe5ff18a18495c9ed4a04d6cfa291b",
       "version_major": 2,
       "version_minor": 0
      },
      "text/plain": [
       "  0%|          | 0/5 [00:00<?, ?it/s]"
      ]
     },
     "metadata": {},
     "output_type": "display_data"
    },
    {
     "name": "stdout",
     "output_type": "stream",
     "text": [
      "https://sports.news.naver.com/news.nhn?oid=413&aid=0000128026\n",
      "https://news.naver.com/main/read.naver?mode=LSD&mid=sec&sid1=102&oid=022&aid=0003631897\n",
      "https://news.naver.com/main/read.naver?mode=LSD&mid=sec&sid1=106&oid=009&aid=0004869840\n",
      "https://news.naver.com/main/read.naver?mode=LSD&mid=sec&sid1=102&oid=028&aid=0002565304\n",
      "https://news.naver.com/main/read.naver?mode=LSD&mid=sec&sid1=102&oid=421&aid=0005681720\n"
     ]
    },
    {
     "data": {
      "application/vnd.jupyter.widget-view+json": {
       "model_id": "89136d582d3a44c5a63ba2c46606c44d",
       "version_major": 2,
       "version_minor": 0
      },
      "text/plain": [
       "  0%|          | 0/3 [00:00<?, ?it/s]"
      ]
     },
     "metadata": {},
     "output_type": "display_data"
    },
    {
     "name": "stdout",
     "output_type": "stream",
     "text": [
      "https://news.naver.com/main/read.naver?mode=LSD&mid=sec&sid1=102&oid=001&aid=0012748090\n",
      "https://news.naver.com/main/read.naver?mode=LSD&mid=sec&sid1=103&oid=025&aid=0003145574\n",
      "https://news.naver.com/main/read.naver?mode=LSD&mid=sec&sid1=103&oid=079&aid=0003567311\n"
     ]
    },
    {
     "data": {
      "application/vnd.jupyter.widget-view+json": {
       "model_id": "4586985b3d20475ca17cd2b9a5aec5d8",
       "version_major": 2,
       "version_minor": 0
      },
      "text/plain": [
       "  0%|          | 0/4 [00:00<?, ?it/s]"
      ]
     },
     "metadata": {},
     "output_type": "display_data"
    },
    {
     "name": "stdout",
     "output_type": "stream",
     "text": [
      "https://news.naver.com/main/read.naver?mode=LSD&mid=sec&sid1=100&oid=421&aid=0005681705\n",
      "https://news.naver.com/main/read.naver?mode=LSD&mid=sec&sid1=102&oid=002&aid=0002216064\n",
      "https://news.naver.com/main/read.naver?mode=LSD&mid=sec&sid1=104&oid=277&aid=0004989210\n",
      "https://news.naver.com/main/read.naver?mode=LSD&mid=sec&sid1=104&oid=011&aid=0003977618\n"
     ]
    },
    {
     "data": {
      "application/vnd.jupyter.widget-view+json": {
       "model_id": "5979385740d8446bad89e93bf5023771",
       "version_major": 2,
       "version_minor": 0
      },
      "text/plain": [
       "  0%|          | 0/4 [00:00<?, ?it/s]"
      ]
     },
     "metadata": {},
     "output_type": "display_data"
    },
    {
     "name": "stdout",
     "output_type": "stream",
     "text": [
      "https://news.naver.com/main/read.naver?mode=LSD&mid=sec&sid1=101&oid=030&aid=0002977688\n",
      "https://news.naver.com/main/read.naver?mode=LSD&mid=sec&sid1=105&oid=366&aid=0000769298\n",
      "https://news.naver.com/main/read.naver?mode=LSD&mid=sec&sid1=004&oid=011&aid=0003977615\n",
      "https://news.naver.com/main/read.naver?mode=LSD&mid=sec&sid1=102&oid=421&aid=0005681688\n"
     ]
    },
    {
     "data": {
      "application/vnd.jupyter.widget-view+json": {
       "model_id": "1e795cfcd6dc499195f1eba3433729fc",
       "version_major": 2,
       "version_minor": 0
      },
      "text/plain": [
       "  0%|          | 0/4 [00:00<?, ?it/s]"
      ]
     },
     "metadata": {},
     "output_type": "display_data"
    },
    {
     "name": "stdout",
     "output_type": "stream",
     "text": [
      "https://news.naver.com/main/read.naver?mode=LSD&mid=sec&sid1=102&oid=003&aid=0010793057\n",
      "https://news.naver.com/main/read.naver?mode=LSD&mid=sec&sid1=104&oid=277&aid=0004989207\n",
      "https://news.naver.com/main/read.naver?mode=LSD&mid=sec&sid1=102&oid=014&aid=0004729179\n",
      "https://news.naver.com/main/read.naver?mode=LSD&mid=sec&sid1=102&oid=001&aid=0012748003\n"
     ]
    },
    {
     "data": {
      "application/vnd.jupyter.widget-view+json": {
       "model_id": "a78f4ad982634e8292f52c610fc9e2f6",
       "version_major": 2,
       "version_minor": 0
      },
      "text/plain": [
       "  0%|          | 0/3 [00:00<?, ?it/s]"
      ]
     },
     "metadata": {},
     "output_type": "display_data"
    },
    {
     "name": "stdout",
     "output_type": "stream",
     "text": [
      "https://sports.news.naver.com/news.nhn?oid=079&aid=0003567305\n",
      "https://news.naver.com/main/read.naver?mode=LSD&mid=sec&sid1=103&oid=417&aid=0000747554\n",
      "https://news.naver.com/main/read.naver?mode=LSD&mid=sec&sid1=101&oid=029&aid=0002702784\n"
     ]
    },
    {
     "data": {
      "application/vnd.jupyter.widget-view+json": {
       "model_id": "2bebf507c0db4d46a23c9f14947278ee",
       "version_major": 2,
       "version_minor": 0
      },
      "text/plain": [
       "  0%|          | 0/5 [00:00<?, ?it/s]"
      ]
     },
     "metadata": {},
     "output_type": "display_data"
    },
    {
     "name": "stdout",
     "output_type": "stream",
     "text": [
      "https://sports.news.naver.com/news.nhn?oid=001&aid=0012747986\n",
      "https://news.naver.com/main/read.naver?mode=LSD&mid=sec&sid1=102&oid=030&aid=0002977682\n",
      "https://news.naver.com/main/read.naver?mode=LSD&mid=sec&sid1=103&oid=030&aid=0002977681\n",
      "https://news.naver.com/main/read.naver?mode=LSD&mid=sec&sid1=101&oid=277&aid=0004989200\n",
      "https://news.naver.com/main/read.naver?mode=LSD&mid=sec&sid1=102&oid=079&aid=0003567293\n"
     ]
    },
    {
     "data": {
      "application/vnd.jupyter.widget-view+json": {
       "model_id": "3c198545a5f44bb9ac41e942866aa9f5",
       "version_major": 2,
       "version_minor": 0
      },
      "text/plain": [
       "  0%|          | 0/7 [00:00<?, ?it/s]"
      ]
     },
     "metadata": {},
     "output_type": "display_data"
    },
    {
     "name": "stdout",
     "output_type": "stream",
     "text": [
      "https://news.naver.com/main/read.naver?mode=LSD&mid=sec&sid1=103&oid=584&aid=0000016483\n",
      "https://news.naver.com/main/read.naver?mode=LSD&mid=sec&sid1=103&oid=021&aid=0002490102\n",
      "https://news.naver.com/main/read.naver?mode=LSD&mid=sec&sid1=104&oid=469&aid=0000637220\n",
      "https://news.naver.com/main/read.naver?mode=LSD&mid=sec&sid1=101&oid=009&aid=0004869818\n",
      "https://news.naver.com/main/read.naver?mode=LSD&mid=sec&sid1=102&oid=421&aid=0005681624\n",
      "https://news.naver.com/main/read.naver?mode=LSD&mid=sec&sid1=103&oid=009&aid=0004869816\n",
      "https://news.naver.com/main/read.naver?mode=LSD&mid=sec&sid1=102&oid=448&aid=0000342375\n"
     ]
    },
    {
     "data": {
      "application/vnd.jupyter.widget-view+json": {
       "model_id": "824e6bf1845448ce8bf1117ac60cbfdb",
       "version_major": 2,
       "version_minor": 0
      },
      "text/plain": [
       "  0%|          | 0/10 [00:00<?, ?it/s]"
      ]
     },
     "metadata": {},
     "output_type": "display_data"
    },
    {
     "name": "stdout",
     "output_type": "stream",
     "text": [
      "https://news.naver.com/main/read.naver?mode=LSD&mid=sec&sid1=102&oid=421&aid=0005681617\n",
      "https://news.naver.com/main/read.naver?mode=LSD&mid=sec&sid1=102&oid=421&aid=0005681613\n",
      "https://news.naver.com/main/read.naver?mode=LSD&mid=sec&sid1=102&oid=421&aid=0005681614\n",
      "https://news.naver.com/main/read.naver?mode=LSD&mid=sec&sid1=102&oid=421&aid=0005681618\n",
      "https://news.naver.com/main/read.naver?mode=LSD&mid=sec&sid1=102&oid=421&aid=0005681616\n",
      "https://news.naver.com/main/read.naver?mode=LSD&mid=sec&sid1=102&oid=421&aid=0005681615\n",
      "https://news.naver.com/main/read.naver?mode=LSD&mid=sec&sid1=102&oid=421&aid=0005681611\n",
      "https://news.naver.com/main/read.naver?mode=LSD&mid=sec&sid1=102&oid=421&aid=0005681610\n",
      "https://news.naver.com/main/read.naver?mode=LSD&mid=sec&sid1=102&oid=421&aid=0005681612\n",
      "https://news.naver.com/main/read.naver?mode=LSD&mid=sec&sid1=102&oid=421&aid=0005681619\n"
     ]
    },
    {
     "data": {
      "application/vnd.jupyter.widget-view+json": {
       "model_id": "8fcd0f7a2ca54fb2b469a371105620ea",
       "version_major": 2,
       "version_minor": 0
      },
      "text/plain": [
       "  0%|          | 0/4 [00:00<?, ?it/s]"
      ]
     },
     "metadata": {},
     "output_type": "display_data"
    },
    {
     "name": "stdout",
     "output_type": "stream",
     "text": [
      "https://news.naver.com/main/read.naver?mode=LSD&mid=sec&sid1=104&oid=417&aid=0000747550\n",
      "https://news.naver.com/main/read.naver?mode=LSD&mid=sec&sid1=103&oid=020&aid=0003389625\n",
      "https://news.naver.com/main/read.naver?mode=LSD&mid=sec&sid1=101&oid=008&aid=0004661754\n",
      "https://news.naver.com/main/read.naver?mode=LSD&mid=sec&sid1=101&oid=003&aid=0010792956\n"
     ]
    },
    {
     "data": {
      "application/vnd.jupyter.widget-view+json": {
       "model_id": "30c460ba4c494fa485b079a24a33c43f",
       "version_major": 2,
       "version_minor": 0
      },
      "text/plain": [
       "  0%|          | 0/6 [00:00<?, ?it/s]"
      ]
     },
     "metadata": {},
     "output_type": "display_data"
    },
    {
     "name": "stdout",
     "output_type": "stream",
     "text": [
      "https://sports.news.naver.com/news.nhn?oid=018&aid=0005070377\n",
      "https://news.naver.com/main/read.naver?mode=LSD&mid=sec&sid1=102&oid=081&aid=0003224971\n",
      "https://news.naver.com/main/read.naver?mode=LSD&mid=sec&sid1=102&oid=586&aid=0000030443\n",
      "https://news.naver.com/main/read.naver?mode=LSD&mid=sec&sid1=104&oid=016&aid=0001904214\n",
      "https://news.naver.com/main/read.naver?mode=LSD&mid=sec&sid1=102&oid=008&aid=0004661747\n",
      "https://news.naver.com/main/read.naver?mode=LSD&mid=sec&sid1=102&oid=018&aid=0005070376\n"
     ]
    },
    {
     "data": {
      "application/vnd.jupyter.widget-view+json": {
       "model_id": "d0045bfff75f471ea20c34b443d680b1",
       "version_major": 2,
       "version_minor": 0
      },
      "text/plain": [
       "  0%|          | 0/5 [00:00<?, ?it/s]"
      ]
     },
     "metadata": {},
     "output_type": "display_data"
    },
    {
     "name": "stdout",
     "output_type": "stream",
     "text": [
      "https://news.naver.com/main/read.naver?mode=LSD&mid=sec&sid1=102&oid=008&aid=0004661745\n",
      "https://sports.news.naver.com/news.nhn?oid=445&aid=0000031135\n",
      "https://news.naver.com/main/read.naver?mode=LSD&mid=sec&sid1=102&oid=008&aid=0004661742\n",
      "https://news.naver.com/main/read.naver?mode=LSD&mid=sec&sid1=102&oid=079&aid=0003567282\n",
      "https://sports.news.naver.com/news.nhn?oid=421&aid=0005681576\n"
     ]
    },
    {
     "data": {
      "application/vnd.jupyter.widget-view+json": {
       "model_id": "fd2430dd5d524f09b4379cfe68d95c6e",
       "version_major": 2,
       "version_minor": 0
      },
      "text/plain": [
       "  0%|          | 0/3 [00:00<?, ?it/s]"
      ]
     },
     "metadata": {},
     "output_type": "display_data"
    },
    {
     "name": "stdout",
     "output_type": "stream",
     "text": [
      "https://news.naver.com/main/read.naver?mode=LSD&mid=sec&sid1=102&oid=214&aid=0001156060\n",
      "https://news.naver.com/main/read.naver?mode=LSD&mid=sec&sid1=101&oid=008&aid=0004661735\n",
      "https://news.naver.com/main/read.naver?mode=LSD&mid=sec&sid1=104&oid=088&aid=0000727768\n"
     ]
    },
    {
     "data": {
      "application/vnd.jupyter.widget-view+json": {
       "model_id": "320d6763db4f40aaaf0e71b677d41cce",
       "version_major": 2,
       "version_minor": 0
      },
      "text/plain": [
       "  0%|          | 0/2 [00:00<?, ?it/s]"
      ]
     },
     "metadata": {},
     "output_type": "display_data"
    },
    {
     "name": "stdout",
     "output_type": "stream",
     "text": [
      "https://news.naver.com/main/read.naver?mode=LSD&mid=sec&sid1=101&oid=001&aid=0012747828\n",
      "https://news.naver.com/main/read.naver?mode=LSD&mid=sec&sid1=102&oid=056&aid=0011144441\n"
     ]
    },
    {
     "data": {
      "application/vnd.jupyter.widget-view+json": {
       "model_id": "987280b1c5814133b270a74e82e7226a",
       "version_major": 2,
       "version_minor": 0
      },
      "text/plain": [
       "  0%|          | 0/5 [00:00<?, ?it/s]"
      ]
     },
     "metadata": {},
     "output_type": "display_data"
    },
    {
     "name": "stdout",
     "output_type": "stream",
     "text": [
      "https://news.naver.com/main/read.naver?mode=LSD&mid=sec&sid1=102&oid=056&aid=0011144440\n",
      "https://news.naver.com/main/read.naver?mode=LSD&mid=sec&sid1=101&oid=016&aid=0001904207\n",
      "https://news.naver.com/main/read.naver?mode=LSD&mid=sec&sid1=101&oid=629&aid=0000112613\n",
      "https://news.naver.com/main/read.naver?mode=LSD&mid=sec&sid1=101&oid=008&aid=0004661731\n",
      "https://news.naver.com/main/read.naver?mode=LSD&mid=sec&sid1=102&oid=003&aid=0010792877\n"
     ]
    },
    {
     "data": {
      "application/vnd.jupyter.widget-view+json": {
       "model_id": "49788f92f83c424c83ebeb0ccc52994f",
       "version_major": 2,
       "version_minor": 0
      },
      "text/plain": [
       "  0%|          | 0/7 [00:00<?, ?it/s]"
      ]
     },
     "metadata": {},
     "output_type": "display_data"
    },
    {
     "name": "stdout",
     "output_type": "stream",
     "text": [
      "https://news.naver.com/main/read.naver?mode=LSD&mid=sec&sid1=102&oid=003&aid=0010792877\n",
      "https://news.naver.com/main/read.naver?mode=LSD&mid=sec&sid1=104&oid=001&aid=0012747822\n",
      "https://news.naver.com/main/read.naver?mode=LSD&mid=sec&sid1=101&oid=014&aid=0004729152\n",
      "https://sports.news.naver.com/news.nhn?oid=117&aid=0003548923\n",
      "https://sports.news.naver.com/news.nhn?oid=109&aid=0004498396\n",
      "https://news.naver.com/main/read.naver?mode=LSD&mid=sec&sid1=102&oid=005&aid=0001479635\n",
      "https://news.naver.com/main/read.naver?mode=LSD&mid=sec&sid1=103&oid=029&aid=0002702773\n"
     ]
    },
    {
     "data": {
      "application/vnd.jupyter.widget-view+json": {
       "model_id": "bcd7fcc5c7da484782d35812c5a56f2f",
       "version_major": 2,
       "version_minor": 0
      },
      "text/plain": [
       "  0%|          | 0/5 [00:00<?, ?it/s]"
      ]
     },
     "metadata": {},
     "output_type": "display_data"
    },
    {
     "name": "stdout",
     "output_type": "stream",
     "text": [
      "https://sports.news.naver.com/news.nhn?oid=001&aid=0012747795\n",
      "https://news.naver.com/main/read.naver?mode=LSD&mid=sec&sid1=101&oid=008&aid=0004661725\n",
      "https://news.naver.com/main/read.naver?mode=LSD&mid=sec&sid1=101&oid=025&aid=0003145565\n",
      "https://news.naver.com/main/read.naver?mode=LSD&mid=sec&sid1=103&oid=018&aid=0005070362\n",
      "https://sports.news.naver.com/news.nhn?oid=003&aid=0010792870\n"
     ]
    },
    {
     "data": {
      "application/vnd.jupyter.widget-view+json": {
       "model_id": "88c208750b8143d590da3d2fd241d8df",
       "version_major": 2,
       "version_minor": 0
      },
      "text/plain": [
       "  0%|          | 0/4 [00:00<?, ?it/s]"
      ]
     },
     "metadata": {},
     "output_type": "display_data"
    },
    {
     "name": "stdout",
     "output_type": "stream",
     "text": [
      "https://news.naver.com/main/read.naver?mode=LSD&mid=sec&sid1=102&oid=421&aid=0005681507\n",
      "https://sports.news.naver.com/news.nhn?oid=477&aid=0000325467\n",
      "https://news.naver.com/main/read.naver?mode=LSD&mid=sec&sid1=104&oid=011&aid=0003977584\n",
      "https://news.naver.com/main/read.naver?mode=LSD&mid=sec&sid1=101&oid=018&aid=0005070356\n"
     ]
    },
    {
     "data": {
      "application/vnd.jupyter.widget-view+json": {
       "model_id": "c60d9c70049147e188b826a9f9d977bb",
       "version_major": 2,
       "version_minor": 0
      },
      "text/plain": [
       "  0%|          | 0/5 [00:00<?, ?it/s]"
      ]
     },
     "metadata": {},
     "output_type": "display_data"
    },
    {
     "name": "stdout",
     "output_type": "stream",
     "text": [
      "https://news.naver.com/main/read.naver?mode=LSD&mid=sec&sid1=102&oid=448&aid=0000342372\n",
      "https://news.naver.com/main/read.naver?mode=LSD&mid=sec&sid1=104&oid=016&aid=0001904191\n",
      "https://news.naver.com/main/read.naver?mode=LSD&mid=sec&sid1=102&oid=421&aid=0005681465\n",
      "https://news.naver.com/main/read.naver?mode=LSD&mid=sec&sid1=101&oid=031&aid=0000630958\n",
      "https://news.naver.com/main/read.naver?mode=LSD&mid=sec&sid1=102&oid=421&aid=0005681462\n"
     ]
    },
    {
     "data": {
      "application/vnd.jupyter.widget-view+json": {
       "model_id": "d47e5402b40f49278d65a06a547e80cb",
       "version_major": 2,
       "version_minor": 0
      },
      "text/plain": [
       "  0%|          | 0/4 [00:00<?, ?it/s]"
      ]
     },
     "metadata": {},
     "output_type": "display_data"
    },
    {
     "name": "stdout",
     "output_type": "stream",
     "text": [
      "https://news.naver.com/main/read.naver?mode=LSD&mid=sec&sid1=102&oid=001&aid=0012747737\n",
      "https://news.naver.com/main/read.naver?mode=LSD&mid=sec&sid1=104&oid=055&aid=0000929498\n",
      "https://news.naver.com/main/read.naver?mode=LSD&mid=sec&sid1=101&oid=119&aid=0002541849\n",
      "https://news.naver.com/main/read.naver?mode=LSD&mid=sec&sid1=101&oid=016&aid=0001904184\n"
     ]
    },
    {
     "data": {
      "application/vnd.jupyter.widget-view+json": {
       "model_id": "ef61c32f253d48e39cb93b4022a844a2",
       "version_major": 2,
       "version_minor": 0
      },
      "text/plain": [
       "  0%|          | 0/2 [00:00<?, ?it/s]"
      ]
     },
     "metadata": {},
     "output_type": "display_data"
    },
    {
     "name": "stdout",
     "output_type": "stream",
     "text": [
      "https://news.naver.com/main/read.naver?mode=LSD&mid=sec&sid1=102&oid=087&aid=0000865595\n",
      "https://news.naver.com/main/read.naver?mode=LSD&mid=sec&sid1=102&oid=003&aid=0010792810\n"
     ]
    },
    {
     "data": {
      "application/vnd.jupyter.widget-view+json": {
       "model_id": "4264f8c206a64dffad74fe3affbd714b",
       "version_major": 2,
       "version_minor": 0
      },
      "text/plain": [
       "  0%|          | 0/2 [00:00<?, ?it/s]"
      ]
     },
     "metadata": {},
     "output_type": "display_data"
    },
    {
     "name": "stdout",
     "output_type": "stream",
     "text": [
      "https://news.naver.com/main/read.naver?mode=LSD&mid=sec&sid1=101&oid=030&aid=0002977648\n",
      "https://news.naver.com/main/read.naver?mode=LSD&mid=sec&sid1=102&oid=079&aid=0003567265\n"
     ]
    },
    {
     "data": {
      "application/vnd.jupyter.widget-view+json": {
       "model_id": "431e465e831c42dab3dcbdd5ff3aec1d",
       "version_major": 2,
       "version_minor": 0
      },
      "text/plain": [
       "  0%|          | 0/3 [00:00<?, ?it/s]"
      ]
     },
     "metadata": {},
     "output_type": "display_data"
    },
    {
     "name": "stdout",
     "output_type": "stream",
     "text": [
      "https://news.naver.com/main/read.naver?mode=LSD&mid=sec&sid1=102&oid=005&aid=0001479624\n",
      "https://news.naver.com/main/read.naver?mode=LSD&mid=sec&sid1=102&oid=586&aid=0000030440\n",
      "https://news.naver.com/main/read.naver?mode=LSD&mid=sec&sid1=101&oid=374&aid=0000262141\n"
     ]
    },
    {
     "data": {
      "application/vnd.jupyter.widget-view+json": {
       "model_id": "b8ff6688651549ad9293fc74f7e066b6",
       "version_major": 2,
       "version_minor": 0
      },
      "text/plain": [
       "  0%|          | 0/7 [00:00<?, ?it/s]"
      ]
     },
     "metadata": {},
     "output_type": "display_data"
    },
    {
     "name": "stdout",
     "output_type": "stream",
     "text": [
      "https://news.naver.com/main/read.naver?mode=LSD&mid=sec&sid1=102&oid=052&aid=0001657166\n",
      "https://news.naver.com/main/read.naver?mode=LSD&mid=sec&sid1=102&oid=421&aid=0005681373\n",
      "https://news.naver.com/main/read.naver?mode=LSD&mid=sec&sid1=102&oid=015&aid=0004620665\n",
      "https://news.naver.com/main/read.naver?mode=LSD&mid=sec&sid1=102&oid=003&aid=0010792732\n",
      "https://news.naver.com/main/read.naver?mode=LSD&mid=sec&sid1=101&oid=018&aid=0005070324\n",
      "https://news.naver.com/main/read.naver?mode=LSD&mid=sec&sid1=102&oid=366&aid=0000769258\n",
      "https://news.naver.com/main/read.naver?mode=LSD&mid=sec&sid1=102&oid=586&aid=0000030438\n"
     ]
    },
    {
     "data": {
      "application/vnd.jupyter.widget-view+json": {
       "model_id": "75fc55df92b54c4893a1e3d01f74d7d3",
       "version_major": 2,
       "version_minor": 0
      },
      "text/plain": [
       "  0%|          | 0/7 [00:00<?, ?it/s]"
      ]
     },
     "metadata": {},
     "output_type": "display_data"
    },
    {
     "name": "stdout",
     "output_type": "stream",
     "text": [
      "https://news.naver.com/main/read.naver?mode=LSD&mid=sec&sid1=102&oid=421&aid=0005681341\n",
      "https://news.naver.com/main/read.naver?mode=LSD&mid=sec&sid1=102&oid=003&aid=0010792703\n",
      "https://news.naver.com/main/read.naver?mode=LSD&mid=sec&sid1=102&oid=003&aid=0010792704\n",
      "https://news.naver.com/main/read.naver?mode=LSD&mid=sec&sid1=102&oid=003&aid=0010792702\n",
      "https://news.naver.com/main/read.naver?mode=LSD&mid=sec&sid1=102&oid=003&aid=0010792706\n",
      "https://news.naver.com/main/read.naver?mode=LSD&mid=sec&sid1=102&oid=003&aid=0010792705\n",
      "https://news.naver.com/main/read.naver?mode=LSD&mid=sec&sid1=102&oid=421&aid=0005681352\n"
     ]
    },
    {
     "data": {
      "application/vnd.jupyter.widget-view+json": {
       "model_id": "88f4222b3ec34085a501899671a2f85b",
       "version_major": 2,
       "version_minor": 0
      },
      "text/plain": [
       "  0%|          | 0/7 [00:00<?, ?it/s]"
      ]
     },
     "metadata": {},
     "output_type": "display_data"
    },
    {
     "name": "stdout",
     "output_type": "stream",
     "text": [
      "https://news.naver.com/main/read.naver?mode=LSD&mid=sec&sid1=102&oid=003&aid=0010792705\n",
      "https://news.naver.com/main/read.naver?mode=LSD&mid=sec&sid1=102&oid=421&aid=0005681352\n",
      "https://news.naver.com/main/read.naver?mode=LSD&mid=sec&sid1=102&oid=001&aid=0012747633\n",
      "https://news.naver.com/main/read.naver?mode=LSD&mid=sec&sid1=102&oid=003&aid=0010792694\n",
      "https://news.naver.com/main/read.naver?mode=LSD&mid=sec&sid1=102&oid=030&aid=0002977642\n",
      "https://news.naver.com/main/read.naver?mode=LSD&mid=sec&sid1=102&oid=421&aid=0005681334\n",
      "https://news.naver.com/main/read.naver?mode=LSD&mid=sec&sid1=102&oid=015&aid=0004620660\n"
     ]
    },
    {
     "data": {
      "application/vnd.jupyter.widget-view+json": {
       "model_id": "89295f4120dc4497b2720f36ca2e08ab",
       "version_major": 2,
       "version_minor": 0
      },
      "text/plain": [
       "  0%|          | 0/5 [00:00<?, ?it/s]"
      ]
     },
     "metadata": {},
     "output_type": "display_data"
    },
    {
     "name": "stdout",
     "output_type": "stream",
     "text": [
      "https://news.naver.com/main/read.naver?mode=LSD&mid=sec&sid1=102&oid=022&aid=0003631865\n",
      "https://news.naver.com/main/read.naver?mode=LSD&mid=sec&sid1=102&oid=079&aid=0003567255\n",
      "https://news.naver.com/main/read.naver?mode=LSD&mid=sec&sid1=102&oid=214&aid=0001156035\n",
      "https://news.naver.com/main/read.naver?mode=LSD&mid=sec&sid1=101&oid=243&aid=0000017662\n",
      "https://news.naver.com/main/read.naver?mode=LSD&mid=sec&sid1=104&oid=001&aid=0012747604\n"
     ]
    },
    {
     "data": {
      "application/vnd.jupyter.widget-view+json": {
       "model_id": "4e961b5d69a244cc8fc4c3c3139087bc",
       "version_major": 2,
       "version_minor": 0
      },
      "text/plain": [
       "  0%|          | 0/2 [00:00<?, ?it/s]"
      ]
     },
     "metadata": {},
     "output_type": "display_data"
    },
    {
     "name": "stdout",
     "output_type": "stream",
     "text": [
      "https://news.naver.com/main/read.naver?mode=LSD&mid=sec&sid1=104&oid=417&aid=0000747508\n",
      "https://news.naver.com/main/read.naver?mode=LSD&mid=sec&sid1=102&oid=421&aid=0005681316\n"
     ]
    },
    {
     "data": {
      "application/vnd.jupyter.widget-view+json": {
       "model_id": "77f051cc84bd47abbf2e83983f544e93",
       "version_major": 2,
       "version_minor": 0
      },
      "text/plain": [
       "  0%|          | 0/5 [00:00<?, ?it/s]"
      ]
     },
     "metadata": {},
     "output_type": "display_data"
    },
    {
     "name": "stdout",
     "output_type": "stream",
     "text": [
      "https://news.naver.com/main/read.naver?mode=LSD&mid=sec&sid1=104&oid=015&aid=0004620657\n",
      "https://news.naver.com/main/read.naver?mode=LSD&mid=sec&sid1=102&oid=082&aid=0001124686\n",
      "https://news.naver.com/main/read.naver?mode=LSD&mid=sec&sid1=102&oid=001&aid=0012747576\n",
      "https://news.naver.com/main/read.naver?mode=LSD&mid=sec&sid1=101&oid=417&aid=0000747501\n",
      "https://news.naver.com/main/read.naver?mode=LSD&mid=sec&sid1=106&oid=009&aid=0004869764\n"
     ]
    },
    {
     "data": {
      "application/vnd.jupyter.widget-view+json": {
       "model_id": "6a8ae46b231c4860a1cede8790e65735",
       "version_major": 2,
       "version_minor": 0
      },
      "text/plain": [
       "  0%|          | 0/6 [00:00<?, ?it/s]"
      ]
     },
     "metadata": {},
     "output_type": "display_data"
    },
    {
     "name": "stdout",
     "output_type": "stream",
     "text": [
      "https://news.naver.com/main/read.naver?mode=LSD&mid=sec&sid1=103&oid=009&aid=0004869763\n",
      "https://news.naver.com/main/read.naver?mode=LSD&mid=sec&sid1=101&oid=018&aid=0005070309\n",
      "https://news.naver.com/main/read.naver?mode=LSD&mid=sec&sid1=101&oid=422&aid=0000510933\n",
      "https://news.naver.com/main/read.naver?mode=LSD&mid=sec&sid1=103&oid=584&aid=0000016479\n",
      "https://sports.news.naver.com/news.nhn?oid=001&aid=0012747562\n",
      "https://sports.news.naver.com/news.nhn?oid=001&aid=0012747563\n"
     ]
    },
    {
     "data": {
      "application/vnd.jupyter.widget-view+json": {
       "model_id": "661a8301f7664d46bafc087d87fdb5a6",
       "version_major": 2,
       "version_minor": 0
      },
      "text/plain": [
       "  0%|          | 0/5 [00:00<?, ?it/s]"
      ]
     },
     "metadata": {},
     "output_type": "display_data"
    },
    {
     "name": "stdout",
     "output_type": "stream",
     "text": [
      "https://sports.news.naver.com/news.nhn?oid=001&aid=0012747559\n",
      "https://sports.news.naver.com/news.nhn?oid=001&aid=0012747560\n",
      "https://sports.news.naver.com/news.nhn?oid=001&aid=0012747561\n",
      "https://sports.news.naver.com/news.nhn?oid=001&aid=0012747558\n",
      "https://news.naver.com/main/read.naver?mode=LSD&mid=sec&sid1=102&oid=015&aid=0004620654\n"
     ]
    },
    {
     "data": {
      "application/vnd.jupyter.widget-view+json": {
       "model_id": "4a9d9c2d283c4e428842c0956fa0b8e3",
       "version_major": 2,
       "version_minor": 0
      },
      "text/plain": [
       "  0%|          | 0/5 [00:00<?, ?it/s]"
      ]
     },
     "metadata": {},
     "output_type": "display_data"
    },
    {
     "name": "stdout",
     "output_type": "stream",
     "text": [
      "https://sports.news.naver.com/news.nhn?oid=022&aid=0003631858\n",
      "https://news.naver.com/main/read.naver?mode=LSD&mid=sec&sid1=102&oid=052&aid=0001657149\n",
      "https://news.naver.com/main/read.naver?mode=LSD&mid=sec&sid1=106&oid=312&aid=0000507570\n",
      "https://news.naver.com/main/read.naver?mode=LSD&mid=sec&sid1=104&oid=022&aid=0003631854\n",
      "https://news.naver.com/main/read.naver?mode=LSD&mid=sec&sid1=102&oid=421&aid=0005681238\n"
     ]
    },
    {
     "data": {
      "application/vnd.jupyter.widget-view+json": {
       "model_id": "0937fdd7ed4a486f8d40aa60b81d02ea",
       "version_major": 2,
       "version_minor": 0
      },
      "text/plain": [
       "  0%|          | 0/8 [00:00<?, ?it/s]"
      ]
     },
     "metadata": {},
     "output_type": "display_data"
    },
    {
     "name": "stdout",
     "output_type": "stream",
     "text": [
      "https://news.naver.com/main/read.naver?mode=LSD&mid=sec&sid1=102&oid=421&aid=0005681238\n",
      "https://news.naver.com/main/read.naver?mode=LSD&mid=sec&sid1=102&oid=421&aid=0005681217\n",
      "https://news.naver.com/main/read.naver?mode=LSD&mid=sec&sid1=102&oid=421&aid=0005681225\n",
      "https://news.naver.com/main/read.naver?mode=LSD&mid=sec&sid1=102&oid=421&aid=0005681218\n",
      "https://news.naver.com/main/read.naver?mode=LSD&mid=sec&sid1=102&oid=421&aid=0005681220\n",
      "https://news.naver.com/main/read.naver?mode=LSD&mid=sec&sid1=102&oid=421&aid=0005681224\n",
      "https://news.naver.com/main/read.naver?mode=LSD&mid=sec&sid1=102&oid=421&aid=0005681228\n",
      "https://news.naver.com/main/read.naver?mode=LSD&mid=sec&sid1=102&oid=052&aid=0001657142\n"
     ]
    },
    {
     "data": {
      "application/vnd.jupyter.widget-view+json": {
       "model_id": "f556ba21f43a49ea8966ec1f2ca0b4ad",
       "version_major": 2,
       "version_minor": 0
      },
      "text/plain": [
       "  0%|          | 0/6 [00:00<?, ?it/s]"
      ]
     },
     "metadata": {},
     "output_type": "display_data"
    },
    {
     "name": "stdout",
     "output_type": "stream",
     "text": [
      "https://news.naver.com/main/read.naver?mode=LSD&mid=sec&sid1=102&oid=047&aid=0002330629\n",
      "https://news.naver.com/main/read.naver?mode=LSD&mid=sec&sid1=106&oid=052&aid=0001657139\n",
      "https://news.naver.com/main/read.naver?mode=LSD&mid=sec&sid1=105&oid=009&aid=0004869757\n",
      "https://news.naver.com/main/read.naver?mode=LSD&mid=sec&sid1=102&oid=629&aid=0000112573\n",
      "https://news.naver.com/main/read.naver?mode=LSD&mid=sec&sid1=102&oid=469&aid=0000637194\n",
      "https://news.naver.com/main/read.naver?mode=LSD&mid=sec&sid1=102&oid=366&aid=0000769238\n"
     ]
    },
    {
     "data": {
      "application/vnd.jupyter.widget-view+json": {
       "model_id": "d263369c9f084d53b7ce438f13746911",
       "version_major": 2,
       "version_minor": 0
      },
      "text/plain": [
       "  0%|          | 0/8 [00:00<?, ?it/s]"
      ]
     },
     "metadata": {},
     "output_type": "display_data"
    },
    {
     "name": "stdout",
     "output_type": "stream",
     "text": [
      "https://news.naver.com/main/read.naver?mode=LSD&mid=sec&sid1=102&oid=001&aid=0012747510\n",
      "https://news.naver.com/main/read.naver?mode=LSD&mid=sec&sid1=103&oid=011&aid=0003977554\n",
      "https://news.naver.com/main/read.naver?mode=LSD&mid=sec&sid1=102&oid=079&aid=0003567242\n",
      "https://news.naver.com/main/read.naver?mode=LSD&mid=sec&sid1=102&oid=082&aid=0001124683\n",
      "https://news.naver.com/main/read.naver?mode=LSD&mid=sec&sid1=106&oid=410&aid=0000825922\n",
      "https://news.naver.com/main/read.naver?mode=LSD&mid=sec&sid1=102&oid=001&aid=0012747507\n",
      "https://news.naver.com/main/read.naver?mode=LSD&mid=sec&sid1=101&oid=417&aid=0000747490\n",
      "https://news.naver.com/main/read.naver?mode=LSD&mid=sec&sid1=102&oid=417&aid=0000747491\n"
     ]
    },
    {
     "data": {
      "application/vnd.jupyter.widget-view+json": {
       "model_id": "dcf80703b3ed47eeb6ca3c74d8532263",
       "version_major": 2,
       "version_minor": 0
      },
      "text/plain": [
       "0it [00:00, ?it/s]"
      ]
     },
     "metadata": {},
     "output_type": "display_data"
    },
    {
     "data": {
      "application/vnd.jupyter.widget-view+json": {
       "model_id": "0ce7e61ad2f34fe595878de8cb935a45",
       "version_major": 2,
       "version_minor": 0
      },
      "text/plain": [
       "  0%|          | 0/4 [00:00<?, ?it/s]"
      ]
     },
     "metadata": {},
     "output_type": "display_data"
    },
    {
     "name": "stdout",
     "output_type": "stream",
     "text": [
      "https://news.naver.com/main/read.naver?mode=LSD&mid=sec&sid1=101&oid=052&aid=0001657132\n",
      "https://news.naver.com/main/read.naver?mode=LSD&mid=sec&sid1=103&oid=032&aid=0003106107\n",
      "https://www.bbc.com/korean/58977294?xtor=AL-73-%5Bpartner%5D-%5Bnaver%5D-%5Bheadline%5D-%5Bkorean%5D-%5Bbizdev%5D-%5Bisapi%5D\n",
      "https://news.naver.com/main/read.naver?mode=LSD&mid=sec&sid1=101&oid=031&aid=0000630937\n"
     ]
    },
    {
     "data": {
      "application/vnd.jupyter.widget-view+json": {
       "model_id": "e49411c63f7b4b608d543d4c58966844",
       "version_major": 2,
       "version_minor": 0
      },
      "text/plain": [
       "  0%|          | 0/6 [00:00<?, ?it/s]"
      ]
     },
     "metadata": {},
     "output_type": "display_data"
    },
    {
     "name": "stdout",
     "output_type": "stream",
     "text": [
      "https://news.naver.com/main/read.naver?mode=LSD&mid=sec&sid1=104&oid=056&aid=0011144402\n",
      "https://news.naver.com/main/read.naver?mode=LSD&mid=sec&sid1=103&oid=016&aid=0001904154\n",
      "https://news.naver.com/main/read.naver?mode=LSD&mid=sec&sid1=102&oid=001&aid=0012747477\n",
      "https://news.naver.com/main/read.naver?mode=LSD&mid=sec&sid1=102&oid=277&aid=0004989079\n",
      "https://news.naver.com/main/read.naver?mode=LSD&mid=sec&sid1=102&oid=003&aid=0010792538\n",
      "https://news.naver.com/main/read.naver?mode=LSD&mid=sec&sid1=101&oid=056&aid=0011144396\n"
     ]
    },
    {
     "data": {
      "application/vnd.jupyter.widget-view+json": {
       "model_id": "19d8a3679c954d2c9b27be79cf29ccca",
       "version_major": 2,
       "version_minor": 0
      },
      "text/plain": [
       "  0%|          | 0/6 [00:00<?, ?it/s]"
      ]
     },
     "metadata": {},
     "output_type": "display_data"
    },
    {
     "name": "stdout",
     "output_type": "stream",
     "text": [
      "https://news.naver.com/main/read.naver?mode=LSD&mid=sec&sid1=102&oid=003&aid=0010792536\n",
      "https://news.naver.com/main/read.naver?mode=LSD&mid=sec&sid1=102&oid=056&aid=0011144393\n",
      "https://news.naver.com/main/read.naver?mode=LSD&mid=sec&sid1=101&oid=029&aid=0002702759\n",
      "https://news.naver.com/main/read.naver?mode=LSD&mid=sec&sid1=102&oid=056&aid=0011144394\n",
      "https://news.naver.com/main/read.naver?mode=LSD&mid=sec&sid1=102&oid=277&aid=0004989077\n",
      "https://news.naver.com/main/read.naver?mode=LSD&mid=sec&sid1=102&oid=215&aid=0000992684\n"
     ]
    },
    {
     "data": {
      "application/vnd.jupyter.widget-view+json": {
       "model_id": "cdcb8892062448f1885a52a194e2921a",
       "version_major": 2,
       "version_minor": 0
      },
      "text/plain": [
       "  0%|          | 0/8 [00:00<?, ?it/s]"
      ]
     },
     "metadata": {},
     "output_type": "display_data"
    },
    {
     "name": "stdout",
     "output_type": "stream",
     "text": [
      "https://news.naver.com/main/read.naver?mode=LSD&mid=sec&sid1=102&oid=021&aid=0002490087\n",
      "https://news.naver.com/main/read.naver?mode=LSD&mid=sec&sid1=102&oid=021&aid=0002490088\n",
      "https://news.naver.com/main/read.naver?mode=LSD&mid=sec&sid1=102&oid=003&aid=0010792532\n",
      "https://news.naver.com/main/read.naver?mode=LSD&mid=sec&sid1=102&oid=055&aid=0000929475\n",
      "https://news.naver.com/main/read.naver?mode=LSD&mid=sec&sid1=104&oid=025&aid=0003145536\n",
      "https://news.naver.com/main/read.naver?mode=LSD&mid=sec&sid1=101&oid=422&aid=0000510913\n",
      "https://news.naver.com/main/read.naver?mode=LSD&mid=sec&sid1=104&oid=005&aid=0001479613\n",
      "https://news.naver.com/main/read.naver?mode=LSD&mid=sec&sid1=101&oid=008&aid=0004661655\n"
     ]
    },
    {
     "data": {
      "application/vnd.jupyter.widget-view+json": {
       "model_id": "2a14360441e44d7285d8c4826ccbb009",
       "version_major": 2,
       "version_minor": 0
      },
      "text/plain": [
       "  0%|          | 0/5 [00:00<?, ?it/s]"
      ]
     },
     "metadata": {},
     "output_type": "display_data"
    },
    {
     "name": "stdout",
     "output_type": "stream",
     "text": [
      "https://news.naver.com/main/read.naver?mode=LSD&mid=sec&sid1=102&oid=214&aid=0001156026\n",
      "https://news.naver.com/main/read.naver?mode=LSD&mid=sec&sid1=101&oid=001&aid=0012747453\n",
      "https://sports.news.naver.com/news.nhn?oid=003&aid=0010792522\n",
      "https://news.naver.com/main/read.naver?mode=LSD&mid=sec&sid1=102&oid=021&aid=0002490062\n",
      "https://news.naver.com/main/read.naver?mode=LSD&mid=sec&sid1=102&oid=421&aid=0005681093\n"
     ]
    },
    {
     "data": {
      "application/vnd.jupyter.widget-view+json": {
       "model_id": "dd5124861bd14fe7ad376fec0db07aeb",
       "version_major": 2,
       "version_minor": 0
      },
      "text/plain": [
       "  0%|          | 0/2 [00:00<?, ?it/s]"
      ]
     },
     "metadata": {},
     "output_type": "display_data"
    },
    {
     "name": "stdout",
     "output_type": "stream",
     "text": [
      "https://news.naver.com/main/read.naver?mode=LSD&mid=sec&sid1=102&oid=003&aid=0010792516\n",
      "https://news.naver.com/main/read.naver?mode=LSD&mid=sec&sid1=101&oid=018&aid=0005070272\n"
     ]
    },
    {
     "data": {
      "application/vnd.jupyter.widget-view+json": {
       "model_id": "1da95e896dd746f9a70990191f973131",
       "version_major": 2,
       "version_minor": 0
      },
      "text/plain": [
       "  0%|          | 0/5 [00:00<?, ?it/s]"
      ]
     },
     "metadata": {},
     "output_type": "display_data"
    },
    {
     "name": "stdout",
     "output_type": "stream",
     "text": [
      "https://news.naver.com/main/read.naver?mode=LSD&mid=sec&sid1=102&oid=079&aid=0003567232\n",
      "https://news.naver.com/main/read.naver?mode=LSD&mid=sec&sid1=101&oid=014&aid=0004729078\n",
      "https://news.naver.com/main/read.naver?mode=LSD&mid=sec&sid1=103&oid=011&aid=0003977548\n",
      "https://news.naver.com/main/read.naver?mode=LSD&mid=sec&sid1=004&oid=001&aid=0012747404\n",
      "https://news.naver.com/main/read.naver?mode=LSD&mid=sec&sid1=101&oid=008&aid=0004661645\n"
     ]
    },
    {
     "data": {
      "application/vnd.jupyter.widget-view+json": {
       "model_id": "37493c28923f46ce86240a45faa9c67a",
       "version_major": 2,
       "version_minor": 0
      },
      "text/plain": [
       "  0%|          | 0/7 [00:00<?, ?it/s]"
      ]
     },
     "metadata": {},
     "output_type": "display_data"
    },
    {
     "name": "stdout",
     "output_type": "stream",
     "text": [
      "https://news.naver.com/main/read.naver?mode=LSD&mid=sec&sid1=102&oid=003&aid=0010792485\n",
      "https://news.naver.com/main/read.naver?mode=LSD&mid=sec&sid1=103&oid=296&aid=0000052411\n",
      "https://news.naver.com/main/read.naver?mode=LSD&mid=sec&sid1=102&oid=056&aid=0011144379\n",
      "https://news.naver.com/main/read.naver?mode=LSD&mid=sec&sid1=102&oid=002&aid=0002216023\n",
      "https://news.naver.com/main/read.naver?mode=LSD&mid=sec&sid1=101&oid=374&aid=0000262133\n",
      "https://news.naver.com/main/read.naver?mode=LSD&mid=sec&sid1=101&oid=029&aid=0002702751\n",
      "https://news.naver.com/main/read.naver?mode=LSD&mid=sec&sid1=100&oid=123&aid=0002257856\n"
     ]
    },
    {
     "data": {
      "application/vnd.jupyter.widget-view+json": {
       "model_id": "39e2d04662a34cea97500eafc730ced1",
       "version_major": 2,
       "version_minor": 0
      },
      "text/plain": [
       "  0%|          | 0/6 [00:00<?, ?it/s]"
      ]
     },
     "metadata": {},
     "output_type": "display_data"
    },
    {
     "name": "stdout",
     "output_type": "stream",
     "text": [
      "https://news.naver.com/main/read.naver?mode=LSD&mid=sec&sid1=105&oid=029&aid=0002702750\n",
      "https://news.naver.com/main/read.naver?mode=LSD&mid=sec&sid1=106&oid=609&aid=0000503878\n",
      "https://news.naver.com/main/read.naver?mode=LSD&mid=sec&sid1=104&oid=023&aid=0003648751\n",
      "https://news.naver.com/main/read.naver?mode=LSD&mid=sec&sid1=104&oid=449&aid=0000216859\n",
      "https://news.naver.com/main/read.naver?mode=LSD&mid=sec&sid1=104&oid=001&aid=0012747389\n",
      "https://news.naver.com/main/read.naver?mode=LSD&mid=sec&sid1=102&oid=421&aid=0005681031\n"
     ]
    },
    {
     "data": {
      "application/vnd.jupyter.widget-view+json": {
       "model_id": "9a00ec5e7222499b94923c8cf1649159",
       "version_major": 2,
       "version_minor": 0
      },
      "text/plain": [
       "  0%|          | 0/6 [00:00<?, ?it/s]"
      ]
     },
     "metadata": {},
     "output_type": "display_data"
    },
    {
     "name": "stdout",
     "output_type": "stream",
     "text": [
      "https://news.naver.com/main/read.naver?mode=LSD&mid=sec&sid1=106&oid=108&aid=0002999623\n",
      "https://news.naver.com/main/read.naver?mode=LSD&mid=sec&sid1=102&oid=018&aid=0005070259\n",
      "https://news.naver.com/main/read.naver?mode=LSD&mid=sec&sid1=102&oid=001&aid=0012747386\n",
      "https://news.naver.com/main/read.naver?mode=LSD&mid=sec&sid1=110&oid=021&aid=0002490039\n",
      "https://news.naver.com/main/read.naver?mode=LSD&mid=sec&sid1=102&oid=421&aid=0005680988\n",
      "https://news.naver.com/main/read.naver?mode=LSD&mid=sec&sid1=105&oid=092&aid=0002237209\n"
     ]
    },
    {
     "data": {
      "application/vnd.jupyter.widget-view+json": {
       "model_id": "24f76352a36f4a0bb56ff3202ddf453d",
       "version_major": 2,
       "version_minor": 0
      },
      "text/plain": [
       "  0%|          | 0/6 [00:00<?, ?it/s]"
      ]
     },
     "metadata": {},
     "output_type": "display_data"
    },
    {
     "name": "stdout",
     "output_type": "stream",
     "text": [
      "https://news.naver.com/main/read.naver?mode=LSD&mid=sec&sid1=102&oid=022&aid=0003631836\n",
      "https://news.naver.com/main/read.naver?mode=LSD&mid=sec&sid1=102&oid=003&aid=0010792376\n",
      "https://news.naver.com/main/read.naver?mode=LSD&mid=sec&sid1=102&oid=056&aid=0011144375\n",
      "https://news.naver.com/main/read.naver?mode=LSD&mid=sec&sid1=101&oid=123&aid=0002257855\n",
      "https://news.naver.com/main/read.naver?mode=LSD&mid=sec&sid1=106&oid=003&aid=0010792375\n",
      "https://news.naver.com/main/read.naver?mode=LSD&mid=sec&sid1=102&oid=629&aid=0000112542\n"
     ]
    },
    {
     "data": {
      "application/vnd.jupyter.widget-view+json": {
       "model_id": "a65144e81030480284488a3eb4985c83",
       "version_major": 2,
       "version_minor": 0
      },
      "text/plain": [
       "  0%|          | 0/6 [00:00<?, ?it/s]"
      ]
     },
     "metadata": {},
     "output_type": "display_data"
    },
    {
     "name": "stdout",
     "output_type": "stream",
     "text": [
      "https://news.naver.com/main/read.naver?mode=LSD&mid=sec&sid1=102&oid=003&aid=0010792373\n",
      "https://news.naver.com/main/read.naver?mode=LSD&mid=sec&sid1=101&oid=374&aid=0000262126\n",
      "https://sports.news.naver.com/news.nhn?oid=076&aid=0003793781\n",
      "https://news.naver.com/main/read.naver?mode=LSD&mid=sec&sid1=101&oid=277&aid=0004989040\n",
      "https://news.naver.com/main/read.naver?mode=LSD&mid=sec&sid1=104&oid=079&aid=0003567211\n",
      "https://news.naver.com/main/read.naver?mode=LSD&mid=sec&sid1=106&oid=311&aid=0001364521\n"
     ]
    },
    {
     "data": {
      "application/vnd.jupyter.widget-view+json": {
       "model_id": "8d8158b108734227ba11b94b1c6be8be",
       "version_major": 2,
       "version_minor": 0
      },
      "text/plain": [
       "  0%|          | 0/7 [00:00<?, ?it/s]"
      ]
     },
     "metadata": {},
     "output_type": "display_data"
    },
    {
     "name": "stdout",
     "output_type": "stream",
     "text": [
      "https://news.naver.com/main/read.naver?mode=LSD&mid=sec&sid1=102&oid=014&aid=0004729066\n",
      "https://news.naver.com/main/read.naver?mode=LSD&mid=sec&sid1=101&oid=310&aid=0000091455\n",
      "https://news.naver.com/main/read.naver?mode=LSD&mid=sec&sid1=110&oid=016&aid=0001904108\n",
      "https://news.naver.com/main/read.naver?mode=LSD&mid=sec&sid1=106&oid=144&aid=0000769716\n",
      "https://news.naver.com/main/read.naver?mode=LSD&mid=sec&sid1=102&oid=421&aid=0005680912\n",
      "https://news.naver.com/main/read.naver?mode=LSD&mid=sec&sid1=104&oid=214&aid=0001156018\n",
      "https://news.naver.com/main/read.naver?mode=LSD&mid=sec&sid1=105&oid=138&aid=0002112298\n"
     ]
    },
    {
     "data": {
      "application/vnd.jupyter.widget-view+json": {
       "model_id": "2765fdc3d81041e1baceca5c2327dc53",
       "version_major": 2,
       "version_minor": 0
      },
      "text/plain": [
       "  0%|          | 0/4 [00:00<?, ?it/s]"
      ]
     },
     "metadata": {},
     "output_type": "display_data"
    },
    {
     "name": "stdout",
     "output_type": "stream",
     "text": [
      "https://news.naver.com/main/read.naver?mode=LSD&mid=sec&sid1=104&oid=421&aid=0005680901\n",
      "https://news.naver.com/main/read.naver?mode=LSD&mid=sec&sid1=105&oid=009&aid=0004869712\n",
      "https://news.naver.com/main/read.naver?mode=LSD&mid=sec&sid1=102&oid=277&aid=0004989032\n",
      "https://news.naver.com/main/read.naver?mode=LSD&mid=sec&sid1=106&oid=109&aid=0004498322\n"
     ]
    },
    {
     "data": {
      "application/vnd.jupyter.widget-view+json": {
       "model_id": "9b3585a902a64f23bcb7569bcec4d5c3",
       "version_major": 2,
       "version_minor": 0
      },
      "text/plain": [
       "  0%|          | 0/6 [00:00<?, ?it/s]"
      ]
     },
     "metadata": {},
     "output_type": "display_data"
    },
    {
     "name": "stdout",
     "output_type": "stream",
     "text": [
      "https://news.naver.com/main/read.naver?mode=LSD&mid=sec&sid1=104&oid=057&aid=0001616792\n",
      "https://news.naver.com/main/read.naver?mode=LSD&mid=sec&sid1=102&oid=277&aid=0004989030\n",
      "https://news.naver.com/main/read.naver?mode=LSD&mid=sec&sid1=102&oid=018&aid=0005070232\n",
      "https://news.naver.com/main/read.naver?mode=LSD&mid=sec&sid1=102&oid=001&aid=0012747272\n",
      "https://news.naver.com/main/read.naver?mode=LSD&mid=sec&sid1=101&oid=001&aid=0012747269\n",
      "https://news.naver.com/main/read.naver?mode=LSD&mid=sec&sid1=102&oid=421&aid=0005680897\n"
     ]
    },
    {
     "data": {
      "application/vnd.jupyter.widget-view+json": {
       "model_id": "c4df6ecf5347449c9c8679b00e10adec",
       "version_major": 2,
       "version_minor": 0
      },
      "text/plain": [
       "  0%|          | 0/5 [00:00<?, ?it/s]"
      ]
     },
     "metadata": {},
     "output_type": "display_data"
    },
    {
     "name": "stdout",
     "output_type": "stream",
     "text": [
      "https://news.naver.com/main/read.naver?mode=LSD&mid=sec&sid1=102&oid=421&aid=0005680895\n",
      "https://news.naver.com/main/read.naver?mode=LSD&mid=sec&sid1=102&oid=079&aid=0003567205\n",
      "https://news.naver.com/main/read.naver?mode=LSD&mid=sec&sid1=101&oid=374&aid=0000262119\n",
      "https://news.naver.com/main/read.naver?mode=LSD&mid=sec&sid1=106&oid=117&aid=0003548894\n",
      "https://news.naver.com/main/read.naver?mode=LSD&mid=sec&sid1=102&oid=310&aid=0000091453\n"
     ]
    },
    {
     "data": {
      "application/vnd.jupyter.widget-view+json": {
       "model_id": "097d26ccc50544c8876dbfd0a91daca0",
       "version_major": 2,
       "version_minor": 0
      },
      "text/plain": [
       "  0%|          | 0/3 [00:00<?, ?it/s]"
      ]
     },
     "metadata": {},
     "output_type": "display_data"
    },
    {
     "name": "stdout",
     "output_type": "stream",
     "text": [
      "https://news.naver.com/main/read.naver?mode=LSD&mid=sec&sid1=100&oid=025&aid=0003145514\n",
      "https://news.naver.com/main/read.naver?mode=LSD&mid=sec&sid1=004&oid=079&aid=0003567201\n",
      "https://news.naver.com/main/read.naver?mode=LSD&mid=sec&sid1=101&oid=016&aid=0001904061\n"
     ]
    },
    {
     "data": {
      "application/vnd.jupyter.widget-view+json": {
       "model_id": "3ea545bd194c43979cd207220733ca03",
       "version_major": 2,
       "version_minor": 0
      },
      "text/plain": [
       "  0%|          | 0/7 [00:00<?, ?it/s]"
      ]
     },
     "metadata": {},
     "output_type": "display_data"
    },
    {
     "name": "stdout",
     "output_type": "stream",
     "text": [
      "https://news.naver.com/main/read.naver?mode=LSD&mid=sec&sid1=102&oid=421&aid=0005680855\n",
      "https://news.naver.com/main/read.naver?mode=LSD&mid=sec&sid1=101&oid=001&aid=0012747224\n",
      "https://news.naver.com/main/read.naver?mode=LSD&mid=sec&sid1=102&oid=586&aid=0000030426\n",
      "https://news.naver.com/main/read.naver?mode=LSD&mid=sec&sid1=106&oid=609&aid=0000503870\n",
      "https://news.naver.com/main/read.naver?mode=LSD&mid=sec&sid1=101&oid=123&aid=0002257848\n",
      "https://news.naver.com/main/read.naver?mode=LSD&mid=sec&sid1=104&oid=005&aid=0001479600\n",
      "https://news.naver.com/main/read.naver?mode=LSD&mid=sec&sid1=102&oid=081&aid=0003224927\n"
     ]
    },
    {
     "data": {
      "application/vnd.jupyter.widget-view+json": {
       "model_id": "4e5cb252f2d2427bb935caeb123cb352",
       "version_major": 2,
       "version_minor": 0
      },
      "text/plain": [
       "  0%|          | 0/6 [00:00<?, ?it/s]"
      ]
     },
     "metadata": {},
     "output_type": "display_data"
    },
    {
     "name": "stdout",
     "output_type": "stream",
     "text": [
      "https://news.naver.com/main/read.naver?mode=LSD&mid=sec&sid1=101&oid=016&aid=0001904049\n",
      "https://news.naver.com/main/read.naver?mode=LSD&mid=sec&sid1=101&oid=016&aid=0001904048\n",
      "https://news.naver.com/main/read.naver?mode=LSD&mid=sec&sid1=101&oid=422&aid=0000510908\n",
      "https://news.naver.com/main/read.naver?mode=LSD&mid=sec&sid1=101&oid=015&aid=0004620618\n",
      "https://news.naver.com/main/read.naver?mode=LSD&mid=sec&sid1=101&oid=468&aid=0000796380\n",
      "https://news.naver.com/main/read.naver?mode=LSD&mid=sec&sid1=102&oid=001&aid=0012747199\n"
     ]
    },
    {
     "data": {
      "application/vnd.jupyter.widget-view+json": {
       "model_id": "9b1ccbf08ef6445ea61ba45adbb36572",
       "version_major": 2,
       "version_minor": 0
      },
      "text/plain": [
       "  0%|          | 0/5 [00:00<?, ?it/s]"
      ]
     },
     "metadata": {},
     "output_type": "display_data"
    },
    {
     "name": "stdout",
     "output_type": "stream",
     "text": [
      "https://news.naver.com/main/read.naver?mode=LSD&mid=sec&sid1=102&oid=002&aid=0002216001\n",
      "https://news.naver.com/main/read.naver?mode=LSD&mid=sec&sid1=104&oid=421&aid=0005680814\n",
      "https://news.naver.com/main/read.naver?mode=LSD&mid=sec&sid1=004&oid=346&aid=0000045370\n",
      "https://news.naver.com/main/read.naver?mode=LSD&mid=sec&sid1=104&oid=421&aid=0005680815\n",
      "https://news.naver.com/main/read.naver?mode=LSD&mid=sec&sid1=104&oid=421&aid=0005680812\n"
     ]
    },
    {
     "data": {
      "application/vnd.jupyter.widget-view+json": {
       "model_id": "ef1ea18d16c54864b289258d94a667fd",
       "version_major": 2,
       "version_minor": 0
      },
      "text/plain": [
       "  0%|          | 0/6 [00:00<?, ?it/s]"
      ]
     },
     "metadata": {},
     "output_type": "display_data"
    },
    {
     "name": "stdout",
     "output_type": "stream",
     "text": [
      "https://news.naver.com/main/read.naver?mode=LSD&mid=sec&sid1=101&oid=008&aid=0004661618\n",
      "https://news.naver.com/main/read.naver?mode=LSD&mid=sec&sid1=104&oid=421&aid=0005680807\n",
      "https://news.naver.com/main/read.naver?mode=LSD&mid=sec&sid1=102&oid=421&aid=0005680811\n",
      "https://news.naver.com/main/read.naver?mode=LSD&mid=sec&sid1=102&oid=586&aid=0000030422\n",
      "https://news.naver.com/main/read.naver?mode=LSD&mid=sec&sid1=104&oid=421&aid=0005680799\n",
      "https://news.naver.com/main/read.naver?mode=LSD&mid=sec&sid1=104&oid=022&aid=0003631828\n"
     ]
    },
    {
     "data": {
      "application/vnd.jupyter.widget-view+json": {
       "model_id": "b4474559cb0649769b3605ce41011277",
       "version_major": 2,
       "version_minor": 0
      },
      "text/plain": [
       "  0%|          | 0/6 [00:00<?, ?it/s]"
      ]
     },
     "metadata": {},
     "output_type": "display_data"
    },
    {
     "name": "stdout",
     "output_type": "stream",
     "text": [
      "https://news.naver.com/main/read.naver?mode=LSD&mid=sec&sid1=102&oid=421&aid=0005680802\n",
      "https://news.naver.com/main/read.naver?mode=LSD&mid=sec&sid1=104&oid=421&aid=0005680804\n",
      "https://news.naver.com/main/read.naver?mode=LSD&mid=sec&sid1=102&oid=003&aid=0010792234\n",
      "https://news.naver.com/main/read.naver?mode=LSD&mid=sec&sid1=104&oid=421&aid=0005680795\n",
      "https://news.naver.com/main/read.naver?mode=LSD&mid=sec&sid1=104&oid=421&aid=0005680789\n",
      "https://news.naver.com/main/read.naver?mode=LSD&mid=sec&sid1=104&oid=421&aid=0005680788\n"
     ]
    },
    {
     "data": {
      "application/vnd.jupyter.widget-view+json": {
       "model_id": "c23be9d58e244d739d37a0468e5cdf69",
       "version_major": 2,
       "version_minor": 0
      },
      "text/plain": [
       "  0%|          | 0/6 [00:00<?, ?it/s]"
      ]
     },
     "metadata": {},
     "output_type": "display_data"
    },
    {
     "name": "stdout",
     "output_type": "stream",
     "text": [
      "https://news.naver.com/main/read.naver?mode=LSD&mid=sec&sid1=102&oid=001&aid=0012747168\n",
      "https://sports.news.naver.com/news.nhn?oid=468&aid=0000796376\n",
      "https://news.naver.com/main/read.naver?mode=LSD&mid=sec&sid1=102&oid=032&aid=0003106081\n",
      "https://news.naver.com/main/read.naver?mode=LSD&mid=sec&sid1=104&oid=421&aid=0005680787\n",
      "https://news.naver.com/main/read.naver?mode=LSD&mid=sec&sid1=102&oid=003&aid=0010792222\n",
      "https://news.naver.com/main/read.naver?mode=LSD&mid=sec&sid1=101&oid=417&aid=0000747462\n"
     ]
    },
    {
     "data": {
      "application/vnd.jupyter.widget-view+json": {
       "model_id": "878add7b11dd4e5c9ae4965a31db01e3",
       "version_major": 2,
       "version_minor": 0
      },
      "text/plain": [
       "  0%|          | 0/6 [00:00<?, ?it/s]"
      ]
     },
     "metadata": {},
     "output_type": "display_data"
    },
    {
     "name": "stdout",
     "output_type": "stream",
     "text": [
      "https://news.naver.com/main/read.naver?mode=LSD&mid=sec&sid1=102&oid=001&aid=0012747163\n",
      "https://news.naver.com/main/read.naver?mode=LSD&mid=sec&sid1=102&oid=003&aid=0010792209\n",
      "https://news.naver.com/main/read.naver?mode=LSD&mid=sec&sid1=104&oid=055&aid=0000929455\n",
      "https://news.naver.com/main/read.naver?mode=LSD&mid=sec&sid1=102&oid=079&aid=0003567186\n",
      "https://news.naver.com/main/read.naver?mode=LSD&mid=sec&sid1=102&oid=014&aid=0004729039\n",
      "https://news.naver.com/main/read.naver?mode=LSD&mid=sec&sid1=104&oid=421&aid=0005680772\n"
     ]
    },
    {
     "data": {
      "application/vnd.jupyter.widget-view+json": {
       "model_id": "20fedf0406894427aca502b0fa4ef82c",
       "version_major": 2,
       "version_minor": 0
      },
      "text/plain": [
       "  0%|          | 0/6 [00:00<?, ?it/s]"
      ]
     },
     "metadata": {},
     "output_type": "display_data"
    },
    {
     "name": "stdout",
     "output_type": "stream",
     "text": [
      "https://news.naver.com/main/read.naver?mode=LSD&mid=sec&sid1=102&oid=014&aid=0004729039\n",
      "https://news.naver.com/main/read.naver?mode=LSD&mid=sec&sid1=104&oid=056&aid=0011144342\n",
      "https://news.naver.com/main/read.naver?mode=LSD&mid=sec&sid1=101&oid=421&aid=0005680771\n",
      "https://news.naver.com/main/read.naver?mode=LSD&mid=sec&sid1=102&oid=001&aid=0012747132\n",
      "https://news.naver.com/main/read.naver?mode=LSD&mid=sec&sid1=103&oid=056&aid=0011144339\n",
      "https://news.naver.com/main/read.naver?mode=LSD&mid=sec&sid1=106&oid=629&aid=0000112520\n"
     ]
    },
    {
     "data": {
      "application/vnd.jupyter.widget-view+json": {
       "model_id": "a7342b7e0f9a41bab33e7cf02d1d25c9",
       "version_major": 2,
       "version_minor": 0
      },
      "text/plain": [
       "  0%|          | 0/5 [00:00<?, ?it/s]"
      ]
     },
     "metadata": {},
     "output_type": "display_data"
    },
    {
     "name": "stdout",
     "output_type": "stream",
     "text": [
      "https://news.naver.com/main/read.naver?mode=LSD&mid=sec&sid1=101&oid=022&aid=0003631823\n",
      "https://news.naver.com/main/read.naver?mode=LSD&mid=sec&sid1=101&oid=016&aid=0001904011\n",
      "https://news.naver.com/main/read.naver?mode=LSD&mid=sec&sid1=102&oid=421&aid=0005680767\n",
      "https://news.naver.com/main/read.naver?mode=LSD&mid=sec&sid1=106&oid=112&aid=0003490969\n",
      "https://news.naver.com/main/read.naver?mode=LSD&mid=sec&sid1=102&oid=052&aid=0001657094\n"
     ]
    },
    {
     "data": {
      "application/vnd.jupyter.widget-view+json": {
       "model_id": "9af705c291644e24b8a2e55c3a6b5c6e",
       "version_major": 2,
       "version_minor": 0
      },
      "text/plain": [
       "  0%|          | 0/4 [00:00<?, ?it/s]"
      ]
     },
     "metadata": {},
     "output_type": "display_data"
    },
    {
     "name": "stdout",
     "output_type": "stream",
     "text": [
      "https://news.naver.com/main/read.naver?mode=LSD&mid=sec&sid1=101&oid=277&aid=0004988990\n",
      "https://news.naver.com/main/read.naver?mode=LSD&mid=sec&sid1=102&oid=421&aid=0005680752\n",
      "https://news.naver.com/main/read.naver?mode=LSD&mid=sec&sid1=101&oid=277&aid=0004988989\n",
      "https://news.naver.com/main/read.naver?mode=LSD&mid=sec&sid1=100&oid=448&aid=0000342362\n"
     ]
    },
    {
     "data": {
      "application/vnd.jupyter.widget-view+json": {
       "model_id": "4082d8131d1a406ebb7d1e4fa9f39d65",
       "version_major": 2,
       "version_minor": 0
      },
      "text/plain": [
       "  0%|          | 0/4 [00:00<?, ?it/s]"
      ]
     },
     "metadata": {},
     "output_type": "display_data"
    },
    {
     "name": "stdout",
     "output_type": "stream",
     "text": [
      "https://news.naver.com/main/read.naver?mode=LSD&mid=sec&sid1=101&oid=008&aid=0004661593\n",
      "https://news.naver.com/main/read.naver?mode=LSD&mid=sec&sid1=103&oid=296&aid=0000052408\n",
      "https://news.naver.com/main/read.naver?mode=LSD&mid=sec&sid1=102&oid=055&aid=0000929451\n",
      "https://news.naver.com/main/read.naver?mode=LSD&mid=sec&sid1=101&oid=008&aid=0004661591\n"
     ]
    },
    {
     "data": {
      "application/vnd.jupyter.widget-view+json": {
       "model_id": "f54c99bfc5b5465d86525ede00ba69fd",
       "version_major": 2,
       "version_minor": 0
      },
      "text/plain": [
       "  0%|          | 0/6 [00:00<?, ?it/s]"
      ]
     },
     "metadata": {},
     "output_type": "display_data"
    },
    {
     "name": "stdout",
     "output_type": "stream",
     "text": [
      "https://news.naver.com/main/read.naver?mode=LSD&mid=sec&sid1=102&oid=052&aid=0001657089\n",
      "https://news.naver.com/main/read.naver?mode=LSD&mid=sec&sid1=102&oid=032&aid=0003106077\n",
      "https://news.naver.com/main/read.naver?mode=LSD&mid=sec&sid1=102&oid=003&aid=0010792130\n",
      "https://news.naver.com/main/read.naver?mode=LSD&mid=sec&sid1=102&oid=014&aid=0004729023\n",
      "https://news.naver.com/main/read.naver?mode=LSD&mid=sec&sid1=102&oid=056&aid=0011144330\n",
      "https://news.naver.com/main/read.naver?mode=LSD&mid=sec&sid1=101&oid=417&aid=0000747439\n"
     ]
    },
    {
     "data": {
      "application/vnd.jupyter.widget-view+json": {
       "model_id": "f0dd13ea4bae4607b2e99bed7f4470be",
       "version_major": 2,
       "version_minor": 0
      },
      "text/plain": [
       "  0%|          | 0/6 [00:00<?, ?it/s]"
      ]
     },
     "metadata": {},
     "output_type": "display_data"
    },
    {
     "name": "stdout",
     "output_type": "stream",
     "text": [
      "https://news.naver.com/main/read.naver?mode=LSD&mid=sec&sid1=102&oid=022&aid=0003631821\n",
      "https://news.naver.com/main/read.naver?mode=LSD&mid=sec&sid1=102&oid=469&aid=0000637176\n",
      "https://news.naver.com/main/read.naver?mode=LSD&mid=sec&sid1=102&oid=003&aid=0010792103\n",
      "https://news.naver.com/main/read.naver?mode=LSD&mid=sec&sid1=102&oid=366&aid=0000769202\n",
      "https://news.naver.com/main/read.naver?mode=LSD&mid=sec&sid1=104&oid=016&aid=0001903996\n",
      "https://news.naver.com/main/read.naver?mode=LSD&mid=sec&sid1=100&oid=052&aid=0001657102\n"
     ]
    },
    {
     "data": {
      "application/vnd.jupyter.widget-view+json": {
       "model_id": "e47170cca0f1491090d71e8c9f2db5fd",
       "version_major": 2,
       "version_minor": 0
      },
      "text/plain": [
       "  0%|          | 0/10 [00:00<?, ?it/s]"
      ]
     },
     "metadata": {},
     "output_type": "display_data"
    },
    {
     "name": "stdout",
     "output_type": "stream",
     "text": [
      "https://news.naver.com/main/read.naver?mode=LSD&mid=sec&sid1=102&oid=018&aid=0005070165\n",
      "https://news.naver.com/main/read.naver?mode=LSD&mid=sec&sid1=102&oid=014&aid=0004729021\n",
      "https://news.naver.com/main/read.naver?mode=LSD&mid=sec&sid1=101&oid=008&aid=0004661588\n",
      "https://news.naver.com/main/read.naver?mode=LSD&mid=sec&sid1=101&oid=003&aid=0010792107\n",
      "https://news.naver.com/main/read.naver?mode=LSD&mid=sec&sid1=101&oid=374&aid=0000262111\n",
      "https://news.naver.com/main/read.naver?mode=LSD&mid=sec&sid1=102&oid=028&aid=0002565259\n",
      "https://sports.news.naver.com/news.nhn?oid=436&aid=0000050200\n",
      "https://news.naver.com/main/read.naver?mode=LSD&mid=sec&sid1=102&oid=025&aid=0003145500\n",
      "https://news.naver.com/main/read.naver?mode=LSD&mid=sec&sid1=101&oid=008&aid=0004661587\n",
      "https://news.naver.com/main/read.naver?mode=LSD&mid=sec&sid1=101&oid=422&aid=0000510906\n"
     ]
    },
    {
     "data": {
      "application/vnd.jupyter.widget-view+json": {
       "model_id": "dbdf11caa4434cbeb8a2dca1b4ae4af9",
       "version_major": 2,
       "version_minor": 0
      },
      "text/plain": [
       "  0%|          | 0/9 [00:00<?, ?it/s]"
      ]
     },
     "metadata": {},
     "output_type": "display_data"
    },
    {
     "name": "stdout",
     "output_type": "stream",
     "text": [
      "https://news.naver.com/main/read.naver?mode=LSD&mid=sec&sid1=101&oid=422&aid=0000510906\n",
      "https://news.naver.com/main/read.naver?mode=LSD&mid=sec&sid1=101&oid=003&aid=0010792102\n",
      "https://news.naver.com/main/read.naver?mode=LSD&mid=sec&sid1=101&oid=008&aid=0004661587\n",
      "https://news.naver.com/main/read.naver?mode=LSD&mid=sec&sid1=102&oid=025&aid=0003145500\n",
      "https://news.naver.com/main/read.naver?mode=LSD&mid=sec&sid1=102&oid=421&aid=0005680703\n",
      "https://news.naver.com/main/read.naver?mode=LSD&mid=sec&sid1=104&oid=448&aid=0000342361\n",
      "https://news.naver.com/main/read.naver?mode=LSD&mid=sec&sid1=104&oid=421&aid=0005680687\n",
      "https://news.naver.com/main/read.naver?mode=LSD&mid=sec&sid1=101&oid=032&aid=0003106075\n",
      "https://news.naver.com/main/read.naver?mode=LSD&mid=sec&sid1=104&oid=448&aid=0000342359\n"
     ]
    },
    {
     "data": {
      "application/vnd.jupyter.widget-view+json": {
       "model_id": "44f3300b580f4dbba45c4ee7cd806c29",
       "version_major": 2,
       "version_minor": 0
      },
      "text/plain": [
       "  0%|          | 0/7 [00:00<?, ?it/s]"
      ]
     },
     "metadata": {},
     "output_type": "display_data"
    },
    {
     "name": "stdout",
     "output_type": "stream",
     "text": [
      "https://news.naver.com/main/read.naver?mode=LSD&mid=sec&sid1=102&oid=009&aid=0004869679\n",
      "https://news.naver.com/main/read.naver?mode=LSD&mid=sec&sid1=101&oid=421&aid=0005680683\n",
      "https://news.naver.com/main/read.naver?mode=LSD&mid=sec&sid1=104&oid=008&aid=0004661579\n",
      "https://news.naver.com/main/read.naver?mode=LSD&mid=sec&sid1=102&oid=081&aid=0003224912\n",
      "https://news.naver.com/main/read.naver?mode=LSD&mid=sec&sid1=103&oid=011&aid=0003977515\n",
      "https://news.naver.com/main/read.naver?mode=LSD&mid=sec&sid1=102&oid=417&aid=0000747429\n",
      "https://news.naver.com/main/read.naver?mode=LSD&mid=sec&sid1=101&oid=030&aid=0002977585\n"
     ]
    },
    {
     "data": {
      "application/vnd.jupyter.widget-view+json": {
       "model_id": "ff8fff9faba748cfba03f44c029b75a7",
       "version_major": 2,
       "version_minor": 0
      },
      "text/plain": [
       "  0%|          | 0/4 [00:00<?, ?it/s]"
      ]
     },
     "metadata": {},
     "output_type": "display_data"
    },
    {
     "name": "stdout",
     "output_type": "stream",
     "text": [
      "https://news.naver.com/main/read.naver?mode=LSD&mid=sec&sid1=104&oid=448&aid=0000342357\n",
      "https://news.naver.com/main/read.naver?mode=LSD&mid=sec&sid1=103&oid=005&aid=0001479591\n",
      "https://news.naver.com/main/read.naver?mode=LSD&mid=sec&sid1=104&oid=001&aid=0012747030\n",
      "https://news.naver.com/main/read.naver?mode=LSD&mid=sec&sid1=102&oid=421&aid=0005680640\n"
     ]
    },
    {
     "data": {
      "application/vnd.jupyter.widget-view+json": {
       "model_id": "8b31f4b30976425e9d6342b9de42bb6c",
       "version_major": 2,
       "version_minor": 0
      },
      "text/plain": [
       "  0%|          | 0/4 [00:00<?, ?it/s]"
      ]
     },
     "metadata": {},
     "output_type": "display_data"
    },
    {
     "name": "stdout",
     "output_type": "stream",
     "text": [
      "https://news.naver.com/main/read.naver?mode=LSD&mid=sec&sid1=102&oid=003&aid=0010792042\n",
      "https://news.naver.com/main/read.naver?mode=LSD&mid=sec&sid1=104&oid=028&aid=0002565255\n",
      "https://news.naver.com/main/read.naver?mode=LSD&mid=sec&sid1=104&oid=056&aid=0011144312\n",
      "https://news.naver.com/main/read.naver?mode=LSD&mid=sec&sid1=102&oid=629&aid=0000112506\n"
     ]
    },
    {
     "data": {
      "application/vnd.jupyter.widget-view+json": {
       "model_id": "577a81aaa8ab48e79ac76f01ff8186b7",
       "version_major": 2,
       "version_minor": 0
      },
      "text/plain": [
       "  0%|          | 0/9 [00:00<?, ?it/s]"
      ]
     },
     "metadata": {},
     "output_type": "display_data"
    },
    {
     "name": "stdout",
     "output_type": "stream",
     "text": [
      "https://news.naver.com/main/read.naver?mode=LSD&mid=sec&sid1=102&oid=629&aid=0000112506\n",
      "https://news.naver.com/main/read.naver?mode=LSD&mid=sec&sid1=104&oid=025&aid=0003145492\n",
      "https://news.naver.com/main/read.naver?mode=LSD&mid=sec&sid1=102&oid=087&aid=0000865584\n",
      "https://news.naver.com/main/read.naver?mode=LSD&mid=sec&sid1=101&oid=003&aid=0010792004\n",
      "https://news.naver.com/main/read.naver?mode=LSD&mid=sec&sid1=102&oid=023&aid=0003648727\n",
      "https://news.naver.com/main/read.naver?mode=LSD&mid=sec&sid1=101&oid=119&aid=0002541737\n",
      "https://news.naver.com/main/read.naver?mode=LSD&mid=sec&sid1=104&oid=001&aid=0012746973\n",
      "https://news.naver.com/main/read.naver?mode=LSD&mid=sec&sid1=104&oid=003&aid=0010791978\n",
      "https://news.naver.com/main/read.naver?mode=LSD&mid=sec&sid1=104&oid=003&aid=0010791982\n"
     ]
    },
    {
     "data": {
      "application/vnd.jupyter.widget-view+json": {
       "model_id": "1db41af15306471bb130cd5d360118ee",
       "version_major": 2,
       "version_minor": 0
      },
      "text/plain": [
       "  0%|          | 0/5 [00:00<?, ?it/s]"
      ]
     },
     "metadata": {},
     "output_type": "display_data"
    },
    {
     "name": "stdout",
     "output_type": "stream",
     "text": [
      "https://news.naver.com/main/read.naver?mode=LSD&mid=sec&sid1=104&oid=003&aid=0010791980\n",
      "https://news.naver.com/main/read.naver?mode=LSD&mid=sec&sid1=101&oid=018&aid=0005070144\n",
      "https://news.naver.com/main/read.naver?mode=LSD&mid=sec&sid1=102&oid=417&aid=0000747408\n",
      "https://news.naver.com/main/read.naver?mode=LSD&mid=sec&sid1=102&oid=016&aid=0001903967\n",
      "https://news.naver.com/main/read.naver?mode=LSD&mid=sec&sid1=104&oid=366&aid=0000769191\n"
     ]
    },
    {
     "data": {
      "application/vnd.jupyter.widget-view+json": {
       "model_id": "ead3cda55bc34a64b49db1367eac390f",
       "version_major": 2,
       "version_minor": 0
      },
      "text/plain": [
       "  0%|          | 0/3 [00:00<?, ?it/s]"
      ]
     },
     "metadata": {},
     "output_type": "display_data"
    },
    {
     "name": "stdout",
     "output_type": "stream",
     "text": [
      "https://news.naver.com/main/read.naver?mode=LSD&mid=sec&sid1=100&oid=001&aid=0012746957\n",
      "https://news.naver.com/main/read.naver?mode=LSD&mid=sec&sid1=104&oid=003&aid=0010791948\n",
      "https://news.naver.com/main/read.naver?mode=LSD&mid=sec&sid1=104&oid=022&aid=0003631809\n"
     ]
    },
    {
     "data": {
      "application/vnd.jupyter.widget-view+json": {
       "model_id": "fb745d373bcc4ed592bf744e05613db6",
       "version_major": 2,
       "version_minor": 0
      },
      "text/plain": [
       "  0%|          | 0/3 [00:00<?, ?it/s]"
      ]
     },
     "metadata": {},
     "output_type": "display_data"
    },
    {
     "name": "stdout",
     "output_type": "stream",
     "text": [
      "https://news.naver.com/main/read.naver?mode=LSD&mid=sec&sid1=101&oid=016&aid=0001903965\n",
      "https://news.naver.com/main/read.naver?mode=LSD&mid=sec&sid1=102&oid=032&aid=0003106071\n",
      "https://news.naver.com/main/read.naver?mode=LSD&mid=sec&sid1=102&oid=079&aid=0003567129\n"
     ]
    },
    {
     "data": {
      "application/vnd.jupyter.widget-view+json": {
       "model_id": "5ad28493575f4ae99b4884478d068d6b",
       "version_major": 2,
       "version_minor": 0
      },
      "text/plain": [
       "  0%|          | 0/4 [00:00<?, ?it/s]"
      ]
     },
     "metadata": {},
     "output_type": "display_data"
    },
    {
     "name": "stdout",
     "output_type": "stream",
     "text": [
      "https://news.naver.com/main/read.naver?mode=LSD&mid=sec&sid1=100&oid=003&aid=0010791894\n",
      "https://news.naver.com/main/read.naver?mode=LSD&mid=sec&sid1=101&oid=001&aid=0012746897\n",
      "https://news.naver.com/main/read.naver?mode=LSD&mid=sec&sid1=104&oid=025&aid=0003145488\n",
      "https://news.naver.com/main/read.naver?mode=LSD&mid=sec&sid1=101&oid=047&aid=0002330606\n"
     ]
    },
    {
     "data": {
      "application/vnd.jupyter.widget-view+json": {
       "model_id": "e9b263f3648c4ebbad2bafca3f67854b",
       "version_major": 2,
       "version_minor": 0
      },
      "text/plain": [
       "  0%|          | 0/9 [00:00<?, ?it/s]"
      ]
     },
     "metadata": {},
     "output_type": "display_data"
    },
    {
     "name": "stdout",
     "output_type": "stream",
     "text": [
      "https://news.naver.com/main/read.naver?mode=LSD&mid=sec&sid1=102&oid=001&aid=0012746879\n",
      "https://news.naver.com/main/read.naver?mode=LSD&mid=sec&sid1=102&oid=001&aid=0012746885\n",
      "https://news.naver.com/main/read.naver?mode=LSD&mid=sec&sid1=102&oid=001&aid=0012746878\n",
      "https://news.naver.com/main/read.naver?mode=LSD&mid=sec&sid1=102&oid=001&aid=0012746877\n",
      "https://news.naver.com/main/read.naver?mode=LSD&mid=sec&sid1=101&oid=011&aid=0003977491\n",
      "https://news.naver.com/main/read.naver?mode=LSD&mid=sec&sid1=102&oid=001&aid=0012746873\n",
      "https://news.naver.com/main/read.naver?mode=LSD&mid=sec&sid1=102&oid=001&aid=0012746886\n",
      "https://news.naver.com/main/read.naver?mode=LSD&mid=sec&sid1=102&oid=001&aid=0012746880\n",
      "https://news.naver.com/main/read.naver?mode=LSD&mid=sec&sid1=102&oid=025&aid=0003145487\n"
     ]
    },
    {
     "data": {
      "application/vnd.jupyter.widget-view+json": {
       "model_id": "3ea82066d00c471082d370b3598d53c2",
       "version_major": 2,
       "version_minor": 0
      },
      "text/plain": [
       "  0%|          | 0/8 [00:00<?, ?it/s]"
      ]
     },
     "metadata": {},
     "output_type": "display_data"
    },
    {
     "name": "stdout",
     "output_type": "stream",
     "text": [
      "https://news.naver.com/main/read.naver?mode=LSD&mid=sec&sid1=102&oid=001&aid=0012746883\n",
      "https://news.naver.com/main/read.naver?mode=LSD&mid=sec&sid1=102&oid=001&aid=0012746874\n",
      "https://news.naver.com/main/read.naver?mode=LSD&mid=sec&sid1=102&oid=001&aid=0012746884\n",
      "https://news.naver.com/main/read.naver?mode=LSD&mid=sec&sid1=102&oid=002&aid=0002215973\n",
      "https://news.naver.com/main/read.naver?mode=LSD&mid=sec&sid1=103&oid=584&aid=0000016477\n",
      "https://news.naver.com/main/read.naver?mode=LSD&mid=sec&sid1=106&oid=001&aid=0012746866\n",
      "https://news.naver.com/main/read.naver?mode=LSD&mid=sec&sid1=106&oid=011&aid=0003977487\n",
      "https://news.naver.com/main/read.naver?mode=LSD&mid=sec&sid1=104&oid=277&aid=0004988931\n"
     ]
    },
    {
     "data": {
      "application/vnd.jupyter.widget-view+json": {
       "model_id": "4f41c31f15794adab2938da82512ab30",
       "version_major": 2,
       "version_minor": 0
      },
      "text/plain": [
       "  0%|          | 0/4 [00:00<?, ?it/s]"
      ]
     },
     "metadata": {},
     "output_type": "display_data"
    },
    {
     "name": "stdout",
     "output_type": "stream",
     "text": [
      "https://news.naver.com/main/read.naver?mode=LSD&mid=sec&sid1=100&oid=123&aid=0002257831\n",
      "https://news.naver.com/main/read.naver?mode=LSD&mid=sec&sid1=106&oid=477&aid=0000325436\n",
      "https://news.naver.com/main/read.naver?mode=LSD&mid=sec&sid1=101&oid=014&aid=0004728971\n",
      "https://news.naver.com/main/read.naver?mode=LSD&mid=sec&sid1=106&oid=057&aid=0001616760\n",
      "['OUTLINK', 'OUTLINK', '문 대통령 \"RCEP 비준 연내에…필리핀·캄보디아 FTA 최선\"', '韓-아세안 정상회의...文대통령 \"韓, 신뢰할 파트너\"', '거창군, 백신접종 완료율 70% 달성…‘일상회복 준비’', '\"급이 다른 아이폰13프로 영상\"...애플, iOS 15.1 출시']\n",
      "==================================\n",
      "['OUTLINK', 'OUTLINK', '   본문 내용     TV플레이어     // TV플레이어     // flash 오류를 우회하기 위한 함수 추가 function _flash_removeCallback() {}    기사내용 요약 \"하나 된 아세안, 팬데믹 대응 연대·협력 모범\"  \"韓, 아세안 친구…아세안과 함께 코로나 극복\" [서울=뉴시스] 김진아 기자 = 문재인 대통령이 26일 청와대 충무실에서 열린 제22차 한-아세안 화상 정상회의에서 발언하고 있다. 2021.10.26. bluesoda@newsis.com [서울=뉴시스]김태규 기자 = 문재인 대통령은 26일 \"역내포괄적경제동반자협정(RCEP) 비준을 올해 안에 마치고, 오늘 체결한 한·캄보디아 자유무역협정(FTA)과 한·필리핀 FTA도 조속히 발효되도록 최선을 다하겠다\"고 밝혔다. 문 대통령은 이날 오후 청와대 본관 충무실에서 화상회의 형태로 참여한 제22차 한·아세안(ASEAN·동남아시아국가연합) 정상회의 모두 발언에서 \"한·아세안 공동성명을 통해 사람 중심의 평화와 번영의 공동체를 향한 우리의 한층 강화된 의지를 천명하게 돼 매우 뜻깊다\"며 이렇게 말했다. RCEP은 동남아시아국가연합(ASEAN·아세안) 10개국과 한국·중국·일본·호주·인도·뉴질랜드 6개국을 더해 아시아·태평양 지역 16개국 사이의 무역의 룰을 정하는 \\'메가 FTA\\'를 뜻한다.미국과 일본 주도로 추진됐다가 유명무실화 된 환태평양경제동반자협정(CPTPP)보다 참여국이 5개국이 많아 \\'세계 최대 메가 FTA\\'로 평가 받는다.  인도를 제외한 15개국 정상들은 2019년 11월 제3차 RCEP 정상회의에서 RCEP 협정문을 타결했다. 이후 각국들은 자국내 비준 과정을 통해 조속한 발효를 약속했지만 아직 이뤄지지 않고 있다. 문 대통령은 \"우리는 코로나 극복과 더 나은 회복을 위해 더 깊은 우정을 나누어야 한다\"며 \" 최근 백신 보급률이 낮은 지역을 중심으로 델타변이가 퍼지고, 빈번한 생산 차질로 세계경제 회복이 제약받고 있다\"고 진단했다. 그러면서 \"백신이 부족한 나라의 어려움은 그렇지 않은 나라의 어려움으로 연결되고, 결국 연대와 협력만이 코로나 극복의 길이라는 것을 증명하고 있다\"며 글로벌 백신 협력 필요성을 강조했다. 문 대통령은 \"아세안은 지난 반세기 하나의 공동체로 발전하며 위기를 기회로 바꿔왔다\"며 \"팬데믹 상황에서도 하나의 아세안, 하나된 대응의 정신을 구현하고 연대와 협력의 모범이 됐다\"고 평가했다. [서울=뉴시스] 김진아 기자 = 문재인 대통령이 26일 청와대 충무실에서 열린 한-아세안 화상 정상회의에서 기념촬영을 하고 있다. 2021.10.26. bluesoda@newsis.com   이어 \"아세안과 한국은 동아시아 외환 위기와 글로벌 금융 위기를 함께 넘었다. 한국은 아세안과의 관계를 매우 중시한다\"며 \"한국은 아세안의 친구로서 코로나를 함께 극복하고, 포용적이며 지속가능한 미래를 함께 만들어 나갈 것\"이라고 밝혔다. 또 \"한국은 2017년부터 이어온 신남방정책과 지난해 발표한 신남방정책 플러스를 토대로 아세안과의 협력을 강화하고 있다\"며 \"한국은 코로나 아세안 대응 기금에 500만 달러를 추가로 공여하여 아세안의 백신 보급 속도를 높이고, 글로벌 공급망 안정을 위한 협력을 강화하여 아세안의 경제 회복에 기여할 것\"이라고 강조했다. 앞서 아세안 의장국인 하싸날 볼키아 브루나이 국왕은 모두 발언에서 \"대한민국은 아세안의 가장 중요한 전략적인 동반자 중 하나\"라며 \"한·아세안 관계가 많은 진전을 이루고 있다\"고 평가했다. 그러면서 \"코로나19 회복과 관련해 지속적으로 500만 불의 추가 공여를 통해서 코로나19 아시아 대응 기금을 통해 공여해 주신 것에 대해서 다시 한번 감사드린다\"면서 \"우리는 앞으로 전략적인 동반자 관계를 추가적으로 강화하고, 보다 회복력 있고 지속가능한 미래를 함께 건설해 나가기를 기대한다\"고 했다.    // 본문 내용   ', '   본문 내용     TV플레이어     // TV플레이어     // flash 오류를 우회하기 위한 함수 추가 function _flash_removeCallback() {}    26 일부터  27 일까지 이틀간 화상 정상회의로 진행 예정 \"역내 백신보급 및 지원 강화할 것...대응 기금에 올해 추가로  500 만불 기여\" 아세안 정상들, 문 대통령의 신남방정책...\\'한-아세안 실질 협력 추진\\' 높이 평가 文대통령, 한반도 완전한 비핵화 및 항구적 평화 정착 위한 아세안 지지 요청   ◆…문재인 대통령이  26 일 청와대 충무실에서 열린 한-아세안 화상 정상회의에서 기념촬영을 하고 있다. ［사진=연합뉴스］ 문재인 대통령은  26 일 오후 화상으로 개최된 제 22 차 한-아세안 정상회의에 참석, 이틀간 예정된 아세안 관련 정상회의의 첫 일정을 시작하면서 한국이 아세안의 친구로서 코로나를 함께 극복하고, 포용적이며 지속가능한 미래를 함께 만들어 나갈 것임을 강조했다.     이날 회의에서 문 대통령과 아세안 정상들은 지난 4년간 신남방정책 협력 성과를 종합 점검하고, 코로나 19  위기를 넘어 보다 나은 미래를 함께 만들어 나가기 위한 한·아세안 협력 방향에 대해 논의했다.     문 대통령은 모두 발언에서 한국은 아세안의 신뢰할 수 있는 파트너로서 아세안과 함께 코로나 19  위기를 극복하고, 포용적이며 지속가능한 미래를 만들어 나겠다는 의지를 강조했다.     특히 문 대통령은 우리나라가 글로벌 백신 허브의 한 축으로서 역내 백신 보급 및 지원을 강화시켜 나갈 예정이라고 하고, 그 일환으로 지난해 아세안 주도로 출범한 \\'코로나 19  아세안 대응기금\\'에 올해 추가로  500 만불을 지원했음을 설명했다.     문 대통령은  2017 년 아세안 관련 정상회의 참석 계기에 신남방정책을 발표한 후, 아세안  10 개국 정상방문을 조기에 완료하고,  2019 년 한-아세안 특별 정상회의를 부산에서 개최했으며,  2020 년 신남방정책을 한 단계 고도화한 신남방정책 플러스를 발표하는 등 한-아세안 관계를 심화시켜 나가기 위해 주도적으로 노력해 왔음을 설명했다.     아울러, 문 대통령은 신남방정책이 아세안 국가들의 적극적인 지지와 협력에 힘입어 한-아세안 협력의 공고한 틀로서 성공적으로 자리매김할 수 있었다고 평가했다.     아세안 정상들은 문 대통령이 정권 초기부터 아세안과의 협력에 중요성을 부여하고, 지난 4년간 신남방정책을 통해 한-아세안 실질 협력을 적극 추진해 왔음을 높이 평가했다.     특히, 코로나 19  위기 상황에서도 한국이 연대와 협력의 정신을 바탕으로 백신‧보건 협력 강화를 통해 아세안의 코로나 19  대응 노력을 적극 지원하고, 신남방정책을 한 단계 고도화한 신남방정책 플러스를 발표하여 협력의 동력을 이어나가고 있는 데 대해 사의를 표했다.     또한, 아세안 정상들은 앞으로 한국의 신남방정책과 아세안의 주요 정책을 조화롭게 진전시킴으로써 실질 협력을 더욱 강화해, 보다 회복력 있고 지속가능한 미래를 함께 준비해 나가자고 했다.     한-아세안 정상들은 이번 정상회의에서 그간 신남방정책에 기반한 한-아세안 협력의 성과를 종합하고 미래 협력 강화에 대한 의지를 재확인하는 공동성명을 채택했다. 아울러 우리 정부는 그간의 신남방정책 협력의 주요 성과를 종합한 설명서( Fact   Sheet )를 발표했다.     한편, 한-아세안 정상들은 평화롭고 번영하는 역내 질서를 유지하고 발전시켜 나가기 위해 함께 노력해 나갈 필요가 있다는 점에 공감하고, 주요 지역 정세에 대해서도 의견을 교환했다.     문 대통령은 남북 및 북미 대화의 조속한 재개를 통해 한반도의 완전한 비핵화 및 항구적 평화 정착의 실질적 진전을 이룰 수 있도록 아세안 차원의 지속적인 지지를 요청했다.     청와대는 \"이번 제 22 차 한-아세안 정상회의는 그간의 신남방정책에 기반한 한-아세안 협력의 성과들을 최고위급에서 종합하고, 향후 신남방정책에 기반한 협력의 동력을 재확인한 계기가 된 것으로 평가된다\"고 밝혔다. \\t  // 본문 내용   ', '   본문 내용     TV플레이어     // TV플레이어     // flash 오류를 우회하기 위한 함수 추가 function _flash_removeCallback() {}    [거창=뉴시스] 거창군 백신 접종. *재판매 및  DB  금지 [거창=뉴시스] 정경규 기자 = 경남 거창군은  10 월말 접종예약자까지 포함하면 접종 완료율  77 %로 일상회복 준비에 심혈을 기울이고 있다고  26 일 밝혔다. 군에 따르면 지난  23 일 오후 6시 기준으로 군민 6만 1245 명 중 1차 접종 완료자는 4만 7520 명( 77.6 %),  2차 접종 완료자는 4만 2984 명( 70.2 %)이다. 군은 코로나 19  예방접종률을 높이기 위해 대상자별 2차 접종 기간 단축과 미접종자에대한 지속적인 접종 안내를 통해 집단면역 확보 및 단계적 일상회복의 전환을 위한 예방접종 정부 목표율인  70 %를 넘어섰다. 군은 코로나 19  접종제고를 위해 미등록 외국인까지 확대해 접종을 추진했다. 또 지난  18 일부터 소아청소년  16 ∼ 17 세와 임신부에 대한 백신접종이 본격화되면서 대상자 중  56 %가 예약을 완료했으며  12 ∼ 15 세도  30 %의 예약률을 보였다.  소아청소년의 경우 관내 위탁의료기관은 접종대상자의 건강상태를 고려해 철저한 예진을 시행하고 정확한 정보에 근거해 백신접종을 시행한다. 또한 1, 2차 기본접종 완료자 중 접종완료 6개월이 경과한  60 세 이상 고령층 및 고위험군(노인시설 등), 면역저하자, 요양병원·요양시설 종사자 및 입소자, 병원급 이상 의료기관 종사자를 대상으로  11 월부터 접종을 진행할 계획이다. 구인모 거창군수는 “군민들의 적극적인 협조로 2차 접종률  70 %를 달성할 수 있었다”며 “백신 예방접종이 단계적 일상회복의 실현과 코로나 19  극복을 위한 유일한 해법이자 희망이며 아직까지 개인사정 등으로 접종을 하지 못한 군민들도 함께 동참해 줄 것”을 당부했다.    // 본문 내용   ', \"   본문 내용     TV플레이어     // TV플레이어     // flash 오류를 우회하기 위한 함수 추가 function _flash_removeCallback() {}    고성능 동영상 코덱 '프로레스’ 지원…'셰어플레이' 기능 활성화 애플이  25 일(현지시각) 애플운용체계( iOS )  15 의 첫 번째 주요 업데이트인  'iOS   15.1'  정식 버전을 출시했다. 최신 플래그십 아이폰 13  프로 사용자들을 위한 새로운 카메라 기능이 추가됐다. ◇ 프로레스( ProRes ) 비디오 촬영 아이폰 13  프로. 사진=애플 아이폰 13  고급형 프로 라인에 장착된 '프로레스( ProRes )' 동영상 촬영 기능을 이용할 수 있다. 프로레스는 고성능 동영상 코덱이다. 고해상도로 영상을 찍고, 이후 편집할 때 더 많은 효과를 낼 수 있도록 한다. 프로레스 지원으로 아이폰 13  프로·프로맥스 사용자는 전문 품질의 동영상을 손쉽게 촬영, 편집, 공유할 수 있다. ◇ 셰어플레이( SharePlay ) 셰어플레이( SharePlay ) 기능. 사진=애플 이번 업데이트는 애플 영상통화 애플리케이션 '페이스타임'을 이용해 함께 듣고 싶은 음악이나 영화 등 화면을 공유할 수 있는 '셰어플레이' 기능을 정식 지원한다. 공유된 재생 컨트롤을 통해 참여자 누구나 일시 정지·재생·되감기 등 다양한 제어가 가능하도록 설계됐다. 또한 페이스타임으로 통화하면서 화면을 공유해 사진을 보거나 웹 페이지를 탐색하는 등 서로 협업할 수 있다. 셰어플레이는 애초  iOS   15  업데이트에서 도입될 예정이었으나, 버그 수정 등 문제로 이번 업데이트에 포함됐다. ◇ 버그 수정 사진과 동영상을 사진 앱으로 가져올 때 '용량 부족' 메시지가 잘못 표시되는 등의 일부 오류가 수정됐다. 사용 가능한  Wi-Fi  네트워크가 감지되지 않는 문제와 화면 잠금 시 일부 앱에서 오디오 재생이 정지되는 현상도 개선됐다. iOS   15.1 은 이 외에도 △애플 지갑 앱 코로나 19  백신 접종 증명서 추가(일부 국가) △번역 기능 대만 북경어 지원 추가 등이 적용됐다.  iOS   15.1  업데이트 용량은 아이폰 13  기준 약  1.44GB 다.    // 본문 내용   \"]\n"
     ]
    }
   ],
   "source": [
    "naver_news_title = []\n",
    "naver_news_content = []\n",
    "\n",
    "\n",
    "for n in tqdm_notebook(range(len(naver_news_link))):\n",
    "    #print(n)\n",
    "    news_page_title = []\n",
    "    news_page_content = []\n",
    "    \n",
    "    for idx in tqdm_notebook(range(len(naver_news_link[n]))):\n",
    "        \n",
    "        \n",
    "    ########### 긁어온 URL로 접속하기 ############    \n",
    "        try:\n",
    "            driver.get(naver_news_link[n][idx])\n",
    "            print(naver_news_link[n][idx])\n",
    "            \n",
    "        except:\n",
    "            print(\"Timeout!\")\n",
    "            continue\n",
    "        \n",
    "        \n",
    "        try:\n",
    "            response = driver.page_source\n",
    "            \n",
    "        except UnexpectedAlertPresentException:\n",
    "            driver.switch_to_alert().accept()\n",
    "            print(\"게시글이 삭제된 경우입니다.\")\n",
    "            continue\n",
    "        \n",
    "        soup = BeautifulSoup(response, \"html.parser\")\n",
    "        \n",
    "        ###### 뉴스 타이틀 긁어오기 ######\n",
    "        \n",
    "        title = None\n",
    "        \n",
    "        try:\n",
    "            item = soup.find('div', class_=\"article_info\")\n",
    "            title = item.find('h3', class_=\"tts_head\").get_text()\n",
    "            #print(title)\n",
    "\n",
    "        except:\n",
    "            title = \"OUTLINK\"\n",
    "        \n",
    "        #print(title)\n",
    "        news_page_title.append(title)\n",
    "        \n",
    "        \n",
    "        ###### 뉴스 본문 긁어오기 ######\n",
    "        \n",
    "        doc = None\n",
    "        text = \"\"\n",
    "                \n",
    "        data = soup.find_all(\"div\", {\"class\" : \"_article_body_contents\"})\n",
    "        if data:\n",
    "            for item in data:\n",
    "\n",
    "                text = text + str(item.find_all(text=True)).strip()\n",
    "                text = ast.literal_eval(text)\n",
    "                doc = ' '.join(text)\n",
    "   \n",
    "        else:\n",
    "            doc = \"OUTLINK\"\n",
    "            \n",
    "        news_page_content.append(doc.replace('\\n', ' '))\n",
    "\n",
    "                \n",
    "    naver_news_title.append(news_page_title)\n",
    "    naver_news_content.append(news_page_content)\n",
    "\n",
    "    time.sleep(2)\n",
    "    \n",
    "    \n",
    "print(naver_news_title[0])\n",
    "print(\"==================================\")\n",
    "print(naver_news_content[0])"
   ]
  },
  {
   "cell_type": "code",
   "execution_count": 14,
   "metadata": {},
   "outputs": [
    {
     "name": "stdout",
     "output_type": "stream",
     "text": [
      "['모더나 \"6∼11살 어린이에도 코로나 백신 효과적이고 안전\"', '[이렇게]위드 코로나, 개인위생 여전히 신경써야', '[애널리스트의 마켓뷰]美 테이퍼링, 2013년 같은 긴축 발작은 없을듯', '내달부터 예배 인원… 정원의 50% 참석', '접종 완료자, 가을 야구 치맥 즐기며 직관 가능', '노래방 목욕탕 헬스장에 ‘백신패스’… 유흥시설은 자정까지만', '다음주부터 ‘식당 24시간-모임 10명’', '독일처럼… 치명률 낮추려 점진적 방역 완화', '[최재천의 자연과 문화] [648] 뉴 업노멀', '무증상-경증 환자는 재택치료가 원칙… 보건소 과부하 해소 숙제']\n"
     ]
    }
   ],
   "source": [
    "print(naver_news_title[0])"
   ]
  },
  {
   "cell_type": "code",
   "execution_count": 7,
   "metadata": {},
   "outputs": [
    {
     "name": "stdout",
     "output_type": "stream",
     "text": [
      "['OUTLINK', 'OUTLINK', '   본문 내용     TV플레이어     // TV플레이어     // flash 오류를 우회하기 위한 함수 추가 function _flash_removeCallback() {}    기사내용 요약 \"하나 된 아세안, 팬데믹 대응 연대·협력 모범\"  \"韓, 아세안 친구…아세안과 함께 코로나 극복\" [서울=뉴시스] 김진아 기자 = 문재인 대통령이 26일 청와대 충무실에서 열린 제22차 한-아세안 화상 정상회의에서 발언하고 있다. 2021.10.26. bluesoda@newsis.com [서울=뉴시스]김태규 기자 = 문재인 대통령은 26일 \"역내포괄적경제동반자협정(RCEP) 비준을 올해 안에 마치고, 오늘 체결한 한·캄보디아 자유무역협정(FTA)과 한·필리핀 FTA도 조속히 발효되도록 최선을 다하겠다\"고 밝혔다. 문 대통령은 이날 오후 청와대 본관 충무실에서 화상회의 형태로 참여한 제22차 한·아세안(ASEAN·동남아시아국가연합) 정상회의 모두 발언에서 \"한·아세안 공동성명을 통해 사람 중심의 평화와 번영의 공동체를 향한 우리의 한층 강화된 의지를 천명하게 돼 매우 뜻깊다\"며 이렇게 말했다. RCEP은 동남아시아국가연합(ASEAN·아세안) 10개국과 한국·중국·일본·호주·인도·뉴질랜드 6개국을 더해 아시아·태평양 지역 16개국 사이의 무역의 룰을 정하는 \\'메가 FTA\\'를 뜻한다.미국과 일본 주도로 추진됐다가 유명무실화 된 환태평양경제동반자협정(CPTPP)보다 참여국이 5개국이 많아 \\'세계 최대 메가 FTA\\'로 평가 받는다.  인도를 제외한 15개국 정상들은 2019년 11월 제3차 RCEP 정상회의에서 RCEP 협정문을 타결했다. 이후 각국들은 자국내 비준 과정을 통해 조속한 발효를 약속했지만 아직 이뤄지지 않고 있다. 문 대통령은 \"우리는 코로나 극복과 더 나은 회복을 위해 더 깊은 우정을 나누어야 한다\"며 \" 최근 백신 보급률이 낮은 지역을 중심으로 델타변이가 퍼지고, 빈번한 생산 차질로 세계경제 회복이 제약받고 있다\"고 진단했다. 그러면서 \"백신이 부족한 나라의 어려움은 그렇지 않은 나라의 어려움으로 연결되고, 결국 연대와 협력만이 코로나 극복의 길이라는 것을 증명하고 있다\"며 글로벌 백신 협력 필요성을 강조했다. 문 대통령은 \"아세안은 지난 반세기 하나의 공동체로 발전하며 위기를 기회로 바꿔왔다\"며 \"팬데믹 상황에서도 하나의 아세안, 하나된 대응의 정신을 구현하고 연대와 협력의 모범이 됐다\"고 평가했다. [서울=뉴시스] 김진아 기자 = 문재인 대통령이 26일 청와대 충무실에서 열린 한-아세안 화상 정상회의에서 기념촬영을 하고 있다. 2021.10.26. bluesoda@newsis.com   이어 \"아세안과 한국은 동아시아 외환 위기와 글로벌 금융 위기를 함께 넘었다. 한국은 아세안과의 관계를 매우 중시한다\"며 \"한국은 아세안의 친구로서 코로나를 함께 극복하고, 포용적이며 지속가능한 미래를 함께 만들어 나갈 것\"이라고 밝혔다. 또 \"한국은 2017년부터 이어온 신남방정책과 지난해 발표한 신남방정책 플러스를 토대로 아세안과의 협력을 강화하고 있다\"며 \"한국은 코로나 아세안 대응 기금에 500만 달러를 추가로 공여하여 아세안의 백신 보급 속도를 높이고, 글로벌 공급망 안정을 위한 협력을 강화하여 아세안의 경제 회복에 기여할 것\"이라고 강조했다. 앞서 아세안 의장국인 하싸날 볼키아 브루나이 국왕은 모두 발언에서 \"대한민국은 아세안의 가장 중요한 전략적인 동반자 중 하나\"라며 \"한·아세안 관계가 많은 진전을 이루고 있다\"고 평가했다. 그러면서 \"코로나19 회복과 관련해 지속적으로 500만 불의 추가 공여를 통해서 코로나19 아시아 대응 기금을 통해 공여해 주신 것에 대해서 다시 한번 감사드린다\"면서 \"우리는 앞으로 전략적인 동반자 관계를 추가적으로 강화하고, 보다 회복력 있고 지속가능한 미래를 함께 건설해 나가기를 기대한다\"고 했다.    // 본문 내용   ', '   본문 내용     TV플레이어     // TV플레이어     // flash 오류를 우회하기 위한 함수 추가 function _flash_removeCallback() {}    26 일부터  27 일까지 이틀간 화상 정상회의로 진행 예정 \"역내 백신보급 및 지원 강화할 것...대응 기금에 올해 추가로  500 만불 기여\" 아세안 정상들, 문 대통령의 신남방정책...\\'한-아세안 실질 협력 추진\\' 높이 평가 文대통령, 한반도 완전한 비핵화 및 항구적 평화 정착 위한 아세안 지지 요청   ◆…문재인 대통령이  26 일 청와대 충무실에서 열린 한-아세안 화상 정상회의에서 기념촬영을 하고 있다. ［사진=연합뉴스］ 문재인 대통령은  26 일 오후 화상으로 개최된 제 22 차 한-아세안 정상회의에 참석, 이틀간 예정된 아세안 관련 정상회의의 첫 일정을 시작하면서 한국이 아세안의 친구로서 코로나를 함께 극복하고, 포용적이며 지속가능한 미래를 함께 만들어 나갈 것임을 강조했다.     이날 회의에서 문 대통령과 아세안 정상들은 지난 4년간 신남방정책 협력 성과를 종합 점검하고, 코로나 19  위기를 넘어 보다 나은 미래를 함께 만들어 나가기 위한 한·아세안 협력 방향에 대해 논의했다.     문 대통령은 모두 발언에서 한국은 아세안의 신뢰할 수 있는 파트너로서 아세안과 함께 코로나 19  위기를 극복하고, 포용적이며 지속가능한 미래를 만들어 나겠다는 의지를 강조했다.     특히 문 대통령은 우리나라가 글로벌 백신 허브의 한 축으로서 역내 백신 보급 및 지원을 강화시켜 나갈 예정이라고 하고, 그 일환으로 지난해 아세안 주도로 출범한 \\'코로나 19  아세안 대응기금\\'에 올해 추가로  500 만불을 지원했음을 설명했다.     문 대통령은  2017 년 아세안 관련 정상회의 참석 계기에 신남방정책을 발표한 후, 아세안  10 개국 정상방문을 조기에 완료하고,  2019 년 한-아세안 특별 정상회의를 부산에서 개최했으며,  2020 년 신남방정책을 한 단계 고도화한 신남방정책 플러스를 발표하는 등 한-아세안 관계를 심화시켜 나가기 위해 주도적으로 노력해 왔음을 설명했다.     아울러, 문 대통령은 신남방정책이 아세안 국가들의 적극적인 지지와 협력에 힘입어 한-아세안 협력의 공고한 틀로서 성공적으로 자리매김할 수 있었다고 평가했다.     아세안 정상들은 문 대통령이 정권 초기부터 아세안과의 협력에 중요성을 부여하고, 지난 4년간 신남방정책을 통해 한-아세안 실질 협력을 적극 추진해 왔음을 높이 평가했다.     특히, 코로나 19  위기 상황에서도 한국이 연대와 협력의 정신을 바탕으로 백신‧보건 협력 강화를 통해 아세안의 코로나 19  대응 노력을 적극 지원하고, 신남방정책을 한 단계 고도화한 신남방정책 플러스를 발표하여 협력의 동력을 이어나가고 있는 데 대해 사의를 표했다.     또한, 아세안 정상들은 앞으로 한국의 신남방정책과 아세안의 주요 정책을 조화롭게 진전시킴으로써 실질 협력을 더욱 강화해, 보다 회복력 있고 지속가능한 미래를 함께 준비해 나가자고 했다.     한-아세안 정상들은 이번 정상회의에서 그간 신남방정책에 기반한 한-아세안 협력의 성과를 종합하고 미래 협력 강화에 대한 의지를 재확인하는 공동성명을 채택했다. 아울러 우리 정부는 그간의 신남방정책 협력의 주요 성과를 종합한 설명서( Fact   Sheet )를 발표했다.     한편, 한-아세안 정상들은 평화롭고 번영하는 역내 질서를 유지하고 발전시켜 나가기 위해 함께 노력해 나갈 필요가 있다는 점에 공감하고, 주요 지역 정세에 대해서도 의견을 교환했다.     문 대통령은 남북 및 북미 대화의 조속한 재개를 통해 한반도의 완전한 비핵화 및 항구적 평화 정착의 실질적 진전을 이룰 수 있도록 아세안 차원의 지속적인 지지를 요청했다.     청와대는 \"이번 제 22 차 한-아세안 정상회의는 그간의 신남방정책에 기반한 한-아세안 협력의 성과들을 최고위급에서 종합하고, 향후 신남방정책에 기반한 협력의 동력을 재확인한 계기가 된 것으로 평가된다\"고 밝혔다. \\t  // 본문 내용   ', '   본문 내용     TV플레이어     // TV플레이어     // flash 오류를 우회하기 위한 함수 추가 function _flash_removeCallback() {}    [거창=뉴시스] 거창군 백신 접종. *재판매 및  DB  금지 [거창=뉴시스] 정경규 기자 = 경남 거창군은  10 월말 접종예약자까지 포함하면 접종 완료율  77 %로 일상회복 준비에 심혈을 기울이고 있다고  26 일 밝혔다. 군에 따르면 지난  23 일 오후 6시 기준으로 군민 6만 1245 명 중 1차 접종 완료자는 4만 7520 명( 77.6 %),  2차 접종 완료자는 4만 2984 명( 70.2 %)이다. 군은 코로나 19  예방접종률을 높이기 위해 대상자별 2차 접종 기간 단축과 미접종자에대한 지속적인 접종 안내를 통해 집단면역 확보 및 단계적 일상회복의 전환을 위한 예방접종 정부 목표율인  70 %를 넘어섰다. 군은 코로나 19  접종제고를 위해 미등록 외국인까지 확대해 접종을 추진했다. 또 지난  18 일부터 소아청소년  16 ∼ 17 세와 임신부에 대한 백신접종이 본격화되면서 대상자 중  56 %가 예약을 완료했으며  12 ∼ 15 세도  30 %의 예약률을 보였다.  소아청소년의 경우 관내 위탁의료기관은 접종대상자의 건강상태를 고려해 철저한 예진을 시행하고 정확한 정보에 근거해 백신접종을 시행한다. 또한 1, 2차 기본접종 완료자 중 접종완료 6개월이 경과한  60 세 이상 고령층 및 고위험군(노인시설 등), 면역저하자, 요양병원·요양시설 종사자 및 입소자, 병원급 이상 의료기관 종사자를 대상으로  11 월부터 접종을 진행할 계획이다. 구인모 거창군수는 “군민들의 적극적인 협조로 2차 접종률  70 %를 달성할 수 있었다”며 “백신 예방접종이 단계적 일상회복의 실현과 코로나 19  극복을 위한 유일한 해법이자 희망이며 아직까지 개인사정 등으로 접종을 하지 못한 군민들도 함께 동참해 줄 것”을 당부했다.    // 본문 내용   ', \"   본문 내용     TV플레이어     // TV플레이어     // flash 오류를 우회하기 위한 함수 추가 function _flash_removeCallback() {}    고성능 동영상 코덱 '프로레스’ 지원…'셰어플레이' 기능 활성화 애플이  25 일(현지시각) 애플운용체계( iOS )  15 의 첫 번째 주요 업데이트인  'iOS   15.1'  정식 버전을 출시했다. 최신 플래그십 아이폰 13  프로 사용자들을 위한 새로운 카메라 기능이 추가됐다. ◇ 프로레스( ProRes ) 비디오 촬영 아이폰 13  프로. 사진=애플 아이폰 13  고급형 프로 라인에 장착된 '프로레스( ProRes )' 동영상 촬영 기능을 이용할 수 있다. 프로레스는 고성능 동영상 코덱이다. 고해상도로 영상을 찍고, 이후 편집할 때 더 많은 효과를 낼 수 있도록 한다. 프로레스 지원으로 아이폰 13  프로·프로맥스 사용자는 전문 품질의 동영상을 손쉽게 촬영, 편집, 공유할 수 있다. ◇ 셰어플레이( SharePlay ) 셰어플레이( SharePlay ) 기능. 사진=애플 이번 업데이트는 애플 영상통화 애플리케이션 '페이스타임'을 이용해 함께 듣고 싶은 음악이나 영화 등 화면을 공유할 수 있는 '셰어플레이' 기능을 정식 지원한다. 공유된 재생 컨트롤을 통해 참여자 누구나 일시 정지·재생·되감기 등 다양한 제어가 가능하도록 설계됐다. 또한 페이스타임으로 통화하면서 화면을 공유해 사진을 보거나 웹 페이지를 탐색하는 등 서로 협업할 수 있다. 셰어플레이는 애초  iOS   15  업데이트에서 도입될 예정이었으나, 버그 수정 등 문제로 이번 업데이트에 포함됐다. ◇ 버그 수정 사진과 동영상을 사진 앱으로 가져올 때 '용량 부족' 메시지가 잘못 표시되는 등의 일부 오류가 수정됐다. 사용 가능한  Wi-Fi  네트워크가 감지되지 않는 문제와 화면 잠금 시 일부 앱에서 오디오 재생이 정지되는 현상도 개선됐다. iOS   15.1 은 이 외에도 △애플 지갑 앱 코로나 19  백신 접종 증명서 추가(일부 국가) △번역 기능 대만 북경어 지원 추가 등이 적용됐다.  iOS   15.1  업데이트 용량은 아이폰 13  기준 약  1.44GB 다.    // 본문 내용   \"]\n"
     ]
    }
   ],
   "source": [
    "print(naver_news_content[0])"
   ]
  },
  {
   "cell_type": "code",
   "execution_count": 8,
   "metadata": {},
   "outputs": [
    {
     "name": "stdout",
     "output_type": "stream",
     "text": [
      "6\n",
      "6\n"
     ]
    }
   ],
   "source": [
    "print(len(naver_news_title[0]))\n",
    "print(len(naver_news_content[0]))"
   ]
  },
  {
   "cell_type": "code",
   "execution_count": 9,
   "metadata": {},
   "outputs": [],
   "source": [
    "with open(\"naver_news_title.pk\", \"wb\") as f:\n",
    "    pickle.dump(naver_news_title, f)\n",
    "    \n",
    "with open(\"naver_news_content.pk\", \"wb\") as f:\n",
    "    pickle.dump(naver_news_content, f)"
   ]
  },
  {
   "cell_type": "code",
   "execution_count": null,
   "metadata": {},
   "outputs": [],
   "source": []
  }
 ],
 "metadata": {
  "interpreter": {
   "hash": "c270e6328e3db603edbbf92178afe07abc75c12ec50d7594e3b3ea046e4043cd"
  },
  "kernelspec": {
   "display_name": "Python 3",
   "language": "python",
   "name": "python3"
  },
  "language_info": {
   "codemirror_mode": {
    "name": "ipython",
    "version": 3
   },
   "file_extension": ".py",
   "mimetype": "text/x-python",
   "name": "python",
   "nbconvert_exporter": "python",
   "pygments_lexer": "ipython3",
   "version": "3.6.13"
  }
 },
 "nbformat": 4,
 "nbformat_minor": 2
}
