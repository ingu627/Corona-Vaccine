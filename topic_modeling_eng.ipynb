{
 "cells": [
  {
   "cell_type": "code",
   "execution_count": 1,
   "metadata": {},
   "outputs": [
    {
     "name": "stderr",
     "output_type": "stream",
     "text": [
      "C:\\Users\\poeun\\anaconda3\\envs\\NLP\\lib\\site-packages\\gensim\\similarities\\__init__.py:15: UserWarning: The gensim.similarities.levenshtein submodule is disabled, because the optional Levenshtein package <https://pypi.org/project/python-Levenshtein/> is unavailable. Install Levenhstein (e.g. `pip install python-Levenshtein`) to suppress this warning.\n",
      "  warnings.warn(msg)\n"
     ]
    }
   ],
   "source": [
    "import pandas as pd\n",
    "from nltk.tokenize import WordPunctTokenizer\n",
    "from nltk.tag import pos_tag\n",
    "from nltk.corpus import stopwords\n",
    "from nltk.stem import WordNetLemmatizer\n",
    "\n",
    "from gensim import corpora\n",
    "from gensim import models"
   ]
  },
  {
   "cell_type": "code",
   "execution_count": 2,
   "metadata": {},
   "outputs": [],
   "source": [
    "def read_texts(df):\n",
    "    texts=[]\n",
    "    for i in range(len(df)):\n",
    "        words =  WordPunctTokenizer().tokenize(df[\"text\"][i])\n",
    "        texts.append(words)\n",
    "    print(texts)\n",
    "    return texts\n",
    "\n",
    "\n",
    "def tokenize_pos_tag(df):\n",
    "    res=[]\n",
    "    for i in range(len(df)):\n",
    "        sentence = df[\"text\"][i]\n",
    "        tokenize_pos = pos_tag(WordPunctTokenizer().tokenize(sentence))\n",
    "        res.append(tokenize_pos)\n",
    "    return res\n",
    "\n",
    "\n",
    "def ANRV(words_pos):\n",
    "    res = []\n",
    "    for i in range(len(words_pos)):\n",
    "        tmp=[]\n",
    "        for j in range(len(words_pos[i])):\n",
    "            if words_pos[i][j][1][0] in [\"J\",\"R\",\"V\"]:\n",
    "                tmp.append((words_pos[i][j][0].lower(), words_pos[i][j][1][0].lower()))\n",
    "            elif words_pos[i][j][1][0] == \"N\":\n",
    "                if words_pos[i][j][1] == \"NNP\" or words_pos[i][j][1] == \"NNPS\":\n",
    "                    tmp.append((words_pos[i][j][0].lower(), words_pos[i][j][1][0].lower()))\n",
    "                else:\n",
    "                    tmp.append((words_pos[i][j][0].lower(), words_pos[i][j][1][0].lower()))\n",
    "        res.append(tmp)\n",
    "    return res\n",
    "\n",
    "\n",
    "def Lemma(words_anrv):\n",
    "    lm = WordNetLemmatizer()\n",
    "    res=[]\n",
    "    for i in range(len(words_anrv)):\n",
    "        tmp=[]\n",
    "        for j in range(len(words_anrv[i])):\n",
    "            #print(words_anrv[i][j][0])\n",
    "            if words_anrv[i][j][1] == \"j\":\n",
    "                pos = \"a\"\n",
    "            else:\n",
    "                pos=words_anrv[i][j][1]\n",
    "            #print(lm.lemmatize(words_anrv[i][j][0], pos=pos))\n",
    "            tmp.append(lm.lemmatize(words_anrv[i][j][0], pos=pos))\n",
    "        res.append(tmp)\n",
    "    return res\n",
    "\n",
    "\n",
    "def clean_stopword(words):\n",
    "    stop_words = stopwords.words(\"english\")\n",
    "    res = []\n",
    "    for i in range(len(words)):\n",
    "        res.append([w for w in words[i] if w not in stop_words and len(w) > 3])\n",
    "    return res\n",
    "    "
   ]
  },
  {
   "cell_type": "code",
   "execution_count": 3,
   "metadata": {},
   "outputs": [
    {
     "data": {
      "text/plain": [
       "1050"
      ]
     },
     "execution_count": 3,
     "metadata": {},
     "output_type": "execute_result"
    }
   ],
   "source": [
    "df1 = pd.read_csv(\"21_9,10.csv\")\n",
    "df2 = pd.read_csv(\"21_7,8.csv\")\n",
    "df3 = pd.read_csv(\"21_5,6.csv\")\n",
    "df4 = pd.read_csv(\"21_3,4.csv\")\n",
    "df5 = pd.read_csv(\"21_1,2.csv\")\n",
    "df6 = pd.read_csv(\"20_11,12.csv\")\n",
    "df7 = pd.read_csv(\"20_9,10.csv\")\n",
    "df8 = pd.read_csv(\"20_7,8.csv\")\n",
    "df9 = pd.read_csv(\"20_5,6.csv\")\n",
    "df10 = pd.read_csv(\"20_3,4.csv\")\n",
    "df11 = pd.read_csv(\"20_2.csv\")\n",
    "\n",
    "df = pd.concat([df1,df2,df3,df4,df5,df6,df7,df8,df9,df10,df11], ignore_index=True)\n",
    "df=df[[\"date\", \"title\", \"text\"]]\n",
    "len(df)"
   ]
  },
  {
   "cell_type": "code",
   "execution_count": 5,
   "metadata": {},
   "outputs": [],
   "source": [
    "import pickle"
   ]
  },
  {
   "cell_type": "code",
   "execution_count": 6,
   "metadata": {},
   "outputs": [],
   "source": [
    "with open(\"cnn_news_content.pk\", \"wb\") as f:\n",
    "    pickle.dump(df, f)"
   ]
  },
  {
   "cell_type": "code",
   "execution_count": 8,
   "metadata": {},
   "outputs": [
    {
     "data": {
      "text/html": [
       "<div>\n",
       "<style scoped>\n",
       "    .dataframe tbody tr th:only-of-type {\n",
       "        vertical-align: middle;\n",
       "    }\n",
       "\n",
       "    .dataframe tbody tr th {\n",
       "        vertical-align: top;\n",
       "    }\n",
       "\n",
       "    .dataframe thead th {\n",
       "        text-align: right;\n",
       "    }\n",
       "</style>\n",
       "<table border=\"1\" class=\"dataframe\">\n",
       "  <thead>\n",
       "    <tr style=\"text-align: right;\">\n",
       "      <th></th>\n",
       "      <th>date</th>\n",
       "      <th>title</th>\n",
       "      <th>text</th>\n",
       "    </tr>\n",
       "  </thead>\n",
       "  <tbody>\n",
       "    <tr>\n",
       "      <th>0</th>\n",
       "      <td>2021-10-15</td>\n",
       "      <td>FDA vaccine advisers recommend emergency use a...</td>\n",
       "      <td>Vaccine advisers to the US Food and Drug Admin...</td>\n",
       "    </tr>\n",
       "    <tr>\n",
       "      <th>1</th>\n",
       "      <td>2021-10-8</td>\n",
       "      <td>Studies confirm waning immunity from Pfizer's ...</td>\n",
       "      <td>Two real-world studies published Wednesday con...</td>\n",
       "    </tr>\n",
       "    <tr>\n",
       "      <th>2</th>\n",
       "      <td>2021-10-8</td>\n",
       "      <td>Here's what having a Covid-19 vaccine for chil...</td>\n",
       "      <td>Pfizer said Thursday it's asked the US Food an...</td>\n",
       "    </tr>\n",
       "    <tr>\n",
       "      <th>3</th>\n",
       "      <td>2021-10-12</td>\n",
       "      <td>Texas governor bans Covid-19 vaccine mandates ...</td>\n",
       "      <td>Texas Gov. Greg Abbott on Monday issued an exe...</td>\n",
       "    </tr>\n",
       "    <tr>\n",
       "      <th>4</th>\n",
       "      <td>2021-10-4</td>\n",
       "      <td>NYC vaccine mandate takes effect with 96% of t...</td>\n",
       "      <td>New York City Mayor Bill de Blasio said 96% of...</td>\n",
       "    </tr>\n",
       "    <tr>\n",
       "      <th>...</th>\n",
       "      <td>...</td>\n",
       "      <td>...</td>\n",
       "      <td>...</td>\n",
       "    </tr>\n",
       "    <tr>\n",
       "      <th>1045</th>\n",
       "      <td>2020-2-8</td>\n",
       "      <td>New study an eye-opener on how coronavirus is ...</td>\n",
       "      <td>A study published Friday in the medical journa...</td>\n",
       "    </tr>\n",
       "    <tr>\n",
       "      <th>1046</th>\n",
       "      <td>2020-2-3</td>\n",
       "      <td>A soldier surprised his mom as she was sworn i...</td>\n",
       "      <td>Erika Benning's heart was already racing as sh...</td>\n",
       "    </tr>\n",
       "    <tr>\n",
       "      <th>1047</th>\n",
       "      <td>2020-2-19</td>\n",
       "      <td>An American evacuated from Japan on a US chart...</td>\n",
       "      <td>An American who was evacuated on a US-chartere...</td>\n",
       "    </tr>\n",
       "    <tr>\n",
       "      <th>1048</th>\n",
       "      <td>2020-2-15</td>\n",
       "      <td>US to evacuate Americans on cruise ship quaran...</td>\n",
       "      <td>The US government is preparing to evacuate Ame...</td>\n",
       "    </tr>\n",
       "    <tr>\n",
       "      <th>1049</th>\n",
       "      <td>2020-2-11</td>\n",
       "      <td>One man linked to at least 9 coronavirus cases...</td>\n",
       "      <td>A British man linked to a number of coronaviru...</td>\n",
       "    </tr>\n",
       "  </tbody>\n",
       "</table>\n",
       "<p>1050 rows × 3 columns</p>\n",
       "</div>"
      ],
      "text/plain": [
       "            date                                              title  \\\n",
       "0     2021-10-15  FDA vaccine advisers recommend emergency use a...   \n",
       "1      2021-10-8  Studies confirm waning immunity from Pfizer's ...   \n",
       "2      2021-10-8  Here's what having a Covid-19 vaccine for chil...   \n",
       "3     2021-10-12  Texas governor bans Covid-19 vaccine mandates ...   \n",
       "4      2021-10-4  NYC vaccine mandate takes effect with 96% of t...   \n",
       "...          ...                                                ...   \n",
       "1045    2020-2-8  New study an eye-opener on how coronavirus is ...   \n",
       "1046    2020-2-3  A soldier surprised his mom as she was sworn i...   \n",
       "1047   2020-2-19  An American evacuated from Japan on a US chart...   \n",
       "1048   2020-2-15  US to evacuate Americans on cruise ship quaran...   \n",
       "1049   2020-2-11  One man linked to at least 9 coronavirus cases...   \n",
       "\n",
       "                                                   text  \n",
       "0     Vaccine advisers to the US Food and Drug Admin...  \n",
       "1     Two real-world studies published Wednesday con...  \n",
       "2     Pfizer said Thursday it's asked the US Food an...  \n",
       "3     Texas Gov. Greg Abbott on Monday issued an exe...  \n",
       "4     New York City Mayor Bill de Blasio said 96% of...  \n",
       "...                                                 ...  \n",
       "1045  A study published Friday in the medical journa...  \n",
       "1046  Erika Benning's heart was already racing as sh...  \n",
       "1047  An American who was evacuated on a US-chartere...  \n",
       "1048  The US government is preparing to evacuate Ame...  \n",
       "1049  A British man linked to a number of coronaviru...  \n",
       "\n",
       "[1050 rows x 3 columns]"
      ]
     },
     "execution_count": 8,
     "metadata": {},
     "output_type": "execute_result"
    }
   ],
   "source": [
    "with open('cnn_news_content.pk', 'rb') as f:\n",
    "    df=pickle.load(f)\n",
    "\n",
    "df"
   ]
  },
  {
   "cell_type": "code",
   "execution_count": 5,
   "metadata": {},
   "outputs": [
    {
     "data": {
      "text/plain": [
       "[('Vaccine', 'NN'),\n",
       " ('advisers', 'NNS'),\n",
       " ('to', 'TO'),\n",
       " ('the', 'DT'),\n",
       " ('US', 'NNP'),\n",
       " ('Food', 'NNP'),\n",
       " ('and', 'CC'),\n",
       " ('Drug', 'NNP'),\n",
       " ('Administration', 'NNP'),\n",
       " ('voted', 'VBD')]"
      ]
     },
     "execution_count": 5,
     "metadata": {},
     "output_type": "execute_result"
    }
   ],
   "source": [
    "tagged_list = tokenize_pos_tag(df)\n",
    "tagged_list[0][:10]"
   ]
  },
  {
   "cell_type": "code",
   "execution_count": 6,
   "metadata": {},
   "outputs": [
    {
     "data": {
      "text/plain": [
       "[('vaccine', 'n'),\n",
       " ('advisers', 'n'),\n",
       " ('us', 'n'),\n",
       " ('food', 'n'),\n",
       " ('drug', 'n'),\n",
       " ('administration', 'n'),\n",
       " ('voted', 'v'),\n",
       " ('unanimously', 'r'),\n",
       " ('thursday', 'n'),\n",
       " ('recommend', 'v')]"
      ]
     },
     "execution_count": 6,
     "metadata": {},
     "output_type": "execute_result"
    }
   ],
   "source": [
    "words_anrv = ANRV(tagged_list)\n",
    "words_anrv[0][:10]"
   ]
  },
  {
   "cell_type": "code",
   "execution_count": 7,
   "metadata": {},
   "outputs": [
    {
     "data": {
      "text/plain": [
       "['vaccine',\n",
       " 'adviser',\n",
       " 'u',\n",
       " 'food',\n",
       " 'drug',\n",
       " 'administration',\n",
       " 'vote',\n",
       " 'unanimously',\n",
       " 'thursday',\n",
       " 'recommend']"
      ]
     },
     "execution_count": 7,
     "metadata": {},
     "output_type": "execute_result"
    }
   ],
   "source": [
    "words_lemma = Lemma(words_anrv)\n",
    "words_lemma[0][:10]"
   ]
  },
  {
   "cell_type": "code",
   "execution_count": 8,
   "metadata": {},
   "outputs": [
    {
     "data": {
      "text/plain": [
       "['vaccine',\n",
       " 'adviser',\n",
       " 'food',\n",
       " 'drug',\n",
       " 'administration',\n",
       " 'vote',\n",
       " 'unanimously',\n",
       " 'thursday',\n",
       " 'recommend',\n",
       " 'emergency']"
      ]
     },
     "execution_count": 8,
     "metadata": {},
     "output_type": "execute_result"
    }
   ],
   "source": [
    "clean_words = clean_stopword(words_lemma)\n",
    "clean_words[0][:10]"
   ]
  },
  {
   "cell_type": "code",
   "execution_count": 9,
   "metadata": {},
   "outputs": [],
   "source": [
    "#LDA"
   ]
  },
  {
   "cell_type": "code",
   "execution_count": 10,
   "metadata": {},
   "outputs": [
    {
     "name": "stdout",
     "output_type": "stream",
     "text": [
      "Dictionary(16733 unique tokens: ['administer', 'administration', 'advancing', 'adviser', 'advisory']...)\n"
     ]
    }
   ],
   "source": [
    "dictionary = corpora.Dictionary(clean_words)\n",
    "corpus = [dictionary.doc2bow(text) for text in clean_words]\n",
    "print(dictionary)"
   ]
  },
  {
   "cell_type": "code",
   "execution_count": 16,
   "metadata": {},
   "outputs": [
    {
     "data": {
      "text/plain": [
       "[(0, 1),\n",
       " (1, 4),\n",
       " (3, 2),\n",
       " (4, 2),\n",
       " (6, 1),\n",
       " (8, 1),\n",
       " (12, 1),\n",
       " (13, 5),\n",
       " (14, 1),\n",
       " (16, 2)]"
      ]
     },
     "execution_count": 16,
     "metadata": {},
     "output_type": "execute_result"
    }
   ],
   "source": [
    "corpus[2][:10]"
   ]
  },
  {
   "cell_type": "code",
   "execution_count": 17,
   "metadata": {},
   "outputs": [],
   "source": [
    "tfidf = models.TfidfModel(corpus)\n",
    "corpus_tfidf = tfidf[corpus]"
   ]
  },
  {
   "cell_type": "code",
   "execution_count": 20,
   "metadata": {},
   "outputs": [
    {
     "data": {
      "text/plain": [
       "[(0, 0.012605276328268081),\n",
       " (1, 0.03340969791709795),\n",
       " (3, 0.03766389133909657),\n",
       " (4, 0.03809195490228862),\n",
       " (6, 0.011899727205065257)]"
      ]
     },
     "execution_count": 20,
     "metadata": {},
     "output_type": "execute_result"
    }
   ],
   "source": [
    "corpus_tfidf[2][:5]"
   ]
  },
  {
   "cell_type": "code",
   "execution_count": 33,
   "metadata": {},
   "outputs": [
    {
     "data": {
      "text/plain": [
       "'administer'"
      ]
     },
     "execution_count": 33,
     "metadata": {},
     "output_type": "execute_result"
    }
   ],
   "source": [
    "dictionary[0]"
   ]
  },
  {
   "cell_type": "code",
   "execution_count": 21,
   "metadata": {},
   "outputs": [],
   "source": [
    "model = models.ldamodel.LdaModel(corpus_tfidf, num_topics=3, id2word=dictionary)"
   ]
  },
  {
   "cell_type": "code",
   "execution_count": 22,
   "metadata": {},
   "outputs": [
    {
     "data": {
      "text/plain": [
       "[('vaccine', 0.0017570015),\n",
       " ('child', 0.0011231644),\n",
       " ('trial', 0.0010340727),\n",
       " ('test', 0.0009340742),\n",
       " ('patient', 0.00087849103),\n",
       " ('johnson', 0.0008600754),\n",
       " ('pfizer', 0.0008548169),\n",
       " ('case', 0.00082761823),\n",
       " ('fauci', 0.00081298366),\n",
       " ('vaccinate', 0.0008020318)]"
      ]
     },
     "execution_count": 22,
     "metadata": {},
     "output_type": "execute_result"
    }
   ],
   "source": [
    "model.show_topic(0, 10)"
   ]
  },
  {
   "cell_type": "code",
   "execution_count": 31,
   "metadata": {},
   "outputs": [
    {
     "name": "stdout",
     "output_type": "stream",
     "text": [
      "Building document-term matrix.\n",
      "\n",
      "Printing topic words.\n",
      "\n",
      "Topic ID: 0\n",
      "\tvaccine\t0.0012849392369389534\n",
      "\tvariant\t0.00085486751049757\n",
      "\tcounty\t0.0007782333996146917\n",
      "\tvaccinate\t0.0007690583006478846\n",
      "\tcase\t0.0007555091287940741\n",
      "\tchild\t0.000707088562194258\n",
      "\ttrial\t0.0006583714275620878\n",
      "\ttrump\t0.0006556896842084825\n",
      "\tjohnson\t0.0006492329994216561\n",
      "\tstudy\t0.0006478257710114121\n",
      "\ttest\t0.0006471372325904667\n",
      "\tvaccination\t0.0006405414897017181\n",
      "\tcountry\t0.0006243169191293418\n",
      "\tmandate\t0.0006168331601656973\n",
      "\tstudent\t0.0005933884531259537\n",
      "\tschool\t0.0005865216953679919\n",
      "\tmask\t0.0005857038195244968\n",
      "\tworker\t0.000570275413338095\n",
      "\tpatient\t0.0005646080826409161\n",
      "\tpfizer\t0.0005589401116594672\n",
      "\tmoderna\t0.0005523429135791957\n",
      "\tdose\t0.0005511166527867317\n",
      "\tstate\t0.0005450519965961576\n",
      "\tofficial\t0.0005353802116587758\n",
      "\tdeath\t0.0005297913448885083\n",
      "\tfauci\t0.0005281884805299342\n",
      "\tyork\t0.0005196359124965966\n",
      "\tinfection\t0.000513516366481781\n",
      "\tchina\t0.000510829093400389\n",
      "\treport\t0.0005034664063714445\n",
      "\n",
      "\n",
      "Topic ID: 1\n",
      "\tvaccine\t0.0014752654824405909\n",
      "\ttrial\t0.0009505774360150099\n",
      "\tpatient\t0.0008240033057518303\n",
      "\tvariant\t0.0007702019065618515\n",
      "\tvaccinate\t0.0007655323715880513\n",
      "\tvaccination\t0.0007596791256219149\n",
      "\tchild\t0.0007522738305851817\n",
      "\tfauci\t0.0007182640256360173\n",
      "\ttest\t0.0007088637794367969\n",
      "\tmask\t0.0007078861235640943\n",
      "\tschool\t0.0007065453100949526\n",
      "\ttrump\t0.0006758430390618742\n",
      "\tcase\t0.0006383464788086712\n",
      "\tjohnson\t0.0006310855969786644\n",
      "\tstate\t0.0005938921822234988\n",
      "\tdata\t0.0005686554941348732\n",
      "\tdeath\t0.0005669777165167034\n",
      "\tstudy\t0.0005631140666082501\n",
      "\thospital\t0.000561196357011795\n",
      "\tpfizer\t0.0005609418149106205\n",
      "\tpresident\t0.0005525830201804638\n",
      "\tbiden\t0.0005482773412950337\n",
      "\tcare\t0.0005438582738861442\n",
      "\tcompany\t0.0005416705971583724\n",
      "\tvirus\t0.0005385860567912459\n",
      "\tphase\t0.0005374004831537604\n",
      "\tamerican\t0.0005184441688470542\n",
      "\tdose\t0.0005173816462047398\n",
      "\tshot\t0.0005168628413230181\n",
      "\treport\t0.0005139576969668269\n",
      "\n",
      "\n"
     ]
    }
   ],
   "source": [
    "# 토픽 개수, 키워드 개수를 정해주는 변수를 추가.\n",
    "NUM_TOPICS = 2\n",
    "\n",
    "NUM_TOPIC_WORDS = 30\n",
    "\n",
    "def build_doc_term_mat(documents):\n",
    "    # 문서-단어 행렬 만들어주는 함수.\n",
    "    print(\"Building document-term matrix.\")\n",
    "    dictionary = corpora.Dictionary(documents)\n",
    "    corpus = [dictionary.doc2bow(document) for document in documents]\n",
    "\n",
    "    return corpus, dictionary\n",
    "\n",
    "\n",
    "def print_topic_words(model): # model = LDA된 결과 \n",
    "\n",
    "    # 토픽 모델링 결과를 출력해 주는 함수.\n",
    "    print(\"\\nPrinting topic words.\\n\")\n",
    "\n",
    "    for topic_id in range(model.num_topics): \n",
    "        topic_word_probs = model.show_topic(topic_id, NUM_TOPIC_WORDS)\n",
    "        print('Topic ID: {}'.format(topic_id))\n",
    "\n",
    "        for topic_word, prob in topic_word_probs:\n",
    "            print('\\t{}\\t{}'.format(topic_word, prob))\n",
    "\n",
    "        print('\\n')\n",
    "\n",
    "# document-term matrix를 만들고,\n",
    "corpus, dictionary = build_doc_term_mat(clean_words)\n",
    "# LDA를 실행.\n",
    "model = models.ldamodel.LdaModel(corpus_tfidf, num_topics=NUM_TOPICS, id2word=dictionary, alpha='auto', eta='auto')\n",
    "# 결과를 출력.\n",
    "print_topic_words(model)"
   ]
  },
  {
   "cell_type": "code",
   "execution_count": 32,
   "metadata": {},
   "outputs": [
    {
     "data": {
      "text/html": [
       "\n",
       "<link rel=\"stylesheet\" type=\"text/css\" href=\"https://cdn.jsdelivr.net/gh/bmabey/pyLDAvis@3.2.2/pyLDAvis/js/ldavis.v1.0.0.css\">\n",
       "\n",
       "\n",
       "<div id=\"ldavis_el3278021209224133603498400819\"></div>\n",
       "<script type=\"text/javascript\">\n",
       "\n",
       "var ldavis_el3278021209224133603498400819_data = {\"mdsDat\": {\"x\": [0.001508183638416503, -0.001508183638416503], \"y\": [0.0, 0.0], \"topics\": [1, 2], \"cluster\": [1, 1], \"Freq\": [74.58804752515398, 25.41195247484601]}, \"tinfo\": {\"Term\": [\"county\", \"vaccine\", \"variant\", \"case\", \"country\", \"mandate\", \"worker\", \"infect\", \"student\", \"governor\", \"vaccinate\", \"moderna\", \"study\", \"official\", \"york\", \"johnson\", \"china\", \"child\", \"group\", \"result\", \"trump\", \"india\", \"emergency\", \"dose\", \"travel\", \"infection\", \"test\", \"rate\", \"first\", \"young\", \"dsmb\", \"sebelius\", \"caution\", \"frase\", \"back\", \"smithsonian\", \"influenza\", \"sailor\", \"pregnant\", \"austin\", \"malaria\", \"carey\", \"goldman\", \"mckellen\", \"shimabukuro\", \"novant\", \"indoor\", \"springfield\", \"placebo\", \"unmc\", \"lottery\", \"tribe\", \"hundred\", \"anika\", \"pause\", \"rare\", \"baker\", \"kdca\", \"antoine\", \"crozier\", \"president\", \"administer\", \"team\", \"authorize\", \"develop\", \"post\", \"trial\", \"patient\", \"soon\", \"letter\", \"risk\", \"thousand\", \"fauci\", \"house\", \"vaccine\", \"shot\", \"care\", \"member\", \"resident\", \"tuesday\", \"increase\", \"phase\", \"vaccination\", \"mask\", \"school\", \"data\", \"public\", \"virus\", \"drug\", \"biden\", \"test\", \"child\", \"vaccinate\", \"trump\", \"state\", \"variant\", \"hospital\", \"johnson\", \"death\", \"company\", \"case\", \"pfizer\", \"study\", \"american\", \"report\", \"dose\", \"taiwan\", \"infect\", \"burkard\", \"contract\", \"centner\", \"island\", \"ivermectin\", \"bancel\", \"governor\", \"india\", \"valentine\", \"abbott\", \"store\", \"christie\", \"detect\", \"cloth\", \"burke\", \"dowd\", \"cobb\", \"sinopharm\", \"zone\", \"cathedral\", \"israel\", \"race\", \"paradiso\", \"birx\", \"kroger\", \"lilly\", \"firefighter\", \"canada\", \"worker\", \"result\", \"eligible\", \"county\", \"deadline\", \"vaccinated\", \"sinovac\", \"mandate\", \"country\", \"survey\", \"send\", \"guidance\", \"moderna\", \"stay\", \"student\", \"first\", \"york\", \"travel\", \"official\", \"emergency\", \"hopkins\", \"case\", \"china\", \"group\", \"variant\", \"study\", \"vaccine\", \"vaccinate\", \"johnson\", \"child\", \"trump\", \"dose\", \"infection\", \"test\", \"rate\", \"pfizer\", \"vaccination\", \"school\", \"trial\", \"mask\", \"state\", \"death\", \"patient\", \"fauci\", \"report\"], \"Freq\": [245.0, 619.0, 343.0, 290.0, 205.0, 202.0, 173.0, 118.0, 205.0, 129.0, 332.0, 186.0, 253.0, 187.0, 178.0, 275.0, 182.0, 321.0, 172.0, 126.0, 291.0, 103.0, 150.0, 228.0, 140.0, 204.0, 300.0, 198.0, 133.0, 178.0, 39.70743974227385, 34.07251134925773, 62.76012972592674, 27.220030232257105, 140.83201471590164, 26.3127483490208, 69.88339695101847, 35.991257326205414, 108.68752213044948, 48.614333173620224, 43.425685918831995, 28.331966008165814, 48.79123231477513, 23.14560161172751, 26.168669124968883, 25.14822673077086, 85.24664256810681, 35.51029982879018, 67.67574806442043, 26.56064226455647, 41.444334495247695, 47.08407832940648, 64.79782934973136, 26.33527537847588, 88.49542563929232, 82.51608012180891, 47.573726708610025, 23.968966658612633, 26.369004669493286, 24.975667140782683, 178.92151335205855, 156.96745542800682, 139.50801341432893, 111.79711916312775, 134.573335917888, 100.03536176612467, 307.7885986337048, 266.80501044724076, 101.42496049586589, 90.1993661893779, 159.12484844843294, 79.52423051981093, 232.56756317117376, 158.94744043482854, 477.6779652551063, 167.35563415386466, 176.09651737211942, 137.18209880103717, 144.73276705412326, 162.30763830176699, 145.3204487683702, 174.00554162991938, 245.9774076551458, 229.20728991572426, 228.7731463277738, 184.12563881051963, 144.19144927416582, 174.38941992813406, 158.54002207404164, 177.5273724645272, 229.5238462735804, 243.57963836726927, 247.87263712843102, 218.832021472382, 192.29705606350748, 249.38459141158984, 181.71043592946515, 204.33995606530578, 183.5823891999668, 175.38816692238942, 206.6909656292099, 181.62801743977087, 182.3313734006445, 167.86765407371925, 166.41497400736546, 167.52361860358909, 23.9518152297387, 50.84891384731521, 9.761650019092144, 31.26097031489969, 12.579702797223119, 23.505690199608654, 9.562217398861453, 16.682370247058472, 51.37842575836709, 40.990784990282116, 10.089141579582286, 25.20798332865695, 31.197908033060568, 9.338932550886474, 22.951349240771275, 11.36498252912518, 8.903112691265191, 8.472423344136473, 7.599785936059701, 20.441111159276378, 15.55824221198589, 7.940994714712844, 16.748402318669573, 22.461874911720965, 7.520274229467359, 22.583034307958815, 13.557059808535135, 11.003352031237327, 10.590352999398982, 33.24246542009989, 62.90982406927152, 45.59244695200168, 37.87143981597104, 85.8506698860006, 16.122892354561454, 40.16108993966226, 21.950443401859243, 68.04583308085009, 68.87140253162455, 30.459887984764016, 29.893277780938945, 40.90895042650056, 60.93160375927934, 37.62165320618763, 65.45953467006542, 44.38877349920961, 57.32353713775744, 46.15165997135687, 59.060366513916186, 48.55875003025802, 37.63050478499989, 83.3438462600976, 56.35201455937854, 53.78672299667824, 94.30454729433401, 71.46477706852538, 141.7478282333195, 84.83852058354104, 71.62001520371962, 78.00234063863232, 72.33228316146369, 60.79632903251987, 56.64846057970913, 71.38882108320055, 55.29971369920183, 61.659372414341384, 70.66121295731539, 64.70202959028116, 72.6281191709222, 64.6118057717167, 60.12730763502286, 58.443831736086516, 62.284633558225366, 58.26701205835473, 55.53980113611913], \"Total\": [245.0, 619.0, 343.0, 290.0, 205.0, 202.0, 173.0, 118.0, 205.0, 129.0, 332.0, 186.0, 253.0, 187.0, 178.0, 275.0, 182.0, 321.0, 172.0, 126.0, 291.0, 103.0, 150.0, 228.0, 140.0, 204.0, 300.0, 198.0, 133.0, 178.0, 45.378114454127505, 39.340181977147516, 72.87030464090759, 31.723484456800897, 164.70370020171706, 30.77941410210275, 81.77443921124707, 42.207549038779796, 127.56586409474862, 57.18927526597714, 51.08895392052832, 33.40905599596012, 57.643465283433386, 27.35761310906061, 30.973218294805243, 29.834047718752966, 101.17083351283819, 42.161213452003494, 80.50912950132002, 31.65647563904137, 49.46078033102411, 56.20265328185808, 77.39556920526688, 31.45879281215681, 105.71408694454162, 98.5718584381072, 56.86091508727215, 28.69488342042292, 31.569415177568963, 29.930872541782648, 215.8948470033975, 189.43970506809836, 168.21193052388497, 134.54927256420422, 162.36406354135386, 120.76800033175253, 380.416717804627, 329.08964400546614, 122.80884185265312, 108.97679790780876, 196.06616937132173, 96.19876854833022, 290.83457522952847, 196.80422072636838, 619.4257934884258, 208.65161400461645, 220.87460302047526, 169.90641135464006, 179.86841084748002, 202.95073956904716, 180.8066433358277, 218.92034355704294, 316.6386206124612, 293.81909568744095, 293.47517591805496, 233.28754832759103, 179.9074124630518, 221.58506855888965, 199.73350404536598, 226.55757421314902, 300.91266735678096, 321.5819790059016, 332.7111577119721, 291.1643046338457, 252.42436369853033, 343.6891387059238, 236.53642160657523, 275.9599712690254, 242.0262209360533, 229.11183726897914, 290.0348118893075, 243.28738985411226, 253.7961504691699, 218.3565298725811, 221.9547751434846, 228.31994763610896, 52.104040892239794, 118.67436464753294, 23.45959169800281, 76.17054714365595, 31.228120577419503, 58.97231180981514, 24.054924786226998, 42.07600778428262, 129.68888711509132, 103.81448136636124, 25.66372357407942, 64.42730602085776, 80.55824350589324, 24.306760715789093, 59.902205720983645, 29.945905210976726, 23.639215420359207, 22.537855743674555, 20.235277328886383, 54.620874444943084, 41.825510085830956, 21.380182998661653, 45.10943530962317, 60.51702701342636, 20.325655987813214, 61.18305687320441, 36.808846138062215, 29.91767215754402, 28.847079168978688, 90.57555999576665, 173.99293864434128, 126.17406730409306, 105.3121217911874, 245.91468955783972, 44.07118031524503, 114.03542744701568, 61.03638025912093, 202.7728955963121, 205.67423115718435, 86.50716553969973, 85.44556850773311, 120.31031652044436, 186.5198824952185, 110.18741107425791, 205.57726209099263, 133.22081826385855, 178.8642067159694, 140.9325650243375, 187.7558958151275, 150.56302411564542, 111.70544169666636, 290.0348118893075, 182.19326886767564, 172.68402636517374, 343.6891387059238, 253.7961504691699, 619.4257934884258, 332.7111577119721, 275.9599712690254, 321.5819790059016, 291.1643046338457, 228.31994763610896, 204.987634954263, 300.91266735678096, 198.40531397816972, 243.28738985411226, 316.6386206124612, 293.47517591805496, 380.416717804627, 293.81909568744095, 252.42436369853033, 242.0262209360533, 329.08964400546614, 290.83457522952847, 221.9547751434846], \"Category\": [\"Default\", \"Default\", \"Default\", \"Default\", \"Default\", \"Default\", \"Default\", \"Default\", \"Default\", \"Default\", \"Default\", \"Default\", \"Default\", \"Default\", \"Default\", \"Default\", \"Default\", \"Default\", \"Default\", \"Default\", \"Default\", \"Default\", \"Default\", \"Default\", \"Default\", \"Default\", \"Default\", \"Default\", \"Default\", \"Default\", \"Topic1\", \"Topic1\", \"Topic1\", \"Topic1\", \"Topic1\", \"Topic1\", \"Topic1\", \"Topic1\", \"Topic1\", \"Topic1\", \"Topic1\", \"Topic1\", \"Topic1\", \"Topic1\", \"Topic1\", \"Topic1\", \"Topic1\", \"Topic1\", \"Topic1\", \"Topic1\", \"Topic1\", \"Topic1\", \"Topic1\", \"Topic1\", \"Topic1\", \"Topic1\", \"Topic1\", \"Topic1\", \"Topic1\", \"Topic1\", \"Topic1\", \"Topic1\", \"Topic1\", \"Topic1\", \"Topic1\", \"Topic1\", \"Topic1\", \"Topic1\", \"Topic1\", \"Topic1\", \"Topic1\", \"Topic1\", \"Topic1\", \"Topic1\", \"Topic1\", \"Topic1\", \"Topic1\", \"Topic1\", \"Topic1\", \"Topic1\", \"Topic1\", \"Topic1\", \"Topic1\", \"Topic1\", \"Topic1\", \"Topic1\", \"Topic1\", \"Topic1\", \"Topic1\", \"Topic1\", \"Topic1\", \"Topic1\", \"Topic1\", \"Topic1\", \"Topic1\", \"Topic1\", \"Topic1\", \"Topic1\", \"Topic1\", \"Topic1\", \"Topic1\", \"Topic1\", \"Topic1\", \"Topic1\", \"Topic1\", \"Topic1\", \"Topic2\", \"Topic2\", \"Topic2\", \"Topic2\", \"Topic2\", \"Topic2\", \"Topic2\", \"Topic2\", \"Topic2\", \"Topic2\", \"Topic2\", \"Topic2\", \"Topic2\", \"Topic2\", \"Topic2\", \"Topic2\", \"Topic2\", \"Topic2\", \"Topic2\", \"Topic2\", \"Topic2\", \"Topic2\", \"Topic2\", \"Topic2\", \"Topic2\", \"Topic2\", \"Topic2\", \"Topic2\", \"Topic2\", \"Topic2\", \"Topic2\", \"Topic2\", \"Topic2\", \"Topic2\", \"Topic2\", \"Topic2\", \"Topic2\", \"Topic2\", \"Topic2\", \"Topic2\", \"Topic2\", \"Topic2\", \"Topic2\", \"Topic2\", \"Topic2\", \"Topic2\", \"Topic2\", \"Topic2\", \"Topic2\", \"Topic2\", \"Topic2\", \"Topic2\", \"Topic2\", \"Topic2\", \"Topic2\", \"Topic2\", \"Topic2\", \"Topic2\", \"Topic2\", \"Topic2\", \"Topic2\", \"Topic2\", \"Topic2\", \"Topic2\", \"Topic2\", \"Topic2\", \"Topic2\", \"Topic2\", \"Topic2\", \"Topic2\", \"Topic2\", \"Topic2\", \"Topic2\", \"Topic2\", \"Topic2\"], \"logprob\": [30.0, 29.0, 28.0, 27.0, 26.0, 25.0, 24.0, 23.0, 22.0, 21.0, 20.0, 19.0, 18.0, 17.0, 16.0, 15.0, 14.0, 13.0, 12.0, 11.0, 10.0, 9.0, 8.0, 7.0, 6.0, 5.0, 4.0, 3.0, 2.0, 1.0, -9.0063, -9.1594, -8.5485, -9.3839, -7.7403, -9.4178, -8.441, -9.1046, -7.9994, -8.8039, -8.9168, -9.3439, -8.8003, -9.546, -9.4233, -9.4631, -8.2423, -9.118, -8.4731, -9.4084, -8.9635, -8.8359, -8.5166, -9.4169, -8.2049, -8.2749, -8.8256, -9.5111, -9.4157, -9.47, -7.5009, -7.6318, -7.7497, -7.9712, -7.7857, -8.0823, -6.9584, -7.1013, -8.0685, -8.1858, -7.6182, -8.3118, -7.2387, -7.6193, -6.5189, -7.5677, -7.5168, -7.7665, -7.713, -7.5984, -7.7089, -7.5288, -7.1826, -7.2532, -7.2551, -7.4722, -7.7167, -7.5266, -7.6218, -7.5087, -7.2518, -7.1924, -7.1749, -7.2995, -7.4288, -7.1689, -7.4854, -7.3681, -7.4752, -7.5209, -7.3566, -7.4859, -7.482, -7.5647, -7.5734, -7.5667, -8.435, -7.6822, -9.3326, -8.1687, -9.079, -8.4539, -9.3533, -8.7967, -7.6719, -7.8977, -9.2996, -8.3839, -8.1707, -9.3769, -8.4777, -9.1806, -9.4247, -9.4743, -9.583, -8.5935, -8.8665, -9.5391, -8.7928, -8.4993, -9.5935, -8.4939, -9.0042, -9.2129, -9.2511, -8.1073, -7.4694, -7.7914, -7.9769, -7.1585, -8.8309, -7.9182, -8.5223, -7.3909, -7.3789, -8.1947, -8.2135, -7.8997, -7.5013, -7.9835, -7.4297, -7.8181, -7.5624, -7.7792, -7.5325, -7.7283, -7.9833, -7.1881, -7.5795, -7.6261, -7.0646, -7.3419, -6.657, -7.1703, -7.3397, -7.2544, -7.3298, -7.5036, -7.5742, -7.343, -7.5983, -7.4895, -7.3532, -7.4413, -7.3257, -7.4427, -7.5146, -7.543, -7.4794, -7.5461, -7.594], \"loglift\": [30.0, 29.0, 28.0, 27.0, 26.0, 25.0, 24.0, 23.0, 22.0, 21.0, 20.0, 19.0, 18.0, 17.0, 16.0, 15.0, 14.0, 13.0, 12.0, 11.0, 10.0, 9.0, 8.0, 7.0, 6.0, 5.0, 4.0, 3.0, 2.0, 1.0, 0.1597, 0.1494, 0.1438, 0.1401, 0.1366, 0.1364, 0.1361, 0.1339, 0.133, 0.1307, 0.1307, 0.1284, 0.1265, 0.126, 0.1246, 0.1223, 0.1219, 0.1215, 0.1195, 0.1177, 0.1164, 0.1162, 0.1155, 0.1154, 0.1154, 0.1154, 0.1149, 0.1132, 0.1132, 0.1122, 0.1053, 0.1052, 0.1061, 0.1079, 0.1055, 0.1048, 0.0813, 0.0834, 0.1019, 0.1041, 0.0844, 0.1028, 0.0696, 0.0796, 0.0333, 0.0726, 0.0666, 0.0793, 0.0759, 0.0697, 0.0747, 0.0636, 0.0407, 0.0449, 0.0441, 0.0565, 0.0719, 0.0537, 0.0622, 0.0493, 0.0224, 0.0154, -0.0012, 0.0076, 0.0211, -0.0276, 0.0295, -0.0073, 0.0168, 0.026, -0.0456, 0.0009, -0.0375, 0.0302, 0.0052, -0.0164, 0.5928, 0.5224, 0.4931, 0.4793, 0.4607, 0.4501, 0.4474, 0.4448, 0.444, 0.4407, 0.4363, 0.4316, 0.4213, 0.4134, 0.4106, 0.4011, 0.3934, 0.3916, 0.3906, 0.3871, 0.381, 0.3795, 0.3792, 0.3788, 0.3757, 0.3733, 0.3711, 0.3697, 0.3679, 0.3676, 0.3526, 0.352, 0.3472, 0.3176, 0.3644, 0.3263, 0.3473, 0.278, 0.2759, 0.3261, 0.3197, 0.2912, 0.2512, 0.2953, 0.2256, 0.2709, 0.232, 0.2536, 0.2134, 0.2383, 0.2819, 0.1229, 0.1965, 0.2035, 0.0767, 0.1026, -0.1048, 0.0034, 0.0211, -0.0466, -0.0227, 0.0467, 0.0839, -0.0687, 0.0924, -0.0027, -0.1299, -0.142, -0.286, -0.1446, -0.0647, -0.051, -0.2947, -0.2378, -0.0154]}, \"token.table\": {\"Topic\": [1, 2, 1, 2, 1, 2, 1, 2, 1, 2, 1, 2, 1, 2, 1, 2, 1, 2, 1, 2, 1, 2, 1, 2, 1, 2, 1, 2, 1, 2, 1, 2, 1, 2, 1, 2, 1, 2, 1, 2, 1, 2, 1, 2, 1, 2, 1, 2, 1, 2, 1, 2, 1, 2, 1, 2, 1, 2, 1, 2, 1, 2, 1, 2, 1, 2, 1, 2, 1, 2, 1, 2, 1, 2, 1, 2, 1, 2, 1, 2, 1, 2, 1, 2, 1, 2, 1, 2, 1, 2, 1, 2, 1, 2, 1, 2, 1, 2, 1, 2, 1, 2, 1, 2, 1, 2, 1, 2, 1, 2, 1, 2, 1, 2, 1, 2, 1, 2, 1, 2, 1, 2, 1, 2, 1, 2, 1, 2, 1, 2, 1, 2, 1, 2, 1, 2, 1, 2, 1, 2, 1, 2, 1, 2, 1, 2, 1, 2, 1, 2, 1, 2, 1, 2, 1, 2, 1, 2, 1, 2, 1, 2, 1, 2, 1, 2, 1, 2, 1, 2, 1, 2, 1, 2, 1, 2, 1, 2, 1, 2, 1, 2, 1, 2, 1, 2, 1, 2, 1, 2, 1, 2, 1, 2, 1, 2, 1, 2, 1, 2, 1, 2, 1, 2, 1, 2, 1, 2, 1, 2, 1, 2, 1, 2, 1, 2, 1, 2, 1, 2, 1, 2, 1, 2, 1, 2, 1, 2, 1, 2, 1, 2, 1, 2, 1, 2, 1, 2, 1, 2, 1, 2, 1, 2, 1, 2, 1, 2, 1, 2, 1, 2, 1, 2, 1, 2, 1, 2, 1, 2, 1, 2, 1, 2], \"Freq\": [0.6053333967956708, 0.3880342287151736, 0.8287597362103305, 0.16891918190274252, 0.7693839066687589, 0.22898330555617824, 0.8264779947294311, 0.15893807590950598, 0.8235819337722099, 0.15838114111004037, 0.8568040034099003, 0.15737216389161435, 0.8324088110291035, 0.17094109512204803, 0.8560827706196855, 0.14571621627569115, 0.8441650987559363, 0.15828095601673806, 0.5941628333222878, 0.4040307266591557, 0.7856722540317047, 0.21628056431209847, 0.6374313738658643, 0.37592106663884306, 0.5967708296130262, 0.42626487829501875, 0.6345388259832555, 0.38072329558995327, 0.6293088334498189, 0.3643366930498952, 0.7968322187937771, 0.20373551048704527, 0.8380961139215011, 0.1496600203431252, 0.71370742929646, 0.28617254411403953, 0.6080396973596423, 0.3741782752982414, 0.864549699777615, 0.1372301110758119, 0.608425984295019, 0.41629146293869723, 0.758748984486852, 0.2425509048769445, 0.6915732989648042, 0.3073659106510241, 0.6171122584119717, 0.370267355047183, 0.6344773973650165, 0.36732901952711483, 0.6424423934848752, 0.3953491652214617, 0.7638191116007184, 0.23569275443679308, 0.5907795294568516, 0.40698145362583116, 0.6661019186953917, 0.335481988248044, 0.6506321370540479, 0.34971477366655074, 0.8352579753597463, 0.16705159507194928, 0.7887261935712933, 0.21004121459235528, 0.6353358317093741, 0.36304904669107096, 0.7602482048778316, 0.23964345588540345, 0.6176734154388401, 0.3839591501376574, 0.8314647777068952, 0.17245195389476345, 0.7358095590830921, 0.26716894704802746, 0.6211771057204154, 0.3549583461259516, 0.7960607348273724, 0.2052735228171212, 0.8814821964547642, 0.13222232946821463, 0.6362040652152791, 0.36083215639075533, 0.6774571685120723, 0.32544511036364254, 0.8011427108214866, 0.19942608252208677, 0.6239799840587216, 0.3813211013692187, 0.6680637542979632, 0.33027870999000425, 0.8511044881203687, 0.15761194224451272, 0.8500529896852419, 0.156132181778922, 0.6014393502411626, 0.39324880592691397, 0.6891199059046232, 0.31270987326764416, 0.6566352935043231, 0.3407854054895854, 0.6624565363695115, 0.3401803835411005, 0.7694375300169027, 0.2325223304996135, 0.8079095022106746, 0.1930852898365134, 0.8398413587166519, 0.16796827174333037, 0.8019616830708983, 0.19357695798263064, 0.6068517529618344, 0.3949352678005588, 0.84016308899159, 0.15814834616312282, 0.5729965372215171, 0.42974740291613783, 0.7219947682845449, 0.2780655526501288, 0.8560132074910317, 0.14674512128417685, 0.5934988628710114, 0.4069706488258364, 0.6207127136000032, 0.37686129040000194, 0.5820014040541048, 0.4157152886100749, 0.7392376476265331, 0.26090740504465876, 0.8363860430573681, 0.17424709230361834, 0.6248497959901229, 0.3803433540809444, 0.8258638694462046, 0.17434903910530986, 0.6350761483028342, 0.36767566480690406, 0.8289396108512846, 0.1617443143124458, 0.8416692200605412, 0.15658962233684487, 0.6657694540633432, 0.3353505398244988, 0.7793911401987492, 0.2212245594450598, 0.8407166191111386, 0.14621158593237193, 0.8063262528336521, 0.19422457185044176, 0.6755311997541605, 0.32704288242066504, 0.8379687609162602, 0.167593752183252, 0.6870623126904037, 0.31423780192816914, 0.6395857534829131, 0.39359123291256193, 0.8113290857477277, 0.1883985142934798, 0.8324339976200659, 0.16081111317660365, 0.7480864507985253, 0.25484263708521193, 0.7948096425066212, 0.20555421788964343, 0.8446247080448818, 0.16147237065563916, 0.8280339139945818, 0.17388712193886216, 0.854460562576843, 0.1489426668711928, 0.8291073292600777, 0.17137972727722278, 0.8004117119386271, 0.2001029279846568, 0.6279224521648972, 0.3635340512533615, 0.8420253134632265, 0.1623181327158027, 0.7207468244309934, 0.2772103170888436, 0.7479001066441929, 0.25230365043418557, 0.8061448884593371, 0.19458669721432276, 0.6419702695703808, 0.3645757086449077, 0.8109507137811031, 0.18871180132013088, 0.8529279908417242, 0.14215466514028738, 0.7803044986126598, 0.2214838096498816, 0.8642562970285802, 0.12709651426890886, 0.6553879970373397, 0.35110071269857485, 0.8394348870217552, 0.16142978596572216, 0.8003772259164269, 0.19649979797948205, 0.6224726415588865, 0.3661603773875803, 0.638963186126557, 0.36044077166113475, 0.8447204327461115, 0.12995698965324792, 0.8224163543629903, 0.17099745981804748, 0.8538653670626096, 0.16602937692884076, 0.7606238842669919, 0.23769496383343497, 0.6625076248574673, 0.34486698280251726, 0.6082555660044325, 0.38481474583953895, 0.6810091669478173, 0.31618282751148663, 0.7171109556372433, 0.2797520761002432, 0.6473452187530127, 0.3467920814748282, 0.5373863431803468, 0.46061686558315446, 0.8322834151179362, 0.17240156456014394, 0.7643413686114369, 0.23594885726700876, 0.8316114770201869, 0.17671743886678973, 0.6740812528573119, 0.3263972382256458, 0.8096384453802619, 0.191894826340127, 0.8362594513873485, 0.1601347885635348, 0.7521526386120851, 0.24728305926972663, 0.7982232552785793, 0.20201946584210959, 0.8529060628183568, 0.15794556718858457, 0.7453912928724005, 0.2554768544119114, 0.6489211436891631, 0.350768185777926, 0.7769109135334541, 0.224230385613314, 0.7716824275399368, 0.22924457052441635, 0.623448111643477, 0.3896550697771732, 0.7244919084075444, 0.27350296943899266, 0.7852514663178075, 0.21210815469503996, 0.6379569243720571, 0.36208365977873513, 0.6820816877785507, 0.3186775098637491, 0.7103118933910368, 0.2852433587633298, 0.6216301952240364, 0.38254165859940703], \"Term\": [\"abbott\", \"abbott\", \"administer\", \"administer\", \"american\", \"american\", \"anika\", \"anika\", \"antoine\", \"antoine\", \"austin\", \"austin\", \"authorize\", \"authorize\", \"back\", \"back\", \"baker\", \"baker\", \"bancel\", \"bancel\", \"biden\", \"biden\", \"birx\", \"birx\", \"burkard\", \"burkard\", \"burke\", \"burke\", \"canada\", \"canada\", \"care\", \"care\", \"carey\", \"carey\", \"case\", \"case\", \"cathedral\", \"cathedral\", \"caution\", \"caution\", \"centner\", \"centner\", \"child\", \"child\", \"china\", \"china\", \"christie\", \"christie\", \"cloth\", \"cloth\", \"cobb\", \"cobb\", \"company\", \"company\", \"contract\", \"contract\", \"country\", \"country\", \"county\", \"county\", \"crozier\", \"crozier\", \"data\", \"data\", \"deadline\", \"deadline\", \"death\", \"death\", \"detect\", \"detect\", \"develop\", \"develop\", \"dose\", \"dose\", \"dowd\", \"dowd\", \"drug\", \"drug\", \"dsmb\", \"dsmb\", \"eligible\", \"eligible\", \"emergency\", \"emergency\", \"fauci\", \"fauci\", \"firefighter\", \"firefighter\", \"first\", \"first\", \"frase\", \"frase\", \"goldman\", \"goldman\", \"governor\", \"governor\", \"group\", \"group\", \"guidance\", \"guidance\", \"hopkins\", \"hopkins\", \"hospital\", \"hospital\", \"house\", \"house\", \"hundred\", \"hundred\", \"increase\", \"increase\", \"india\", \"india\", \"indoor\", \"indoor\", \"infect\", \"infect\", \"infection\", \"infection\", \"influenza\", \"influenza\", \"island\", \"island\", \"israel\", \"israel\", \"ivermectin\", \"ivermectin\", \"johnson\", \"johnson\", \"kdca\", \"kdca\", \"kroger\", \"kroger\", \"letter\", \"letter\", \"lilly\", \"lilly\", \"lottery\", \"lottery\", \"malaria\", \"malaria\", \"mandate\", \"mandate\", \"mask\", \"mask\", \"mckellen\", \"mckellen\", \"member\", \"member\", \"moderna\", \"moderna\", \"novant\", \"novant\", \"official\", \"official\", \"paradiso\", \"paradiso\", \"patient\", \"patient\", \"pause\", \"pause\", \"pfizer\", \"pfizer\", \"phase\", \"phase\", \"placebo\", \"placebo\", \"post\", \"post\", \"pregnant\", \"pregnant\", \"president\", \"president\", \"public\", \"public\", \"race\", \"race\", \"rare\", \"rare\", \"rate\", \"rate\", \"report\", \"report\", \"resident\", \"resident\", \"result\", \"result\", \"risk\", \"risk\", \"sailor\", \"sailor\", \"school\", \"school\", \"sebelius\", \"sebelius\", \"send\", \"send\", \"shimabukuro\", \"shimabukuro\", \"shot\", \"shot\", \"sinopharm\", \"sinopharm\", \"sinovac\", \"sinovac\", \"smithsonian\", \"smithsonian\", \"soon\", \"soon\", \"springfield\", \"springfield\", \"state\", \"state\", \"stay\", \"stay\", \"store\", \"store\", \"student\", \"student\", \"study\", \"study\", \"survey\", \"survey\", \"taiwan\", \"taiwan\", \"team\", \"team\", \"test\", \"test\", \"thousand\", \"thousand\", \"travel\", \"travel\", \"trial\", \"trial\", \"tribe\", \"tribe\", \"trump\", \"trump\", \"tuesday\", \"tuesday\", \"unmc\", \"unmc\", \"vaccinate\", \"vaccinate\", \"vaccinated\", \"vaccinated\", \"vaccination\", \"vaccination\", \"vaccine\", \"vaccine\", \"valentine\", \"valentine\", \"variant\", \"variant\", \"virus\", \"virus\", \"worker\", \"worker\", \"york\", \"york\", \"young\", \"young\", \"zone\", \"zone\"]}, \"R\": 30, \"lambda.step\": 0.01, \"plot.opts\": {\"xlab\": \"PC1\", \"ylab\": \"PC2\"}, \"topic.order\": [2, 1]};\n",
       "\n",
       "function LDAvis_load_lib(url, callback){\n",
       "  var s = document.createElement('script');\n",
       "  s.src = url;\n",
       "  s.async = true;\n",
       "  s.onreadystatechange = s.onload = callback;\n",
       "  s.onerror = function(){console.warn(\"failed to load library \" + url);};\n",
       "  document.getElementsByTagName(\"head\")[0].appendChild(s);\n",
       "}\n",
       "\n",
       "if(typeof(LDAvis) !== \"undefined\"){\n",
       "   // already loaded: just create the visualization\n",
       "   !function(LDAvis){\n",
       "       new LDAvis(\"#\" + \"ldavis_el3278021209224133603498400819\", ldavis_el3278021209224133603498400819_data);\n",
       "   }(LDAvis);\n",
       "}else if(typeof define === \"function\" && define.amd){\n",
       "   // require.js is available: use it to load d3/LDAvis\n",
       "   require.config({paths: {d3: \"https://d3js.org/d3.v5\"}});\n",
       "   require([\"d3\"], function(d3){\n",
       "      window.d3 = d3;\n",
       "      LDAvis_load_lib(\"https://cdn.jsdelivr.net/gh/bmabey/pyLDAvis@3.2.2/pyLDAvis/js/ldavis.v3.0.0.js\", function(){\n",
       "        new LDAvis(\"#\" + \"ldavis_el3278021209224133603498400819\", ldavis_el3278021209224133603498400819_data);\n",
       "      });\n",
       "    });\n",
       "}else{\n",
       "    // require.js not available: dynamically load d3 & LDAvis\n",
       "    LDAvis_load_lib(\"https://d3js.org/d3.v5.js\", function(){\n",
       "         LDAvis_load_lib(\"https://cdn.jsdelivr.net/gh/bmabey/pyLDAvis@3.2.2/pyLDAvis/js/ldavis.v3.0.0.js\", function(){\n",
       "                 new LDAvis(\"#\" + \"ldavis_el3278021209224133603498400819\", ldavis_el3278021209224133603498400819_data);\n",
       "            })\n",
       "         });\n",
       "}\n",
       "</script>"
      ],
      "text/plain": [
       "PreparedData(topic_coordinates=              x    y  topics  cluster       Freq\n",
       "topic                                           \n",
       "1      0.001508  0.0       1        1  74.588048\n",
       "0     -0.001508  0.0       2        1  25.411952, topic_info=        Term        Freq       Total Category  logprob  loglift\n",
       "773   county  245.000000  245.000000  Default  30.0000  30.0000\n",
       "188  vaccine  619.000000  619.000000  Default  29.0000  29.0000\n",
       "884  variant  343.000000  343.000000  Default  28.0000  28.0000\n",
       "766     case  290.000000  290.000000  Default  27.0000  27.0000\n",
       "38   country  205.000000  205.000000  Default  26.0000  26.0000\n",
       "..       ...         ...         ...      ...      ...      ...\n",
       "323    state   60.127308  252.424364   Topic2  -7.5146  -0.0647\n",
       "230    death   58.443832  242.026221   Topic2  -7.5430  -0.0510\n",
       "846  patient   62.284634  329.089644   Topic2  -7.4794  -0.2947\n",
       "799    fauci   58.267012  290.834575   Topic2  -7.5461  -0.2378\n",
       "515   report   55.539801  221.954775   Topic2  -7.5940  -0.0154\n",
       "\n",
       "[181 rows x 6 columns], token_table=      Topic      Freq        Term\n",
       "term                             \n",
       "573       1  0.605333      abbott\n",
       "573       2  0.388034      abbott\n",
       "0         1  0.828760  administer\n",
       "0         2  0.168919  administer\n",
       "659       1  0.769384    american\n",
       "...     ...       ...         ...\n",
       "741       2  0.318678        york\n",
       "198       1  0.710312       young\n",
       "198       2  0.285243       young\n",
       "4165      1  0.621630        zone\n",
       "4165      2  0.382542        zone\n",
       "\n",
       "[264 rows x 3 columns], R=30, lambda_step=0.01, plot_opts={'xlab': 'PC1', 'ylab': 'PC2'}, topic_order=[2, 1])"
      ]
     },
     "execution_count": 32,
     "metadata": {},
     "output_type": "execute_result"
    }
   ],
   "source": [
    "# pyLDAvis 불러오기\n",
    "import pyLDAvis\n",
    "import pyLDAvis.gensim\n",
    "# pyLDAvis를 jupyter notebook에서 실행할 수 있게 활성화.\n",
    "pyLDAvis.enable_notebook()\n",
    "\n",
    "# pyLDAvis 실행.\n",
    "data = pyLDAvis.gensim.prepare(model, corpus, dictionary)\n",
    "data # print X 그냥 실행"
   ]
  },
  {
   "cell_type": "code",
   "execution_count": null,
   "metadata": {},
   "outputs": [],
   "source": []
  }
 ],
 "metadata": {
  "interpreter": {
   "hash": "c270e6328e3db603edbbf92178afe07abc75c12ec50d7594e3b3ea046e4043cd"
  },
  "kernelspec": {
   "display_name": "Python 3.6.13 64-bit ('NLP': conda)",
   "name": "python3"
  },
  "language_info": {
   "codemirror_mode": {
    "name": "ipython",
    "version": 3
   },
   "file_extension": ".py",
   "mimetype": "text/x-python",
   "name": "python",
   "nbconvert_exporter": "python",
   "pygments_lexer": "ipython3",
   "version": "3.6.13"
  },
  "orig_nbformat": 4
 },
 "nbformat": 4,
 "nbformat_minor": 2
}
